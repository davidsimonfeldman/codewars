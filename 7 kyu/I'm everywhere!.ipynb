{
 "cells": [
  {
   "cell_type": "code",
   "execution_count": null,
   "metadata": {},
   "outputs": [],
   "source": [
    "# I'm everywhere!\n",
    "\n",
    "# Overview\n",
    "# Many people know that Apple uses the letter \"i\" in almost all of its devices to emphasize its personality.\n",
    "\n",
    "# And so John, a programmer at Apple, was given the task of making a program that would add that letter to every word. Let's help him do it, too.\n",
    "\n",
    "# Task:\n",
    "# Your task is to make a function that takes the value of word and returns it with an \"i\" at the beginning of the word. For example we get the word \"Phone\", so we must return \"iPhone\". But we have a few rules:\n",
    "\n",
    "# The word should not begin with the letter \"I\", for example Inspire.\n",
    "# The number of vowels should not be greater than or equal to the number of consonants, for example East or Peace. (\"y\" is considered a consonant)\n",
    "# The first letter should not be lowercase, for example road.\n",
    "# If the word does not meet the rules, we return \"Invalid word\".\n",
    "\n",
    "def i(word):\n",
    "    if len(word)==0:return    'Invalid word'  \n",
    "    print(word)\n",
    "    \n",
    "    if (word[0]==word[0].lower()) or (word[0]=='I') :return    'Invalid word'  \n",
    "    v='aeiouAEIOU'\n",
    "    vo=''\n",
    "    c=''\n",
    "    if len(word)>0:\n",
    "        for x in word:\n",
    "            if x   in v:\n",
    "                vo+=x\n",
    "            if x not in v:\n",
    "                c+=x\n",
    "        print(vo)\n",
    "        if len(vo)>=len(c):\n",
    "            print('x')\n",
    "            return    'Invalid word'  \n",
    "    if len(word)>0:return 'i'+word\n",
    "    \n",
    "    \n",
    "    def i(word):\n",
    "    if len(word)==0:return    'Invalid word'  \n",
    "    print(word)\n",
    "    \n",
    "    if (word[0]==word[0].lower()) or (word[0]=='I') :return    'Invalid word'  \n",
    "    v='aeiouAEIOU'\n",
    "    vo=''\n",
    "    c=''\n",
    "    if len(word)>0:\n",
    "        for x in word:\n",
    "            if x   in v:\n",
    "                vo+=x\n",
    "            if x not in v:\n",
    "                c+=x\n",
    "        print(vo)\n",
    "        if len(vo)>=len(c):\n",
    "            print('x')\n",
    "            return    'Invalid word'  \n",
    "    if len(word)>0:return 'i'+word"
   ]
  }
 ],
 "metadata": {
  "kernelspec": {
   "display_name": "Python 3",
   "language": "python",
   "name": "python3"
  },
  "language_info": {
   "codemirror_mode": {
    "name": "ipython",
    "version": 3
   },
   "file_extension": ".py",
   "mimetype": "text/x-python",
   "name": "python",
   "nbconvert_exporter": "python",
   "pygments_lexer": "ipython3",
   "version": "3.7.6"
  }
 },
 "nbformat": 4,
 "nbformat_minor": 4
}
