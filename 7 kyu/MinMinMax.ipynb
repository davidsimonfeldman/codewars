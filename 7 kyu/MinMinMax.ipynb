{
 "cells": [
  {
   "cell_type": "code",
   "execution_count": null,
   "metadata": {},
   "outputs": [],
   "source": [
    "Given an unsorted array of integers, find the smallest number in the array, the largest number in the array, and the smallest number between the two array bounds that is not in the array.\n",
    "\n",
    "For instance, given the array [-1, 4, 5, -23, 24], the smallest number is -23, the largest number is 24, and the smallest number between the array bounds is -22.\n",
    "You may assume the input is well-formed.\n",
    "\n",
    "You solution should return an array [smallest, minimumAbsent, largest]\n",
    "\n",
    "The smallest integer should be the integer from the array with the lowest value.\n",
    "\n",
    "The largest integer should be the integer from the array with the highest value.\n",
    "\n",
    "The minimumAbsent is the smallest number between the largest and the smallest number that is not in the array.\n",
    "\n",
    "minMinMax([-1, 4, 5, -23, 24]); //[-23, -22, 24]\n",
    "minMinMax([1, 3, -3, -2, 8, -1]); //[-3, 0, 8]\n",
    "minMinMax([2, -4, 8, -5, 9, 7]); //[-5, -3,9]\n",
    "\n",
    "\n",
    "def minMinMax(arr):\n",
    "    print(arr)\n",
    "    arr=list(set(arr)) \n",
    "    print(arr)\n",
    "    i=1\n",
    "    a=min(arr)+i\n",
    "    while min(arr)+i   in arr:\n",
    "        i+=1\n",
    "        a=min(arr)+i\n",
    "        \n",
    "    print(a)    \n",
    "    print([min(arr),a,max(arr)])\n",
    "    return [min(arr),a,max(arr)]\n",
    "    \n",
    "    \n",
    "    \n",
    "    \n",
    "def minMinMax(arr):\n",
    "    s, mi, ma = set(arr), min(arr), max(arr)\n",
    "    return [mi, next(x for x in range(mi+1, ma) if x not in s), ma]\n",
    "\n",
    "\n",
    "def minMinMax(arr):\n",
    "    return [min(arr),min(set(range(min(arr),max(arr)))-set(arr)),max(arr)]\n"
   ]
  }
 ],
 "metadata": {
  "kernelspec": {
   "display_name": "Python 3",
   "language": "python",
   "name": "python3"
  },
  "language_info": {
   "codemirror_mode": {
    "name": "ipython",
    "version": 3
   },
   "file_extension": ".py",
   "mimetype": "text/x-python",
   "name": "python",
   "nbconvert_exporter": "python",
   "pygments_lexer": "ipython3",
   "version": "3.7.6"
  }
 },
 "nbformat": 4,
 "nbformat_minor": 4
}
