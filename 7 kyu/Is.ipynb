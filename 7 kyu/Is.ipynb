{
 "cells": [
  {
   "cell_type": "code",
   "execution_count": null,
   "metadata": {},
   "outputs": [],
   "source": [
    "Check if it is a vowel(a, e, i, o, u,) on the n position in a string (the first argument). Don't forget about uppercase.\n",
    "\n",
    "A few cases:\n",
    "\n",
    "{\n",
    "checkVowel('cat', 1)  ->   true // 'a' is a vowel\n",
    "checkVowel('cat', 0)  ->   false // 'c' is not a vowel\n",
    "checkVowel('cat', 4)  ->   false // this position doesn't exist\n",
    "}\n",
    "P.S. If n < 0, return false\n",
    "\n",
    "\n"
   ]
  }
 ],
 "metadata": {
  "kernelspec": {
   "display_name": "Python 3",
   "language": "python",
   "name": "python3"
  },
  "language_info": {
   "codemirror_mode": {
    "name": "ipython",
    "version": 3
   },
   "file_extension": ".py",
   "mimetype": "text/x-python",
   "name": "python",
   "nbconvert_exporter": "python",
   "pygments_lexer": "ipython3",
   "version": "3.7.6"
  }
 },
 "nbformat": 4,
 "nbformat_minor": 4
}
