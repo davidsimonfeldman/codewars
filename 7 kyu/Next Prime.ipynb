{
 "cells": [
  {
   "cell_type": "code",
   "execution_count": null,
   "metadata": {},
   "outputs": [],
   "source": [
    "Get the next prime number!\n",
    "\n",
    "You will get a numbern (>= 0) and your task is to find the next prime number.\n",
    "\n",
    "Make sure to optimize your code: there will numbers tested up to about 10^12.\n",
    "\n",
    "Examples\n",
    "5   =>  7\n",
    "12  =>  13\n",
    "\n",
    "\n",
    "\n",
    "from math import sqrt\n",
    "from itertools import count, islice\n",
    "     \n",
    "def next_prime(n):\n",
    "    while(True):\n",
    "        n+=1\n",
    "        if is_prime(n):\n",
    "            return n\n",
    "        \n",
    "def is_prime(n):\n",
    "    return n > 1 and all(n % i for i in islice(count(2), int(sqrt(n)-1)))\n",
    "\n",
    "\n",
    "\n",
    "\n",
    "\n",
    "\n",
    "\n",
    "def nextPrime(n):\n",
    "    while True:\n",
    "        n += 1\n",
    "        if n == 2 or (n > 2 and n % 2 and all(n % i for i in range(3, int(n**0.5) + 1, 2))): return n\n",
    "\n",
    "\n",
    "\n",
    "\n",
    "\n",
    "\n",
    "\n",
    "def is_prime(num):\n",
    "    if num < 2:\n",
    "        return False\n",
    "    for i in range(2, int(num**0.5)+1):\n",
    "        if num % i == 0:\n",
    "            return False\n",
    "    return True\n",
    "\n",
    "\n",
    "def next_prime(n):\n",
    "    n += 1\n",
    "    while not is_prime(n):\n",
    "        n += 1\n",
    "    return n"
   ]
  }
 ],
 "metadata": {
  "kernelspec": {
   "display_name": "Python 3",
   "language": "python",
   "name": "python3"
  },
  "language_info": {
   "codemirror_mode": {
    "name": "ipython",
    "version": 3
   },
   "file_extension": ".py",
   "mimetype": "text/x-python",
   "name": "python",
   "nbconvert_exporter": "python",
   "pygments_lexer": "ipython3",
   "version": "3.7.6"
  }
 },
 "nbformat": 4,
 "nbformat_minor": 4
}
