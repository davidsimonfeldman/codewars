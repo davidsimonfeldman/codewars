{
 "cells": [
  {
   "cell_type": "code",
   "execution_count": null,
   "metadata": {},
   "outputs": [],
   "source": [
    "Implement a function called makeAcronym that returns the first letters of each word in a passed in string.\n",
    "Make sure the letters returned are uppercase.\n",
    "If the value passed in is not a string return 'Not a string'.\n",
    "If the value passed in is a string which contains characters other than spaces and alphabet letters, return 'Not letters'.\n",
    "If the string is empty, just return the string itself: \"\".\n",
    "EXAMPLES:\n",
    "'Hello codewarrior' -> 'HC'\n",
    "'a42' -> 'Not letters'\n",
    "42 -> 'Not a string'\n",
    "[2,12] -> 'Not a string'\n",
    "{name: 'Abraham'} -> 'Not a string'\n",
    "\n",
    "\n",
    "\n",
    "def make_acronym(phrase):\n",
    "    \n",
    "    print(phrase)\n",
    "    if type(phrase)!=str:return'Not a string'\n",
    "    if any(i.isdigit() for i in phrase)==True: return 'Not letters'\n",
    "    if len((phrase))==0:return '' \n",
    "    if phrase.count(' ')==0:return phrase[0].upper()\n",
    "    a=''\n",
    "    for x in list(phrase.split()):\n",
    "        a+=x[0].upper()\n",
    "    return(a)\n",
    "\n",
    "\n",
    "\n",
    "from operator import itemgetter\n",
    "\n",
    "def make_acronym(phrase):\n",
    "    if type(phrase) != str: return \"Not a string\"\n",
    "    if not all(c.isalpha() or c.isspace() for c in phrase): return \"Not letters\"\n",
    "    return ''.join(map(itemgetter(0), phrase.split())).upper()"
   ]
  }
 ],
 "metadata": {
  "kernelspec": {
   "display_name": "Python 3",
   "language": "python",
   "name": "python3"
  },
  "language_info": {
   "codemirror_mode": {
    "name": "ipython",
    "version": 3
   },
   "file_extension": ".py",
   "mimetype": "text/x-python",
   "name": "python",
   "nbconvert_exporter": "python",
   "pygments_lexer": "ipython3",
   "version": "3.7.6"
  }
 },
 "nbformat": 4,
 "nbformat_minor": 4
}
