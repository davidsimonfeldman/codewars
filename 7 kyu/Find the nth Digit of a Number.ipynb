{
 "cells": [
  {
   "cell_type": "code",
   "execution_count": null,
   "metadata": {},
   "outputs": [],
   "source": [
    "omplete the function that takes two numbers as input, num and nth and return the nth digit of num (counting from right to left).\n",
    "\n",
    "Note\n",
    "If num is negative, ignore its sign and treat it as a positive value\n",
    "If nth is not positive, return -1\n",
    "Keep in mind that 42 = 00042. This means that findDigit(42, 5) would return 0\n",
    "Examples\n",
    "findDigit(5673, 4)     returns 5\n",
    "findDigit(129, 2)      returns 2\n",
    "findDigit(-2825, 3)    returns 8\n",
    "findDigit(-456, 4)     returns 0\n",
    "findDigit(0, 20)       returns 0\n",
    "findDigit(65, 0)       returns -1\n",
    "findDigit(24, -8)      returns -1\n",
    "\n",
    "def find_digit(num, nth):\n",
    "    #your code here\n",
    "    print(num)\n",
    "    if nth>len(str(num)):return 0\n",
    "    if nth<1:return -1\n",
    "    n=str(num).replace('-','')\n",
    "    print(n)\n",
    "    return int(n[-nth])\n",
    "\n",
    "\n",
    "def find_digit(num, nth):\n",
    "    if nth <= 0:\n",
    "        return -1\n",
    "    try:\n",
    "        return int(str(num).lstrip('-')[-nth])\n",
    "    except IndexError:\n",
    "        return 0"
   ]
  }
 ],
 "metadata": {
  "kernelspec": {
   "display_name": "Python 3",
   "language": "python",
   "name": "python3"
  },
  "language_info": {
   "codemirror_mode": {
    "name": "ipython",
    "version": 3
   },
   "file_extension": ".py",
   "mimetype": "text/x-python",
   "name": "python",
   "nbconvert_exporter": "python",
   "pygments_lexer": "ipython3",
   "version": "3.7.6"
  }
 },
 "nbformat": 4,
 "nbformat_minor": 4
}
