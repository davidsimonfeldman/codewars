{
 "cells": [
  {
   "cell_type": "code",
   "execution_count": null,
   "metadata": {
    "ExecuteTime": {
     "end_time": "2021-07-02T10:42:54.912501Z",
     "start_time": "2021-07-02T10:42:54.891518Z"
    }
   },
   "outputs": [],
   "source": [
    "Task\n",
    "Given a square matrix, your task is to reverse the order of elements on both of its longest diagonals.\n",
    "The longest diagonals of a square matrix are defined as follows:\n",
    "the first longest diagonal goes from the top left corner to the bottom right one;\n",
    "the second longest diagonal goes from the top right corner to the bottom left one.\n",
    "Example\n",
    "For the matrix\n",
    "1, 2, 3\n",
    "4, 5, 6\n",
    "7, 8, 9\n",
    "the output should be:\n",
    "9, 2, 7\n",
    "4, 5, 6\n",
    "3, 8, 1\n",
    "Input/Output\n",
    "[input] 2D integer array matrix\n",
    "Constraints: 1 ≤ matrix.length ≤ 10, matrix.length = matrix[i].length, 1 ≤ matrix[i][j] ≤ 1000\n",
    "[output] 2D integer array\n",
    "Matrix with the order of elements on its longest diagonals reversed.\n",
    "\n",
    "\n",
    "\n",
    "def reverse_on_diagonals(array): \n",
    "     \n",
    "    i = 0\n",
    "    j=len(array)\n",
    "    while (i < j) : \n",
    "        \n",
    "        # For reversing elements of major \n",
    "        # diagonal. \n",
    "        array[i][i], array[j - 1][j - 1] = array[j-1][j-1], array[i][i] \n",
    "           \n",
    "        # For reversing elements of minor \n",
    "        # diagonal. \n",
    "        array[i][j - 1], array[j - 1][i] = array[j-1][i], array[i][j-1] \n",
    "        \n",
    "        i += 1\n",
    "        j -= 1\n",
    "    return array"
   ]
  }
 ],
 "metadata": {
  "kernelspec": {
   "display_name": "Python 3",
   "language": "python",
   "name": "python3"
  },
  "language_info": {
   "codemirror_mode": {
    "name": "ipython",
    "version": 3
   },
   "file_extension": ".py",
   "mimetype": "text/x-python",
   "name": "python",
   "nbconvert_exporter": "python",
   "pygments_lexer": "ipython3",
   "version": "3.7.6"
  }
 },
 "nbformat": 4,
 "nbformat_minor": 4
}
