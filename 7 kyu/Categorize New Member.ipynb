{
 "cells": [
  {
   "cell_type": "code",
   "execution_count": null,
   "metadata": {
    "ExecuteTime": {
     "end_time": "2021-06-21T22:03:52.068375Z",
     "start_time": "2021-06-21T22:03:51.026859Z"
    }
   },
   "outputs": [],
   "source": [
    "The Western Suburbs Croquet Club has two categories of membership, Senior and Open. \n",
    "They would like your help with an application form that will tell prospective members which category they will be placed.\n",
    "To be a senior, a member must be at least 55 years old and have a handicap greater than 7. In this croquet club, handicaps range from -2 to +26; \n",
    "the better the player the lower the handicap.\n",
    "Input\n",
    "Input will consist of a list of lists containing two items each. Each list contains information for a single potential member.\n",
    "Information consists of an integer for the person's age and an integer for the person's handicap.\n",
    "Note for F#: The input will be of (int list list) which is a List<List>\n",
    "Example Input\n",
    "[[18, 20],[45, 2],[61, 12],[37, 6],[21, 21],[78, 9]]\n",
    "Output\n",
    "Output will consist of a list of string values (in Haskell: Open or Senior) stating whether the respective member is to be placed in the senior or open category.\n",
    "Example Output\n",
    "[\"Open\", \"Open\", \"Senior\", \"Open\", \"Open\", \"Senior\"]\n",
    "\n",
    "\n",
    "def open_or_senior(data):\n",
    "    print(data)\n",
    "    a=[]\n",
    "    for x in data:\n",
    "        if x[0]>=55 and x[1]>7:a.append('Senior' )\n",
    "        else:a.append('Open')    \n",
    "    return a\n",
    "\n",
    "\n",
    "\n",
    "def openOrSenior(data):\n",
    "    return [\"Senior\" if age >= 55 and handicap >= 8 else \"Open\" for (age, handicap) in data]"
   ]
  }
 ],
 "metadata": {
  "kernelspec": {
   "display_name": "Python 3",
   "language": "python",
   "name": "python3"
  },
  "language_info": {
   "codemirror_mode": {
    "name": "ipython",
    "version": 3
   },
   "file_extension": ".py",
   "mimetype": "text/x-python",
   "name": "python",
   "nbconvert_exporter": "python",
   "pygments_lexer": "ipython3",
   "version": "3.7.6"
  }
 },
 "nbformat": 4,
 "nbformat_minor": 4
}
