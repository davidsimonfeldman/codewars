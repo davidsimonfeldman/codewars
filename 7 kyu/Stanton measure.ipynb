{
 "cells": [
  {
   "cell_type": "code",
   "execution_count": null,
   "metadata": {
    "ExecuteTime": {
     "end_time": "2021-06-21T22:03:52.068375Z",
     "start_time": "2021-06-21T22:03:51.026859Z"
    }
   },
   "outputs": [],
   "source": [
    "The Stanton measure of an array is computed as follows: count the number of 1s in the array. Let this count be n.\n",
    "    The Stanton measure is the number of times that n appears in the array.\n",
    "Write a function which takes an integer array and returns its Stanton measure.\n",
    "Example\n",
    "The Stanton measure of [1, 4, 3, 2, 1, 2, 3, 2] is 3, because 1 occurs 2 times in the array and 2 occurs 3 times.\n",
    "\n",
    "\n",
    "\n",
    "def stanton_measure(arr):\n",
    "    a=arr.count(1)\n",
    "    \n",
    "    return arr.count(a)# stanton measure of the array\n",
    "\n",
    "\n",
    "\n",
    "\n",
    "def stanton_measure(arr):\n",
    "    return arr.count( arr.count(1) )\n",
    "    \n",
    "\n",
    "    \n",
    "from collections import Counter\n",
    "def stanton_measure(arr):\n",
    "    c = Counter(arr)\n",
    "    return c[c[1]]"
   ]
  }
 ],
 "metadata": {
  "kernelspec": {
   "display_name": "Python 3",
   "language": "python",
   "name": "python3"
  },
  "language_info": {
   "codemirror_mode": {
    "name": "ipython",
    "version": 3
   },
   "file_extension": ".py",
   "mimetype": "text/x-python",
   "name": "python",
   "nbconvert_exporter": "python",
   "pygments_lexer": "ipython3",
   "version": "3.7.6"
  }
 },
 "nbformat": 4,
 "nbformat_minor": 4
}
