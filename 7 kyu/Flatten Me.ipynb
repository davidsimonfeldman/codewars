{
 "cells": [
  {
   "cell_type": "code",
   "execution_count": null,
   "metadata": {},
   "outputs": [],
   "source": [
    "In this kata, your task is to create a function that takes a single list as an argument and returns a flattened list.\n",
    "The input list will have a maximum of one level of nesting (list(s) inside of a list).\n",
    "# no nesting\n",
    "[1, 2, 3]\n",
    "# one level of nesting\n",
    "[1, [2, 3]]\n",
    "Examples\n",
    ">>> flatten_me(['!', '?'])\n",
    "['!', '?']\n",
    ">>> flatten_me([1, [2, 3], 4])\n",
    "[1, 2, 3, 4]\n",
    ">>> flatten_me([['a', 'b'], 'c', ['d']])\n",
    "['a', 'b', 'c', 'd']\n",
    ">>> flatten_me([[True, False], ['!'], ['?'], [71, '@']]) \n",
    "[True, False, '!', '?', 71, '@']\n",
    "\n",
    "\n",
    "\n",
    "def flatten_me(lst):\n",
    "    a=[]\n",
    "    for x in lst:\n",
    "        if isinstance(x,list):\n",
    "            for y in x:\n",
    "                a.append(y)\n",
    "        else:\n",
    "            a.append(x)\n",
    "    return a\n",
    "\n",
    "\n",
    "\n",
    "def flatten_me(nput):\n",
    "    output = []\n",
    "    for itm in nput:\n",
    "        if isinstance(itm, list):\n",
    "            output += flatten_me(itm)\n",
    "        else:\n",
    "            output += [itm]\n",
    "    return output\n",
    "\n",
    "\n",
    "\n",
    "from collections import Iterable\n",
    "from itertools import chain\n",
    "\n",
    "def flatten_me(lst):\n",
    "    return list(chain(*(x if isinstance(x,Iterable) else [x] for x in lst)))"
   ]
  }
 ],
 "metadata": {
  "kernelspec": {
   "display_name": "Python 3",
   "language": "python",
   "name": "python3"
  },
  "language_info": {
   "codemirror_mode": {
    "name": "ipython",
    "version": 3
   },
   "file_extension": ".py",
   "mimetype": "text/x-python",
   "name": "python",
   "nbconvert_exporter": "python",
   "pygments_lexer": "ipython3",
   "version": "3.7.6"
  }
 },
 "nbformat": 4,
 "nbformat_minor": 4
}
