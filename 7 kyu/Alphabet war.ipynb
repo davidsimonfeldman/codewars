{
 "cells": [
  {
   "cell_type": "code",
   "execution_count": 1,
   "metadata": {
    "ExecuteTime": {
     "end_time": "2021-06-22T13:40:38.246823Z",
     "start_time": "2021-06-22T13:40:38.214815Z"
    }
   },
   "outputs": [
    {
     "ename": "SyntaxError",
     "evalue": "invalid syntax (<ipython-input-1-0b984bc8b494>, line 2)",
     "output_type": "error",
     "traceback": [
      "\u001b[1;36m  File \u001b[1;32m\"<ipython-input-1-0b984bc8b494>\"\u001b[1;36m, line \u001b[1;32m2\u001b[0m\n\u001b[1;33m    There is a war and nobody knows - the alphabet war!\u001b[0m\n\u001b[1;37m                 ^\u001b[0m\n\u001b[1;31mSyntaxError\u001b[0m\u001b[1;31m:\u001b[0m invalid syntax\n"
     ]
    }
   ],
   "source": [
    "Introduction\n",
    "There is a war and nobody knows - the alphabet war!\n",
    "There are two groups of hostile letters. The tension between left side letters and right side letters was too high and the war began.\n",
    "\n",
    "Task\n",
    "Write a function that accepts fight string consists of only small letters and return who wins the fight. When the left side wins return Left side wins!, when the right side wins return Right side wins!, in other case return Let's fight again!.\n",
    "\n",
    "The left side letters and their power:\n",
    "\n",
    " w - 4\n",
    " p - 3\n",
    " b - 2\n",
    " s - 1\n",
    "The right side letters and their power:\n",
    "\n",
    " m - 4\n",
    " q - 3\n",
    " d - 2\n",
    " z - 1\n",
    "The other letters don't have power and are only victims.\n",
    "\n",
    "Example\n",
    "AlphabetWar(\"z\");        //=> Right side wins!\n",
    "AlphabetWar(\"zdqmwpbs\"); //=> Let's fight again!\n",
    "AlphabetWar(\"zzzzs\");    //=> Right side wins!\n",
    "AlphabetWar(\"wwwwwwz\");  //=> Left side wins!\n",
    "\n",
    "def alphabet_war(fight):\n",
    "    #your code here\n",
    "    d1={'w':4,'p':3,'b':2,'s':1}\n",
    "    d2={'m':4,'q':3,'d':2,'z':1}\n",
    "    d1s=0\n",
    "    d2s=0\n",
    "    for x in fight:\n",
    "        if x in d1.keys():\n",
    "            d1s+=d1[x]\n",
    "        if x in d2.keys():\n",
    "            d2s+=d2[x]    \n",
    "    if d1s<d2s :return       'Right side wins!'\n",
    "    if d1s>d2s :return       'Left side wins!'\n",
    "    if d1s==d2s :return      \"Let's fight again!\"\n",
    "    \n",
    "    \n",
    "    \n",
    "    \n",
    "    \n",
    "    def alphabet_war(fight):\n",
    "    d = {'w':4,'p':3,'b':2,'s':1,\n",
    "         'm':-4,'q':-3,'d':-2,'z':-1}\n",
    "    r = sum(d[c] for c in fight if c in d)\n",
    "    \n",
    "    return {r==0:\"Let's fight again!\",\n",
    "            r>0:\"Left side wins!\",\n",
    "            r<0:\"Right side wins!\"\n",
    "            }[True]\n",
    "\n",
    "\n",
    "\n",
    "def alphabet_war(fight):\n",
    "    result = sum(\"zdqm\".find(c) - \"sbpw\".find(c) for c in fight)\n",
    "    return \"{} side wins!\".format(\"Left\" if result < 0 else \"Right\") if result else \"Let's fight again!\"\n",
    "\n",
    "\n",
    "\n",
    "\n",
    "POWER = {\n",
    "    # left side\n",
    "    'w': -4, 'p': -3, 'b': -2, 's': -1,\n",
    "    # right side\n",
    "    'm': 4, 'q': 3, 'd': 2, 'z': 1 }\n",
    "\n",
    "def alphabet_war(fight):\n",
    "    result = sum( POWER.get(c, 0) for c in fight )\n",
    "    return \"Let's fight again!\" if not result else \\\n",
    "          [\"Left\", \"Right\"][result > 0] + \" side wins!\""
   ]
  }
 ],
 "metadata": {
  "kernelspec": {
   "display_name": "Python 3",
   "language": "python",
   "name": "python3"
  },
  "language_info": {
   "codemirror_mode": {
    "name": "ipython",
    "version": 3
   },
   "file_extension": ".py",
   "mimetype": "text/x-python",
   "name": "python",
   "nbconvert_exporter": "python",
   "pygments_lexer": "ipython3",
   "version": "3.7.6"
  }
 },
 "nbformat": 4,
 "nbformat_minor": 4
}
