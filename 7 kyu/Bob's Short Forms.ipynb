{
 "cells": [
  {
   "cell_type": "code",
   "execution_count": null,
   "metadata": {},
   "outputs": [],
   "source": [
    "Bob is a theoretical coder - he doesn't write code, but comes up with theories, formulas and algorithm ideas.\n",
    "You are his secretary, and he has tasked you with writing the code for his newest project - a method for making the short form of a word.\n",
    "Write a function shortForm(C# ShortForm, Python short_form) that takes a string and returns it converted into short form using the rule: Remove all vowels,\n",
    " except for those that are the first or last letter. Do not count 'y' as a vowel, and ignore case. Also note, the string given will not have any spaces; \n",
    "                           only one word, and only Roman letters.\n",
    "Example:\n",
    "shortForm(\"assault\");\n",
    "short_form(\"assault\")\n",
    "ShortForm(\"assault\");\n",
    "// should return \"asslt\"\n",
    "Also, FYI: I got all the words with no vowels from\n",
    "                           \n",
    "                           \n",
    "                           \n",
    "def short_form(s):\n",
    "    \n",
    "    return  s[0]+ ''.join([x for x in s[1:-1] if x not in 'aeiouAEIOU'   ])+s[-1]\n",
    "    # do something                           \n",
    "                           \n",
    "\n",
    "def short_form(s):\n",
    "    return '{}{}{}'.format(s[0], s[1:-1].translate(None, 'aeiouAEIOU'), s[-1])\n",
    "\n",
    "\n",
    "from re import *\n",
    "def short_form(s):\n",
    "    return sub(r\"(?<!^)[aeiou](?=.)\", '', s, flags=I)\n",
    "\n",
    "                           \n",
    "                           \n",
    "def short_form(s):\n",
    "    return s[0] + s[1:-1].translate(None, \"aeiouAEIOU\") + s[-1]                           \n",
    "                           \n",
    "\n",
    "                           "
   ]
  }
 ],
 "metadata": {
  "kernelspec": {
   "display_name": "Python 3",
   "language": "python",
   "name": "python3"
  },
  "language_info": {
   "codemirror_mode": {
    "name": "ipython",
    "version": 3
   },
   "file_extension": ".py",
   "mimetype": "text/x-python",
   "name": "python",
   "nbconvert_exporter": "python",
   "pygments_lexer": "ipython3",
   "version": "3.7.6"
  }
 },
 "nbformat": 4,
 "nbformat_minor": 4
}
