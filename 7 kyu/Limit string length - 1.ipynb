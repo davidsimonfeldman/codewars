{
 "cells": [
  {
   "cell_type": "code",
   "execution_count": null,
   "metadata": {
    "ExecuteTime": {
     "end_time": "2021-06-21T22:03:52.068375Z",
     "start_time": "2021-06-21T22:03:51.026859Z"
    }
   },
   "outputs": [],
   "source": [
    "The function must return the truncated version of the given string up to the given limit followed by \"...\" if the result\n",
    "is shorter than the original. Return the same string if nothing was truncated.\n",
    "\n",
    "Example:\n",
    "\n",
    "solution('Testing String', 3) --> 'Tes...'\n",
    "solution('Testing String', 8) --> 'Testing ...'\n",
    "solution('Test', 8)           --> 'Test'\n",
    "\n",
    "\n",
    "def solution(st, limit): \n",
    "    # your code here\n",
    "    if len(st)<=limit:return st\n",
    "    return st[:limit]+'...'\n",
    "\n",
    "\n",
    "def solution(st, limit): \n",
    "    return st[:limit] + '...' if limit < len(st) else st"
   ]
  }
 ],
 "metadata": {
  "kernelspec": {
   "display_name": "Python 3",
   "language": "python",
   "name": "python3"
  },
  "language_info": {
   "codemirror_mode": {
    "name": "ipython",
    "version": 3
   },
   "file_extension": ".py",
   "mimetype": "text/x-python",
   "name": "python",
   "nbconvert_exporter": "python",
   "pygments_lexer": "ipython3",
   "version": "3.7.6"
  }
 },
 "nbformat": 4,
 "nbformat_minor": 4
}
