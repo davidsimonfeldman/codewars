{
 "cells": [
  {
   "cell_type": "code",
   "execution_count": null,
   "metadata": {},
   "outputs": [],
   "source": [
    "The town sheriff dislikes odd numbers and wants all odd numbered families out of town! In town crowds can form and individuals are often mixed with other people and families.\n",
    "However you can distinguish the family they belong to by the number on the shirts they wear.\n",
    "As the sheriff's assistant it's your job to find all the odd numbered families and remove them from the town!\n",
    "\n",
    "Challenge: You are given a list of numbers. The numbers each repeat a certain number of times.\n",
    "    Remove all numbers that repeat an odd number of times while keeping everything else the same.\n",
    "\n",
    "odd_ones_out([1, 2, 3, 1, 3, 3]) = [1, 1]\n",
    "In the above example:\n",
    "\n",
    "the number 1 appears twice\n",
    "the number 2 appears once\n",
    "the number 3 appears three times\n",
    "2 and 3 both appear an odd number of times, so they are removed from the list. The final result is: [1,1]\n",
    "\n",
    "Here are more examples:\n",
    "\n",
    "odd_ones_out([1, 1, 2, 2, 3, 3, 3]) = [1, 1, 2, 2]\n",
    "odd_ones_out([26, 23, 24, 17, 23, 24, 23, 26]) = [26, 24, 24, 26]\n",
    "odd_ones_out([1, 2, 3]) = []\n",
    "odd_ones_out([1]) = []\n",
    "Are you up to the challenge?\n",
    "\n",
    "\n",
    "def odd_ones_out(numbers):\n",
    "    # Your code\n",
    "    a={i:numbers.count(i) for i in set(numbers)}\n",
    "    print(a)\n",
    "    b=[]\n",
    "    for x in numbers:\n",
    "        if not a[x]%2:\n",
    "            b.append(x)\n",
    "    return b \n",
    "\n",
    "\n",
    "\n",
    "def odd_ones_out(numbers):\n",
    "    return [i for i in numbers if numbers.count(i) % 2 == 0]\n",
    "\n",
    "\n",
    "from collections import Counter\n",
    "\n",
    "def odd_ones_out(numbers):\n",
    "    cnt = Counter(numbers)\n",
    "    return [v for v in numbers if not cnt[v]&1 ]\n",
    "\n",
    "\n",
    "def odd_ones_out(numbers):\n",
    "    temp = []\n",
    "    count = 0\n",
    "    for i in range(len(numbers)):\n",
    "        count = numbers.count(numbers[i])\n",
    "        if count % 2 == 0:\n",
    "            temp.append(numbers[i])\n",
    "    return temp\n"
   ]
  },
  {
   "cell_type": "code",
   "execution_count": null,
   "metadata": {
    "ExecuteTime": {
     "end_time": "2021-06-18T21:37:01.451515Z",
     "start_time": "2021-06-18T21:37:01.412513Z"
    }
   },
   "outputs": [],
   "source": []
  },
  {
   "cell_type": "code",
   "execution_count": null,
   "metadata": {},
   "outputs": [],
   "source": []
  }
 ],
 "metadata": {
  "kernelspec": {
   "display_name": "Python 3",
   "language": "python",
   "name": "python3"
  },
  "language_info": {
   "codemirror_mode": {
    "name": "ipython",
    "version": 3
   },
   "file_extension": ".py",
   "mimetype": "text/x-python",
   "name": "python",
   "nbconvert_exporter": "python",
   "pygments_lexer": "ipython3",
   "version": "3.7.6"
  }
 },
 "nbformat": 4,
 "nbformat_minor": 4
}
