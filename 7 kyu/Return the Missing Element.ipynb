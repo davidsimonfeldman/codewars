{
 "cells": [
  {
   "cell_type": "code",
   "execution_count": null,
   "metadata": {
    "ExecuteTime": {
     "end_time": "2021-06-21T22:03:52.068375Z",
     "start_time": "2021-06-21T22:03:51.026859Z"
    }
   },
   "outputs": [],
   "source": [
    "Fellow code warrior, we need your help! We seem to have lost one of our sequence elements, and we need your help to retrieve it!\n",
    "\n",
    "Our sequence given was supposed to contain all of the integers from 0 to 9 (in no particular order), but one of them seems to be missing.\n",
    "\n",
    "Write a function that accepts a sequence of unique integers between 0 and 9 (inclusive), and returns the missing element.\n",
    "\n",
    "Examples:\n",
    "[0, 5, 1, 3, 2, 9, 7, 6, 4] --> 8\n",
    "[9, 2, 4, 5, 7, 0, 8, 6, 1] --> 3\n",
    "\n",
    "\n",
    "def get_missing_element(seq): \n",
    "    # your code here\n",
    "    return 45-sum(seq)\n",
    "\n",
    "\n",
    "def get_missing_element(seq):\n",
    "    return set(range(10)).difference(seq).pop()"
   ]
  }
 ],
 "metadata": {
  "kernelspec": {
   "display_name": "Python 3",
   "language": "python",
   "name": "python3"
  },
  "language_info": {
   "codemirror_mode": {
    "name": "ipython",
    "version": 3
   },
   "file_extension": ".py",
   "mimetype": "text/x-python",
   "name": "python",
   "nbconvert_exporter": "python",
   "pygments_lexer": "ipython3",
   "version": "3.7.6"
  }
 },
 "nbformat": 4,
 "nbformat_minor": 4
}
