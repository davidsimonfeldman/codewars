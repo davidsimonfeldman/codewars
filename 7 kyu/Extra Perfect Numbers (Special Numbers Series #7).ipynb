{
 "cells": [
  {
   "cell_type": "code",
   "execution_count": null,
   "metadata": {},
   "outputs": [],
   "source": [
    "Definition\n",
    "Extra perfect number is the number that first and last bits are set bits.\n",
    "Task\n",
    "Given a positive integer N , Return the extra perfect numbers in range from 1 to N .\n",
    "Warm-up (Highly recommended)\n",
    "Playing With Numbers Series\n",
    "Notes\n",
    "Number passed is always Positive .\n",
    "Returned array/list should contain the extra perfect numbers in ascending order from lowest to highest\n",
    "Input >> Output Examples\n",
    "extraPerfect(3)  ==>  return {1,3}\n",
    "Explanation:\n",
    "(1)10 =(1)2\n",
    "First and last bits as set bits.\n",
    "(3)10 = (11)2\n",
    "First and last bits as set bits.\n",
    "extraPerfect(7)  ==>  return {1,3,5,7}\n",
    "Explanation:\n",
    "(5)10 = (101)2\n",
    "First and last bits as set bits.\n",
    "(7)10 = (111)2\n",
    "First and last bits as set bits.\n",
    "\n",
    "def extra_perfect(n):\n",
    "    #your code here\n",
    "    return list(range(n+1))[1::2]\n",
    "\n",
    "\n",
    "def extra_perfect(n):\n",
    "    return range(1, n + 1, 2)\n",
    "\n",
    "\n",
    "def extra_perfect(n):\n",
    "    return [i for i in range(n+1) if bin(i)[2] == '1' and bin(i)[-1] == '1']\n",
    "\n",
    "\n",
    "def extra_perfect(n):\n",
    "    return [i for i in range(n+1) if i % 2 != 0] "
   ]
  }
 ],
 "metadata": {
  "kernelspec": {
   "display_name": "Python 3",
   "language": "python",
   "name": "python3"
  },
  "language_info": {
   "codemirror_mode": {
    "name": "ipython",
    "version": 3
   },
   "file_extension": ".py",
   "mimetype": "text/x-python",
   "name": "python",
   "nbconvert_exporter": "python",
   "pygments_lexer": "ipython3",
   "version": "3.7.6"
  }
 },
 "nbformat": 4,
 "nbformat_minor": 4
}
