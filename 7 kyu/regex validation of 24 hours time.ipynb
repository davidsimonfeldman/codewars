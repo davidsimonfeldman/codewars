{
 "cells": [
  {
   "cell_type": "code",
   "execution_count": null,
   "metadata": {},
   "outputs": [],
   "source": [
    "Write a regex to validate a 24 hours time string. See examples to figure out what you should check for:\n",
    "\n",
    "Accepted: 01:00 - 1:00\n",
    "\n",
    "Not accepted:\n",
    "\n",
    "24:00\n",
    "\n",
    "You should check for correct length and no spaces.\n",
    "\n",
    "def validate_time(t):\n",
    "    #your code here\n",
    "    print(t)\n",
    "    b=t.replace(':','')\n",
    "    print('b',b)\n",
    "    if b.isdigit()==0:return False\n",
    "    a=t.split(':')\n",
    "    print(a)\n",
    "    if len(t)<4:return False\n",
    "    if t.count(':')<1:return False\n",
    "    if  len(a )!=2 :return False\n",
    "    if  len(a[1])!=2 :return False\n",
    "    if  len(a[0])>2 :return False\n",
    "    if a[0]=='24' or a[1]=='60':return False\n",
    "    return True\n",
    "\n",
    "\n",
    "def validate_time(time):\n",
    "    #your code here\n",
    "    if time.count(':')!=1:\n",
    "        return False\n",
    "    else:\n",
    "        time = time.split(':')\n",
    "        if len(time[0])>2 or len(time[1])!=2:\n",
    "            return False\n",
    "        elif not time[0].isdigit() or not time[1].isdigit():\n",
    "            return False\n",
    "        elif int(time[0])>23 or int(time[1])>59:\n",
    "            return False\n",
    "        return True\n"
   ]
  }
 ],
 "metadata": {
  "kernelspec": {
   "display_name": "Python 3",
   "language": "python",
   "name": "python3"
  },
  "language_info": {
   "codemirror_mode": {
    "name": "ipython",
    "version": 3
   },
   "file_extension": ".py",
   "mimetype": "text/x-python",
   "name": "python",
   "nbconvert_exporter": "python",
   "pygments_lexer": "ipython3",
   "version": "3.7.6"
  }
 },
 "nbformat": 4,
 "nbformat_minor": 4
}
