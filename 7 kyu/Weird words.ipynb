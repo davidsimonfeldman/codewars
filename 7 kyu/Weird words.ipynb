{
 "cells": [
  {
   "cell_type": "code",
   "execution_count": null,
   "metadata": {},
   "outputs": [],
   "source": [
    "In this kata you will have to change every letter in a given string to the next letter in the alphabet.\n",
    "You will write a function nextLetter (Javascript) / next_letter (Python, Ruby) to do this. The function will take a single parameter s (string).\n",
    "Examples:\n",
    "\"Hello\" --> \"Ifmmp\"\n",
    "\"What is your name?\" --> \"Xibu jt zpvs obnf?\"\n",
    "\"zoo\" --> \"app\"\n",
    "\"zzZAaa\" --> \"aaABbb\"\n",
    "Note: spaces and special characters should remain the same. Capital letters should transfer in the same way but remain capitilized.\n",
    "    \n",
    "    \n",
    "def next_letter(s):\n",
    "    a=''\n",
    "    for x in s:\n",
    "        if x=='z':a+='a'\n",
    "        elif x in '!@? ':a+=x    \n",
    "        elif x=='Z':a+='A'    \n",
    "        else :\n",
    "#             print(chr( (ord(x)+1 )))\n",
    "            a+=chr( (ord(x)+1 ))\n",
    "    return a \n",
    "\n",
    "\n",
    "\n",
    "def next_letter(string):\n",
    "    return \"\".join(chr(ord(c)+(-25 if c in 'zZ' else 1)) if c.isalpha() else c for c in string)"
   ]
  }
 ],
 "metadata": {
  "kernelspec": {
   "display_name": "Python 3",
   "language": "python",
   "name": "python3"
  },
  "language_info": {
   "codemirror_mode": {
    "name": "ipython",
    "version": 3
   },
   "file_extension": ".py",
   "mimetype": "text/x-python",
   "name": "python",
   "nbconvert_exporter": "python",
   "pygments_lexer": "ipython3",
   "version": "3.7.6"
  }
 },
 "nbformat": 4,
 "nbformat_minor": 4
}
