{
 "cells": [
  {
   "cell_type": "code",
   "execution_count": null,
   "metadata": {},
   "outputs": [],
   "source": [
    "Take a number and check each digit if it is divisible by the digit on its left checked and return an array of booleans.\n",
    "\n",
    "The booleans should always start with false becase there is no digit before the first one.\n",
    "\n",
    "Examples\n",
    "73312        => [false, false, true, false, true]\n",
    "2026         => [false, true, false, true]\n",
    "635          => [false, false, false]\n",
    "*** Remember 0 is evenly divisible by all integers but not the other way around ***\n",
    "\n",
    "\n",
    "def divisible_by_last(n):\n",
    "    a=[False]\n",
    "    n=str(n)\n",
    "    for i in range(1,len(n)):\n",
    "        if int(n[i-1]) == 0 or   int(n[i])% int(n[i-1])!=0 :\n",
    "            a.append(False)\n",
    "        else:    a.append(True)\n",
    "    return a    \n",
    "\n",
    "\n",
    "\n",
    "\n",
    "def divisible_by_last(n):\n",
    "    l = list(map(int, f\"0{n}\"))\n",
    "    return [x and not y%x for x,y in zip(l, l[1:])]\n",
    "\n",
    "\n",
    "\n",
    "\n",
    "def divisible_by_last(n):\n",
    "    n = str(n)\n",
    "    res = [False]\n",
    "    for i in range(1,len(n)):\n",
    "        if int(n[i-1]) == 0 or int(n[i]) % int(n[i-1]) != 0:\n",
    "            res.append(False)\n",
    "        else:\n",
    "            res.append(True)\n",
    "    return res\n",
    "\n",
    "\n",
    "def divisible_by_last(n):\n",
    "    res = [False]\n",
    "    n = str(n)\n",
    "    for i in range(1, len(n)):\n",
    "        if n[i-1] == '0':\n",
    "            res.append(False)   \n",
    "        else:\n",
    "            res.append(int(n[i]) % int(n[i-1]) == 0)\n",
    "    return res\n"
   ]
  },
  {
   "cell_type": "code",
   "execution_count": null,
   "metadata": {
    "ExecuteTime": {
     "end_time": "2021-06-18T21:37:01.451515Z",
     "start_time": "2021-06-18T21:37:01.412513Z"
    }
   },
   "outputs": [],
   "source": []
  },
  {
   "cell_type": "code",
   "execution_count": null,
   "metadata": {},
   "outputs": [],
   "source": []
  }
 ],
 "metadata": {
  "kernelspec": {
   "display_name": "Python 3",
   "language": "python",
   "name": "python3"
  },
  "language_info": {
   "codemirror_mode": {
    "name": "ipython",
    "version": 3
   },
   "file_extension": ".py",
   "mimetype": "text/x-python",
   "name": "python",
   "nbconvert_exporter": "python",
   "pygments_lexer": "ipython3",
   "version": "3.7.6"
  }
 },
 "nbformat": 4,
 "nbformat_minor": 4
}
