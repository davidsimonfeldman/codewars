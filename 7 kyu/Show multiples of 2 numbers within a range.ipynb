{
 "cells": [
  {
   "cell_type": "code",
   "execution_count": null,
   "metadata": {
    "ExecuteTime": {
     "end_time": "2021-06-21T22:03:52.068375Z",
     "start_time": "2021-06-21T22:03:51.026859Z"
    }
   },
   "outputs": [],
   "source": [
    "Print all numbers up to 3rd parameter which are multiple of both 1st and 2nd parameter.\n",
    "\n",
    "Python, Javascript, Java, Ruby versions: return results in a list/array\n",
    "\n",
    "NOTICE:\n",
    "\n",
    "Do NOT worry about checking zeros or negative values.\n",
    "To find out if 3rd parameter (the upper limit) is inclusive or not, check the tests, it differs in each translation\n",
    "\n",
    "\n",
    "def multiples(s1,s2,s3):\n",
    "    a=[]\n",
    "    for x in range(1,s3):\n",
    "        if x%s1==0 and x%s2==0:\n",
    "            a.append(x)\n",
    "    return a\n",
    "\n",
    "\n",
    "\n",
    "\n",
    "def multiples(s1,s2,s3):\n",
    "    return [x for x in range(s1, s3) if x % s1 == 0 and x % s2 == 0]\n",
    "\n",
    "\n",
    "\n",
    "def multiples(s1, s2, s3):\n",
    "    return [a for a in xrange(1, s3) if not(a % s1 or a % s2)]\n",
    "\n",
    "\n",
    "\n",
    "from fractions import gcd\n",
    "def multiples(s1,s2,s3):\n",
    "    lcm = s1 * s2 // gcd(s1, s2)\n",
    "    return range(lcm, s3, lcm)\n",
    "\n",
    "\n",
    "\n",
    "\n",
    "def multiples(a, b, c):\n",
    "    return [x for x in range(1, c) if x % a == x % b == 0]"
   ]
  }
 ],
 "metadata": {
  "kernelspec": {
   "display_name": "Python 3",
   "language": "python",
   "name": "python3"
  },
  "language_info": {
   "codemirror_mode": {
    "name": "ipython",
    "version": 3
   },
   "file_extension": ".py",
   "mimetype": "text/x-python",
   "name": "python",
   "nbconvert_exporter": "python",
   "pygments_lexer": "ipython3",
   "version": "3.7.6"
  }
 },
 "nbformat": 4,
 "nbformat_minor": 4
}
