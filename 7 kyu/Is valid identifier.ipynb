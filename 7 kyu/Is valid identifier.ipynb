{
 "cells": [
  {
   "cell_type": "code",
   "execution_count": null,
   "metadata": {
    "ExecuteTime": {
     "end_time": "2021-06-21T22:03:52.068375Z",
     "start_time": "2021-06-21T22:03:51.026859Z"
    }
   },
   "outputs": [],
   "source": [
    "Given a string, determine if it's a valid identifier.\n",
    "\n",
    "Here is the syntax for valid identifiers:\n",
    "Each identifier must have at least one character.\n",
    "The first character must be picked from: alpha, underscore, or dollar sign. The first character cannot be a digit.\n",
    "The rest of the characters (besides the first) can be from: alpha, digit, underscore, or dollar sign. In other words, it can be any valid identifier character.\n",
    "Examples of valid identifiers:\n",
    "i\n",
    "wo_rd\n",
    "b2h\n",
    "Examples of invalid identifiers:\n",
    "1i\n",
    "wo rd\n",
    "!b2h\n",
    "\n",
    "\n",
    "\n",
    "\n",
    "\n",
    "\n",
    "def is_valid(idn):\n",
    "    if len(idn)==0: return False\n",
    "    for i in range(len(idn)):\n",
    "        j=idn[i]\n",
    "        if not j.isalnum() and j!='$'and j!='_': return False\n",
    "        if i==0 and j.isnumeric(): return False\n",
    "    return True"
   ]
  }
 ],
 "metadata": {
  "kernelspec": {
   "display_name": "Python 3",
   "language": "python",
   "name": "python3"
  },
  "language_info": {
   "codemirror_mode": {
    "name": "ipython",
    "version": 3
   },
   "file_extension": ".py",
   "mimetype": "text/x-python",
   "name": "python",
   "nbconvert_exporter": "python",
   "pygments_lexer": "ipython3",
   "version": "3.7.6"
  }
 },
 "nbformat": 4,
 "nbformat_minor": 4
}
