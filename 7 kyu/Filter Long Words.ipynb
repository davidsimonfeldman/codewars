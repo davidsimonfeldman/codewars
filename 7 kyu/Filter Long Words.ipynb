{
 "cells": [
  {
   "cell_type": "code",
   "execution_count": null,
   "metadata": {},
   "outputs": [],
   "source": [
    "Write a function filter_long_words that takes a string sentence and an integer n.\n",
    "\n",
    "Return a list of all words that are longer than n.\n",
    "\n",
    "Example:\n",
    "\n",
    "filter_long_words(\"The quick brown fox jumps over the lazy dog\", 4) = ['quick', 'brown', 'jumps']\n",
    "\n",
    "\n",
    "def filter_long_words(s, n):\n",
    "    return [x for x in s.split() if len(x)>n]\n",
    "\n",
    "\n",
    "\n",
    " "
   ]
  }
 ],
 "metadata": {
  "kernelspec": {
   "display_name": "Python 3",
   "language": "python",
   "name": "python3"
  },
  "language_info": {
   "codemirror_mode": {
    "name": "ipython",
    "version": 3
   },
   "file_extension": ".py",
   "mimetype": "text/x-python",
   "name": "python",
   "nbconvert_exporter": "python",
   "pygments_lexer": "ipython3",
   "version": "3.7.6"
  }
 },
 "nbformat": 4,
 "nbformat_minor": 4
}
