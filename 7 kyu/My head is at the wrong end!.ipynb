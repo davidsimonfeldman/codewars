{
 "cells": [
  {
   "cell_type": "code",
   "execution_count": null,
   "metadata": {},
   "outputs": [],
   "source": [
    "Create the function running(lst, fn) with a list as first argument and a function as second argument, that iterates over the list and returns a second list with the accumulated results.\n",
    "\n",
    "Example:\n",
    "\n",
    "running(lst, fn) = [fn(lst[0]), fn(lst[0:1]), fn(lst[0:2]) ... fn(lst)]\n",
    "running([1,1,1,1], add) = [1,2,3,4]\n",
    "running([10,3,4,1], sub) = [10,7,3,2]\n",
    "running([1,9,2,10], max) = [1,9,9,10]\n",
    "running([1,9,2,10], min) = [1,1,1,1]\n",
    "    \n",
    "You don't have to validate the input values.\n",
    "\n",
    "def fix_the_meerkat(arr):\n",
    "    #your code here\n",
    "    return arr[::-1]\n",
    "\n",
    "def fix_the_meerkat(arr):\n",
    "    arr.reverse()\n",
    "    return arr"
   ]
  }
 ],
 "metadata": {
  "kernelspec": {
   "display_name": "Python 3",
   "language": "python",
   "name": "python3"
  },
  "language_info": {
   "codemirror_mode": {
    "name": "ipython",
    "version": 3
   },
   "file_extension": ".py",
   "mimetype": "text/x-python",
   "name": "python",
   "nbconvert_exporter": "python",
   "pygments_lexer": "ipython3",
   "version": "3.7.6"
  }
 },
 "nbformat": 4,
 "nbformat_minor": 4
}
