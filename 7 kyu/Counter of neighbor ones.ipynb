{
 "cells": [
  {
   "cell_type": "code",
   "execution_count": null,
   "metadata": {
    "ExecuteTime": {
     "end_time": "2021-06-21T22:03:52.068375Z",
     "start_time": "2021-06-21T22:03:51.026859Z"
    }
   },
   "outputs": [],
   "source": [
    "Tranform of input array of zeros and ones to array in which counts number of continuous ones:\n",
    "\n",
    "[1, 1, 1, 0, 1] -> [3,1]\n",
    "\n",
    "\n",
    "from itertools import groupby\n",
    "def ones_counter(input):\n",
    "    a=[]\n",
    "    for x,y in groupby(input):\n",
    "        print(x)\n",
    "        a.append(sum(list(y)))\n",
    "    return [x for x in a if x!=0]    \n",
    "        \n",
    "    \n",
    "from itertools import groupby\n",
    "def ones_counter(nums):\n",
    "    return [sum(g) for k, g in groupby(nums) if k]\n",
    "\n",
    "\n",
    "\n",
    "\n",
    "import itertools as it\n",
    "\n",
    "def ones_counter(ar):\n",
    "    return [len(list(group)) for bit, group in it.groupby(ar) if bit == 1]\n",
    "\n",
    "\n",
    "\n",
    "def ones_counter(input):\n",
    "    return [i.count('1') for i in ''.join(map(str, input)).split('0') if i]\n",
    "\n",
    "\n",
    "\n",
    "def ones_counter(input):\n",
    "    s = ''.join(str(i) for i in input).split('0')\n",
    "    return [ [len(i) for i in s if len(i)], [] ] [1 not in input]\n",
    "\n",
    "\n"
   ]
  }
 ],
 "metadata": {
  "kernelspec": {
   "display_name": "Python 3",
   "language": "python",
   "name": "python3"
  },
  "language_info": {
   "codemirror_mode": {
    "name": "ipython",
    "version": 3
   },
   "file_extension": ".py",
   "mimetype": "text/x-python",
   "name": "python",
   "nbconvert_exporter": "python",
   "pygments_lexer": "ipython3",
   "version": "3.7.6"
  }
 },
 "nbformat": 4,
 "nbformat_minor": 4
}
