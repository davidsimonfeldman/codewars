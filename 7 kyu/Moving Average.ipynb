{
 "cells": [
  {
   "cell_type": "code",
   "execution_count": null,
   "metadata": {},
   "outputs": [],
   "source": [
    "Background\n",
    "Moving average of a set of values and a window size is a series of local averages.\n",
    "Example:\n",
    "Values: [1, 2, 3, 4, 5]\n",
    "Window size: 3\n",
    "Moving average is calculated as:\n",
    " 1, 2, 3, 4, 5\n",
    " |     |\n",
    " ^^^^^^^\n",
    " (1+2+3)/3 = 2\n",
    "  1, 2, 3, 4, 5\n",
    "     |     |\n",
    "     ^^^^^^^\n",
    "     (2+3+4)/3 = 3\n",
    " \n",
    "  1, 2, 3, 4, 5\n",
    "        |     |\n",
    "        ^^^^^^^\n",
    "        (3+4+5)/3 = 4\n",
    "Here, the moving average would be [2, 3, 4]\n",
    "Task\n",
    "Given a list values of integers and an integer n representing size of the window, calculate and return the moving average.\n",
    "When integer n is equal to zero or the size of values list is less than window's size, return None\n",
    "\n"
   ]
  },
  {
   "cell_type": "code",
   "execution_count": 6,
   "metadata": {
    "ExecuteTime": {
     "end_time": "2021-07-10T09:00:43.481203Z",
     "start_time": "2021-07-10T09:00:43.457284Z"
    }
   },
   "outputs": [],
   "source": [
    "import pandas as pd\n",
    "def moving_average(values,n):\n",
    "    if len(values)==0 or n==0  :return None\n",
    "    numbers_series = pd.Series(values)\n",
    "    print('numbers_series',numbers_series)\n",
    "    windows = numbers_series.rolling(n)\n",
    "    print('windows',windows)\n",
    "    moving_averages = windows.mean()\n",
    "    print('moving_averages',moving_averages)\n",
    "    moving_averages_list = moving_averages.tolist()\n",
    "    print('moving_averages_list',moving_averages_list)\n",
    "    \n",
    "    without_nans = moving_averages_list[n - 1:]\n",
    "    print('without_nans',without_nans)\n",
    "    if len(without_nans)==0 :return None\n",
    "    return(without_nans)\n"
   ]
  },
  {
   "cell_type": "code",
   "execution_count": 7,
   "metadata": {
    "ExecuteTime": {
     "end_time": "2021-07-10T09:00:45.114378Z",
     "start_time": "2021-07-10T09:00:45.086671Z"
    }
   },
   "outputs": [
    {
     "name": "stdout",
     "output_type": "stream",
     "text": [
      "numbers_series 0    40\n",
      "1    30\n",
      "2    50\n",
      "3    46\n",
      "4    39\n",
      "5    44\n",
      "dtype: int64\n",
      "windows Rolling [window=3,center=False,axis=0]\n",
      "moving_averages 0     NaN\n",
      "1     NaN\n",
      "2    40.0\n",
      "3    42.0\n",
      "4    45.0\n",
      "5    43.0\n",
      "dtype: float64\n",
      "moving_averages_list [nan, nan, 40.0, 42.0, 45.0, 43.0]\n",
      "without_nans [40.0, 42.0, 45.0, 43.0]\n"
     ]
    },
    {
     "data": {
      "text/plain": [
       "[40.0, 42.0, 45.0, 43.0]"
      ]
     },
     "execution_count": 7,
     "metadata": {},
     "output_type": "execute_result"
    }
   ],
   "source": [
    "moving_average([40, 30, 50, 46, 39, 44],3)"
   ]
  },
  {
   "cell_type": "code",
   "execution_count": null,
   "metadata": {},
   "outputs": [],
   "source": [
    "def moving_average(a, n):\n",
    "    if 0 < n <= len(a): return [sum(a[i:i+n]) / n for i in range(len(a) - n + 1)]\n",
    "    \n",
    "    \n",
    "    \n",
    "from statistics import mean\n",
    "def moving_average(values, n):\n",
    "    return [mean(values[i:i+n]) for i in range(len(values) - n + 1)] if n and n <= len(values) else None\n",
    "\n",
    "\n",
    "def moving_average(values, n):\n",
    "    slide = len(values) - n + 1\n",
    "    if n < 1 or slide < 1:\n",
    "        return\n",
    "    return [sum(values[i:i+n]) / n for i in range(slide)]\n",
    "\n",
    "\n",
    "from statistics import mean\n",
    "def moving_average(values, n):\n",
    "    if n and n <= len(values):\n",
    "        return [mean(values[i : i + n]) for i in range(len(values) - n + 1)]    "
   ]
  }
 ],
 "metadata": {
  "kernelspec": {
   "display_name": "Python 3",
   "language": "python",
   "name": "python3"
  },
  "language_info": {
   "codemirror_mode": {
    "name": "ipython",
    "version": 3
   },
   "file_extension": ".py",
   "mimetype": "text/x-python",
   "name": "python",
   "nbconvert_exporter": "python",
   "pygments_lexer": "ipython3",
   "version": "3.7.6"
  }
 },
 "nbformat": 4,
 "nbformat_minor": 4
}
