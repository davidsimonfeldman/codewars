{
 "cells": [
  {
   "cell_type": "code",
   "execution_count": null,
   "metadata": {},
   "outputs": [],
   "source": [
    " You will be given an array of non-negative integers and positive integer bin width.\n",
    "\n",
    "Your task is to create the Histogram method that will return histogram data corresponding to the input array. \n",
    "The histogram data is an array that stores under index i the count of numbers that belong to bin i. The first bin always starts with zero.\n",
    "\n",
    "On empty input you should return empty output.\n",
    "\n",
    "Examples:\n",
    "\n",
    "For input data [1, 1, 0, 1, 3, 2, 6] and binWidth=1 the result will be [1, 3, 1, 1, 0, 0, 1] as the data contains single element \"0\", 3 elements \"1\" etc.\n",
    "For the same data and binWidth=2 the result will be [4, 2, 0, 1]\n",
    "For input data [7] and binWidth=1 the result will be [0, 0, 0, 0, 0, 0, 0, 1]\n",
    "\n",
    "\n",
    "from collections import Counter\n",
    "def histogram(values, bin_width):\n",
    "    if not values: return []\n",
    "    a=[]\n",
    "    print(values, bin_width)\n",
    "    b=Counter(values)\n",
    "    for k in range(0, max(values)+1, bin_width):\n",
    "        print(k) \n",
    "        s=0\n",
    "        for x in range(k, k+bin_width):\n",
    "            s+=b[x]\n",
    "        a.append(s)\n",
    "        print()\n",
    "    return a\n",
    "\n",
    "\n",
    "\n",
    "\n",
    "def histogram(lst, w):\n",
    "    lst = [n // w for n in lst]\n",
    "    m = max(lst, default=-1) + 1\n",
    "    return [lst.count(n) for n in range(m)]"
   ]
  }
 ],
 "metadata": {
  "kernelspec": {
   "display_name": "Python 3",
   "language": "python",
   "name": "python3"
  },
  "language_info": {
   "codemirror_mode": {
    "name": "ipython",
    "version": 3
   },
   "file_extension": ".py",
   "mimetype": "text/x-python",
   "name": "python",
   "nbconvert_exporter": "python",
   "pygments_lexer": "ipython3",
   "version": "3.7.6"
  }
 },
 "nbformat": 4,
 "nbformat_minor": 4
}
