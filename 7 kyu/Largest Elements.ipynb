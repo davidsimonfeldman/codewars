{
 "cells": [
  {
   "cell_type": "code",
   "execution_count": null,
   "metadata": {
    "ExecuteTime": {
     "end_time": "2021-06-21T22:03:52.068375Z",
     "start_time": "2021-06-21T22:03:51.026859Z"
    }
   },
   "outputs": [],
   "source": [
    "Write a program that outputs the top n elements from a list.\n",
    "\n",
    "Example:\n",
    "\n",
    "largest(2, [7,6,5,4,3,2,1])\n",
    "# => [6,7]\n",
    "\n",
    "def largest(n,xs):\n",
    "    print(n,xs)\n",
    "    return sorted(sorted(xs)[::-1][:n])\n",
    "\n",
    "\n",
    "\n",
    "\n",
    "def largest(n, xs):\n",
    "    \"Find the n highest elements in a list\"\n",
    "    \n",
    "    return sorted(xs)[-n:];\n",
    "\n",
    "def largest(n,xs):\n",
    "    import heapq\n",
    "    return heapq.nlargest(n,xs)[::-1]\n",
    "\n",
    "def largest(n,xs):\n",
    "    xs.sort()\n",
    "    return xs[-n:]"
   ]
  }
 ],
 "metadata": {
  "kernelspec": {
   "display_name": "Python 3",
   "language": "python",
   "name": "python3"
  },
  "language_info": {
   "codemirror_mode": {
    "name": "ipython",
    "version": 3
   },
   "file_extension": ".py",
   "mimetype": "text/x-python",
   "name": "python",
   "nbconvert_exporter": "python",
   "pygments_lexer": "ipython3",
   "version": "3.7.6"
  }
 },
 "nbformat": 4,
 "nbformat_minor": 4
}
