{
 "cells": [
  {
   "cell_type": "code",
   "execution_count": null,
   "metadata": {
    "ExecuteTime": {
     "end_time": "2021-06-21T22:03:52.068375Z",
     "start_time": "2021-06-21T22:03:51.026859Z"
    }
   },
   "outputs": [],
   "source": [
    "You are given two arrays a1 and a2 of strings. Each string is composed with letters from a to z. \n",
    "Let x be any string in the first array and y be any string in the second array.\n",
    "Find max(abs(length(x) − length(y)))\n",
    "If a1 and/or a2 are empty return -1 in each language except in Haskell (F#) where you will return Nothing (None).\n",
    "Example:\n",
    "a1 = [\"hoqq\", \"bbllkw\", \"oox\", \"ejjuyyy\", \"plmiis\", \"xxxzgpsssa\", \"xxwwkktt\", \"znnnnfqknaz\", \"qqquuhii\", \"dvvvwz\"]\n",
    "a2 = [\"cccooommaaqqoxii\", \"gggqaffhhh\", \"tttoowwwmmww\"]\n",
    "mxdiflg(a1, a2) --> 13\n",
    "Bash note:\n",
    "input : 2 strings with substrings separated by ,\n",
    "output: number as a string\n",
    "                                                                        \n",
    "                                                                        \n",
    "\n",
    "def mxdiflg(a1, a2):\n",
    "    # your code\n",
    "    print(a1, a2)\n",
    "    if len(a1)==0 or len(a2)==0 :return -1\n",
    "    a1=sorted(a1,key=len)\n",
    "    a2=sorted(a2,key=len)\n",
    "    a=len(a1[0])\n",
    "    b=len(a1[-1])\n",
    "    c=len(a2[0])\n",
    "    d=len(a2[-1])\n",
    "    print(a,'a')\n",
    "    print(b,'b')\n",
    "    print(c,'c')\n",
    "    print(d,'d')\n",
    "    return abs(max(abs(d-a),abs(b-c)))\n",
    "    \n",
    "                                                                        \n",
    "                                                                        \n",
    "\n",
    "                                                                        \n",
    "def mxdiflg(a1, a2):\n",
    "    if a1 and a2:\n",
    "        return max(\n",
    "            len(max(a1, key=len)) - len(min(a2, key=len)),\n",
    "            len(max(a2, key=len)) - len(min(a1, key=len)))\n",
    "    return -1\n",
    "\n",
    "def mxdiflg(a1, a2):\n",
    "    if a1 and a2:\n",
    "        return max(abs(len(x) - len(y)) for x in a1 for y in a2)\n",
    "    return -1\n",
    "\n",
    "def mxdiflg(a1, a2):\n",
    "    if not a1 or not a2: return -1\n",
    "    \n",
    "    max_a1 = max([len(x) for x in a1])\n",
    "    min_a1 = min([len(x) for x in a1])\n",
    "    \n",
    "    max_a2 = max([len(x) for x in a2])\n",
    "    min_a2 = min([len(x) for x in a2])\n",
    "    \n",
    "    return max(max_a1 - min_a2, max_a2 - min_a1)\n",
    "\n",
    "def mxdiflg(a1, a2):\n",
    "    if not (a1 and a2): return -1\n",
    "    l1 = list(map(len, a1))\n",
    "    l2 = list(map(len, a2))\n",
    "    return max((max(l1)-min(l2)), (max(l2)-min(l1)))                                                                        "
   ]
  }
 ],
 "metadata": {
  "kernelspec": {
   "display_name": "Python 3",
   "language": "python",
   "name": "python3"
  },
  "language_info": {
   "codemirror_mode": {
    "name": "ipython",
    "version": 3
   },
   "file_extension": ".py",
   "mimetype": "text/x-python",
   "name": "python",
   "nbconvert_exporter": "python",
   "pygments_lexer": "ipython3",
   "version": "3.7.6"
  }
 },
 "nbformat": 4,
 "nbformat_minor": 4
}
