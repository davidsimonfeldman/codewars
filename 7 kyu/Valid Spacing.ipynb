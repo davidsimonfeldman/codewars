{
 "cells": [
  {
   "cell_type": "code",
   "execution_count": null,
   "metadata": {
    "ExecuteTime": {
     "end_time": "2021-06-21T22:03:52.068375Z",
     "start_time": "2021-06-21T22:03:51.026859Z"
    }
   },
   "outputs": [],
   "source": [
    "Task\n",
    "Your task is to write a function called valid_spacing() or validSpacing() which checks if a string has valid spacing. The function should return either True or False.\n",
    "\n",
    "For this kata, the definition of valid spacing is one space between words, and no leading or trailing spaces. Below are some examples of what the function should return.\n",
    "\n",
    "'Hello world' = True\n",
    "' Hello world' = False\n",
    "'Hello world  ' = False\n",
    "'Hello  world' = False\n",
    "'Hello' = True\n",
    "# Even though there are no spaces, it is still valid because none are needed\n",
    "'Helloworld' = True \n",
    "# True because we are not checking for the validity of words.\n",
    "'Helloworld ' = False\n",
    "' ' = False\n",
    "'' = True\n",
    "Note - there will be no punctuation or digits in the input string, only letters.\n",
    "\n",
    "\n",
    "def valid_spacing(s):\n",
    "    # write your code here\n",
    "    print(s)\n",
    "    if s:    \n",
    "        if s[0]==' ' or s[-1]==' ' :return False\n",
    "    if s.count(' ')==0             :return True\n",
    "    if s.count('  ')>0             :return False\n",
    "    return True\n",
    "\n",
    "\n",
    "\n",
    "def valid_spacing(s):\n",
    "    return s == ' '.join(s.split())\n",
    "\n",
    "\n",
    "\n",
    "def valid_spacing(s):\n",
    "    return s == s.strip() and '  ' not in s\n",
    "\n",
    "\n",
    "\n",
    "def valid_spacing(s):\n",
    "    return s == '' or (s[0] != ' ' and s[-1] != ' ' and s.find('  ') == -1)\n",
    "\n",
    "\n",
    "\n",
    "def valid_spacing(s):\n",
    "    s_split = s.split()\n",
    "    join_s_split = \" \".join(s_split) \n",
    "    if s == join_s_split:\n",
    "        return True\n",
    "    else:\n",
    "        return False\n",
    "\n"
   ]
  }
 ],
 "metadata": {
  "kernelspec": {
   "display_name": "Python 3",
   "language": "python",
   "name": "python3"
  },
  "language_info": {
   "codemirror_mode": {
    "name": "ipython",
    "version": 3
   },
   "file_extension": ".py",
   "mimetype": "text/x-python",
   "name": "python",
   "nbconvert_exporter": "python",
   "pygments_lexer": "ipython3",
   "version": "3.7.6"
  }
 },
 "nbformat": 4,
 "nbformat_minor": 4
}
