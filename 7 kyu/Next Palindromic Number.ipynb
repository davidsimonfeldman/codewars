{
 "cells": [
  {
   "cell_type": "code",
   "execution_count": null,
   "metadata": {},
   "outputs": [],
   "source": [
    "There were and still are many problem in CW about palindrome numbers and palindrome strings. We suposse that you know which kind of numbers they are. If not, you may search about them using your favourite search engine.\n",
    "\n",
    "In this kata you will be given a positive integer, val and you have to create the function next_pal()(nextPal Javascript) that will output the smallest palindrome number higher than val.\n",
    "\n",
    "Let's see:\n",
    "\n",
    "For Python\n",
    "next_pal(11) == 22\n",
    "\n",
    "next_pal(188) == 191\n",
    "\n",
    "next_pal(191) == 202\n",
    "\n",
    "next_pal(2541) == 2552\n",
    "You will be receiving values higher than 10, all valid.\n",
    "\n",
    "\n",
    "def next_pal(val):\n",
    "    # your code here\n",
    "    val+=1\n",
    "    if str(val)!=str(val)[::-1]:\n",
    "        while str(val)!=str(val)[::-1] :\n",
    "            val+=1\n",
    "    return val\n",
    "\n",
    "\n"
   ]
  }
 ],
 "metadata": {
  "kernelspec": {
   "display_name": "Python 3",
   "language": "python",
   "name": "python3"
  },
  "language_info": {
   "codemirror_mode": {
    "name": "ipython",
    "version": 3
   },
   "file_extension": ".py",
   "mimetype": "text/x-python",
   "name": "python",
   "nbconvert_exporter": "python",
   "pygments_lexer": "ipython3",
   "version": "3.7.6"
  }
 },
 "nbformat": 4,
 "nbformat_minor": 4
}
