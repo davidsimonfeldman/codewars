{
 "cells": [
  {
   "cell_type": "code",
   "execution_count": null,
   "metadata": {},
   "outputs": [],
   "source": [
    "You have to create a function named reverseIt.\n",
    "\n",
    "Write your function so that in the case a string or a number is passed in as the data , you will return the data in reverse order. If the data is any other type, return it as it is.\n",
    "\n",
    "Examples of inputs and subsequent outputs:\n",
    "\n",
    "\"Hello\" -> \"olleH\"\n",
    "\n",
    "\"314159\" -> \"951413\"\n",
    "\n",
    "[1,2,3] -> [1,2,3]\n",
    "\n",
    "\n",
    "\n",
    "def reverse_it(data):\n",
    "    print((data))\n",
    "    if type(data)==int: return int(str(data)[::-1])\n",
    "    if type(data)==str: return str(data)[::-1]\n",
    "    if type(data)==float: return float(str(data)[::-1])\n",
    "    if type(data)!=str and type(data)!=int : return  data \n",
    "    #your code here\n",
    "    \n",
    "def reverse_it(data):\n",
    "    if type(data) in [int, str, float]:\n",
    "        return type(data)(str(data)[::-1])\n",
    "    return data    "
   ]
  }
 ],
 "metadata": {
  "kernelspec": {
   "display_name": "Python 3",
   "language": "python",
   "name": "python3"
  },
  "language_info": {
   "codemirror_mode": {
    "name": "ipython",
    "version": 3
   },
   "file_extension": ".py",
   "mimetype": "text/x-python",
   "name": "python",
   "nbconvert_exporter": "python",
   "pygments_lexer": "ipython3",
   "version": "3.7.6"
  }
 },
 "nbformat": 4,
 "nbformat_minor": 4
}
