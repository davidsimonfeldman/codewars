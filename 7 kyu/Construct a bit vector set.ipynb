{
 "cells": [
  {
   "cell_type": "code",
   "execution_count": null,
   "metadata": {
    "ExecuteTime": {
     "end_time": "2021-06-21T22:03:52.068375Z",
     "start_time": "2021-06-21T22:03:51.026859Z"
    }
   },
   "outputs": [],
   "source": [
    "Task\n",
    "Write a function which accepts a sequence of unique integers as argument and returns a 32-bit integer such that\n",
    "the integer, in its binary representation has 1 at only those indexes (counted from right) which are in the sequence.\n",
    "Examples\n",
    "sort_by_bit([0, 1]) # Returns integer 3\n",
    "sort_by_bit([1, 2, 0, 4]) # Returns integer 23\n",
    "Because 23 in binary is:                     \n",
    "0 0 0 0 0 0 0 0 0 0 0 0 0 0 0 0 0 0 0 0 0 0 0 0 0 0 0 1 0 1 1 1      \n",
    "                                          . . . . . 5 4 3 2 1 0  <--- indices     \n",
    "                                                      |   | | |                       \n",
    "                                                      |   | | |                       \n",
    "                            these bits are 1 due to the corresponding indices in the given array\n",
    "FAQ: The function name contains sort as it simulates radix sort.\n",
    "    \n",
    "    \n",
    "    \n",
    "def sort_by_bit(seq): \n",
    "    # your code here\n",
    "    a=0\n",
    "    for x in seq:\n",
    "        a+=2**x\n",
    "    return a      \n",
    "    \n",
    "    \n",
    "def sort_by_bit(seq): \n",
    "    return sum(2 ** i for i in seq)    "
   ]
  }
 ],
 "metadata": {
  "kernelspec": {
   "display_name": "Python 3",
   "language": "python",
   "name": "python3"
  },
  "language_info": {
   "codemirror_mode": {
    "name": "ipython",
    "version": 3
   },
   "file_extension": ".py",
   "mimetype": "text/x-python",
   "name": "python",
   "nbconvert_exporter": "python",
   "pygments_lexer": "ipython3",
   "version": "3.7.6"
  }
 },
 "nbformat": 4,
 "nbformat_minor": 4
}
