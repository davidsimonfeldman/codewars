{
 "cells": [
  {
   "cell_type": "code",
   "execution_count": null,
   "metadata": {},
   "outputs": [],
   "source": [
    "\n",
    "\n",
    " \n",
    "Given a number, return the maximum value by rearranging its digits.\n",
    "\n",
    "Examples:\n",
    "\n",
    "(123) => 321 (786) => 876 (\"001\") => 100 (999) => 999 (10543) => 54310\n",
    "\n",
    "^Note the number may be given as a string\n",
    "\n",
    "def rotate_to_max(n):\n",
    "    \n",
    "    \n",
    "     \n",
    "    print(int(''.join(sorted((str(n)),reverse=True))))\n",
    "    return int(''.join(sorted((str(n)),reverse=True)))\n",
    "\n",
    "\n",
    "\n",
    "\n",
    "def rotate_to_max(n):\n",
    "    return int(''.join(sorted(str(n), reverse = True)))\n",
    "\n",
    "\n",
    "def rotate_to_max(n):\n",
    "    n = str(n)\n",
    "    l = [x for x in n]\n",
    "    \n",
    "    s = sorted(l, reverse=True)\n",
    "    return int(''.join(s))"
   ]
  }
 ],
 "metadata": {
  "kernelspec": {
   "display_name": "Python 3",
   "language": "python",
   "name": "python3"
  },
  "language_info": {
   "codemirror_mode": {
    "name": "ipython",
    "version": 3
   },
   "file_extension": ".py",
   "mimetype": "text/x-python",
   "name": "python",
   "nbconvert_exporter": "python",
   "pygments_lexer": "ipython3",
   "version": "3.7.6"
  }
 },
 "nbformat": 4,
 "nbformat_minor": 4
}
