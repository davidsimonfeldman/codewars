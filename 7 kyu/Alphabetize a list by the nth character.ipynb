{
 "cells": [
  {
   "cell_type": "code",
   "execution_count": null,
   "metadata": {},
   "outputs": [],
   "source": [
    "Write a function that accepts two parameters, i) a string (containing a list of words) and ii) an integer (n). The function should alphabetize the list based on the nth letter of each word.\n",
    "The letters should be compared case-insensitive. If both letters are the same, order them normally (lexicographically), again, case-insensitive.\n",
    "example:\n",
    "function sortIt('bid, zag', 2) #=> 'zag, bid'\n",
    "The length of all words provided in the list will be >= n. The format will be \"x, x, x\". In Haskell you'll get a list of Strings instead.\n",
    "\n",
    "\n",
    "\n",
    "\n",
    "def sort_it(l, n):\n",
    "    print('l',l, n)\n",
    "    a=l.split(', ')\n",
    "    print('a',a)\n",
    "    b=', '.join(sorted(a,key= lambda x:x[n-1 ]))\n",
    "    print(b)\n",
    "    #l=l.replace(',','')\n",
    "    return b\n",
    "\n",
    "\n",
    "def sort_it(list_, n):    \n",
    "    return ', '.join(sorted(list_.split(', '), key=lambda i: i[n-1]))"
   ]
  }
 ],
 "metadata": {
  "kernelspec": {
   "display_name": "Python 3",
   "language": "python",
   "name": "python3"
  },
  "language_info": {
   "codemirror_mode": {
    "name": "ipython",
    "version": 3
   },
   "file_extension": ".py",
   "mimetype": "text/x-python",
   "name": "python",
   "nbconvert_exporter": "python",
   "pygments_lexer": "ipython3",
   "version": "3.7.6"
  }
 },
 "nbformat": 4,
 "nbformat_minor": 4
}
