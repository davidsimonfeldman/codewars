{
 "cells": [
  {
   "cell_type": "code",
   "execution_count": null,
   "metadata": {},
   "outputs": [],
   "source": [
    "\n",
    "\n",
    "\n",
    "\n",
    "\n",
    "Create a function that takes a number and returns an array of strings containing the number cut off at each digit.\n",
    "\n",
    "Examples\n",
    "420 should return [\"4\", \"42\", \"420\"]\n",
    "2017 should return [\"2\", \"20\", \"201\", \"2017\"]\n",
    "2010 should return [\"2\", \"20\", \"201\", \"2010\"]\n",
    "4020 should return [\"4\", \"40\", \"402\", \"4020\"]\n",
    "80200 should return [\"8\", \"80\", \"802\", \"8020\", \"80200\"]\n",
    "PS: The input is guaranteed to be an integer in the range [0, 1000000]\n",
    "    \n",
    "    \n",
    "    \n",
    "    \n",
    "    \n",
    "\n",
    "\n",
    "def create_array_of_tiers(n):\n",
    "    # your awesome code here\n",
    "    a=[]\n",
    "    for i in range(len(str(n))):\n",
    "        a.append(str(n)[:i+1])\n",
    "    \n",
    "    return a\n",
    "\n",
    "\n",
    "\n",
    "\n",
    "from itertools import accumulate\n",
    "from typing import List\n",
    "\n",
    "\n",
    "def create_array_of_tiers(n: int) -> List[str]:\n",
    "    return list(accumulate(str(n)))\n",
    "\n",
    "\n",
    "\n",
    "from itertools import accumulate\n",
    "def create_array_of_tiers(n):\n",
    "    return list(accumulate(str(n)))\n",
    "\n",
    "\n",
    "def create_array_of_tiers(n):\n",
    "    s = str(n)\n",
    "    return [s[:i] for i in range(1, len(s) + 1)]\n",
    "\n",
    "\n",
    "\n",
    "\n",
    "\n",
    "\n",
    "\n"
   ]
  }
 ],
 "metadata": {
  "kernelspec": {
   "display_name": "Python 3",
   "language": "python",
   "name": "python3"
  },
  "language_info": {
   "codemirror_mode": {
    "name": "ipython",
    "version": 3
   },
   "file_extension": ".py",
   "mimetype": "text/x-python",
   "name": "python",
   "nbconvert_exporter": "python",
   "pygments_lexer": "ipython3",
   "version": "3.7.6"
  }
 },
 "nbformat": 4,
 "nbformat_minor": 4
}
