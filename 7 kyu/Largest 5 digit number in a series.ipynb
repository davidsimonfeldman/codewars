{
 "cells": [
  {
   "cell_type": "code",
   "execution_count": null,
   "metadata": {},
   "outputs": [],
   "source": [
    "In the following 6 digit number:\n",
    "\n",
    "283910\n",
    "91 is the greatest sequence of 2 consecutive digits.\n",
    "\n",
    "In the following 10 digit number:\n",
    "\n",
    "1234567890\n",
    "67890 is the greatest sequence of 5 consecutive digits.\n",
    "\n",
    "Complete the solution so that it returns the greatest sequence of five consecutive digits found within the number given. The number will be passed in as a string of only digits. It should return a five digit integer. The number passed may be as large as 1000 digits.\n",
    "\n",
    "Adapted from ProjectEuler.net\n",
    "\n",
    "def solution(digits):\n",
    "    a=[]\n",
    "    for x in range( len(digits)):\n",
    "        a.append(digits[x:x+5])\n",
    "    a=map(int,a)   \n",
    "    return max(a)\n",
    "\n",
    "\n",
    "\n",
    "\n",
    "def solution(digits):\n",
    "    numlist = [int(digits[i:i+5]) for i in range(0,len(digits)-4)]\n",
    "    return max(numlist)"
   ]
  }
 ],
 "metadata": {
  "kernelspec": {
   "display_name": "Python 3",
   "language": "python",
   "name": "python3"
  },
  "language_info": {
   "codemirror_mode": {
    "name": "ipython",
    "version": 3
   },
   "file_extension": ".py",
   "mimetype": "text/x-python",
   "name": "python",
   "nbconvert_exporter": "python",
   "pygments_lexer": "ipython3",
   "version": "3.7.6"
  }
 },
 "nbformat": 4,
 "nbformat_minor": 4
}
