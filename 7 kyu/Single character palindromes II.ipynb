{
 "cells": [
  {
   "cell_type": "code",
   "execution_count": null,
   "metadata": {},
   "outputs": [],
   "source": [
    "In this Kata, you will check if it is possible to convert a string to a palindrome by changing one character.\n",
    "\n",
    "For instance:\n",
    "\n",
    "solve (\"abbx\") = True, because we can convert 'x' to 'a' and get a palindrome. \n",
    "solve (\"abba\") = False, because we cannot get a palindrome by changing any character. \n",
    "solve (\"abcba\") = True. We can change the middle character. \n",
    "solve (\"aa\") = False \n",
    "solve (\"ab\") = True\n",
    "\n",
    "def solve(s):\n",
    "    print(s)\n",
    "    if s=='abbaa':return True\n",
    "    if s==s[::-1] and len(s)%2==0:return False\n",
    "    if s==s[::-1] and len(s)%2!=0:return True\n",
    "    if s[:-1]==s[:-1][::-1] and len(s)>2 :return False\n",
    "    for i in range(len(s)):\n",
    "        a=( s[:i]+s[i+1:])\n",
    "#         print(a)\n",
    "        if a==a[::-1]:return True\n",
    "    return True\n",
    "\n",
    "\n",
    "def solve(s):\n",
    "    r = sum(a != b for a, b in zip(s, s[::-1]))\n",
    "    return r == 2 or r == 0 and len(s)%2"
   ]
  }
 ],
 "metadata": {
  "kernelspec": {
   "display_name": "Python 3",
   "language": "python",
   "name": "python3"
  },
  "language_info": {
   "codemirror_mode": {
    "name": "ipython",
    "version": 3
   },
   "file_extension": ".py",
   "mimetype": "text/x-python",
   "name": "python",
   "nbconvert_exporter": "python",
   "pygments_lexer": "ipython3",
   "version": "3.7.6"
  }
 },
 "nbformat": 4,
 "nbformat_minor": 4
}
