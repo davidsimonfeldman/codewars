{
 "cells": [
  {
   "cell_type": "code",
   "execution_count": null,
   "metadata": {},
   "outputs": [],
   "source": [
    "Write a function named sumDigits which takes a number as input and returns the sum of the absolute value of each of the number's decimal digits. For example:\n",
    "\n",
    "  sum_digits(10)  # Returns 1\n",
    "  sum_digits(99)  # Returns 18\n",
    "  sum_digits(-32) # Returns 5\n",
    "Let's assume that all numbers in the input will be integer values.\n",
    "\n",
    "def sum_digits(num):\n",
    "    \n",
    "    return sum(map(abs,map(int,list(str(abs(num))))))\n",
    "\n",
    "\n",
    "\n",
    "def sumDigits(number):\n",
    "    return sum(int(d) for d in str(abs(number)))\n",
    "\n",
    "def sum_digits(number):\n",
    "    return sum(map(int, str(abs(number))))\n"
   ]
  }
 ],
 "metadata": {
  "kernelspec": {
   "display_name": "Python 3",
   "language": "python",
   "name": "python3"
  },
  "language_info": {
   "codemirror_mode": {
    "name": "ipython",
    "version": 3
   },
   "file_extension": ".py",
   "mimetype": "text/x-python",
   "name": "python",
   "nbconvert_exporter": "python",
   "pygments_lexer": "ipython3",
   "version": "3.7.6"
  }
 },
 "nbformat": 4,
 "nbformat_minor": 4
}
