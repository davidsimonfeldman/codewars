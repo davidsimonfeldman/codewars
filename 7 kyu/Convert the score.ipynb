{
 "cells": [
  {
   "cell_type": "code",
   "execution_count": 2,
   "metadata": {
    "ExecuteTime": {
     "end_time": "2021-06-18T08:44:30.217717Z",
     "start_time": "2021-06-18T08:44:30.194714Z"
    }
   },
   "outputs": [],
   "source": [
    "You are working at a lower league football stadium and you've been tasked with automating the scoreboard.\n",
    "\n",
    "The referee will shout out the score, you have already set up \n",
    "the voice recognition module which turns the ref's voice into a string, but the spoken score needs to be converted into a pair for the scoreboard!\n",
    "\n",
    "e.g. \"The score is four nil\" should return [4,0]\n",
    "\n",
    "Either teams score has a range of 0-9, and the ref won't say the same string every time e.g.\n",
    "\n",
    "\"new score: two three\"\n",
    "  \n",
    "\"two two\"\n",
    "  \n",
    "\"Arsenal just conceded another goal, two nil\"\n",
    "Note:\n",
    "\n",
    "Please return an array\n",
    "Please rate and enjoy!\n",
    "\n",
    "\n",
    "\n",
    "def scoreboard(string):\n",
    "    a=string.split()[-2:]\n",
    "    dic={'nil':0,'one':1,'two':2,'three':3,'four':4,'five':5,'six':6,'seven':7,'eight':8,'nine' :9}\n",
    "    \n",
    "    return [dic[a[0]] , dic[a[1]]] \n",
    "\n",
    "\n",
    "\n",
    "def scoreboard(string):\n",
    "    scores = {'nil': 0, 'one': 1, 'two': 2, 'three': 3, 'four': 4, 'five': 5, 'six': 6, 'seven': 7, 'eight': 8, 'nine': 9}\n",
    "    return [scores[x] for x in string.split() if x in scores]"
   ]
  },
  {
   "cell_type": "code",
   "execution_count": null,
   "metadata": {},
   "outputs": [],
   "source": [
    "\n",
    "\n",
    "\n"
   ]
  }
 ],
 "metadata": {
  "kernelspec": {
   "display_name": "Python 3",
   "language": "python",
   "name": "python3"
  },
  "language_info": {
   "codemirror_mode": {
    "name": "ipython",
    "version": 3
   },
   "file_extension": ".py",
   "mimetype": "text/x-python",
   "name": "python",
   "nbconvert_exporter": "python",
   "pygments_lexer": "ipython3",
   "version": "3.7.6"
  }
 },
 "nbformat": 4,
 "nbformat_minor": 4
}
