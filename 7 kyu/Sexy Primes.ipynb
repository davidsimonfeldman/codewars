{
 "cells": [
  {
   "cell_type": "code",
   "execution_count": null,
   "metadata": {},
   "outputs": [],
   "source": [
    "Sexy primes are pairs of two primes that are 6 apart. In this kata, your job is to complete the function sexy_prime(x, y) which returns true if x & y are sexy, false otherwise.\n",
    "\n",
    "Examples:\n",
    "\n",
    "sexy_prime(5,11)\n",
    "--> True\n",
    "\n",
    "sexy_prime(61,67)\n",
    "--> True\n",
    "\n",
    "sexy_prime(7,13)\n",
    "--> True\n",
    "\n",
    "sexy_prime(5,7)\n",
    "--> False\n",
    "\n",
    "sexy_prime(1,7)\n",
    "--> False\n",
    "( 1 is not considered prime )\n",
    "Note: x & y are always positive integers > 0, but they are not always in order of precendence...you can be given either (5,11) or (11,5). Both are equally valid.\n",
    "    \n",
    "def isprime(n): #True if n is prime. This is a pretty efficient implementation\n",
    "    if n == 1: return False\n",
    "    for i in range (2, int(n**0.5)+1):\n",
    "        if n%i == 0:\n",
    "            return False\n",
    "    return True\n",
    "def sexy_prime(x, y):\n",
    "    if abs(y-x)!=6:return False\n",
    "    if isprime(x) and isprime(y):return True\n",
    "    return False\n",
    "\n",
    "\n",
    "\n",
    "\n",
    "\n",
    "\n",
    "def is_prime(n):\n",
    "    return n > 1 and all(n % i != 0 for i in range(2, int(n**0.5) + 1))\n",
    "\n",
    "def sexy_prime(x, y):\n",
    "    return abs(x-y) == 6 and is_prime(x) and is_prime(y)\n",
    "    "
   ]
  },
  {
   "cell_type": "code",
   "execution_count": null,
   "metadata": {
    "ExecuteTime": {
     "end_time": "2021-06-18T22:59:07.256530Z",
     "start_time": "2021-06-18T22:59:07.241184Z"
    }
   },
   "outputs": [],
   "source": [
    " "
   ]
  },
  {
   "cell_type": "code",
   "execution_count": null,
   "metadata": {
    "ExecuteTime": {
     "end_time": "2021-06-18T22:59:07.902348Z",
     "start_time": "2021-06-18T22:59:07.885335Z"
    }
   },
   "outputs": [],
   "source": [
    " "
   ]
  },
  {
   "cell_type": "code",
   "execution_count": null,
   "metadata": {},
   "outputs": [],
   "source": []
  }
 ],
 "metadata": {
  "kernelspec": {
   "display_name": "Python 3",
   "language": "python",
   "name": "python3"
  },
  "language_info": {
   "codemirror_mode": {
    "name": "ipython",
    "version": 3
   },
   "file_extension": ".py",
   "mimetype": "text/x-python",
   "name": "python",
   "nbconvert_exporter": "python",
   "pygments_lexer": "ipython3",
   "version": "3.7.6"
  }
 },
 "nbformat": 4,
 "nbformat_minor": 4
}
