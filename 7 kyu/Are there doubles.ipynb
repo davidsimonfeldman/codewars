{
 "cells": [
  {
   "cell_type": "code",
   "execution_count": null,
   "metadata": {
    "ExecuteTime": {
     "end_time": "2021-07-02T10:42:54.912501Z",
     "start_time": "2021-07-02T10:42:54.891518Z"
    }
   },
   "outputs": [],
   "source": [
    "Your job is to build a function which determines whether or not there are double characters in a string (including whitespace characters). For example aa, !! or .\n",
    "You want the function to return true if the string contains double characters and false if not. The test should not be case sensitive; for example both aa & aA return true.\n",
    "Examples:\n",
    "double_check(\"abca\")\n",
    "  #returns False\n",
    "double_check(\"aabc\")\n",
    "  #returns True\n",
    "double_check(\"a 11 c d\")\n",
    "  #returns True\n",
    "double_check(\"AabBcC\")\n",
    "  #returns True\n",
    "double_check(\"a b  c\")\n",
    "  #returns True\n",
    "double_check(\"a b c d e f g h i h k\")\n",
    "  #returns False \n",
    "double_check(\"2020\")\n",
    "  #returns False\n",
    "double_check(\"a!@€£#$%^&*()_-+=}]{[|\\\"':;?/>.<,~\")\n",
    "  #returns False\n",
    "    \n",
    "    \n",
    "def double_check(s):\n",
    "    print(s)\n",
    "    s=s.lower()\n",
    "    #Are there doubles?\n",
    "    for i in range(len(s)):\n",
    "        \n",
    "        if s[i-1]==s[i] and i!=0:return True\n",
    "    return False    \n",
    "\n",
    "\n",
    "\n",
    "\n",
    "def double_check(str):\n",
    "    str = str.lower()\n",
    "    c1 = ''\n",
    "    for c in str:\n",
    "      if c == c1:\n",
    "        return True\n",
    "      c1 = c\n",
    "    return False"
   ]
  }
 ],
 "metadata": {
  "kernelspec": {
   "display_name": "Python 3",
   "language": "python",
   "name": "python3"
  },
  "language_info": {
   "codemirror_mode": {
    "name": "ipython",
    "version": 3
   },
   "file_extension": ".py",
   "mimetype": "text/x-python",
   "name": "python",
   "nbconvert_exporter": "python",
   "pygments_lexer": "ipython3",
   "version": "3.7.6"
  }
 },
 "nbformat": 4,
 "nbformat_minor": 4
}
