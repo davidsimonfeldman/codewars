{
 "cells": [
  {
   "cell_type": "code",
   "execution_count": null,
   "metadata": {
    "ExecuteTime": {
     "end_time": "2021-06-21T22:03:52.068375Z",
     "start_time": "2021-06-21T22:03:51.026859Z"
    }
   },
   "outputs": [],
   "source": [
    "Create a function that returns a villain name based on the user's birthday.\n",
    "The birthday will be passed to the function as a valid Date object, so for simplicity, there's no need to worry about converting strings to dates.\n",
    "The first name will come from the month, and the last name will come from the last digit of the date:\n",
    "Month -> first name\n",
    "January -> \"The Evil\"\n",
    "February -> \"The Vile\"\n",
    "March -> \"The Cruel\"\n",
    "April -> \"The Trashy\"\n",
    "May -> \"The Despicable\"\n",
    "June -> \"The Embarrassing\"\n",
    "July -> \"The Disreputable\"\n",
    "August -> \"The Atrocious\"\n",
    "September -> \"The Twirling\"\n",
    "October -> \"The Orange\"\n",
    "November -> \"The Terrifying\"\n",
    "December -> \"The Awkward\"\n",
    "Last digit of date -> last name\n",
    "0 -> \"Mustache\"\n",
    "1 -> \"Pickle\"\n",
    "2 -> \"Hood Ornament\"\n",
    "3 -> \"Raisin\"\n",
    "4 -> \"Recycling Bin\"\n",
    "5 -> \"Potato\"\n",
    "6 -> \"Tomato\"\n",
    "7 -> \"House Cat\"\n",
    "8 -> \"Teaspoon\"\n",
    "9 -> \"Laundry Basket\"\n",
    "The returned value should be a string in the form of \"First Name Last Name\".\n",
    "\n",
    "For example, a birthday of November 18 would return \"The Terrifying Teaspoon\"\n",
    "\n",
    "def get_villain_name(birthdate): \n",
    "    first = [ \"The Evil\",\"The Vile\",\"The Cruel\", \"The Trashy\",\"The Despicable\", \"The Embarrassing\", \"The Disreputable\",\"The Atrocious\", \"The Twirling\",  \"The Orange\",\"The Terrifying\", \"The Awkward\"]\n",
    "    last = [\"Mustache\", \"Pickle\", \"Hood Ornament\", \"Raisin\", \"Recycling Bin\", \"Potato\", \"Tomato\", \"House Cat\", \"Teaspoon\", \"Laundry Basket\"]\n",
    "    # your code here\n",
    "    print(len(last))\n",
    "    a=birthdate.month\n",
    "    print(a)\n",
    "    b=birthdate.day\n",
    "    print(b)\n",
    "    return   first[a-1]+' '+last[int(str(b)[-1]) ]\n",
    "\n",
    "\n",
    "\n",
    "\n",
    "def get_villain_name(birthdate): \n",
    "    first = [ \"The Evil\",\"The Vile\",\"The Cruel\", \"The Trashy\",\"The Despicable\", \"The Embarrassing\", \"The Disreputable\",\"The Atrocious\", \"The Twirling\",  \"The Orange\",\"The Terrifying\", \"The Awkward\"]\n",
    "    last = [\"Mustache\", \"Pickle\", \"Hood Ornament\", \"Raisin\", \"Recycling Bin\", \"Potato\", \"Tomato\", \"House Cat\", \"Teaspoon\", \"Laundry Basket\"]\n",
    "    # your code here\n",
    "    return first[birthdate.month - 1] + ' ' + last[int(str(birthdate.day)[-1])]\n",
    "\n",
    "\n",
    "\n",
    "\n",
    "\n",
    "\n",
    "def get_villain_name(birthdate): \n",
    "    first = [ \"The Evil\",\"The Vile\",\"The Cruel\", \"The Trashy\",\"The Despicable\", \"The Embarrassing\", \"The Disreputable\",\"The Atrocious\", \"The Twirling\",  \"The Orange\",\"The Terrifying\", \"The Awkward\"]\n",
    "    last = [\"Mustache\", \"Pickle\", \"Hood Ornament\", \"Raisin\", \"Recycling Bin\", \"Potato\", \"Tomato\", \"House Cat\", \"Teaspoon\", \"Laundry Basket\"]\n",
    "    return f\"{first[birthdate.month-1]} {last[birthdate.day%10]}\"\n",
    "\n",
    "\n",
    "\n",
    "\n",
    "\n",
    "FIRST = [ \"The Evil\",\"The Vile\",\"The Cruel\", \"The Trashy\",\"The Despicable\", \"The Embarrassing\", \"The Disreputable\",\"The Atrocious\", \"The Twirling\",  \"The Orange\",\"The Terrifying\", \"The Awkward\"]\n",
    "LAST  = [\"Mustache\", \"Pickle\", \"Hood Ornament\", \"Raisin\", \"Recycling Bin\", \"Potato\", \"Tomato\", \"House Cat\", \"Teaspoon\", \"Laundry Basket\"]\n",
    "\n",
    "def get_villain_name(d): \n",
    "    return f\"{ FIRST[d.month-1] } { LAST[d.day%10] }\""
   ]
  }
 ],
 "metadata": {
  "kernelspec": {
   "display_name": "Python 3",
   "language": "python",
   "name": "python3"
  },
  "language_info": {
   "codemirror_mode": {
    "name": "ipython",
    "version": 3
   },
   "file_extension": ".py",
   "mimetype": "text/x-python",
   "name": "python",
   "nbconvert_exporter": "python",
   "pygments_lexer": "ipython3",
   "version": "3.7.6"
  }
 },
 "nbformat": 4,
 "nbformat_minor": 4
}
