{
 "cells": [
  {
   "cell_type": "code",
   "execution_count": null,
   "metadata": {},
   "outputs": [],
   "source": [
    "Find the last element of the given argument(s).\n",
    "Examples\n",
    "last([1, 2, 3, 4]) ==>  4\n",
    "last(\"xyz\")        ==> \"z\"\n",
    "last(1, 2, 3, 4)   ==>  4\n",
    "In javascript and CoffeeScript a list will be an array, a string or the list of arguments.\n",
    "(courtesy of haskell.org)\n",
    "\n",
    "\n",
    "\n",
    "def last(*args):\n",
    "    print(args)\n",
    "    print(len(args))\n",
    "    print(type(args[0]))\n",
    "    \n",
    "    if len(args)==1:\n",
    "        if type(args[0])==list or type(args[0])==str: return args[-1][-1]\n",
    "    \n",
    "    return args[-1]\n",
    "\n",
    "\n",
    "\n",
    "def last(*args): \n",
    "    try:\n",
    "        return args[-1][-1]\n",
    "    except:\n",
    "        return args[-1]"
   ]
  }
 ],
 "metadata": {
  "kernelspec": {
   "display_name": "Python 3",
   "language": "python",
   "name": "python3"
  },
  "language_info": {
   "codemirror_mode": {
    "name": "ipython",
    "version": 3
   },
   "file_extension": ".py",
   "mimetype": "text/x-python",
   "name": "python",
   "nbconvert_exporter": "python",
   "pygments_lexer": "ipython3",
   "version": "3.7.6"
  }
 },
 "nbformat": 4,
 "nbformat_minor": 4
}
