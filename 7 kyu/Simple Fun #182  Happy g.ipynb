{
 "cells": [
  {
   "cell_type": "code",
   "execution_count": null,
   "metadata": {
    "ExecuteTime": {
     "end_time": "2021-06-21T22:03:52.068375Z",
     "start_time": "2021-06-21T22:03:51.026859Z"
    }
   },
   "outputs": [],
   "source": [
    "Task\n",
    "Let's say that \"g\" is happy in the given string, if there is another \"g\" immediately to the right or to the left of it.\n",
    "\n",
    "Find out if all \"g\"s in the given string are happy.\n",
    "\n",
    "Example\n",
    "For str = \"gg0gg3gg0gg\", the output should be true.\n",
    "\n",
    "For str = \"gog\", the output should be false.\n",
    "\n",
    "Input/Output\n",
    "[input] string str\n",
    "A random string of lower case letters, numbers and spaces.\n",
    "\n",
    "[output] a boolean value\n",
    "true if all \"g\"s are happy, false otherwise.\n",
    "\n",
    "\n",
    "\n",
    "from itertools import groupby\n",
    "def happy_g(s):\n",
    "    print(s)\n",
    "    for x,y in groupby(s):\n",
    "        print(x)\n",
    "        if x!='g':continue\n",
    "        elif x=='g':\n",
    "            if   list(y).count('g')<2:return False\n",
    "    return True   \n",
    "\n",
    "\n",
    "\n",
    "\n",
    "from itertools import groupby\n",
    "\n",
    "def happy_g(s):\n",
    "    return all(c != 'g' or sum(1 for _ in g) > 1 for c, g in groupby(s))\n",
    "\n",
    "\n",
    "def happy_g(s):\n",
    "    for i in range(len(s)):\n",
    "        if s[i]=='g':\n",
    "            if i>0 and s[i-1]=='g': continue\n",
    "            if i+1<len(s) and s[i+1]=='g': continue\n",
    "            return False\n",
    "    return True\n",
    "\n",
    "\n"
   ]
  }
 ],
 "metadata": {
  "kernelspec": {
   "display_name": "Python 3",
   "language": "python",
   "name": "python3"
  },
  "language_info": {
   "codemirror_mode": {
    "name": "ipython",
    "version": 3
   },
   "file_extension": ".py",
   "mimetype": "text/x-python",
   "name": "python",
   "nbconvert_exporter": "python",
   "pygments_lexer": "ipython3",
   "version": "3.7.6"
  }
 },
 "nbformat": 4,
 "nbformat_minor": 4
}
