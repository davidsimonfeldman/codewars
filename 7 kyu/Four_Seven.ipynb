{
 "cells": [
  {
   "cell_type": "code",
   "execution_count": null,
   "metadata": {
    "ExecuteTime": {
     "end_time": "2021-06-21T22:03:52.068375Z",
     "start_time": "2021-06-21T22:03:51.026859Z"
    }
   },
   "outputs": [],
   "source": [
    "Four Seven\n",
    "Simple kata, simple rules: your function should accept the inputs 4 and 7. If 4 is entered, the function should return 7. If 7 is entered, the function should return 4. Anything else entered as input should return a false-y value such as False, 0, [], \"\". There's only one catch, your function cannot include if statements (or the eval function due to the fact that you can get around the if requirement using it).\n",
    "\n",
    "There are some very simple ways of answering this problem, but I encourage you to try and be as creative as possible.\n",
    "\n",
    "Good Luck!\n",
    "\n",
    "\n",
    "\n",
    "def solution(n):\n",
    "    print(n)\n",
    "    while str(n) not in '47':    return False\n",
    "    while str(n)==4 or (n)==4: return 7\n",
    "    while str(n)==7 or (n)==7: return 4\n",
    "    \n",
    "    \n",
    "def solution(n):\n",
    "    return {4:7, 7:4}.get(n)\n",
    "\n",
    "\n",
    "solution = {4:7, 7:4}.get\n",
    "\n",
    "\n",
    "def solution(n):\n",
    "    return 4*(n==7) + 7*(n==4)\n",
    "\n",
    "\n",
    "\n",
    "def solution(n):\n",
    "    while n==7:\n",
    "        return 4\n",
    "        break\n",
    "    while n==4:\n",
    "        return 7\n",
    "        break\n",
    "    return False    "
   ]
  }
 ],
 "metadata": {
  "kernelspec": {
   "display_name": "Python 3",
   "language": "python",
   "name": "python3"
  },
  "language_info": {
   "codemirror_mode": {
    "name": "ipython",
    "version": 3
   },
   "file_extension": ".py",
   "mimetype": "text/x-python",
   "name": "python",
   "nbconvert_exporter": "python",
   "pygments_lexer": "ipython3",
   "version": "3.7.6"
  }
 },
 "nbformat": 4,
 "nbformat_minor": 4
}
