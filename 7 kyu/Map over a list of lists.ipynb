{
 "cells": [
  {
   "cell_type": "code",
   "execution_count": null,
   "metadata": {},
   "outputs": [],
   "source": [
    "Write a function which maps a function over the lists in a list:\n",
    "\n",
    "def grid_map(inp, op)\n",
    "    # which performs op(element) for all elements of inp\n",
    "Example 1:\n",
    "\n",
    "x = [[1,2,3],\n",
    "     [4,5,6]]\n",
    "     \n",
    "grid_map(x, lambda x: x + 1)\n",
    "-- returns [[2,3,4],[5,6,7]]\n",
    "\n",
    "grid_map(x, lambda x: x ** 2)\n",
    "-- returns [[1,4,9],[16,25,36]]\n",
    "Example 2\n",
    "\n",
    "x = [['h', 'E', 'l', 'l', 'O'], ['w', 'O', 'r', 'L', 'd']]\n",
    "grid_map(x, lambda x: x.upper())\n",
    "-- returns [['H', 'E', 'L', 'L', 'O'], ['W', 'O', 'R', 'L', 'D']]\n",
    "\n",
    "\n",
    "def grid_map(inp, op):\n",
    "    # your code here\n",
    "    return [list(map(op,i)) for i in inp ]  "
   ]
  }
 ],
 "metadata": {
  "kernelspec": {
   "display_name": "Python 3",
   "language": "python",
   "name": "python3"
  },
  "language_info": {
   "codemirror_mode": {
    "name": "ipython",
    "version": 3
   },
   "file_extension": ".py",
   "mimetype": "text/x-python",
   "name": "python",
   "nbconvert_exporter": "python",
   "pygments_lexer": "ipython3",
   "version": "3.7.6"
  }
 },
 "nbformat": 4,
 "nbformat_minor": 4
}
