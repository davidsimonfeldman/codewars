{
 "cells": [
  {
   "cell_type": "code",
   "execution_count": null,
   "metadata": {},
   "outputs": [],
   "source": [
    "You're given an ancient book that unfortunately has a few pages in the wrong position, fortunately your computer has a list of every page number in order from 1 to n.\n",
    "\n",
    "You're supplied with an array of numbers, and should return an array with each page number that is out of place. Incorrect page numbers will not appear next to each other.\n",
    "Duplicate incorrect page numbers are possible.\n",
    "\n",
    "Example:\n",
    "\n",
    "\n",
    "Return: [10,8]\n",
    "\n",
    "Your returning list should have the incorrect page numbers in the order they were found.\n",
    "\n",
    "\n",
    "\n",
    "def find_page_number(p):\n",
    "    print(p)\n",
    "    a=1\n",
    "    l=[]\n",
    "    for x in p:\n",
    "        if x!=a:\n",
    "            l.append(x)\n",
    "        else:a+=1    \n",
    "    print(l)\n",
    "    return l \n",
    "\n",
    "\n",
    "\n",
    "def find_page_number(pages):\n",
    "    n, miss = 1, []\n",
    "    for i in pages:\n",
    "        if i!=n: miss.append(i)\n",
    "        else:    n+=1\n",
    "    return miss"
   ]
  }
 ],
 "metadata": {
  "kernelspec": {
   "display_name": "Python 3",
   "language": "python",
   "name": "python3"
  },
  "language_info": {
   "codemirror_mode": {
    "name": "ipython",
    "version": 3
   },
   "file_extension": ".py",
   "mimetype": "text/x-python",
   "name": "python",
   "nbconvert_exporter": "python",
   "pygments_lexer": "ipython3",
   "version": "3.7.6"
  }
 },
 "nbformat": 4,
 "nbformat_minor": 4
}
