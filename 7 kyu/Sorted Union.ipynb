{
 "cells": [
  {
   "cell_type": "code",
   "execution_count": null,
   "metadata": {},
   "outputs": [],
   "source": [
    "Write a function that takes one or more arrays and returns a new array of unique values in the order of the original provided arrays.\n",
    "\n",
    "In other words, all values present from all arrays should be included in their original order, but with no duplicates in the final array.\n",
    "\n",
    "The unique numbers should be sorted by their original order, but the final array should not be sorted in numerical order.\n",
    "\n",
    "Check the assertion tests for examples.\n",
    "\n",
    "Courtesy of FreeCodeCamp, a great place to learn web-dev; plus, its founder Quincy Larson is pretty cool and amicable. I made the original one slightly more tricky ;)\n",
    "\n",
    "\n",
    "def unite_unique(*args):\n",
    "    #your code here\n",
    "    print( args)\n",
    "    a=[]\n",
    "    for x in  (args):\n",
    "        for y in x:\n",
    "            if y not in a:\n",
    "                a.append(y)\n",
    "    return a \n",
    "\n",
    "\n",
    "\n",
    "from collections import OrderedDict\n",
    "\n",
    "\n",
    "def unite_unique(*xss):\n",
    "    return list(OrderedDict.fromkeys(x for xs in xss for x in xs))"
   ]
  }
 ],
 "metadata": {
  "kernelspec": {
   "display_name": "Python 3",
   "language": "python",
   "name": "python3"
  },
  "language_info": {
   "codemirror_mode": {
    "name": "ipython",
    "version": 3
   },
   "file_extension": ".py",
   "mimetype": "text/x-python",
   "name": "python",
   "nbconvert_exporter": "python",
   "pygments_lexer": "ipython3",
   "version": "3.7.6"
  }
 },
 "nbformat": 4,
 "nbformat_minor": 4
}
