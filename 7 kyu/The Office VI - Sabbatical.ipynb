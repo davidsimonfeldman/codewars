{
 "cells": [
  {
   "cell_type": "code",
   "execution_count": null,
   "metadata": {},
   "outputs": [],
   "source": [
    "Learning to code around your full time job is taking over your life.\n",
    "You realise that in order to make significant steps quickly, it would help to go to a coding bootcamp in London.\n",
    "Problem is, many of them cost a fortune, and those that don't still involve a significant amount of time off work - who will pay your mortgage?!\n",
    "To offset this risk, you decide that rather than leaving work totally, you will request a sabbatical so that you can go back to work post \n",
    "bootcamp and be paid while you look for your next role.\n",
    "You need to approach your boss. Her decision will be based on three parameters:\n",
    "val=your value to the organisation\n",
    "happiness=her happiness level at the time of asking and finally\n",
    "The numbers of letters from 'sabbatical' that are present in string s.\n",
    "Note that if s contains three instances of the letter 'l', that still scores three points, even though there is only one in the word sabbatical.\n",
    "If the sum of the three parameters (as described above) is > 22, return 'Sabbatical! Boom!', else return 'Back to your desk, boy.'.\n",
    "\n",
    "def sabb(s, val, h):\n",
    "    print(s, val, h)\n",
    "    if val+h> 22:    return 'Sabbatical! Boom!'\n",
    "    a=0\n",
    "    for x in s: \n",
    "        if x in 'sabbatical':\n",
    "            a+=1\n",
    "    if val+h+a> 22:    return 'Sabbatical! Boom!'        \n",
    "    return \"Back to your desk, boy.\"\n",
    "\n",
    "\n",
    "\n",
    "\n",
    "def sabb(stg, value, happiness):\n",
    "    sabbatical = (value + happiness + sum(1 for c in stg if c in \"sabbatical\")) > 22\n",
    "    return \"Sabbatical! Boom!\" if sabbatical else \"Back to your desk, boy.\"\n",
    "\n",
    "\n",
    "def sabb(s, value, happiness):\n",
    "    score = sum(c in \"sabticl\" for c in s.lower()) + value + happiness\n",
    "    return \"Sabbatical! Boom!\" if score > 22 else \"Back to your desk, boy.\""
   ]
  }
 ],
 "metadata": {
  "kernelspec": {
   "display_name": "Python 3",
   "language": "python",
   "name": "python3"
  },
  "language_info": {
   "codemirror_mode": {
    "name": "ipython",
    "version": 3
   },
   "file_extension": ".py",
   "mimetype": "text/x-python",
   "name": "python",
   "nbconvert_exporter": "python",
   "pygments_lexer": "ipython3",
   "version": "3.7.6"
  }
 },
 "nbformat": 4,
 "nbformat_minor": 4
}
