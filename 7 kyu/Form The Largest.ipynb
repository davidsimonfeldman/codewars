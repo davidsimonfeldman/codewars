{
 "cells": [
  {
   "cell_type": "code",
   "execution_count": null,
   "metadata": {},
   "outputs": [],
   "source": [
    "Task\n",
    "Given a number , Return _The Maximum number _ could be formed from the digits of the number given .\n",
    "Notes\n",
    "Only Natural numbers passed to the function , numbers Contain digits [0:9] inclusive\n",
    "Digit Duplications could occur , So also consider it when forming the Largest\n",
    "Input >> Output Examples:\n",
    "maxNumber (213) ==> return (321)\n",
    "Explanation:\n",
    "As 321 is _The Maximum number _ could be formed from the digits of the number 213 .\n",
    "maxNumber (7389) ==> return (9873)\n",
    "Explanation:\n",
    "As 9873 is _The Maximum number _ could be formed from the digits of the number 7389 .\n",
    "maxNumber (63729) ==> return (97632)\n",
    "Explanation:\n",
    "As 97632 is _The Maximum number _ could be formed from the digits of the number 63729 .\n",
    "maxNumber (566797) ==> return (977665)\n",
    "Explanation:\n",
    "As 977665 is _The Maximum number _ could be formed from the digits of the number 566797 .\n",
    "Note : Digit duplications are considered when forming the largest .\n",
    "maxNumber (17693284) ==> return (98764321)\n",
    "Explanation:\n",
    "As 98764321 is _The Maximum number _ could be formed from the digits of the number 17693284 .\n",
    "\n",
    "\n",
    "\n",
    "def max_number(n):\n",
    "    #your code here\n",
    "    return int(''.join(sorted(list(str(n)),reverse=True)))\n",
    "\n",
    "\n",
    "def max_number(n):\n",
    "    return int(\"\".join(sorted(str(n))[::-1]))"
   ]
  }
 ],
 "metadata": {
  "kernelspec": {
   "display_name": "Python 3",
   "language": "python",
   "name": "python3"
  },
  "language_info": {
   "codemirror_mode": {
    "name": "ipython",
    "version": 3
   },
   "file_extension": ".py",
   "mimetype": "text/x-python",
   "name": "python",
   "nbconvert_exporter": "python",
   "pygments_lexer": "ipython3",
   "version": "3.7.6"
  }
 },
 "nbformat": 4,
 "nbformat_minor": 4
}
