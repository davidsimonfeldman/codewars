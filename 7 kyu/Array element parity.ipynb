{
 "cells": [
  {
   "cell_type": "code",
   "execution_count": null,
   "metadata": {},
   "outputs": [],
   "source": [
    "In this Kata, you will be given an array of integers whose elements have both a negative and a positive value, except for one integer that is either only negative or only positive. \n",
    "Your task will be to find that integer.\n",
    "Examples:\n",
    "[1, -1, 2, -2, 3] => 3\n",
    "3 has no matching negative appearance\n",
    "[-3, 1, 2, 3, -1, -4, -2] => -4\n",
    "-4 has no matching positive appearance\n",
    "[1, -1, 2, -2, 3, 3] => 3\n",
    "(the only-positive or only-negative integer may appear more than once)\n",
    "Good luck!\n",
    "\n",
    "\n",
    "\n",
    "def solve(arr):\n",
    "    for x in arr:\n",
    "        if -x not in arr: return x\n",
    "\n",
    "        \n",
    "def solve(a):\n",
    "    return sum(set(a))\n",
    "\n",
    "def solve(arr):\n",
    "    return [i for i in arr if -i not in arr][0]        "
   ]
  }
 ],
 "metadata": {
  "kernelspec": {
   "display_name": "Python 3",
   "language": "python",
   "name": "python3"
  },
  "language_info": {
   "codemirror_mode": {
    "name": "ipython",
    "version": 3
   },
   "file_extension": ".py",
   "mimetype": "text/x-python",
   "name": "python",
   "nbconvert_exporter": "python",
   "pygments_lexer": "ipython3",
   "version": "3.7.6"
  }
 },
 "nbformat": 4,
 "nbformat_minor": 4
}
