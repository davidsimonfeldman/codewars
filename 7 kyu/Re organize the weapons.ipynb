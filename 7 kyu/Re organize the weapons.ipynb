{
 "cells": [
  {
   "cell_type": "code",
   "execution_count": null,
   "metadata": {},
   "outputs": [],
   "source": [
    "The characters of Chima need your help. \n",
    "Their weapons got mixed up! They need you to write a program that accepts the name of a character in Chima then tells which weapon he/she owns.\n",
    "For example: for the character \"Laval\" your program should return the solution \"Laval-Shado Valious\"\n",
    "You must complete the following character-weapon pairs:\n",
    "\n",
    "Laval-Shado Valious,\n",
    "Cragger-Vengdualize,\n",
    "Lagravis-Blazeprowlor,\n",
    "Crominus-Grandorius,\n",
    "Tormak-Tygafyre,\n",
    "LiElla-Roarburn.\n",
    "Return \"Not a character\" for invalid inputs.\n",
    "\n",
    "\n",
    "def identify_weapon(character):\n",
    "    #insert your code here...FOR CHIMA!\n",
    "    dic = {\"Laval\"   :\"Laval-Shado Valious\",\n",
    "             \"Cragger\" :\"Cragger-Vengdualize\",\n",
    "             \"Lagravis\":\"Lagravis-Blazeprowlor\",\n",
    "             \"Crominus\":\"Crominus-Grandorius\",\n",
    "             \"Tormak\"  :\"Tormak-Tygafyre\",\n",
    "             \"LiElla\"  :\"LiElla-Roarburn\" }\n",
    "    return dic.get(character, \"Not a character\")\n",
    "\n",
    "\n",
    "def identify_weapon(character):\n",
    "    weps = {'Laval':'Shado Valious',\n",
    "            'Cragger':'Vengdualize', \n",
    "            'Lagravis':'Blazeprowlor', \n",
    "            'Crominus':'Grandorius', \n",
    "            'Tormak':'Tygafyre', \n",
    "            'LiElla':'Roarburn'}\n",
    "    try:\n",
    "        return \"{}-{}\".format(character, weps[character])\n",
    "    except:\n",
    "        return \"Not a character\"\n"
   ]
  },
  {
   "cell_type": "code",
   "execution_count": null,
   "metadata": {
    "ExecuteTime": {
     "end_time": "2021-06-18T21:37:01.451515Z",
     "start_time": "2021-06-18T21:37:01.412513Z"
    }
   },
   "outputs": [],
   "source": []
  },
  {
   "cell_type": "code",
   "execution_count": null,
   "metadata": {},
   "outputs": [],
   "source": [
    "\n",
    "\n"
   ]
  }
 ],
 "metadata": {
  "kernelspec": {
   "display_name": "Python 3",
   "language": "python",
   "name": "python3"
  },
  "language_info": {
   "codemirror_mode": {
    "name": "ipython",
    "version": 3
   },
   "file_extension": ".py",
   "mimetype": "text/x-python",
   "name": "python",
   "nbconvert_exporter": "python",
   "pygments_lexer": "ipython3",
   "version": "3.7.6"
  }
 },
 "nbformat": 4,
 "nbformat_minor": 4
}
