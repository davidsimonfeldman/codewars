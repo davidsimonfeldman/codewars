{
 "cells": [
  {
   "cell_type": "code",
   "execution_count": null,
   "metadata": {},
   "outputs": [],
   "source": [
    "Complete the solution so that it returns true if the first argument(string) passed in ends with the 2nd argument (also a string).\n",
    "\n",
    "Examples:\n",
    "\n",
    "solution('abc', 'bc') # returns true\n",
    "solution('abc', 'd') # returns false\n",
    "\n",
    "\n",
    "def solution(string, ending):\n",
    "     \n",
    "    return string.endswith(ending)\n",
    "\n",
    "\n",
    "\n",
    "def solution(string, ending):\n",
    "    return ending in string[-len(ending):]"
   ]
  }
 ],
 "metadata": {
  "kernelspec": {
   "display_name": "Python 3",
   "language": "python",
   "name": "python3"
  },
  "language_info": {
   "codemirror_mode": {
    "name": "ipython",
    "version": 3
   },
   "file_extension": ".py",
   "mimetype": "text/x-python",
   "name": "python",
   "nbconvert_exporter": "python",
   "pygments_lexer": "ipython3",
   "version": "3.7.6"
  }
 },
 "nbformat": 4,
 "nbformat_minor": 4
}
