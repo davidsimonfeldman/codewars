{
 "cells": [
  {
   "cell_type": "code",
   "execution_count": null,
   "metadata": {
    "ExecuteTime": {
     "end_time": "2021-06-21T22:03:52.068375Z",
     "start_time": "2021-06-21T22:03:51.026859Z"
    }
   },
   "outputs": [],
   "source": [
    "Given a string, turn each character into its ASCII character code and join them together to create a number - let's call this number total1:\n",
    "\n",
    "'ABC' --> 'A' = 65, 'B' = 66, 'C' = 67 --> 656667\n",
    "Then replace any incidence of the number 7 with the number 1, and call this number 'total2':\n",
    "\n",
    "total1 = 656667\n",
    "              ^\n",
    "total2 = 656661\n",
    "              ^\n",
    "Then return the difference between the sum of the digits in total1 and total2:\n",
    "\n",
    "  (6 + 5 + 6 + 6 + 6 + 7)\n",
    "- (6 + 5 + 6 + 6 + 6 + 1)\n",
    "-------------------------\n",
    "                       6\n",
    "    \n",
    "    \n",
    "    \n",
    "def f(n):\n",
    "    r = 0\n",
    "    while n:\n",
    "        r, n = r + n % 10, n // 10\n",
    "    return r\n",
    "def calc(s):\n",
    "    if len(s)>50:  print(s,len(s))\n",
    "    a=''\n",
    "    for x in s:\n",
    "#         print(a)\n",
    "#         print('x',x,'ord(x)',ord(x))\n",
    "        a+=str(ord(x))\n",
    "    b=int(str(a).replace('7','1')   ) \n",
    "#     print(a)\n",
    "#     print(b)\n",
    "    # your code here\n",
    "    return  f(int(a))-f(int(b))    \n",
    "\n",
    "\n",
    "def calc(s):\n",
    "    total1 = ''.join(map(lambda c: str(ord(c)), s))\n",
    "    total2 = total1.replace('7', '1')\n",
    "    return sum(map(int, total1)) - sum(map(int, total2))\n",
    "\n",
    "\n",
    "\n",
    "def calc(x):\n",
    "    return ''.join(str(ord(ch)) for ch in x).count('7') * 6\n",
    "\n",
    "\n",
    "\n",
    "def calc(x):\n",
    "    total1 = \"\".join(str(ord(char)) for char in x)\n",
    "    total2 = total1.replace(\"7\",\"1\")\n",
    "    return sum(int(x) for x in total1) - sum(int(x) for x in total2)\n",
    "\n",
    "\n",
    "def calc(x):\n",
    "    return sum(6 for c in ''.join(map(str, map(ord, x))) if c== '7')"
   ]
  }
 ],
 "metadata": {
  "kernelspec": {
   "display_name": "Python 3",
   "language": "python",
   "name": "python3"
  },
  "language_info": {
   "codemirror_mode": {
    "name": "ipython",
    "version": 3
   },
   "file_extension": ".py",
   "mimetype": "text/x-python",
   "name": "python",
   "nbconvert_exporter": "python",
   "pygments_lexer": "ipython3",
   "version": "3.7.6"
  }
 },
 "nbformat": 4,
 "nbformat_minor": 4
}
