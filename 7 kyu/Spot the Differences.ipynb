{
 "cells": [
  {
   "cell_type": "code",
   "execution_count": null,
   "metadata": {},
   "outputs": [],
   "source": [
    "This kata is part of the collection Mary's Puzzle Books.\n",
    "\n",
    "Mary brought home a \"spot the differences\" book. The book is full of a bunch of problems, and each problem consists of two strings that are similar. However, in each string there are a few characters that are different. An example puzzle from her book is:\n",
    "\n",
    "String 1: \"abcdefg\"\n",
    "String 2: \"abcqetg\"\n",
    "Notice how the \"d\" from String 1 has become a \"q\" in String 2, and \"f\" from String 1 has become a \"t\" in String 2.\n",
    "\n",
    "It's your job to help Mary solve the puzzles. Write a program spot_diff/Spot that will compare the two strings and return a list with the positions where the two strings differ. In the example above, your program should return [3, 5] because String 1 is different from String 2 at positions 3 and 5.\n",
    "\n",
    "NOTES:\n",
    "\n",
    "• If both strings are the same, return []\n",
    "\n",
    "• Both strings will always be the same length\n",
    "\n",
    "• Capitalization and punctuation matter\n",
    "\n",
    "def spot_diff(s1, s2):\n",
    "    # Your code here\n",
    "    if s1==s2:return []\n",
    "    return [i  for i,x in enumerate(list(zip(s1,s2))) if x[0]!=x[1]] \n",
    "\n",
    "\n",
    "\n",
    "\n",
    "\n",
    "\n",
    "\n",
    "\n",
    "\n",
    "def spot_diff(s1, s2):\n",
    "    return [i for i in range(len(s1)) if s1[i] != s2[i]]\n"
   ]
  }
 ],
 "metadata": {
  "kernelspec": {
   "display_name": "Python 3",
   "language": "python",
   "name": "python3"
  },
  "language_info": {
   "codemirror_mode": {
    "name": "ipython",
    "version": 3
   },
   "file_extension": ".py",
   "mimetype": "text/x-python",
   "name": "python",
   "nbconvert_exporter": "python",
   "pygments_lexer": "ipython3",
   "version": "3.7.6"
  }
 },
 "nbformat": 4,
 "nbformat_minor": 4
}
