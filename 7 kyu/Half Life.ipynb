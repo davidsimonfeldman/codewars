{
 "cells": [
  {
   "cell_type": "code",
   "execution_count": null,
   "metadata": {},
   "outputs": [],
   "source": [
    "Task\n",
    "Given the birthdates of two people, find the date when the younger one is exactly half the age of the other.\n",
    "\n",
    "Notes\n",
    "The dates are given in the format YYYY-MM-DD and are not sorted in any particular order\n",
    "Round down to the nearest day\n",
    "Return the result as a string, like the input dates\n",
    "\n",
    "\n",
    "from datetime import datetime, timedelta\n",
    "def half_life(person1, person2):\n",
    "    y1, m1, d1 = list(map(int, person1.split('-')))\n",
    "    y2, m2, d2 = list(map(int, person2.split('-')))\n",
    "    p1 = datetime(y1, m1, d1)\n",
    "    p2 = datetime(y2, m2, d2)\n",
    "    print(p1)\n",
    "    print(p2)\n",
    "    a = (max(p1, p2) + timedelta(days=abs(p2-p1).days))\n",
    "    return a.strftime('%Y-%m-%d')\n",
    "\n",
    "\n",
    "\n",
    "from datetime import datetime\n",
    "\n",
    "def half_life(person1, person2):\n",
    "    person1, person2 = sorted((person1, person2))\n",
    "    p1 = datetime.strptime(person1, \"%Y-%m-%d\")\n",
    "    p2 = datetime.strptime(person2, \"%Y-%m-%d\")\n",
    "    return (p2 + (p2 - p1)).strftime(\"%Y-%m-%d\")\n",
    "\n",
    "\n",
    "from datetime import datetime\n",
    "\n",
    "def half_life(a, b):\n",
    "    a, b = [datetime.strptime(x, \"%Y-%m-%d\") for x in (a, b)]\n",
    "    return (max(a, b) + abs(a - b)).strftime(\"%Y-%m-%d\")"
   ]
  }
 ],
 "metadata": {
  "kernelspec": {
   "display_name": "Python 3",
   "language": "python",
   "name": "python3"
  },
  "language_info": {
   "codemirror_mode": {
    "name": "ipython",
    "version": 3
   },
   "file_extension": ".py",
   "mimetype": "text/x-python",
   "name": "python",
   "nbconvert_exporter": "python",
   "pygments_lexer": "ipython3",
   "version": "3.7.6"
  }
 },
 "nbformat": 4,
 "nbformat_minor": 4
}
