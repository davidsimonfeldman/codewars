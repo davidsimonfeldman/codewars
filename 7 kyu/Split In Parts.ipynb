{
 "cells": [
  {
   "cell_type": "code",
   "execution_count": null,
   "metadata": {
    "ExecuteTime": {
     "end_time": "2021-06-21T22:03:52.068375Z",
     "start_time": "2021-06-21T22:03:51.026859Z"
    }
   },
   "outputs": [],
   "source": [
    "The aim of this kata is to split a given string into different strings of equal size (note size of strings is passed to the method)\n",
    "\n",
    "Example:\n",
    "\n",
    "Split the below string into other strings of size #3\n",
    "\n",
    "'supercalifragilisticexpialidocious'\n",
    "\n",
    "Will return a new string\n",
    "'sup erc ali fra gil ist ice xpi ali doc iou s'\n",
    "Assumptions:\n",
    "\n",
    "String length is always greater than 0\n",
    "String has no spaces\n",
    "Size is always positive\n",
    "\n",
    "\n",
    "def split_in_parts(s, pl): \n",
    "    # your code here\n",
    "    a=[]\n",
    "    for i in range(0,len(s),pl):\n",
    "        a.append(s[i:i+pl])\n",
    "    return ' '.join(a)  \n",
    "\n",
    "\n",
    "\n",
    "\n",
    "def split_in_parts(s, n): \n",
    "    return ' '.join([s[i:i+n] for i in range(0, len(s), n)])\n",
    "\n",
    "\n",
    "\n",
    "def split_in_parts(s, p): \n",
    "    return ' '.join(s[i:i+p] for i in range(0,len(s),p))"
   ]
  }
 ],
 "metadata": {
  "kernelspec": {
   "display_name": "Python 3",
   "language": "python",
   "name": "python3"
  },
  "language_info": {
   "codemirror_mode": {
    "name": "ipython",
    "version": 3
   },
   "file_extension": ".py",
   "mimetype": "text/x-python",
   "name": "python",
   "nbconvert_exporter": "python",
   "pygments_lexer": "ipython3",
   "version": "3.7.6"
  }
 },
 "nbformat": 4,
 "nbformat_minor": 4
}
