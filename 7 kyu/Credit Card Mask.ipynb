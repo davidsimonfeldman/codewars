{
 "cells": [
  {
   "cell_type": "code",
   "execution_count": null,
   "metadata": {
    "ExecuteTime": {
     "end_time": "2021-06-21T22:03:52.068375Z",
     "start_time": "2021-06-21T22:03:51.026859Z"
    }
   },
   "outputs": [],
   "source": [
    "Usually when you buy something, you're asked whether your credit card number, phone number or answer to your most secret question is still correct.\n",
    "However, since someone could look over your shoulder, you don't want that shown on your screen. Instead, we mask it.\n",
    "Your task is to write a function maskify, which changes all but the last four characters into '#'.\n",
    "Examples\n",
    "maskify(\"4556364607935616\") == \"############5616\"\n",
    "maskify(     \"64607935616\") ==      \"#######5616\"\n",
    "maskify(               \"1\") ==                \"1\"\n",
    "maskify(                \"\") ==                 \"\"\n",
    "# \"What was the name of your first pet?\"\n",
    "maskify(\"Skippy\")                                   == \"##ippy\"\n",
    "maskify(\"Nananananananananananananananana Batman!\") == \"####################################man!\"\n",
    "\n",
    "\n",
    "def maskify(cc):\n",
    "    print(cc[-4:])\n",
    "    return (len(cc)-4)*'#'+cc[-4:]\n",
    "\n",
    "\n",
    "\n",
    "# return masked string\n",
    "def maskify(cc):\n",
    "    l = len(cc)\n",
    "    if l <= 4: return cc\n",
    "    return (l - 4) * '#' + cc[-4:]\n",
    "    \n",
    "\n",
    "    \n",
    "4 similar code variations are grouped with this oneShow Variations\n",
    "\n",
    "Best Practices84Clever58\n",
    "1ForkCompare with your solutionLink\n",
    "anikitenkov\n",
    "# return masked string\n",
    "def maskify(cc):\n",
    "    return '{message:#>{fill}}'.format(message=cc[-4:], fill=len(cc))"
   ]
  }
 ],
 "metadata": {
  "kernelspec": {
   "display_name": "Python 3",
   "language": "python",
   "name": "python3"
  },
  "language_info": {
   "codemirror_mode": {
    "name": "ipython",
    "version": 3
   },
   "file_extension": ".py",
   "mimetype": "text/x-python",
   "name": "python",
   "nbconvert_exporter": "python",
   "pygments_lexer": "ipython3",
   "version": "3.7.6"
  }
 },
 "nbformat": 4,
 "nbformat_minor": 4
}
