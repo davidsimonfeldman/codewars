{
 "cells": [
  {
   "cell_type": "code",
   "execution_count": null,
   "metadata": {},
   "outputs": [],
   "source": [
    "Description\n",
    "Given a number n, you should find a set of numbers for which the sum equals n.\n",
    "This set must consist exclusively of values that are a power of 2 (eg: 2^0 => 1, 2^1 => 2, 2^2 => 4, ...).\n",
    "The function powers takes a single parameter, the number n, and should return an array of unique numbers.\n",
    "Criteria\n",
    "The function will always receive a valid input: any positive integer between 1 and the max integer value\n",
    "for your language (eg: for JavaScript this would be 9007199254740991 otherwise known as Number.MAX_SAFE_INTEGER).\n",
    "The function should return an array of numbers that are a power of 2 (2^x = y).\n",
    "Each member of the returned array should be unique. (eg: the valid answer for powers(2) is [2], not [1, 1])\n",
    "Members should be sorted in ascending order (small -> large). (eg: the valid answer for powers(6) is [2, 4], not [4, 2])\n",
    "\n",
    "\n",
    "# return an array of numbers (that are a power of 2)\n",
    "# for which the input \"n\" is the sum\n",
    "def powers(n):\n",
    "    a = bin(n)[2:][::-1]\n",
    "    print(a)\n",
    "    b=[]\n",
    "    for x,y in enumerate(a):\n",
    "        if y=='1':\n",
    "            b.append(2**int(x))\n",
    "    return b   \n",
    "\n",
    "\n",
    "def powers(n):\n",
    "    return [2**i for i, d in enumerate(f\"{n:b}\"[::-1]) if d == \"1\"]\n",
    "\n",
    "\n",
    "def powers(n):\n",
    "    return [1<<i for i, x in enumerate(reversed(bin(n))) if x == \"1\"]\n",
    "\n",
    "\n",
    "# return an array of numbers (that are a power of 2)\n",
    "# for which the input \"n\" is the sum\n",
    "def powers(n):\n",
    "    s = bin(n)[::-1]\n",
    "    return [2**i for i, x in enumerate(s) if x == '1']"
   ]
  }
 ],
 "metadata": {
  "kernelspec": {
   "display_name": "Python 3",
   "language": "python",
   "name": "python3"
  },
  "language_info": {
   "codemirror_mode": {
    "name": "ipython",
    "version": 3
   },
   "file_extension": ".py",
   "mimetype": "text/x-python",
   "name": "python",
   "nbconvert_exporter": "python",
   "pygments_lexer": "ipython3",
   "version": "3.7.6"
  }
 },
 "nbformat": 4,
 "nbformat_minor": 4
}
