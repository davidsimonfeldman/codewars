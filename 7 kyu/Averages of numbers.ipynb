{
 "cells": [
  {
   "cell_type": "code",
   "execution_count": 12,
   "metadata": {
    "ExecuteTime": {
     "end_time": "2021-06-22T06:17:27.032293Z",
     "start_time": "2021-06-22T06:17:27.020308Z"
    }
   },
   "outputs": [],
   "source": [
    "#Get the averages of these numbers\n",
    "\n",
    "Write a method, that gets an array of integer-numbers and return an array of the averages of each integer-number and his follower, if there is one.\n",
    "\n",
    "Example:\n",
    "\n",
    "Input:  [ 1, 3, 5, 1, -10]\n",
    "Output:  [ 2, 4, 3, -4.5]\n",
    "If the array has 0 or 1 values or is null, your method should return an empty array.\n",
    "Have fun coding it and please don't forget to vote and rank this kata! :-)\n",
    "\n",
    "\n",
    "def averages(arr):\n",
    "    print(arr)\n",
    "    if not arr:return []\n",
    "    if len(arr)<2:return []\n",
    "    a=[]\n",
    "    for i in range(len(arr)-1):\n",
    "        a.append((arr[i]+arr[i+1])/ 2)\n",
    "    return a  \n",
    "\n",
    "\n",
    "\n",
    "\n",
    "def averages(arr):\n",
    "    return [(arr[x]+arr[x+1])/2 for x in range(len(arr or [])-1)]\n",
    "\n",
    "\n",
    "\n",
    "\n",
    "def averages(arr):\n",
    "    if arr:\n",
    "        return list(map(lambda x,y: (x+y)/2, arr, arr[1:]))\n",
    "    else:\n",
    "        return []\n"
   ]
  },
  {
   "cell_type": "code",
   "execution_count": 10,
   "metadata": {
    "ExecuteTime": {
     "end_time": "2021-06-22T06:16:42.181700Z",
     "start_time": "2021-06-22T06:16:42.150759Z"
    }
   },
   "outputs": [
    {
     "name": "stdout",
     "output_type": "stream",
     "text": [
      "[1, 3, 5, 1, -10, 4, 9, 1, 5, 12, 32, 4, 3, 43, 9, 34, 1, 312, 32, 111, 3, 6, 0, 76]\n"
     ]
    },
    {
     "data": {
      "text/plain": [
       "[2.0,\n",
       " 4.0,\n",
       " 3.0,\n",
       " -4.5,\n",
       " -3.0,\n",
       " 6.5,\n",
       " 5.0,\n",
       " 3.0,\n",
       " 8.5,\n",
       " 22.0,\n",
       " 18.0,\n",
       " 3.5,\n",
       " 23.0,\n",
       " 26.0,\n",
       " 21.5,\n",
       " 17.5,\n",
       " 156.5,\n",
       " 172.0,\n",
       " 71.5,\n",
       " 57.0,\n",
       " 4.5,\n",
       " 3.0,\n",
       " 38.0]"
      ]
     },
     "execution_count": 10,
     "metadata": {},
     "output_type": "execute_result"
    }
   ],
   "source": [
    "def averages(arr):\n",
    "    print(arr)\n",
    "    if not arr:return []\n",
    "    if len(arr)<2:return []\n",
    "    a=[]\n",
    "    for i in range(len(arr)-1):\n",
    "        a.append((arr[i]+arr[i+1])/ 2)\n",
    "         \n",
    "    return a  \n",
    "averages ([ 1, 3, 5, 1, -10,4,9,1,5,12,32,4,3,43,9,34,1,312,32,111,3,6,0,76])"
   ]
  },
  {
   "cell_type": "code",
   "execution_count": null,
   "metadata": {},
   "outputs": [],
   "source": []
  }
 ],
 "metadata": {
  "kernelspec": {
   "display_name": "Python 3",
   "language": "python",
   "name": "python3"
  },
  "language_info": {
   "codemirror_mode": {
    "name": "ipython",
    "version": 3
   },
   "file_extension": ".py",
   "mimetype": "text/x-python",
   "name": "python",
   "nbconvert_exporter": "python",
   "pygments_lexer": "ipython3",
   "version": "3.7.6"
  }
 },
 "nbformat": 4,
 "nbformat_minor": 4
}
