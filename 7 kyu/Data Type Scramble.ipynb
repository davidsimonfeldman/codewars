{
 "cells": [
  {
   "cell_type": "code",
   "execution_count": null,
   "metadata": {},
   "outputs": [],
   "source": [
    "Oh no! Someone left the server at your local car dealership too close to a blender and now all of their data is scrambled.\n",
    "\n",
    "It is your job to unscramble the data and put it into an easy to read dictionary.\n",
    "\n",
    "Unscramble the list you are given and return the values in a dictionary such as the following:\n",
    "\n",
    "dictionary = {'make': make, 'model': model, 'year': year, 'new': new}\n",
    "You will be given a list containing a string (the make of the car), a tuple containing two strings (the model and sub-model), an integer (the year the car was manufactured) and a boolean (whether the car is new or used 'True' or 'False'), but you will not know the order of the list.\n",
    "\n",
    "Return the dictionary where 'make' is a String, 'model' is a String, 'year' is an integer, and 'new' is a boolean of whether it is new (True) or used (False)\n",
    "\n",
    "P.S Model should be converted to a string, separating the values by one Space\n",
    "\n",
    "\n",
    "\n",
    "def make_model_year(lst):\n",
    "    a=dict()\n",
    "    for x in lst:\n",
    "        if type(x)==tuple:\n",
    "            a['model']=x[0]+' '+x[1]\n",
    "        if type(x)==int:\n",
    "            a['year']=x \n",
    "        if type(x)==str:\n",
    "            a['make']=x \n",
    "        if type(x)==bool:\n",
    "            a['new']=x \n",
    "    key_order=['make', 'model', 'year', 'new', ]\n",
    "        \n",
    "    Ordered_Dict = {k : a[k] for k in key_order}\n",
    "                \n",
    "    return( Ordered_Dict)\n",
    "\n",
    "\n",
    "\n",
    "def make_model_year(lst):\n",
    "    new, year, make, model = sorted(lst, key=lambda i: str(type(i)))\n",
    "    return {'make':make, 'model':' '.join(model), 'year':year, 'new':new}"
   ]
  }
 ],
 "metadata": {
  "kernelspec": {
   "display_name": "Python 3",
   "language": "python",
   "name": "python3"
  },
  "language_info": {
   "codemirror_mode": {
    "name": "ipython",
    "version": 3
   },
   "file_extension": ".py",
   "mimetype": "text/x-python",
   "name": "python",
   "nbconvert_exporter": "python",
   "pygments_lexer": "ipython3",
   "version": "3.7.6"
  }
 },
 "nbformat": 4,
 "nbformat_minor": 4
}
