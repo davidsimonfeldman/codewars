{
 "cells": [
  {
   "cell_type": "code",
   "execution_count": null,
   "metadata": {},
   "outputs": [],
   "source": [
    "Task\n",
    "You need to create a function, helloWorld, that will return the String Hello, World! without actually using raw strings. \n",
    "This includes quotes, double quotes and template strings. You can, however, use the String constructor and any related functions.\n",
    "You cannot use the following:\n",
    "\"Hello, World!\"\n",
    "'Hello, World!'\n",
    "`Hello, World!`\n",
    "Good luck and try to be as creative as possible!\n",
    "\n",
    "\n",
    "def hello_world():\n",
    "    # Remember, no strings!\n",
    "    a = list(map(chr, [72, 101, 108, 108, 111, 44, 32, 87, 111, 114, 108, 100, 33]))\n",
    "    print((a))\n",
    "    \n",
    "    return a[0] + a[1] + a[2] + a[3] + a[4] + a[5] + a[6] +a[7] +a[8] +a[9] +a[10] +a[11] +a[12]\n",
    "\n",
    "\n",
    "def hello_world():\n",
    "  return chr(72) + chr(101) + chr(108) + chr(108) + chr(111) + chr(44) + chr(32) + chr(87) + chr(111) + chr(114) + chr(108) + chr(100) + chr(33)\n",
    "\n",
    "\n",
    "def hello_world():\n",
    "    return str().join([chr(x) for x in [72, 101, 108, 108, 111,44,32, 87, 111, 114, 108, 100, 33]])"
   ]
  }
 ],
 "metadata": {
  "kernelspec": {
   "display_name": "Python 3",
   "language": "python",
   "name": "python3"
  },
  "language_info": {
   "codemirror_mode": {
    "name": "ipython",
    "version": 3
   },
   "file_extension": ".py",
   "mimetype": "text/x-python",
   "name": "python",
   "nbconvert_exporter": "python",
   "pygments_lexer": "ipython3",
   "version": "3.7.6"
  }
 },
 "nbformat": 4,
 "nbformat_minor": 4
}
