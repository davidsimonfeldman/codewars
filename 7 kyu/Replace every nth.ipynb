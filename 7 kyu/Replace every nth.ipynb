{
 "cells": [
  {
   "cell_type": "code",
   "execution_count": null,
   "metadata": {},
   "outputs": [],
   "source": [
    "Task\n",
    "Write a method, that replaces every nth char oldValue with char newValue.\n",
    "\n",
    "Method:\n",
    "\n",
    "replace_nth(text, int, old, new)\n",
    "Example:\n",
    "n:         2\n",
    "oldValue: 'a'\n",
    "newValue: 'o'\n",
    "\"Vader said: No, I am your father!\" -> \"Vader soid: No, I am your fother!\"\n",
    "  1     2          3        4       -> 2nd and 4th occurence are replaced\n",
    "Your method has to be case sensitive!\n",
    "\n",
    "As you can see in the example: The first changed is the 2nd 'a'. So the start is always at the nth suitable char and not at the first!\n",
    "\n",
    "If n is 0 or negative or if it is larger than the count of the oldValue, return the original text without a change.\n",
    "\n",
    "The text and the chars will never be null.\n",
    "\n",
    "Have fun coding it and please don't forget to vote and rank this kata! :-)\n",
    "\n",
    "I have created other katas. Have a look if you like coding and challenges.\n",
    "\n",
    "\n",
    "\n",
    "\n",
    "def replace_nth(text, n, old, new):\n",
    "    print(text, n, old, new)\n",
    "    if n <  1: return text\n",
    "    a = list(text)\n",
    "    print(a)\n",
    "     \n",
    "    for i in [i for i, c in enumerate(a) if c == old][n-1::n]:\n",
    "        a[i] = new\n",
    "    return ''.join(a)\n",
    "\n",
    "\n",
    "\n",
    "\n",
    "\n",
    "\n",
    "\n",
    "def replace_nth(text, n, old, new):\n",
    "    print(text, n, old, new)\n",
    "    if n <= 0: return text\n",
    "    s = list(text)\n",
    "    print(s)\n",
    "    indexes = [i for i, c in enumerate(s) if c == old]\n",
    "    print(indexes)\n",
    "    print(indexes[n-1::n])\n",
    "    for i in indexes[n-1::n]: s[i] = new\n",
    "    return ''.join(s)\n"
   ]
  }
 ],
 "metadata": {
  "kernelspec": {
   "display_name": "Python 3",
   "language": "python",
   "name": "python3"
  },
  "language_info": {
   "codemirror_mode": {
    "name": "ipython",
    "version": 3
   },
   "file_extension": ".py",
   "mimetype": "text/x-python",
   "name": "python",
   "nbconvert_exporter": "python",
   "pygments_lexer": "ipython3",
   "version": "3.7.6"
  }
 },
 "nbformat": 4,
 "nbformat_minor": 4
}
