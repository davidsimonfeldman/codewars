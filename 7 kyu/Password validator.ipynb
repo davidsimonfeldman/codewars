{
 "cells": [
  {
   "cell_type": "code",
   "execution_count": null,
   "metadata": {},
   "outputs": [],
   "source": [
    "Description\n",
    "Your job is to create a simple password validation function, as seen on many websites.\n",
    "The rules for a valid password are as follows:\n",
    "There needs to be at least 1 uppercase letter.\n",
    "There needs to be at least 1 lowercase letter.\n",
    "There needs to be at least 1 number.\n",
    "The password needs to be at least 8 characters long.\n",
    "You are permitted to use any methods to validate the password.\n",
    "Examples:\n",
    "password(\"Abcd1234\"); ===> true\n",
    "password(\"Abcd123\"); ===> false\n",
    "password(\"abcd1234\"); ===> false\n",
    "password(\"AbcdefGhijKlmnopQRsTuvwxyZ1234567890\"); ===> true\n",
    "password(\"ABCD1234\"); ===> false\n",
    "password(\"Ab1!@#$%^&*()-_+={}[]|\\:;?/>.<,\"); ===> true;\n",
    "password(\"!@#$%^&*()-_+={}[]|\\:;?/>.<,\"); ===> false;\n",
    "Extra info\n",
    "You will only be passed strings.\n",
    "The string can contain any standard keyboard character.\n",
    "Accepted strings can be any length, as long as they are 8 characters or more.\n",
    "\n",
    "def password(s):\n",
    "    if len(s)<8:return False\n",
    "    a=[x for x in s if x.isupper() ]\n",
    "    b=[x for x in s if x.isdigit() ]\n",
    "    c=[x for x in s if x.islower() ]\n",
    "\n",
    "    if len(a)==0 or len(b)==0 or len(c)==0:return False\n",
    "    print(s)\n",
    "    return True\n",
    "\n",
    "\n",
    "\n",
    "\n",
    "\n",
    "\n",
    "CRITERIA = (str.islower, str.isupper, str.isdigit)\n",
    "\n",
    "def password(s):\n",
    "    return len(s)>7 and all( any(map(f,s)) for f in CRITERIA)\n",
    "\n",
    "\n",
    "\n",
    "\n",
    " if not len(candidate) >= 8:\n",
    "        return False\n",
    "    if not any(char.islower() for char in candidate):\n",
    "        return False\n",
    "    if not any(char.isupper() for char in candidate):\n",
    "        return False\n",
    "    if not any(char.isdigit() for char in candidate):\n",
    "        return False\n",
    "    return True "
   ]
  }
 ],
 "metadata": {
  "kernelspec": {
   "display_name": "Python 3",
   "language": "python",
   "name": "python3"
  },
  "language_info": {
   "codemirror_mode": {
    "name": "ipython",
    "version": 3
   },
   "file_extension": ".py",
   "mimetype": "text/x-python",
   "name": "python",
   "nbconvert_exporter": "python",
   "pygments_lexer": "ipython3",
   "version": "3.7.6"
  }
 },
 "nbformat": 4,
 "nbformat_minor": 4
}
