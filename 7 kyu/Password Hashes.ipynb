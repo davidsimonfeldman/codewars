{
 "cells": [
  {
   "cell_type": "code",
   "execution_count": null,
   "metadata": {},
   "outputs": [],
   "source": [
    "When you sign up for an account somewhere, some websites do not actually store your password in their databases. \n",
    "Instead, they will transform your password into something else using a cryptographic hashing algorithm.\n",
    "After the password is transformed, it is then called a password hash. \n",
    "Whenever you try to login, the website will transform the password you tried using the same hashing algorithm and simply see if the password hashes are the same.\n",
    "Create the function that converts a given string into an md5 hash. The return value should be encoded in hexadecimal.\n",
    "Code Examples\n",
    "passHash(\"password\") // --> \"5f4dcc3b5aa765d61d8327deb882cf99\"\n",
    "passHash(\"abc123\") // --> \"e99a18c428cb38d5f260853678922e03\"\n",
    "If you want to externally test a string, look at this website.\n",
    "As a side note, md5 can be exploited, so never use it for anything secure. \n",
    "The reason I used it in this kata is simply because it is a very common hashing algorithm and many people will recognize the name.\n",
    "\n",
    "\n",
    "import hashlib\n",
    "\n",
    "def pass_hash(s):\n",
    "    hash_object = hashlib.md5(s.encode())\n",
    "      \n",
    "    return hash_object.hexdigest()"
   ]
  }
 ],
 "metadata": {
  "kernelspec": {
   "display_name": "Python 3",
   "language": "python",
   "name": "python3"
  },
  "language_info": {
   "codemirror_mode": {
    "name": "ipython",
    "version": 3
   },
   "file_extension": ".py",
   "mimetype": "text/x-python",
   "name": "python",
   "nbconvert_exporter": "python",
   "pygments_lexer": "ipython3",
   "version": "3.7.6"
  }
 },
 "nbformat": 4,
 "nbformat_minor": 4
}
