{
 "cells": [
  {
   "cell_type": "code",
   "execution_count": null,
   "metadata": {},
   "outputs": [],
   "source": [
    "Python dictionaries are inherently unsorted. So what do you do if you need to sort the contents of a dictionary?\n",
    "\n",
    "Create a function that returns a sorted list of (key, value) tuples (Javascript: arrays of 2 items).\n",
    "\n",
    "The list must be sorted by the value and be sorted largest to smallest.\n",
    "\n",
    "Examples\n",
    "sort_dict({3:1, 2:2, 1:3}) == [(1,3), (2,2), (3,1)]\n",
    "sort_dict({1:2, 2:4, 3:6}) == [(3,6), (2,4), (1,2)]\n",
    "\n",
    "\n",
    "\n",
    "def sort_dict(d):\n",
    "    return sorted(d.items(),key=lambda x:x[1],reverse=True)\n",
    "    \n",
    "\n",
    "from operator import itemgetter\n",
    "\n",
    "def sort_dict(d):\n",
    "  'return a sorted list of tuples from the dictionary'\n",
    "  return sorted(d.iteritems(), key=itemgetter(1), reverse=True)    "
   ]
  }
 ],
 "metadata": {
  "kernelspec": {
   "display_name": "Python 3",
   "language": "python",
   "name": "python3"
  },
  "language_info": {
   "codemirror_mode": {
    "name": "ipython",
    "version": 3
   },
   "file_extension": ".py",
   "mimetype": "text/x-python",
   "name": "python",
   "nbconvert_exporter": "python",
   "pygments_lexer": "ipython3",
   "version": "3.7.6"
  }
 },
 "nbformat": 4,
 "nbformat_minor": 4
}
