{
 "cells": [
  {
   "cell_type": "code",
   "execution_count": null,
   "metadata": {
    "ExecuteTime": {
     "end_time": "2021-06-21T22:03:52.068375Z",
     "start_time": "2021-06-21T22:03:51.026859Z"
    }
   },
   "outputs": [],
   "source": [
    "In recreational mathematics, a magic square is an arrangement of distinct numbers (i.e., each number is used once), usually integers, \n",
    "in a square grid, where the numbers in each row, and in each column, and the numbers in the main and secondary diagonals, all add up to the same number, called the \"magic constant.\"\n",
    "For example, the following \"square\":\n",
    "\n",
    "  4    9    2 -> 15\n",
    "  3    5    7 -> 15\n",
    "  8    1    6 -> 15\n",
    " /v    v    v \\\n",
    "15 15   15   15  15\n",
    "A 3x3 magic square will have its sums always resulting to 15, this number is called the \"magic constant\" and changes according to the square size.\n",
    "In this problem you will have to create a function that receives a 3x3 'square' and returns True if it is magic and False otherwise.\n",
    "The sum of rows, columns or diagonals should always equal 15.\n",
    "For example, the above square will be passed like: [4, 9, 2, 3, 5, 7, 8, 1, 6] and the output should be True\n",
    "[9, 4, 7, 3, 5, 2, 8, 6, 1] should return False\n",
    "\n",
    "\n",
    "\n",
    "def is_magical(sq):\n",
    "    print(sq)\n",
    "    if sq==sorted(sq):return False\n",
    "    print(sq[0]+sq[4]+sq[-1])\n",
    "    print(sq[4]+sq[2]+sq[-3])\n",
    "    # return True if the given square is valid and False otherwise'\n",
    "    if (sq[0]+sq[-1]==sq[1]+sq[-2]==sq[2]+sq[-3]) and (sq[0]+sq[4]+sq[-1]==sq[4]+sq[2]+sq[-3]):return True\n",
    "    return False\n",
    "\n",
    "\n",
    "\n",
    "def is_magical(sq):\n",
    "    return sum(sq[2:7:2])==sum(sq[::4])==sum(sq[::3])==sum(sq[1::3])==sum(sq[2::3])==sum(sq[:3])==sum(sq[3:6])==sum(sq[6:])\n",
    "\n",
    "\n",
    "\n",
    "def is_magical(sq):\n",
    "    return len(set( [sum(sq[i*3:(i+1)*3]) for i in range(3)]                # lines\n",
    "                  + [sum(sq[i::3])        for i in range(3)]                # rows\n",
    "                  + [sq[4-2*i] + sq[4] + sq[4+2*i] for i in range(1,3)]     # diagonals\n",
    "               )) == 1\n",
    "\n",
    "\n",
    "def is_magical(s):\n",
    "    return sum(s[::3]) == sum(s[1::3]) == sum(s[2::3]) == 15\n",
    "\n",
    "\n",
    "def is_magical(sq):\n",
    "    return all( sum(sq[i*3:(i+1)*3]) == sum(sq[i:9:3]) for i in range(0,3))"
   ]
  }
 ],
 "metadata": {
  "kernelspec": {
   "display_name": "Python 3",
   "language": "python",
   "name": "python3"
  },
  "language_info": {
   "codemirror_mode": {
    "name": "ipython",
    "version": 3
   },
   "file_extension": ".py",
   "mimetype": "text/x-python",
   "name": "python",
   "nbconvert_exporter": "python",
   "pygments_lexer": "ipython3",
   "version": "3.7.6"
  }
 },
 "nbformat": 4,
 "nbformat_minor": 4
}
