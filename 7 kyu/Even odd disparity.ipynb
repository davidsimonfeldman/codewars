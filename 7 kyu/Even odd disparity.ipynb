{
 "cells": [
  {
   "cell_type": "code",
   "execution_count": null,
   "metadata": {},
   "outputs": [],
   "source": [
    "Given an array, return the difference between the count of even numbers and the count of odd numbers. 0 will be considered an even number.\n",
    "\n",
    "For example:\n",
    "solve([0,1,2,3]) = 0 because there are two even numbers and two odd numbers. Even - Odd = 2 - 2 = 0.  \n",
    "Let's now add two letters to the last example:\n",
    "\n",
    "solve([0,1,2,3,'a','b']) = 0. Again, Even - Odd = 2 - 2 = 0. Ignore letters. \n",
    "The input will be an array of lowercase letters and numbers only.\n",
    "\n",
    "In some languages (Haskell, C++, and others), input will be an array of strings:\n",
    "\n",
    "solve [\"0\",\"1\",\"2\",\"3\",\"a\",\"b\"] = 0 \n",
    "Good luck!\n",
    "\n",
    "def solve(a):\n",
    "    a=[x for x in a if type(x)==int]\n",
    "    print(a)\n",
    "    e=0\n",
    "    o=0\n",
    "    for x in a :\n",
    "        if x ==0 or x%2==0: \n",
    "            e=e+1\n",
    "        else: \n",
    "            o=o+1\n",
    "    return e-o  \n",
    "\n",
    "\n",
    "\n",
    "def solve(a):\n",
    "    return sum(1 if v % 2 == 0 else -1 for v in a if type(v) == int)\n",
    "\n",
    "\n",
    "def solve(a):\n",
    "    return sum( isinstance(x, int) and [1, -1][x % 2] for x in a )"
   ]
  }
 ],
 "metadata": {
  "kernelspec": {
   "display_name": "Python 3",
   "language": "python",
   "name": "python3"
  },
  "language_info": {
   "codemirror_mode": {
    "name": "ipython",
    "version": 3
   },
   "file_extension": ".py",
   "mimetype": "text/x-python",
   "name": "python",
   "nbconvert_exporter": "python",
   "pygments_lexer": "ipython3",
   "version": "3.7.6"
  }
 },
 "nbformat": 4,
 "nbformat_minor": 4
}
