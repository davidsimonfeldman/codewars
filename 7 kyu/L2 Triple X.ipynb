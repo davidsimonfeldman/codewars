{
 "cells": [
  {
   "cell_type": "code",
   "execution_count": null,
   "metadata": {},
   "outputs": [],
   "source": [
    "Given a string, return true if the first instance of \"x\" in the string is immediately followed by the string \"xx\".\n",
    "\n",
    "tripleX(\"abraxxxas\") → true\n",
    "tripleX(\"xoxotrololololololoxxx\") → false\n",
    "tripleX(\"softX kitty, warm kitty, xxxxx\") → true\n",
    "tripleX(\"softx kitty, warm kitty, xxxxx\") → false\n",
    "Note :\n",
    "\n",
    "capital X's do not count as an occurrence of \"x\".\n",
    "if there are no \"x\"'s then return false\n",
    "\n",
    "\n",
    "def triple_x(s):\n",
    "    \n",
    "    \n",
    "    print(s)\n",
    "    print(s.count('x'))\n",
    "    if s.find('xxx')<0: return False\n",
    "    a=s.index('x')\n",
    "    if (s[a:a+3])=='xxx':return True\n",
    "    return False\n",
    "\n",
    "\n",
    "\n",
    "\n",
    "\n",
    "def triple_x(s):\n",
    "    pos=s.find('x')\n",
    "    return s[pos:pos+3]=='xxx'\n",
    "\n",
    "\n",
    "def triple_x(s):\n",
    "    for x in range(len(s)):\n",
    "        if s[x] == 'x':\n",
    "            return s[x+1:x+3] == 'xx'\n",
    "    return 0\n",
    "                \n",
    "\n",
    "\n",
    "\n",
    "def triple_x(s: str) -> bool:\n",
    "    return 0 <= s.find(\"x\") == s.find(\"xxx\") "
   ]
  }
 ],
 "metadata": {
  "kernelspec": {
   "display_name": "Python 3",
   "language": "python",
   "name": "python3"
  },
  "language_info": {
   "codemirror_mode": {
    "name": "ipython",
    "version": 3
   },
   "file_extension": ".py",
   "mimetype": "text/x-python",
   "name": "python",
   "nbconvert_exporter": "python",
   "pygments_lexer": "ipython3",
   "version": "3.7.6"
  }
 },
 "nbformat": 4,
 "nbformat_minor": 4
}
