{
 "cells": [
  {
   "cell_type": "code",
   "execution_count": 6,
   "metadata": {
    "ExecuteTime": {
     "end_time": "2021-06-18T11:28:48.087598Z",
     "start_time": "2021-06-18T11:28:48.024040Z"
    }
   },
   "outputs": [],
   "source": [
    "# A pernicious number is a positive integer whose binary digit sum (or Hamming weight) is a prime number.\n",
    "# 25 = 11001  -->  digit sum = 3 --> 3 is prime --> therefore 25 is a pernicious number \n",
    "# 75 = 1001011  -->  digit sum = 4 --> 4 is not prime --> therefore 75 is not a pernicious number\n",
    "# #Task\n",
    "# Your job is to create a function that will list all of the pernicious numbers up to the given value (inclusive). \n",
    "# The values given will increase in size, meaning the list will be very large.\n",
    "# For example:\n",
    "# pernicious(5) should return [3, 5]\n",
    "# pernicious(12) should return [3, 5, 6, 7, 9, 10, 11, 12]\n",
    "# If there are no pernicious numbers in the given range, your function should return \"No pernicious numbers\".\n",
    "# This means when given a negative value, it should still recieve this output.\n",
    "# pernicious(0) should return \"No pernicious numbers\"\n",
    "# pernicious(-1) should return \"No pernicious numbers\"\n",
    "# Also, if given a floating point number, return the list of pernicious numbers with the number floored (rounded down).\n",
    "# pernicious(17.546456) should return [3, 5, 6, 7, 9, 10, 11, 12, 13, 14, 17]\n",
    "# You will only be given integers and floats.\n",
    "# Remember:\n",
    "# 1 is not a prime number and 2 is a prime number.\n",
    "\n",
    "\n",
    "\n",
    "from math import floor\n",
    "def pernicious(n):\n",
    "    if n<2:return \"No pernicious numbers\"\n",
    "    n=floor(n)\n",
    "    print(n)\n",
    "    a=list(map(lambda x: bin(x)[2:] ,list(range(1,n+1))))\n",
    "#     print(a)\n",
    "#     print(len(a))\n",
    "    b=list(map(lambda x:x.count('1'),a))\n",
    "#     print(b)\n",
    "    c=zip(b,list(range(1,n+1)))\n",
    "    \n",
    "    p=[2,3,5,7,11,13]\n",
    "    l=[]\n",
    "    for x in c:\n",
    "        print(x)\n",
    "        if x[0] in p:\n",
    "            l.append(x[1])\n",
    "    if l==[]:return \"No pernicious numbers\"\n",
    "    return l  \n",
    "\n",
    "\n",
    "\n",
    " def pernicious(n):\n",
    "    return [x for x in range(int(n) + 1) if bin(x).count(\"1\") in [2, 3, 5, 7, 11, 13]] or \"No pernicious numbers\"\n",
    "\n",
    "def pernicious(n):\n",
    "    return [x for x in range(int(n)+1) if (lambda n: all([n%s for s in range(2, n)]) and n>1)(bin(x).count(\"1\"))] or \"No pernicious numbers\""
   ]
  },
  {
   "cell_type": "code",
   "execution_count": null,
   "metadata": {},
   "outputs": [],
   "source": []
  }
 ],
 "metadata": {
  "kernelspec": {
   "display_name": "Python 3",
   "language": "python",
   "name": "python3"
  },
  "language_info": {
   "codemirror_mode": {
    "name": "ipython",
    "version": 3
   },
   "file_extension": ".py",
   "mimetype": "text/x-python",
   "name": "python",
   "nbconvert_exporter": "python",
   "pygments_lexer": "ipython3",
   "version": "3.7.6"
  }
 },
 "nbformat": 4,
 "nbformat_minor": 4
}
