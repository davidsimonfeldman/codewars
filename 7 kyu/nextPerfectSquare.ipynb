{
 "cells": [
  {
   "cell_type": "code",
   "execution_count": null,
   "metadata": {},
   "outputs": [],
   "source": [
    "Write a function name nextPerfectSquare / next_perfect_square that returns the first perfect square that is greater than its integer argument.\n",
    "A perfect square is a integer that is equal to some integer squared. For example 16 is a perfect square because 16=4*4.\n",
    "\n",
    "example\n",
    "\n",
    "n   next perfect square\n",
    "\n",
    "6    9\n",
    "36   49 \n",
    "0    1\n",
    "-5   0 \n",
    "caution! the largest number tested is closer to Number.MAX_SAFE_INTEGER\n",
    "\n",
    "\n",
    "\n",
    "\n",
    "from math import floor\n",
    "def next_perfect_square(n):\n",
    "    print(n)\n",
    "    if n< 0 : return 0\n",
    "    \n",
    "    a=floor(n**(0.5))\n",
    "    print(a,n**(0.5))\n",
    "    return (a+1)**2\n",
    "\n",
    "def next_perfect_square(n):\n",
    "    return n>=0 and (int(n**0.5)+1)**2"
   ]
  }
 ],
 "metadata": {
  "kernelspec": {
   "display_name": "Python 3",
   "language": "python",
   "name": "python3"
  },
  "language_info": {
   "codemirror_mode": {
    "name": "ipython",
    "version": 3
   },
   "file_extension": ".py",
   "mimetype": "text/x-python",
   "name": "python",
   "nbconvert_exporter": "python",
   "pygments_lexer": "ipython3",
   "version": "3.7.6"
  }
 },
 "nbformat": 4,
 "nbformat_minor": 4
}
