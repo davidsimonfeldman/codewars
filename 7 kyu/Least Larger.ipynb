{
 "cells": [
  {
   "cell_type": "code",
   "execution_count": null,
   "metadata": {},
   "outputs": [],
   "source": [
    "Task\n",
    "Given an array of numbers and an index, return the index of the least number larger than the element at the given index,\n",
    "or -1 if there is no such index ( or, where applicable, Nothing or a similarly empty value ).\n",
    "Notes\n",
    "Multiple correct answers may be possible. In this case, return any one of them.\n",
    "The given index will be inside the given array.\n",
    "The given array will, therefore, never be empty.\n",
    "Example\n",
    "least_larger( [4, 1, 3, 5, 6], 0 )  ->  3\n",
    "least_larger( [4, 1, 3, 5, 6], 4 )  -> -1\n",
    "\n",
    "\n",
    "\n",
    "def least_larger(a, i):\n",
    "    print((a, i))\n",
    "    # your code here\n",
    "    b=a[i]\n",
    "    if max(a)==b:return -1\n",
    "    print(b)\n",
    "    s=sorted(a)\n",
    "    print(s)\n",
    "    c=s.index(b)\n",
    "    print(c)\n",
    "    print(s[c+1])\n",
    "    if s[c+1]>b:return a.index(s[c+1])\n",
    "    elif s[c+2]>b:return a.index(s[c+2])\n",
    "    elif s[c+3]>b:return a.index(s[c+3])\n",
    "    \n",
    "    \n",
    "    \n",
    "\n",
    "    \n",
    "    \n",
    "def least_larger(a, i):\n",
    "    b = [x for x in a if x>a[i]]\n",
    "    return a.index(min(b)) if b else -1\n",
    "\n",
    "\n",
    "\n",
    "def least_larger(a, i): \n",
    "    return min( (j for j,v in enumerate(a) if v>a[i] ),\n",
    "                key=lambda j: a[j]-a[i],\n",
    "                default=-1)\n",
    "\n",
    "\n",
    "def least_larger(a, i):\n",
    "    return min(((n, c) for c, n in enumerate(a) if n > a[i]), default=(0,-1))[1]    "
   ]
  }
 ],
 "metadata": {
  "kernelspec": {
   "display_name": "Python 3",
   "language": "python",
   "name": "python3"
  },
  "language_info": {
   "codemirror_mode": {
    "name": "ipython",
    "version": 3
   },
   "file_extension": ".py",
   "mimetype": "text/x-python",
   "name": "python",
   "nbconvert_exporter": "python",
   "pygments_lexer": "ipython3",
   "version": "3.7.6"
  }
 },
 "nbformat": 4,
 "nbformat_minor": 4
}
