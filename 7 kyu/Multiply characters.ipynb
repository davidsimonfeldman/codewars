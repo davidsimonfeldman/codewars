{
 "cells": [
  {
   "cell_type": "code",
   "execution_count": null,
   "metadata": {},
   "outputs": [],
   "source": [
    "Here we have a function that help us spam our hearty laughter. But is not working! I need you to find out why...\n",
    "\n",
    "Expected results:\n",
    "\n",
    "spam(1)  ==> \"hue\"\n",
    "spam(6)  ==> \"huehuehuehuehuehue\"\n",
    "spam(14) ==> \"huehuehuehuehuehuehuehuehuehuehuehuehuehue\"\n",
    "\n",
    "\n",
    "#fix this code!\n",
    "def spam(number):\n",
    "    return ''.join (['hue' for i in range(number )])\n",
    "\n"
   ]
  }
 ],
 "metadata": {
  "kernelspec": {
   "display_name": "Python 3",
   "language": "python",
   "name": "python3"
  },
  "language_info": {
   "codemirror_mode": {
    "name": "ipython",
    "version": 3
   },
   "file_extension": ".py",
   "mimetype": "text/x-python",
   "name": "python",
   "nbconvert_exporter": "python",
   "pygments_lexer": "ipython3",
   "version": "3.7.6"
  }
 },
 "nbformat": 4,
 "nbformat_minor": 4
}
