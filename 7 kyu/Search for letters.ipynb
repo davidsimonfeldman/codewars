{
 "cells": [
  {
   "cell_type": "code",
   "execution_count": null,
   "metadata": {
    "ExecuteTime": {
     "end_time": "2021-06-21T22:03:52.068375Z",
     "start_time": "2021-06-21T22:03:51.026859Z"
    }
   },
   "outputs": [],
   "source": [
    "Create a function which accepts one arbitrary string as an argument, and return a string of length 26.\n",
    "The objective is to set each of the 26 characters of the output string to either '1' or '0' based on the fact whether the Nth \n",
    "letter of the alphabet is present in the input (independent of its case).\n",
    "So if an 'a' or an 'A' appears anywhere in the input string (any number of times), set the first character of the output string to '1',\n",
    "otherwise to '0'. if 'b' or 'B' appears in the string, set the second character to '1', and so on for the rest of the alphabet.\n",
    "For instance:\n",
    "\"a   **&  cZ\"  =>  \"10100000000000000000000001\"\n",
    "\n",
    "\n",
    "def change(st):\n",
    "    a=''\n",
    "    for x in st:\n",
    "        if x.isalpha():\n",
    "            a+=x.lower()\n",
    "    print(a)   \n",
    "    b=['0']*26\n",
    "    print(b) \n",
    "    for x in set(a):\n",
    "        b[ord(x)-97]='1'\n",
    "    print(b)\n",
    "    return ''.join(b)\n",
    "\n",
    "\n",
    "\n",
    "def change(s):\n",
    "    s = set(s.lower())\n",
    "    return \"\".join(\"1\" if x in s else \"0\" for x in map(chr, range(97, 123)))\n",
    "\n",
    "\n",
    "\n",
    "ABC = \"abcdefghijklmnopqrstuvwxyz\"\n",
    "def change(s):\n",
    "    s = set(s.lower())\n",
    "    return \"\".join(str(int(char in s)) for char in ABC)\n",
    "\n",
    "\n",
    "\n",
    "from string import ascii_lowercase\n",
    "def change(st):\n",
    "    source = st.lower()\n",
    "    return ''.join('1' if q in source else '0' for q in ascii_lowercase)"
   ]
  }
 ],
 "metadata": {
  "kernelspec": {
   "display_name": "Python 3",
   "language": "python",
   "name": "python3"
  },
  "language_info": {
   "codemirror_mode": {
    "name": "ipython",
    "version": 3
   },
   "file_extension": ".py",
   "mimetype": "text/x-python",
   "name": "python",
   "nbconvert_exporter": "python",
   "pygments_lexer": "ipython3",
   "version": "3.7.6"
  }
 },
 "nbformat": 4,
 "nbformat_minor": 4
}
