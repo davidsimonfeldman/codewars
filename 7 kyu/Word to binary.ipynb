{
 "cells": [
  {
   "cell_type": "code",
   "execution_count": null,
   "metadata": {
    "ExecuteTime": {
     "end_time": "2021-06-21T22:03:52.068375Z",
     "start_time": "2021-06-21T22:03:51.026859Z"
    }
   },
   "outputs": [],
   "source": [
    "Write a function that takes a string and returns an array containing binary numbers equivalent to the ASCII codes of the characters of the string. \n",
    "The binary strings should be eight digits long.\n",
    "Example: 'man' should return [ '01101101', '01100001', '01101110' ]\n",
    "\n",
    "\n",
    "def word_to_bin(w):\n",
    "    # code away!!!\n",
    "    a=[]\n",
    "    for x in w:\n",
    "        b=bin(ord(x))[1:].replace('b','0')\n",
    "        a.append(b)   \n",
    "    return a\n",
    "\n",
    "\n",
    "\n",
    "def word_to_bin(word):\n",
    "    return ['{:08b}'.format(ord(c)) for c in word]\n",
    "\n",
    "def word_to_bin(word):\n",
    "    return [ f\"{ord(c):08b}\" for c in word ]\n",
    "\n",
    "\n",
    "def word_to_bin(word):\n",
    "    return [format(ord(c), '08b') for c in word]\n",
    "\n",
    "\n",
    "def word_to_bin(word):\n",
    "    return [\"{:0>8b}\".format(ord(c)) for c in word]"
   ]
  }
 ],
 "metadata": {
  "kernelspec": {
   "display_name": "Python 3",
   "language": "python",
   "name": "python3"
  },
  "language_info": {
   "codemirror_mode": {
    "name": "ipython",
    "version": 3
   },
   "file_extension": ".py",
   "mimetype": "text/x-python",
   "name": "python",
   "nbconvert_exporter": "python",
   "pygments_lexer": "ipython3",
   "version": "3.7.6"
  }
 },
 "nbformat": 4,
 "nbformat_minor": 4
}
