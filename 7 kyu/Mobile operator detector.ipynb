{
 "cells": [
  {
   "cell_type": "code",
   "execution_count": null,
   "metadata": {
    "ExecuteTime": {
     "end_time": "2021-06-21T22:03:52.068375Z",
     "start_time": "2021-06-21T22:03:51.026859Z"
    }
   },
   "outputs": [],
   "source": [
    "When a warrior wants to talk with another one about peace or war he uses a smartphone. \n",
    "In one distinct country warriors who spent all time in training kata not always have enough money.\n",
    "So if they call some number they want to know which operator serves this number.\n",
    "Write a function which accepts number and return name of operator or string \"no info\", if operator can't be defined. number always looks like 8yyyxxxxxxx, where yyy corresponds to operator.\n",
    "Here is short list of operators:\n",
    "039 xxx xx xx - Golden Telecom\n",
    "050 xxx xx xx - MTS\n",
    "063 xxx xx xx - Life:)\n",
    "066 xxx xx xx - MTS\n",
    "067 xxx xx xx - Kyivstar\n",
    "068 xxx xx xx - Beeline\n",
    "093 xxx xx xx - Life:)\n",
    "095 xxx xx xx - MTS\n",
    "096 xxx xx xx - Kyivstar\n",
    "097 xxx xx xx - Kyivstar\n",
    "098 xxx xx xx - Kyivstar\n",
    "099 xxx xx xx - MTS Test [Just return \"MTS\"]\n",
    "\n",
    "def detect_operator(num):\n",
    "    dic = {\n",
    "        \"039\": \"Golden Telecom\",\n",
    "        \"050\": \"MTS\",\n",
    "        \"063\": \"Life:)\",\n",
    "        \"066\": \"MTS\",\n",
    "        \"067\": \"Kyivstar\",\n",
    "        \"068\": \"Beeline\",\n",
    "        \"093\": \"Life:)\",\n",
    "        \"095\": \"MTS\",\n",
    "        \"096\": \"Kyivstar\",\n",
    "        \"097\": \"Kyivstar\",\n",
    "        \"098\": \"Kyivstar\",\n",
    "        \"099\": \"MTS\"\n",
    "        }\n",
    "    return dic.get(str(num)[1:4],\"no info\")\n",
    "\n",
    "\n"
   ]
  }
 ],
 "metadata": {
  "kernelspec": {
   "display_name": "Python 3",
   "language": "python",
   "name": "python3"
  },
  "language_info": {
   "codemirror_mode": {
    "name": "ipython",
    "version": 3
   },
   "file_extension": ".py",
   "mimetype": "text/x-python",
   "name": "python",
   "nbconvert_exporter": "python",
   "pygments_lexer": "ipython3",
   "version": "3.7.6"
  }
 },
 "nbformat": 4,
 "nbformat_minor": 4
}
