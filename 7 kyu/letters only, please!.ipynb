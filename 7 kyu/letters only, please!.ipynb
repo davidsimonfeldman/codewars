{
 "cells": [
  {
   "cell_type": "code",
   "execution_count": 2,
   "metadata": {
    "ExecuteTime": {
     "end_time": "2021-07-09T21:48:16.793156Z",
     "start_time": "2021-07-09T21:48:16.784913Z"
    }
   },
   "outputs": [],
   "source": [
    "Let's assume we need \"clean\" strings. Clean means a string should only contain letters a-z, A-Z and spaces. We assume that there are no double spaces or line breaks.\n",
    "Write a function that takes a string and returns a string without the unnecessary characters.\n",
    "Example\n",
    "remove_chars('.tree1')    ==> 'tree'\n",
    "remove_chars(\"that's a pie$ce o_f p#ie!\")  ==> 'thats a piece of pie'\n",
    "remove_chars('john.dope@dopington.com')    ==> 'johndopedopingtoncom'\n",
    "remove_chars('my_list = [\"a\",\"b\",\"c\"]')    ==> 'mylist  abc'\n",
    "remove_chars('1 + 1 = 2')    ==> '    ' (string with 4 spaces)\n",
    "remove_chars(\"0123456789(.)+,|[]{}=@/~;^$'<>?-!*&:#%_\")  ==> '' (empty string)\n",
    "\n",
    "\n",
    "\n",
    "def remove_chars(s):\n",
    "    a=''\n",
    "    for x in s:\n",
    "        if  x.isalpha() or x.isspace():\n",
    "            a+=x\n",
    "    return a \n",
    "\n",
    "\n",
    "def remove_chars(s):\n",
    "    return \"\".join( c for c in s if c.isalpha() or c==\" \" )"
   ]
  },
  {
   "cell_type": "code",
   "execution_count": null,
   "metadata": {},
   "outputs": [],
   "source": []
  }
 ],
 "metadata": {
  "kernelspec": {
   "display_name": "Python 3",
   "language": "python",
   "name": "python3"
  },
  "language_info": {
   "codemirror_mode": {
    "name": "ipython",
    "version": 3
   },
   "file_extension": ".py",
   "mimetype": "text/x-python",
   "name": "python",
   "nbconvert_exporter": "python",
   "pygments_lexer": "ipython3",
   "version": "3.7.6"
  }
 },
 "nbformat": 4,
 "nbformat_minor": 4
}
