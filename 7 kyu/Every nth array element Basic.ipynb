{
 "cells": [
  {
   "cell_type": "code",
   "execution_count": null,
   "metadata": {},
   "outputs": [],
   "source": [
    "Create a method (JS: function) every which returns every nth element of an array.\n",
    "Usage\n",
    "With no arguments, array.every it returns every element of the array.\n",
    "With one argument, array.every(interval) it returns every intervalth element.\n",
    "With two arguments, array.every(interval, start_index) it returns every intervalth element starting at index start_index\n",
    "Note: due to fact JS translation ask for a function instead of an Array method the above uses will be :\n",
    "javascript:                          ruby:\n",
    "every(array)                         array.every\n",
    "every(array, interval)               array.every(interval)\n",
    "every(array, interval, start_index)  array.every(interval, start_index)\n",
    "Examples\n",
    "[0,1,2,3,4].every      # [0,1,2,3,4]\n",
    "[0,1,2,3,4].every(1)   # [0,1,2,3,4]\n",
    "[0,1,2,3,4].every(2)   # [0,2,4]\n",
    "[0,1,2,3,4].every(3)   # [0,3]\n",
    "[0,1,2,3,4].every(1,3) # [3,4]\n",
    "[0,1,2,3,4].every(3,1) # [1,4]\n",
    "[0,1,2,3,4].every(3,4) # [4]\n",
    "Notes\n",
    "Test cases:\n",
    "interval will always be a positive integer (but may be larger than the size of the array).\n",
    "start_index will always be within the bounds of the array.\n",
    "Once you have completed this kata, try the advanced version (http://www.codewars.com/kata/every-nth-array-element-advanced) which allows negative intervals and unbounded start_indexes\n",
    "Translator notes\n",
    "Ruby is the original language for this kata.\n",
    "\n",
    "\n",
    "def every(arr , interval=0, start_index=0):\n",
    "    print(arr , interval, start_index)\n",
    "    if interval==0 and start_index==0 : return arr\n",
    "     \n",
    "    return  arr[start_index: :interval]\n",
    "\n",
    "\n",
    "def every(array, interval=None, start=None):\n",
    "    return array[start::interval]"
   ]
  }
 ],
 "metadata": {
  "kernelspec": {
   "display_name": "Python 3",
   "language": "python",
   "name": "python3"
  },
  "language_info": {
   "codemirror_mode": {
    "name": "ipython",
    "version": 3
   },
   "file_extension": ".py",
   "mimetype": "text/x-python",
   "name": "python",
   "nbconvert_exporter": "python",
   "pygments_lexer": "ipython3",
   "version": "3.7.6"
  }
 },
 "nbformat": 4,
 "nbformat_minor": 4
}
