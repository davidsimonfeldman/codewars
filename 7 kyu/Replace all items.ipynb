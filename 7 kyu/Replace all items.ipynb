{
 "cells": [
  {
   "cell_type": "code",
   "execution_count": null,
   "metadata": {},
   "outputs": [],
   "source": [
    "Write function replaceAll (Python: replace_all) that will replace all occurrences of an item with another.\n",
    "\n",
    "Python / JavaScript: The function has to work for strings and lists.\n",
    "\n",
    "Example: replaceAll [1,2,2] 1 2 -> in list [1,2,2] we replace 1 with 2 to get new list [2,2,2]\n",
    "\n",
    "replaceAll(replaceAll(array: [1,2,2], old: 1, new: 2) // [2,2,2]\n",
    "           \n",
    "           \n",
    "           \n",
    "def replace_all(obj, find, replace):\n",
    "    if len(obj)==0:return obj\n",
    "    print(obj, find, replace)\n",
    "    if type(obj)==str:    return  obj.replace( (find),  (replace))\n",
    "    if type(obj)==list:\n",
    "        return [x if x!=find else replace  for x in obj]\n",
    "           \n",
    "           \n",
    "           \n",
    "def replace_all(obj, find, replace):\n",
    "    result = [el if el != find else replace for el in obj]\n",
    "    return ''.join(result) if isinstance(obj, str) else result           "
   ]
  }
 ],
 "metadata": {
  "kernelspec": {
   "display_name": "Python 3",
   "language": "python",
   "name": "python3"
  },
  "language_info": {
   "codemirror_mode": {
    "name": "ipython",
    "version": 3
   },
   "file_extension": ".py",
   "mimetype": "text/x-python",
   "name": "python",
   "nbconvert_exporter": "python",
   "pygments_lexer": "ipython3",
   "version": "3.7.6"
  }
 },
 "nbformat": 4,
 "nbformat_minor": 4
}
