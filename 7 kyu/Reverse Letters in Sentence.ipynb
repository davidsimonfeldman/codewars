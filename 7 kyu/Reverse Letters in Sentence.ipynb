{
 "cells": [
  {
   "cell_type": "code",
   "execution_count": null,
   "metadata": {},
   "outputs": [],
   "source": [
    "Take a sentence (string) and reverse each word in the sentence. Do not reverse the order of the words, just the letters in each word.\n",
    "\n",
    "If there is punctuation, it should be interpreted as a regular character; no special rules.\n",
    "\n",
    "If there is spacing before/after the input string, leave them there.\n",
    "\n",
    "String will not be empty.\n",
    "\n",
    "Examples\n",
    "\"Hi mom\" => \"iH mom\"\n",
    "\" A fun little challenge! \" => \" A nuf elttil !egnellahc \"\n",
    "\n",
    "\n",
    "\n",
    "def reverser(s):\n",
    "    print(s)\n",
    "    if   s.isspace() :return s\n",
    "    a=' '\n",
    "    for x in s.split(' '):\n",
    "        a+=(x[::-1]) +' '\n",
    "    print(a)\n",
    "    \n",
    "    \n",
    "    return a[1:-1]\n",
    "\n",
    "\n",
    "def reverser(sentence):\n",
    "    return ' '.join(i[::-1] for i in sentence.split(' '))"
   ]
  }
 ],
 "metadata": {
  "kernelspec": {
   "display_name": "Python 3",
   "language": "python",
   "name": "python3"
  },
  "language_info": {
   "codemirror_mode": {
    "name": "ipython",
    "version": 3
   },
   "file_extension": ".py",
   "mimetype": "text/x-python",
   "name": "python",
   "nbconvert_exporter": "python",
   "pygments_lexer": "ipython3",
   "version": "3.7.6"
  }
 },
 "nbformat": 4,
 "nbformat_minor": 4
}
