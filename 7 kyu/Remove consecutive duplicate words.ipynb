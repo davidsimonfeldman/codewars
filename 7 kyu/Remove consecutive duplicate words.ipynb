{
 "cells": [
  {
   "cell_type": "code",
   "execution_count": null,
   "metadata": {},
   "outputs": [],
   "source": [
    "Your task is to remove all consecutive duplicate words from a string, leaving only first words entries. For example:\n",
    "\n",
    "\"alpha beta beta gamma gamma gamma delta alpha beta beta gamma gamma gamma delta\"\n",
    "\n",
    "--> \"alpha beta gamma delta alpha beta gamma delta\"\n",
    "\n",
    "\n",
    "def remove_consecutive_duplicates(s):\n",
    "    if len(s)==0:return ''\n",
    "    a=list(s.split())\n",
    "    print(a,len(a))\n",
    "    b=[]\n",
    "    for i in range(len(a)-1 ):\n",
    "        print(i,a[i],a[i+1])\n",
    "        if a[i]!=a[i+1]:\n",
    "            b.append(a[i ])\n",
    "    b.append(a[-1 ])        \n",
    "    return ' '.join(b)\n",
    "\n",
    "\n",
    "\n",
    "\n",
    "\n",
    "\n",
    "\n",
    "\n",
    "\n",
    "from itertools import groupby\n",
    "from operator import itemgetter\n",
    "\n",
    "def remove_consecutive_duplicates(s):\n",
    "    print(list(map(itemgetter(0), groupby(s.split()))))\n",
    "    return ' '.join(map(itemgetter(0), groupby(s.split())))\n",
    "\n",
    "\n",
    "def remove_consecutive_duplicates(s):\n",
    "    x=\"\"\n",
    "    return ' '.join(w for w in s.split() if x!=w and (x:=w))"
   ]
  }
 ],
 "metadata": {
  "kernelspec": {
   "display_name": "Python 3",
   "language": "python",
   "name": "python3"
  },
  "language_info": {
   "codemirror_mode": {
    "name": "ipython",
    "version": 3
   },
   "file_extension": ".py",
   "mimetype": "text/x-python",
   "name": "python",
   "nbconvert_exporter": "python",
   "pygments_lexer": "ipython3",
   "version": "3.7.6"
  }
 },
 "nbformat": 4,
 "nbformat_minor": 4
}
