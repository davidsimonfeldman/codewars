{
 "cells": [
  {
   "cell_type": "code",
   "execution_count": 8,
   "metadata": {
    "ExecuteTime": {
     "end_time": "2021-06-21T15:47:08.747638Z",
     "start_time": "2021-06-21T15:47:08.721969Z"
    }
   },
   "outputs": [
    {
     "data": {
      "text/plain": [
       "True"
      ]
     },
     "execution_count": 8,
     "metadata": {},
     "output_type": "execute_result"
    }
   ],
   "source": [
    "# # # A Mersenne prime is a prime number that can be represented as: Mn = 2n - 1. Therefore, every Mersenne prime is one less than a power of two.\n",
    "\n",
    "# # Write a function that will return whether the given integer n will produce a Mersenne prime or not.\n",
    "\n",
    "# # The tests will check random integers up to 2000.\n",
    "\n",
    "# from gmpy2 import is_prime\n",
    "# def valid_mersenne(n):\n",
    "#     return is_prime(2 ** n - 1)\n",
    "    \n",
    "    \n",
    "    \n",
    "# def valid_mersenne(n):\n",
    "#     return n in {2,3,5,7,13,17,19,31,61,89,107,127,521,607,1279}\n",
    "\n",
    "\n",
    "\n",
    "def valid_mersenne(n):\n",
    "    '''Currently using the Lucas-Lehmer test.'''\n",
    "    \n",
    "    if n < 2:\n",
    "        return False\n",
    "    \n",
    "    if n == 2:\n",
    "        return True\n",
    "    \n",
    "    mersenne = 2**n - 1\n",
    "    \n",
    "    residue = 4\n",
    "    for _ in range(n - 2):\n",
    "        residue = (residue * residue - 2) % mersenne\n",
    "    \n",
    "    return not residue\n",
    "\n",
    "valid_mersenne(61)"
   ]
  },
  {
   "cell_type": "code",
   "execution_count": null,
   "metadata": {},
   "outputs": [],
   "source": [
    "# "
   ]
  }
 ],
 "metadata": {
  "kernelspec": {
   "display_name": "Python 3",
   "language": "python",
   "name": "python3"
  },
  "language_info": {
   "codemirror_mode": {
    "name": "ipython",
    "version": 3
   },
   "file_extension": ".py",
   "mimetype": "text/x-python",
   "name": "python",
   "nbconvert_exporter": "python",
   "pygments_lexer": "ipython3",
   "version": "3.7.6"
  }
 },
 "nbformat": 4,
 "nbformat_minor": 4
}
