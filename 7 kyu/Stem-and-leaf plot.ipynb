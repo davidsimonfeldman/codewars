{
 "cells": [
  {
   "cell_type": "code",
   "execution_count": null,
   "metadata": {},
   "outputs": [],
   "source": [
    "A stem-and-leaf plot groups data points that have the same leading digit, resembling a histogram. \n",
    "For example, for the input [11, 35, 14, 9, 39, 23, 35], it might look something like this:\n",
    "stem | leaf\n",
    "-----------\n",
    "  0  | 9\n",
    "  1  | 1 4\n",
    "  2  | 3\n",
    "  3  | 5 5 9\n",
    "Some important things to notice:\n",
    "Any single-digit number, such as 9, has 0 as its stem;\n",
    "The leaves are presented in ascending order;\n",
    "Leaves can be repeated (as with the two 5's in the last row).\n",
    "Create a function called stem_and_leaf that, given a list of integers i as input (0 <= i <= 99), returns a Python dictionary containing a stem-and-leaf plot.\n",
    "Each key of the dictionary should be a stem and each value should be a list of leaves, following the format above.\n",
    "For the example above, the output would be:\n",
    "{0: [9], 1: [1, 4], 2: [3], 3: [5, 5, 9]}\n",
    "                        \n",
    "                        \n",
    "\n",
    "                        \n",
    "from collections import defaultdict\n",
    "def stem_and_leaf(data):\n",
    "    a = defaultdict(list)\n",
    "    for n in sorted(data):\n",
    "        b, c = divmod(n, 10)\n",
    "        a[b].append(c)\n",
    "    return a                        \n",
    "                        \n",
    "                        \n",
    "                        \n",
    "from collections import defaultdict\n",
    "\n",
    "def stem_and_leaf(data):\n",
    "    output = defaultdict(list)\n",
    "    for n in sorted(data):\n",
    "        output[n//10].append(n % 10)\n",
    "    return output                        "
   ]
  }
 ],
 "metadata": {
  "kernelspec": {
   "display_name": "Python 3",
   "language": "python",
   "name": "python3"
  },
  "language_info": {
   "codemirror_mode": {
    "name": "ipython",
    "version": 3
   },
   "file_extension": ".py",
   "mimetype": "text/x-python",
   "name": "python",
   "nbconvert_exporter": "python",
   "pygments_lexer": "ipython3",
   "version": "3.7.6"
  }
 },
 "nbformat": 4,
 "nbformat_minor": 4
}
