{
 "cells": [
  {
   "cell_type": "code",
   "execution_count": null,
   "metadata": {},
   "outputs": [],
   "source": [
    "*** No Loops Allowed ***\n",
    "You will be given an array (a) and a limit value (limit). You must check that all values in the array are below or equal to the limit value. If they are, return true. Else, return false.\n",
    "You can assume all values in the array are numbers.\n",
    "Do not use loops. Do not modify input array.\n",
    "Looking for more, loop-restrained fun? Check out the other kata in the series:\n",
    "https://www.codewars.com/kata/no-loops-2-you-only-need-one\n",
    "https://www.codewars.com/kata/no-loops-3-copy-within\n",
    "    \n",
    "    \n",
    "def small_enough(a, limit): \n",
    "    # your code here\n",
    "    return max(a)<=limit\n",
    "\n"
   ]
  }
 ],
 "metadata": {
  "kernelspec": {
   "display_name": "Python 3",
   "language": "python",
   "name": "python3"
  },
  "language_info": {
   "codemirror_mode": {
    "name": "ipython",
    "version": 3
   },
   "file_extension": ".py",
   "mimetype": "text/x-python",
   "name": "python",
   "nbconvert_exporter": "python",
   "pygments_lexer": "ipython3",
   "version": "3.7.6"
  }
 },
 "nbformat": 4,
 "nbformat_minor": 4
}
