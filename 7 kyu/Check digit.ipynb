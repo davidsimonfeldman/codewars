{
 "cells": [
  {
   "cell_type": "code",
   "execution_count": null,
   "metadata": {},
   "outputs": [],
   "source": [
    "In this Kata, you will be given a number, two indexes (index1 and index2) and a digit to look for. \n",
    "Your task will be to check if the digit exists in the number, within the indexes given.\n",
    "Be careful, the index2 is not necessarily more than the index1.\n",
    "index1 == 2 and index2 == 5 -> snippet from 2 to 5 positons;\n",
    "index1 == 5 and index2 == 2 -> snippet from 2 to 5 positons;\n",
    "number.length = 14;\n",
    "0 <= index1 < 14; \n",
    "0 <= index2 < 14;\n",
    "index2 is inclusive in search snippet; \n",
    "0 <= digit <= 9;\n",
    "Find more details below:\n",
    "checkDigit(12345678912345, 1, 0, 1) -> true, 1 exists in 12\n",
    "checkDigit(12345678912345, 0, 1, 2) -> true, 2 exists in 12\n",
    "checkDigit(67845123654000, 4, 2, 5) -> true, 4 exists in 845 \n",
    "checkDigit(66688445364856, 0, 0, 6) -> true, 6 exists in 6\n",
    "checkDigit(87996599994565, 2, 5, 1) -> false, 1 doesn't exist in 9965\n",
    "\n",
    "\n",
    "def check_digit(number, index1, index2, digit):\n",
    "    a,b=min( index1, index2),max( index1, index2)+1\n",
    "    print(a,b,number)\n",
    "    return str(number)[a:b].count(str(digit))>0\n",
    "\n",
    "\n",
    "def check_digit(n, idx1, idx2, digit):\n",
    "    return str(digit) in str(n)[idx1:idx2+1] + str(n)[idx2:idx1+1]"
   ]
  }
 ],
 "metadata": {
  "kernelspec": {
   "display_name": "Python 3",
   "language": "python",
   "name": "python3"
  },
  "language_info": {
   "codemirror_mode": {
    "name": "ipython",
    "version": 3
   },
   "file_extension": ".py",
   "mimetype": "text/x-python",
   "name": "python",
   "nbconvert_exporter": "python",
   "pygments_lexer": "ipython3",
   "version": "3.7.6"
  }
 },
 "nbformat": 4,
 "nbformat_minor": 4
}
