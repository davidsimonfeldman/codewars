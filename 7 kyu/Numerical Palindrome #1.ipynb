{
 "cells": [
  {
   "cell_type": "code",
   "execution_count": null,
   "metadata": {},
   "outputs": [],
   "source": [
    "A palindrome is a word, phrase, number, or other sequence of characters which reads the same backward as forward. Examples of numerical palindromes are:\n",
    "\n",
    "2332\n",
    "110011\n",
    "54322345\n",
    "\n",
    "For a given number num, write a function to test if it's a numerical palindrome or not and return a boolean (true if it is and false if not).\n",
    "\n",
    "Return \"Not valid\" if the input is not an integer or less than 0.\n",
    "\n",
    "\n",
    "\n",
    "\n",
    "\n",
    "\n",
    "\n",
    "\n",
    "\n",
    "def palindrome(num):\n",
    "    if type(num) != int or num < 0: return \"Not valid\"\n",
    "    s = str(num)\n",
    "    if s==s[::-1]:return True\n",
    "    return False\n",
    "\n",
    "\n",
    "\n",
    "\n",
    "\n",
    "\n",
    "def palindrome(num):\n",
    "    if type(num) is not int or num <1:\n",
    "        return \"Not valid\"\n",
    "    return num == int(str(num)[::-1])\n",
    "\n",
    "\n",
    "def palindrome(num):\n",
    "    return str(num) == str(num)[::-1] if type(num) == int and num > 0 else \"Not valid\"\n",
    "\n"
   ]
  }
 ],
 "metadata": {
  "kernelspec": {
   "display_name": "Python 3",
   "language": "python",
   "name": "python3"
  },
  "language_info": {
   "codemirror_mode": {
    "name": "ipython",
    "version": 3
   },
   "file_extension": ".py",
   "mimetype": "text/x-python",
   "name": "python",
   "nbconvert_exporter": "python",
   "pygments_lexer": "ipython3",
   "version": "3.7.6"
  }
 },
 "nbformat": 4,
 "nbformat_minor": 4
}
