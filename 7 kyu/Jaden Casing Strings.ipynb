{
 "cells": [
  {
   "cell_type": "code",
   "execution_count": null,
   "metadata": {},
   "outputs": [],
   "source": [
    "Jaden Smith, the son of Will Smith, is the star of films such as The Karate Kid (2010) and After Earth (2013). \n",
    "Jaden is also known for some of his philosophy that he delivers via Twitter. \n",
    "When writing on Twitter, he is known for almost always capitalizing every word. \n",
    "For simplicity, you'll have to capitalize each word, check out how contractions are expected to be in the example below.\n",
    "Your task is to convert strings to how they would be written by Jaden Smith. \n",
    "The strings are actual quotes from Jaden Smith, but they are not capitalized in the same way he originally typed them.\n",
    "Example:\n",
    "Not Jaden-Cased: \"How can mirrors be real if our eyes aren't real\"\n",
    "Jaden-Cased:     \"How Can Mirrors Be Real If Our Eyes Aren't Real\"\n",
    "    \n",
    "    \n",
    "def toJadenCase(s):\n",
    "    s= s.title()\n",
    "    a=''\n",
    "    for i in range(0,len(s)):\n",
    "        if s[i-1]==\"'\":\n",
    "            a+=s[i].lower()\n",
    "        else:a+=s[i]    \n",
    "    return a\n",
    "\n",
    "\n",
    "\n",
    "\n",
    "\n",
    "\n",
    "def toJadenCase(string):        \n",
    "    return \" \".join(w.capitalize() for w in string.split())\n",
    "\n",
    "\n",
    "\n",
    "import string\n",
    "def toJadenCase(NonJadenStrings):\n",
    "    return string.capwords(NonJadenStrings)"
   ]
  }
 ],
 "metadata": {
  "kernelspec": {
   "display_name": "Python 3",
   "language": "python",
   "name": "python3"
  },
  "language_info": {
   "codemirror_mode": {
    "name": "ipython",
    "version": 3
   },
   "file_extension": ".py",
   "mimetype": "text/x-python",
   "name": "python",
   "nbconvert_exporter": "python",
   "pygments_lexer": "ipython3",
   "version": "3.7.6"
  }
 },
 "nbformat": 4,
 "nbformat_minor": 4
}
