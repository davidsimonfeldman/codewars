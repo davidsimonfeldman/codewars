{
 "cells": [
  {
   "cell_type": "code",
   "execution_count": null,
   "metadata": {},
   "outputs": [],
   "source": [
    "Given an array, find the duplicates in that array, and return a new array of those duplicates. \n",
    "The elements of the returned array should appear in the order when they first appeared as duplicates.\n",
    "\n",
    "Note: numbers and their corresponding string representations should not be treated as duplicates (i.e., \"1\" != 1).\n",
    "\n",
    "Examples\n",
    "[1, 2, 4, 4, 3, 3, 1, 5, 3, \"5\"]  ==>  [4, 3, 1]\n",
    "[0, 1, 2, 3, 4, 5]                ==>  []\n",
    "\n",
    "\n",
    "\n",
    "def duplicates(arr):\n",
    "    #your code here\n",
    "    a=[]\n",
    "    for i in range(len(arr)):\n",
    "        if arr[:i+1].count(arr[i])>1 and arr[i] not in a : \n",
    "            a.append(arr[i])\n",
    "    return a\n",
    "\n",
    "\n",
    "def duplicates(arr):\n",
    "    res = []\n",
    "    for i, x in enumerate(arr):\n",
    "        if arr[:i + 1].count(x) > 1 and x not in res:\n",
    "            res.append(x)\n",
    "    return res"
   ]
  }
 ],
 "metadata": {
  "kernelspec": {
   "display_name": "Python 3",
   "language": "python",
   "name": "python3"
  },
  "language_info": {
   "codemirror_mode": {
    "name": "ipython",
    "version": 3
   },
   "file_extension": ".py",
   "mimetype": "text/x-python",
   "name": "python",
   "nbconvert_exporter": "python",
   "pygments_lexer": "ipython3",
   "version": "3.7.6"
  }
 },
 "nbformat": 4,
 "nbformat_minor": 4
}
