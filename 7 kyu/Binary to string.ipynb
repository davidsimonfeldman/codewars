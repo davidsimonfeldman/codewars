{
 "cells": [
  {
   "cell_type": "code",
   "execution_count": null,
   "metadata": {},
   "outputs": [],
   "source": [
    "Your computer has forgotten how to speak ASCII! (or Unicode, whatever) It can only communicate in binary, and it has something important to tell you. \n",
    "Write a function which will receive a long string of binary code and convert it to a string. Remember, in Python binary output starts with '0b'.\n",
    "\n",
    "As an example: binary_to_string('0b10000110b11000010b1110100') == 'Cat'\n",
    "\n",
    "Input may consist of upper and lower case letters and numbers, in binary form of course, as well as special symbols. The input to your function will always be one string of binary.\n",
    "\n",
    "\n",
    "def binary_to_string(binary):\n",
    "    # insert your code here\n",
    "    a=binary[2:].split('0b')\n",
    "    print(a)\n",
    "    b=list(map(lambda x:chr(int( x,2)),a))\n",
    "    return(''.join(b))\n",
    "\n",
    "\n",
    "def binary_to_string(binary):\n",
    "    return ''.join( chr(int(b, 2)) for b in binary[2:].split('0b') )"
   ]
  }
 ],
 "metadata": {
  "kernelspec": {
   "display_name": "Python 3",
   "language": "python",
   "name": "python3"
  },
  "language_info": {
   "codemirror_mode": {
    "name": "ipython",
    "version": 3
   },
   "file_extension": ".py",
   "mimetype": "text/x-python",
   "name": "python",
   "nbconvert_exporter": "python",
   "pygments_lexer": "ipython3",
   "version": "3.7.6"
  }
 },
 "nbformat": 4,
 "nbformat_minor": 4
}
