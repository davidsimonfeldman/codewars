{
 "cells": [
  {
   "cell_type": "code",
   "execution_count": null,
   "metadata": {},
   "outputs": [],
   "source": [
    "There exist two zeroes: +0 (or just 0) and -0.\n",
    "\n",
    "Write a function that returns true if the input number is -0 and false otherwise (True and False for Python).\n",
    "\n",
    "In JavaScript / TypeScript / Coffeescript the input will be a number.\n",
    "\n",
    "In Python / Java / C / NASM / Haskell / the input will be a float.\n",
    "\n",
    "def is_negative_zero(n):\n",
    "    return str(n) == '-0.0'\n",
    "\n",
    "def is_negative_zero(n):\n",
    "    print(n)\n",
    "    if str(n).count('-')>0 and str(n)[1]=='0':   return True\n",
    "    return False\n"
   ]
  }
 ],
 "metadata": {
  "kernelspec": {
   "display_name": "Python 3",
   "language": "python",
   "name": "python3"
  },
  "language_info": {
   "codemirror_mode": {
    "name": "ipython",
    "version": 3
   },
   "file_extension": ".py",
   "mimetype": "text/x-python",
   "name": "python",
   "nbconvert_exporter": "python",
   "pygments_lexer": "ipython3",
   "version": "3.7.6"
  }
 },
 "nbformat": 4,
 "nbformat_minor": 4
}
