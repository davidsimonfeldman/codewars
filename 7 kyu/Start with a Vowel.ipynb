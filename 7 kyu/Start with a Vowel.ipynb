{
 "cells": [
  {
   "cell_type": "code",
   "execution_count": null,
   "metadata": {
    "ExecuteTime": {
     "end_time": "2021-06-21T22:03:52.068375Z",
     "start_time": "2021-06-21T22:03:51.026859Z"
    }
   },
   "outputs": [],
   "source": [
    "Create a function that takes any sentence and redistributes the spaces (and adds additional spaces if needed) so that each word starts with a vowel.\n",
    "The letters should all be in the same order but every vowel in the sentence should be the start of a new word.\n",
    "The first word in the new sentence may start without a vowel. It should return a string in all lowercase with no punctuation (only alphanumeric characters).\n",
    "EXAMPLES 'It is beautiful weather today!' becomes 'it isb e a ut if ulw e ath ert od ay' 'Coding is great' becomes 'c od ing isgr e at' 'my number is 0208-533-2325'\n",
    "becomes 'myn umb er is02085332325'\n",
    "\n",
    "\n",
    "\n",
    "def vowel_start(st):\n",
    "    print((st))\n",
    "    st=''.join([x for x in st if x.isalnum()]).lower()\n",
    "     \n",
    "    # your code here\n",
    "    a=''\n",
    "    for x in st:\n",
    "        if x in 'aeiou':a+=' '+x\n",
    "        elif x in ' ':continue    \n",
    "        else: a+= x.lower()\n",
    "            \n",
    "    return a.lstrip()  \n",
    "\n",
    "\n",
    "\n",
    "def vowel_start(s): \n",
    "    r = ''\n",
    "    for letter in s:\n",
    "        if letter in 'aeiouAEIOU':\n",
    "            r+=' '+letter.lower()\n",
    "        elif letter.isalnum():\n",
    "            r+=letter.lower()\n",
    "    return r.lstrip(' ')\n",
    "\n",
    "\n",
    "\n",
    "def vowel_start(stg): \n",
    "    return \"\".join(f\"{' ' if c in 'aeiou' else ''}{c}\" for c in stg.lower() if c.isalnum()).lstrip()"
   ]
  }
 ],
 "metadata": {
  "kernelspec": {
   "display_name": "Python 3",
   "language": "python",
   "name": "python3"
  },
  "language_info": {
   "codemirror_mode": {
    "name": "ipython",
    "version": 3
   },
   "file_extension": ".py",
   "mimetype": "text/x-python",
   "name": "python",
   "nbconvert_exporter": "python",
   "pygments_lexer": "ipython3",
   "version": "3.7.6"
  }
 },
 "nbformat": 4,
 "nbformat_minor": 4
}
