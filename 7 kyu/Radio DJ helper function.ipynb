{
 "cells": [
  {
   "cell_type": "code",
   "execution_count": null,
   "metadata": {},
   "outputs": [],
   "source": [
    "The Problem\n",
    "James is a DJ at a local radio station.\n",
    "As it's getting to the top of the hour, he needs to find a song to play that will be short enough to fit in before the news block. \n",
    "He's got a database of songs that he'd like you to help him filter in order to do that.\n",
    "What To Do\n",
    "Create longestPossible(longest_possible in python and ruby) helper function that takes 1 integer argument which is a maximum length of a song in seconds.\n",
    "songs is an array of objects which are formatted as follows:\n",
    "{'artist': 'Artist', 'title': 'Title String', 'playback': '04:30'}\n",
    "You can expect playback value to be formatted exactly like above.\n",
    "Output should be a title of the longest song from the database that matches the criteria of not being longer than specified time.\n",
    "If there's no songs matching criteria in the database, return false.\n",
    "\n",
    "\n",
    "\n",
    "\n",
    "def longest_possible(playback):\n",
    "    songs=[{'artist': 'Marillion', 'title': 'Keyleigh', 'playback': '03:36'}, {'artist': 'Pink Floyd', 'title': 'Time', 'playback': '06:48'}, {'artist': 'Rush', 'title': 'YYZ', 'playback': '04:27'}, {'artist': 'Bonobo', 'title': 'Days To Come', 'playback': '03:50'}, {'artist': 'Coldplay', 'title': 'Yellow', 'playback': '04:32'}, {'artist': 'Bloc Party', 'title': 'Like Eating Glass', 'playback': '04:22'}, {'artist': 'The Killers', 'title': 'For Reasons Unknown', 'playback': '03:30'}, {'artist': 'Arctic Monkeys', 'title': 'Teddy Picker', 'playback': '03:25'}, {'artist': 'Joe Satriani', 'title': 'Surfing With The Alien', 'playback': '04:34'}]\n",
    "     \n",
    "    for x in  songs:\n",
    "         \n",
    "        x['playback2']=int(x['playback'][1])*60+int(x['playback'][3:])\n",
    "        \n",
    "    songs=sorted(songs ,key=lambda x:-x['playback2'] ) \n",
    "    print(songs,end='')\n",
    "    for x in songs:\n",
    "        \n",
    "        if x['playback2']<=playback:\n",
    "            return(x['title'])\n",
    "    return False  \n",
    "\n",
    "\n",
    "\n",
    "\n",
    "def calculate_seconds(s):\n",
    "    minutes, seconds = [int(x) for x in s.split(':')]\n",
    "    return minutes * 60 + seconds\n",
    "\n",
    "\n",
    "def longest_possible(playback):\n",
    "    candidates = [song for song in songs if calculate_seconds(song['playback']) <= playback]\n",
    "    return sorted(candidates, key=lambda x: calculate_seconds(x['playback']), reverse=True)[0]['title'] if len(candidates) > 0 else False\n",
    "\n",
    "\n",
    "\n",
    "def longest_possible(playback):\n",
    "    f = lambda song: sum(int(x) * 60 ** (1 - i) for i, x in enumerate(song['playback'].split(':'))) <= playback\n",
    "    return max(filter(f, songs), default={'title': False}, key=lambda x: x['playback'])['title']\n",
    "\n",
    "\n",
    "\n",
    "\n",
    "def longest_possible(playback):\n",
    "    song_list = [x for x in songs if x['playback'] <= (\"%02d:%02d\" % divmod(playback, 60))]\n",
    "    return max(song_list, key=lambda x:x[\"playback\"])[\"title\"] if song_list else False"
   ]
  }
 ],
 "metadata": {
  "kernelspec": {
   "display_name": "Python 3",
   "language": "python",
   "name": "python3"
  },
  "language_info": {
   "codemirror_mode": {
    "name": "ipython",
    "version": 3
   },
   "file_extension": ".py",
   "mimetype": "text/x-python",
   "name": "python",
   "nbconvert_exporter": "python",
   "pygments_lexer": "ipython3",
   "version": "3.7.6"
  }
 },
 "nbformat": 4,
 "nbformat_minor": 4
}
