{
 "cells": [
  {
   "cell_type": "code",
   "execution_count": null,
   "metadata": {},
   "outputs": [],
   "source": [
    "RegExp Fun #1 - When I miss few days of gym\n",
    "Disclaimer\n",
    "The background story of this Kata is 100% fiction. Any resemblance to real people or real events is nothing more than a coincidence and should be regarded as such.\n",
    "Background Story\n",
    "You are a person who loves to go to the gym everyday with the squad of people that you've known since early childhood.\n",
    "However, you recently contracted a sickness that forced you to stay at home for over a week.\n",
    "As you see your body getting weaker and weaker every day and as you see your biceps and triceps disappearing, you can't help but lay in bed and cry. \n",
    "You're usually an optimistic person but this time negative thoughts come to your head ...\n",
    "When I miss few days of gym\n",
    "Task\n",
    "As can be seen from the funny image above (or am I the only person to find the picture above hilarious?) there is lots of slang.\n",
    "Your task is to define a function gymSlang which accepts a string argument and does the following:\n",
    "Replace all instances of \"probably\" to \"prolly\"\n",
    "Replace all instances of \"i am\" to \"i'm\"\n",
    "Replace all instances of \"instagram\" to \"insta\"\n",
    "Replace all instances of \"do not\" to \"don't\"\n",
    "Replace all instances of \"going to\" to \"gonna\"\n",
    "Replace all instances of \"combination\" to \"combo\"\n",
    "Your replacement regexes should be case-sensitive, only replacing the words above with slang if the detected pattern is in lowercase.\n",
    "However, please note that apart from 100% lowercase matches, you will also have to replace matches that are correctly capitalized (e.g. \"Probably\" => \"Prolly\" or \"Instagram\" => \"Insta\").\n",
    "Finally, your code will be tested to make sure that you have used RegExp replace in your code.\n",
    "Enjoy :D\n",
    "    \n",
    "    \n",
    "    \n",
    "import re\n",
    "\n",
    "def gym_slang(phrase):\n",
    "    phrase=re.sub(r'([iI])nstagram', r'\\1nsta', phrase)\n",
    "    phrase=re.sub(r'([pP])robably', r'\\1rolly', phrase)\n",
    "    phrase=re.sub(r'([gG])oing to', r'\\1onna', phrase)\n",
    "    phrase=re.sub(r'([dD])o not', r\"\\1on't\", phrase)\n",
    "    phrase=re.sub(r'([iI]) am', r\"\\1'm\", phrase)\n",
    "    phrase=re.sub(r'([cC])ombination', r'\\1ombo', phrase)\n",
    "    return phrase    "
   ]
  }
 ],
 "metadata": {
  "kernelspec": {
   "display_name": "Python 3",
   "language": "python",
   "name": "python3"
  },
  "language_info": {
   "codemirror_mode": {
    "name": "ipython",
    "version": 3
   },
   "file_extension": ".py",
   "mimetype": "text/x-python",
   "name": "python",
   "nbconvert_exporter": "python",
   "pygments_lexer": "ipython3",
   "version": "3.7.6"
  }
 },
 "nbformat": 4,
 "nbformat_minor": 4
}
