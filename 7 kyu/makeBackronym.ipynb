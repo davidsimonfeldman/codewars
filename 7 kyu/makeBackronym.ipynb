{
 "cells": [
  {
   "cell_type": "code",
   "execution_count": null,
   "metadata": {},
   "outputs": [],
   "source": [
    "back·ro·nym\n",
    "An acronym deliberately formed from a phrase whose initial letters spell out a particular word or words, \n",
    "either to create a memorable name or as a fanciful explanation of a word's origin.\n",
    "\"Biodiversity Serving Our Nation\", or BISON\n",
    "(from https://en.oxforddictionaries.com/definition/backronym)\n",
    "Complete the function to create backronyms. Transform the given string (without spaces) to a backronym, using the \n",
    "preloaded dictionary and return a string of words, separated with a single space (but no trailing spaces).\n",
    "The keys of the preloaded dictionary are uppercase letters A-Z and the values are predetermined words, for example:\n",
    "dictionary[\"P\"] == \"perfect\"\n",
    "Examples\n",
    "\"dgm\" ==> \"disturbing gregarious mustache\"\n",
    "\"lkj\" ==> \"literal klingon joke\"\n",
    "\n",
    "\n",
    "\n",
    "def make_backronym(s):\n",
    "    #your code here\n",
    "    print(s)\n",
    "    dictionary={'A': 'awesome', 'B': 'beautiful', 'C': 'confident', 'D': 'disturbing', 'E': 'eager', 'F': 'fantastic', 'G': 'gregarious', 'H': 'hippy', 'I': 'ingestable', 'J': 'joke', 'K': 'klingon', 'L': 'literal', 'M': 'mustache', 'N': 'newtonian', 'O': 'oscillating', 'P': 'perfect', 'Q': 'queen', 'R': 'rant', 'S': 'stylish', 'T': 'turn', 'U': 'underlying', 'V': 'volcano', 'W': 'weird', 'X': 'xylophone', 'Y': 'yogic', 'Z': 'zero'}\n",
    "    print(dictionary)\n",
    "    a=''\n",
    "    s=s.upper()\n",
    "    for x in s:\n",
    "        print(x)\n",
    "        a+=dictionary[x]+' '\n",
    "    return a.strip() \n",
    "\n",
    "\n",
    "\n",
    "def make_backronym(acronym):\n",
    "    return ' '.join(dictionary[char.upper()] for char in acronym)\n",
    "\n",
    "\n",
    "\n",
    "def make_backronym(acronym):\n",
    "    return ' '.join(dictionary[d] for d in acronym.upper())\n",
    "\n",
    "\n",
    "def make_backronym(acronym):\n",
    "    #your code here\n",
    "    return \" \".join(dictionary[i.upper()] for i in acronym)"
   ]
  }
 ],
 "metadata": {
  "kernelspec": {
   "display_name": "Python 3",
   "language": "python",
   "name": "python3"
  },
  "language_info": {
   "codemirror_mode": {
    "name": "ipython",
    "version": 3
   },
   "file_extension": ".py",
   "mimetype": "text/x-python",
   "name": "python",
   "nbconvert_exporter": "python",
   "pygments_lexer": "ipython3",
   "version": "3.7.6"
  }
 },
 "nbformat": 4,
 "nbformat_minor": 4
}
