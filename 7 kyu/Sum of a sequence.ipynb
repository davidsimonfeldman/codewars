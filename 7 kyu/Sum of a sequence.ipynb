{
 "cells": [
  {
   "cell_type": "code",
   "execution_count": null,
   "metadata": {},
   "outputs": [],
   "source": [
    "Your task is to make function, which returns the sum of a sequence of integers.\n",
    "\n",
    "The sequence is defined by 3 non-negative values: begin, end, step.\n",
    "\n",
    "If begin value is greater than the end, function should returns 0\n",
    "\n",
    "Examples\n",
    "\n",
    "sequenceSum(2,2,2) === 2\n",
    "sequenceSum(2,6,2) === 12 // 2 + 4 + 6\n",
    "sequenceSum(1,5,1) === 15 // 1 + 2 + 3 + 4 + 5\n",
    "sequenceSum(1,5,3) === 5 // 1 + 4\n",
    "\n",
    "\n",
    "\n",
    "def sequence_sum(a, b, step):\n",
    "    print(a, b, step)\n",
    "    x = (b - a) // step\n",
    "    print(x)\n",
    "    if x < 0: return 0  \n",
    "    else :return ((x+1)*(x*step+2*a))//2\n",
    "    \n",
    "    \n",
    "    def sequence_sum(start, end, step):\n",
    "    return sum(range(start, end+1, step))"
   ]
  }
 ],
 "metadata": {
  "kernelspec": {
   "display_name": "Python 3",
   "language": "python",
   "name": "python3"
  },
  "language_info": {
   "codemirror_mode": {
    "name": "ipython",
    "version": 3
   },
   "file_extension": ".py",
   "mimetype": "text/x-python",
   "name": "python",
   "nbconvert_exporter": "python",
   "pygments_lexer": "ipython3",
   "version": "3.7.6"
  }
 },
 "nbformat": 4,
 "nbformat_minor": 4
}
