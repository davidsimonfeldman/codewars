{
 "cells": [
  {
   "cell_type": "code",
   "execution_count": null,
   "metadata": {},
   "outputs": [],
   "source": [
    "Yet another staple for the functional programmer. You have a sequence of values and some predicate for those values.\n",
    "You want to remove the longest prefix of elements such that the predicate is true for each element. We'll call this the dropWhile function. It accepts two arguments. \n",
    "The first is the sequence of values, and the second is the predicate function. The function does not change the value of the original sequence.\n",
    "\n",
    "def isEven(num):\n",
    "  return num % 2 == 0\n",
    "\n",
    "arr = [2,4,6,8,1,2,5,4,3,2]\n",
    "\n",
    "dropWhile(arr, isEven) == [1,2,5,4,3,2] # True\n",
    "Your task is to implement the dropWhile function. \n",
    "If you've got a span function lying around, this is a one-liner! Alternatively, if you have a takeWhile function on your hands, then combined with the dropWhile function,\n",
    "you can implement the span function in one line. \n",
    "This is the beauty of functional programming: there are a whole host of useful functions, many of which can be implemented in terms of each other.\n",
    "    \n",
    "    \n",
    "def drop_while(arr, pred):\n",
    "    #your code here\n",
    "    print(arr, (pred))\n",
    "    a=[]\n",
    "    for i in range(len(arr)):\n",
    "         \n",
    "        if pred(arr[i]):continue\n",
    "        if     not pred(arr[i]):\n",
    "            a.append(arr[i:])\n",
    "            break\n",
    "    b=[]\n",
    "    for x in a:\n",
    "        for y in x:\n",
    "            b.append(y)\n",
    "    return b\n",
    "\n",
    "\n",
    "def drop_while(arr, pred):\n",
    "    for i, v in enumerate(arr):\n",
    "        if pred(v):\n",
    "            continue\n",
    "        else:\n",
    "            return arr[i:]\n",
    "    return []"
   ]
  }
 ],
 "metadata": {
  "kernelspec": {
   "display_name": "Python 3",
   "language": "python",
   "name": "python3"
  },
  "language_info": {
   "codemirror_mode": {
    "name": "ipython",
    "version": 3
   },
   "file_extension": ".py",
   "mimetype": "text/x-python",
   "name": "python",
   "nbconvert_exporter": "python",
   "pygments_lexer": "ipython3",
   "version": "3.7.6"
  }
 },
 "nbformat": 4,
 "nbformat_minor": 4
}
