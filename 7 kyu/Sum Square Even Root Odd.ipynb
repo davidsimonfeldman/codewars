{
 "cells": [
  {
   "cell_type": "code",
   "execution_count": null,
   "metadata": {},
   "outputs": [],
   "source": [
    "Complete the function that takes a list of numbers (nums), as the only argument to the function.\n",
    "Take each number in the list and square it if it is even, or square root the number if it is odd. Take this new list and return the sum of it, rounded to two decimal places.\n",
    "The list will never be empty and will only contain values that are greater than or equal to zero.\n",
    "Good luck!\n",
    "\n",
    "\n",
    "def sum_square_even_root_odd(nums):\n",
    "    b=[]\n",
    "    a=sorted(nums)\n",
    "    print(a)\n",
    "    for x in a:\n",
    "        if x%2==0:\n",
    "            b.append(x**2)\n",
    "        else: b.append(x**0.5)\n",
    "    return round(sum(b),2)        \n",
    "    \n",
    "    \n",
    "    \n",
    "def sum_square_even_root_odd(nums):\n",
    "    return round(sum(n ** 2 if n % 2 == 0 else n ** 0.5 for n in nums), 2)\n",
    "\n",
    "\n",
    "def sum_square_even_root_odd(nums):\n",
    "    return round(sum(n**(0.5 if n % 2 else 2) for n in nums), 2)\n",
    "\n",
    "def sum_square_even_root_odd(nums):\n",
    "    return round(sum(a ** (2, 0.5)[a % 2] for a in nums), 2)    "
   ]
  }
 ],
 "metadata": {
  "kernelspec": {
   "display_name": "Python 3",
   "language": "python",
   "name": "python3"
  },
  "language_info": {
   "codemirror_mode": {
    "name": "ipython",
    "version": 3
   },
   "file_extension": ".py",
   "mimetype": "text/x-python",
   "name": "python",
   "nbconvert_exporter": "python",
   "pygments_lexer": "ipython3",
   "version": "3.7.6"
  }
 },
 "nbformat": 4,
 "nbformat_minor": 4
}
