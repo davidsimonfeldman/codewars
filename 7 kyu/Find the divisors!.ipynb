{
 "cells": [
  {
   "cell_type": "code",
   "execution_count": null,
   "metadata": {},
   "outputs": [],
   "source": [
    "Create a function named divisors/Divisors that takes an integer n > 1 and returns an array with all of the \n",
    "integer's divisors(except for 1 and the number itself), from smallest to largest. If the number is prime return the string '(integer) is prime'\n",
    "(null in C#) (use Either String a in Haskell and Result<Vec<u32>, String> in Rust).\n",
    "Example:\n",
    "divisors(12); #should return [2,3,4,6]\n",
    "divisors(25); #should return [5]\n",
    "divisors(13); #should return \"13 is prime\"\n",
    " \n",
    " def divisors(integer):\n",
    "    a=[]\n",
    "    for x in range(2,integer):\n",
    "        if integer %x==0:a.append(x)\n",
    "    if len(a)>0: return a\n",
    "    return str(integer) + ' is prime'\n",
    " \n",
    " \n",
    " \n",
    " \n",
    " def divisors(num):\n",
    "    l = [a for a in range(2,num) if num%a == 0]\n",
    "    if len(l) == 0:\n",
    "        return str(num) + \" is prime\"\n",
    "    return l\n",
    " \n",
    " \n",
    " def divisors(integer):\n",
    "  return [n for n in range(2, integer) if integer % n == 0] or '{} is prime'.format(integer)\n",
    "    "
   ]
  }
 ],
 "metadata": {
  "kernelspec": {
   "display_name": "Python 3",
   "language": "python",
   "name": "python3"
  },
  "language_info": {
   "codemirror_mode": {
    "name": "ipython",
    "version": 3
   },
   "file_extension": ".py",
   "mimetype": "text/x-python",
   "name": "python",
   "nbconvert_exporter": "python",
   "pygments_lexer": "ipython3",
   "version": "3.7.6"
  }
 },
 "nbformat": 4,
 "nbformat_minor": 4
}
