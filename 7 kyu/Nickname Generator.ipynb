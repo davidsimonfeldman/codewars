{
 "cells": [
  {
   "cell_type": "code",
   "execution_count": null,
   "metadata": {},
   "outputs": [],
   "source": [
    "Nickname Generator\n",
    "Write a function, nicknameGenerator that takes a string name as an argument and returns the first 3 or 4 letters as a nickname.\n",
    "If the 3rd letter is a consonant, return the first 3 letters.\n",
    "nickname(\"Robert\") //=> \"Rob\"\n",
    "nickname(\"Kimberly\") //=> \"Kim\"\n",
    "nickname(\"Samantha\") //=> \"Sam\"\n",
    "If the 3rd letter is a vowel, return the first 4 letters.\n",
    "nickname(\"Jeannie\") //=> \"Jean\"\n",
    "nickname(\"Douglas\") //=> \"Doug\"\n",
    "nickname(\"Gregory\") //=> \"Greg\"\n",
    "If the string is less than 4 characters, return \"Error: Name too short\".\n",
    "Notes:\n",
    "Vowels are \"aeiou\", so discount the letter \"y\".\n",
    "Input will always be a string.\n",
    "Input will always have the first letter capitalised and the rest lowercase (e.g. Sam).\n",
    "The input can be modified\n",
    "\n",
    "\n",
    "def nickname_generator(name):\n",
    "    #code goes here\n",
    "    if len(name)<4 :return \"Error: Name too short\"\n",
    "    if name[2] in ['a', 'e', 'i', 'o', 'u'] :return name[:4]\n",
    "    else :return name[:3]\n",
    "    \n",
    "    \n",
    "def nickname_generator(name):\n",
    "    return \"Error: Name too short\" if len(name) < 4 else name[:3+(name[2] in \"aeiuo\")]\n",
    "\n",
    "\n",
    "def nickname_generator(name):\n",
    "    return name[:3+(name[2] in 'aeiou')] if len(name) > 3 else 'Error: Name too short'    \n",
    "    "
   ]
  }
 ],
 "metadata": {
  "kernelspec": {
   "display_name": "Python 3",
   "language": "python",
   "name": "python3"
  },
  "language_info": {
   "codemirror_mode": {
    "name": "ipython",
    "version": 3
   },
   "file_extension": ".py",
   "mimetype": "text/x-python",
   "name": "python",
   "nbconvert_exporter": "python",
   "pygments_lexer": "ipython3",
   "version": "3.7.6"
  }
 },
 "nbformat": 4,
 "nbformat_minor": 4
}
