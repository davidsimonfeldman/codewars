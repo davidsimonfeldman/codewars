{
 "cells": [
  {
   "cell_type": "code",
   "execution_count": 1,
   "metadata": {
    "ExecuteTime": {
     "end_time": "2021-06-21T16:12:03.149424Z",
     "start_time": "2021-06-21T16:12:03.122424Z"
    }
   },
   "outputs": [
    {
     "ename": "SyntaxError",
     "evalue": "invalid syntax (<ipython-input-1-0896218f2a3e>, line 1)",
     "output_type": "error",
     "traceback": [
      "\u001b[1;36m  File \u001b[1;32m\"<ipython-input-1-0896218f2a3e>\"\u001b[1;36m, line \u001b[1;32m1\u001b[0m\n\u001b[1;33m    For a given large number (num), write a function which returns the number with the second half of digits changed to 0.\u001b[0m\n\u001b[1;37m        ^\u001b[0m\n\u001b[1;31mSyntaxError\u001b[0m\u001b[1;31m:\u001b[0m invalid syntax\n"
     ]
    }
   ],
   "source": [
    " \n",
    "For a given large number (num), write a function which returns the number with the second half of digits changed to 0.\n",
    "\n",
    "In cases where the number has an odd number of digits, the middle digit onwards should be changed to 0.\n",
    "\n",
    "Example:\n",
    "\n",
    "192827764920 --> 192827000000\n",
    "\n",
    "938473 --> 938000\n",
    "\n",
    "2837743 --> 2830000\n",
    "\n",
    "\n",
    "def manipulate(n):\n",
    "    print(len(str(n)))\n",
    "    if len(str(n))%2==0:\n",
    "        print(int(str(n)[:int(len(str(n))//2)]+len(str(n))//2*'0'))\n",
    "        return int(str(n)[:int(len(str(n))//2)]+len(str(n))//2*'0')\n",
    "    print(int(str(n)[:int(len(str(n))//2) ]+((len(str(n))//2)+1)*'0'))\n",
    "    return int(str(n)[:int(len(str(n))//2) ]+((len(str(n))//2)+1)*'0')\n",
    "\n",
    "\n",
    "\n",
    "def manipulate(n):\n",
    "    n = str(n)\n",
    "\n",
    "    middle = len(n) // 2\n",
    "    return int(n[:middle] + '0' * len(n[middle:]))\n",
    "\n",
    "\n",
    "def manipulate(n):\n",
    "    s = str(n)\n",
    "    L = len(s)\n",
    "    return int(s[:L//2]+'0'*(L- L//2))\n"
   ]
  }
 ],
 "metadata": {
  "kernelspec": {
   "display_name": "Python 3",
   "language": "python",
   "name": "python3"
  },
  "language_info": {
   "codemirror_mode": {
    "name": "ipython",
    "version": 3
   },
   "file_extension": ".py",
   "mimetype": "text/x-python",
   "name": "python",
   "nbconvert_exporter": "python",
   "pygments_lexer": "ipython3",
   "version": "3.7.6"
  }
 },
 "nbformat": 4,
 "nbformat_minor": 4
}
