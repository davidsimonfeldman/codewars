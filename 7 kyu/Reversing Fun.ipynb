{
 "cells": [
  {
   "cell_type": "code",
   "execution_count": null,
   "metadata": {},
   "outputs": [],
   "source": [
    "You are going to be given a string. Your job is to return that string in a certain order that I will explain below:\n",
    "\n",
    "Let's say you start with this: 012345\n",
    "\n",
    "The first thing you do is reverse it:543210\n",
    "Then you will take the string from the 1st position and reverse it again:501234\n",
    "Then you will take the string from the 2nd position and reverse it again:504321\n",
    "Then you will take the string from the 3rd position and reverse it again:504123\n",
    "\n",
    "Continue this pattern until you have done every single position, and then you will return the string you have created. For this particular number, you would return:504132\n",
    "\n",
    "#Input: A string of length 1 - 1000\n",
    "\n",
    "#Output: A correctly reordered string.\n",
    "\n",
    "\n",
    "\n",
    "def reverse_fun(n):\n",
    "    a=''\n",
    "    while(len(n)>1):\n",
    "        a=a+n[-1]\n",
    "        a=a+n[0]\n",
    "        n=n[1:-1]\n",
    "        print(n)\n",
    "    print(a   +n)    \n",
    "    return a   +n \n",
    "\n",
    "\n",
    "\n",
    "\n",
    "def reverse_fun(n):\n",
    "    for i in range(len(n)):\n",
    "        n = n[:i] + n[i:][::-1]\n",
    "    return n"
   ]
  }
 ],
 "metadata": {
  "kernelspec": {
   "display_name": "Python 3",
   "language": "python",
   "name": "python3"
  },
  "language_info": {
   "codemirror_mode": {
    "name": "ipython",
    "version": 3
   },
   "file_extension": ".py",
   "mimetype": "text/x-python",
   "name": "python",
   "nbconvert_exporter": "python",
   "pygments_lexer": "ipython3",
   "version": "3.7.6"
  }
 },
 "nbformat": 4,
 "nbformat_minor": 4
}
