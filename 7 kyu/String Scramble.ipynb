{
 "cells": [
  {
   "cell_type": "code",
   "execution_count": null,
   "metadata": {},
   "outputs": [],
   "source": [
    "Given a string and an array of index numbers, return the characters of the string rearranged to be in the order specified by the accompanying array.\n",
    "Ex:\n",
    "scramble('abcd', [0,3,1,2]) -> 'acdb'\n",
    "The string that you will be returning back will have: 'a' at index 0, 'b' at index 3, 'c' at index 1, 'd' at index 2, \n",
    "because the order of those characters maps to their corresponding numbers in the index array.\n",
    "In other words, put the first character in the string at the index described by the first element of the array\n",
    "You can assume that you will be given a string and array of equal length and both containing valid characters (A-Z, a-z, or 0-9).\n",
    "\n",
    "\n",
    "def scramble(s, arr):\n",
    "    # Implement me! :)\n",
    "    a=['0']*len(s)\n",
    "    print(a)\n",
    "     \n",
    "    for i in range(len(arr)):\n",
    "        a[arr[i]]=s[i]\n",
    "         \n",
    "        print(s[arr[i]])\n",
    "    return ''.join(a)\n",
    "\n",
    "\n",
    "def scramble(string, array):\n",
    "    return \"\".join(v for x,y in sorted(zip(array, string)))\n",
    "\n",
    "\n",
    "def scramble(string, array):\n",
    "    res = array[:]\n",
    "    for (i,a) in enumerate(array):\n",
    "        res[a]=string[i]\n",
    "    return \"\".join(res)"
   ]
  }
 ],
 "metadata": {
  "kernelspec": {
   "display_name": "Python 3",
   "language": "python",
   "name": "python3"
  },
  "language_info": {
   "codemirror_mode": {
    "name": "ipython",
    "version": 3
   },
   "file_extension": ".py",
   "mimetype": "text/x-python",
   "name": "python",
   "nbconvert_exporter": "python",
   "pygments_lexer": "ipython3",
   "version": "3.7.6"
  }
 },
 "nbformat": 4,
 "nbformat_minor": 4
}
