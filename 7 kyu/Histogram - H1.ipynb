{
 "cells": [
  {
   "cell_type": "code",
   "execution_count": null,
   "metadata": {},
   "outputs": [],
   "source": [
    "Background\n",
    "A 6-sided die is rolled a number of times and the results are plotted as a character-based histogram.\n",
    "\n",
    "Example:\n",
    "\n",
    "6|##### 5\n",
    "5|\n",
    "4|# 1\n",
    "3|########## 10\n",
    "2|### 3\n",
    "1|####### 7\n",
    "Task\n",
    "You will be passed the dice value frequencies, and your task is to write the code to return a string representing a histogram, \n",
    "so that when it is printed it has the same format as the example.\n",
    "\n",
    "Notes\n",
    "There are no trailing spaces on the lines\n",
    "All lines (including the last) end with a newline \\n\n",
    "A count is displayed beside each bar except where the count is 0\n",
    "The number of rolls may vary but there are never more than 100\n",
    "\n",
    "\n",
    "def histogram(results):\n",
    "    #your code here\n",
    "    print(results)\n",
    "    a=[]\n",
    "    i=6\n",
    "    for  x in  (results[::-1]):\n",
    "        print(x)\n",
    "        if x>0:\n",
    "            a.append(\"{}|{} {}\\n\".format(i, '#'*x, x))\n",
    "            i-=1\n",
    "        else:\n",
    "            a.append(\"{}|\\n\".format(i))\n",
    "            i-=1\n",
    "    return ''.join(a)    \n",
    " \n",
    "    \n",
    "    \n",
    "    def histogram(results):\n",
    "    hist = \"\"\n",
    "    for side, count in zip(range(1,7), results):\n",
    "        if count:\n",
    "            hist = \"{}|{} {}\\n\".format(side, '#'*count, count) + hist\n",
    "        else:\n",
    "            hist = \"{}|\\n\".format(side) + hist\n",
    "    return hist"
   ]
  }
 ],
 "metadata": {
  "kernelspec": {
   "display_name": "Python 3",
   "language": "python",
   "name": "python3"
  },
  "language_info": {
   "codemirror_mode": {
    "name": "ipython",
    "version": 3
   },
   "file_extension": ".py",
   "mimetype": "text/x-python",
   "name": "python",
   "nbconvert_exporter": "python",
   "pygments_lexer": "ipython3",
   "version": "3.7.6"
  }
 },
 "nbformat": 4,
 "nbformat_minor": 4
}
