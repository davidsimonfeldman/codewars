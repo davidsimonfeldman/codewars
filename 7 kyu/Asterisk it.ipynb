{
 "cells": [
  {
   "cell_type": "code",
   "execution_count": null,
   "metadata": {},
   "outputs": [],
   "source": [
    "Task\n",
    "You are given a function that should insert an asterisk (*) between every pair of even digits in the given input, and return it as a string. If the input is a sequence, concat the elements first as a string.\n",
    "\n",
    "Input\n",
    "The input can be an integer, a string of digits or a sequence containing integers only.\n",
    "\n",
    "Output\n",
    "Return a string.\n",
    "\n",
    "Examples\n",
    "5312708     -->  \"531270*8\"\n",
    "\"0000\"      -->  \"0*0*0*0\"\n",
    "[1, 4, 64]  -->  \"14*6*4\"\n",
    "\n",
    "\n",
    "def asterisc_it(n): \n",
    "    if type(n)==list:\n",
    "        n=''.join(map(str,n))\n",
    "    # your code here\n",
    "    a=''\n",
    "    n=str(n)\n",
    "    for i  in   range(len(n)) :\n",
    "         \n",
    "        if n[i] in '02468' and n[i-1] in '02468': \n",
    "            a+='*'+str(n[i])\n",
    "        else:a+=str(n[i])\n",
    "    print()\n",
    "    return a.lstrip('*')\n",
    "\n",
    "\n",
    "def asterisc_it(n): \n",
    "    if type(n) == list: n = \"\".join(str(i) for i in n)\n",
    "    if type(n) == int : n = str(n)\n",
    "    return \"\".join([a+\"*\" if int(a)%2==0 and int(b)%2 == 0 else a for a,b in zip(n,n[1:])]) + n[-1]\n"
   ]
  }
 ],
 "metadata": {
  "kernelspec": {
   "display_name": "Python 3",
   "language": "python",
   "name": "python3"
  },
  "language_info": {
   "codemirror_mode": {
    "name": "ipython",
    "version": 3
   },
   "file_extension": ".py",
   "mimetype": "text/x-python",
   "name": "python",
   "nbconvert_exporter": "python",
   "pygments_lexer": "ipython3",
   "version": "3.7.6"
  }
 },
 "nbformat": 4,
 "nbformat_minor": 4
}
