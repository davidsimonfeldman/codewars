{
 "cells": [
  {
   "cell_type": "code",
   "execution_count": null,
   "metadata": {
    "ExecuteTime": {
     "end_time": "2021-06-21T22:03:52.068375Z",
     "start_time": "2021-06-21T22:03:51.026859Z"
    }
   },
   "outputs": [],
   "source": [
    "\n",
    "\n",
    "\n",
    "Your task here is the find the GCF (Greatest Common Factor) of any two numbers passed into a method, which will return one integer answer as an output.\n",
    "\n",
    "Examples:\n",
    "\n",
    "find_GCF(4, 6) # Should return 2\n",
    "find_GCF(93, 186) # Should return 93\n",
    "find_GCF(20, 5) # Should return 5\n",
    "Here, inputs will always be natural numbers so there's no need to worry about negative values or zero.\n",
    "\n",
    "\n",
    "\n",
    "def find_GCF(x,y):\n",
    "    # Your code goes here! Have fun!\n",
    "    while(y):\n",
    "        x, y = y, x % y\n",
    "        print(x, y)\n",
    "    return x\n",
    "\n",
    "\n",
    "def find_GCF(a, b):\n",
    "    while b:\n",
    "        a, b = b, a%b\n",
    "    return a\n",
    "\n",
    "\n",
    "def find_GCF(a, b):\n",
    "    if b == 0: return a\n",
    "    return find_GCF(b,a%b)"
   ]
  }
 ],
 "metadata": {
  "kernelspec": {
   "display_name": "Python 3",
   "language": "python",
   "name": "python3"
  },
  "language_info": {
   "codemirror_mode": {
    "name": "ipython",
    "version": 3
   },
   "file_extension": ".py",
   "mimetype": "text/x-python",
   "name": "python",
   "nbconvert_exporter": "python",
   "pygments_lexer": "ipython3",
   "version": "3.7.6"
  }
 },
 "nbformat": 4,
 "nbformat_minor": 4
}
