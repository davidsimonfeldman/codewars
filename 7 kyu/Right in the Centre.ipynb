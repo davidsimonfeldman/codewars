{
 "cells": [
  {
   "cell_type": "code",
   "execution_count": null,
   "metadata": {},
   "outputs": [],
   "source": [
    "Right in the Center\n",
    "This is inspired by one of Nick Parlante's exercises on the CodingBat online code practice tool.\n",
    "\n",
    "Given a sequence of characters, does \"abc\" appear in the CENTER of the sequence?\n",
    "\n",
    "The sequence of characters could contain more than one \"abc\".\n",
    "\n",
    "To define CENTER, the number of characters in the sequence to the left and right of the \"abc\" (which is in the middle) must differ by at most one.\n",
    "\n",
    "If it is in the CENTER, return True. Otherwise, return False.\n",
    "\n",
    "Write a function as the solution for this problem. This kata looks simple, but it might not be easy.\n",
    "\n",
    "Example\n",
    "is_in_middle(\"AAabcBB\")  ->  True\n",
    "is_in_middle(\"AabcBB\")   ->  True\n",
    "is_in_middle(\"AabcBBB\")  ->  False\n",
    "\n",
    "\n",
    "def is_in_middle(s):\n",
    "    while len(s)>4:\n",
    "        print(s,len(s))\n",
    "        s = s[1:-1]\n",
    "        print(s,len(s))\n",
    "    return 'abc' in s\n",
    "\n",
    "\n",
    "\n",
    "def is_in_middle(s):\n",
    "    while len(s)>4:\n",
    "        s = s[1:-1]\n",
    "    return 'abc' in s\n",
    "\n",
    "def is_in_middle(seq):\n",
    "    mid, rem = divmod(len(seq), 2)\n",
    "    start = mid-1\n",
    "    end = start+3\n",
    "    if not rem: \n",
    "        start -= 1\n",
    "    return 'abc' in seq[start:end]\n"
   ]
  }
 ],
 "metadata": {
  "kernelspec": {
   "display_name": "Python 3",
   "language": "python",
   "name": "python3"
  },
  "language_info": {
   "codemirror_mode": {
    "name": "ipython",
    "version": 3
   },
   "file_extension": ".py",
   "mimetype": "text/x-python",
   "name": "python",
   "nbconvert_exporter": "python",
   "pygments_lexer": "ipython3",
   "version": "3.7.6"
  }
 },
 "nbformat": 4,
 "nbformat_minor": 4
}
