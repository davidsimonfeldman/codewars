{
 "cells": [
  {
   "cell_type": "code",
   "execution_count": null,
   "metadata": {
    "ExecuteTime": {
     "end_time": "2021-06-21T22:03:52.068375Z",
     "start_time": "2021-06-21T22:03:51.026859Z"
    }
   },
   "outputs": [],
   "source": [
    "Given an array of digital numbers, return a new array of length number containing the last even numbers from the original array (in the same order).\n",
    "The original array will be not empty and will contain at least \"number\" even numbers.\n",
    "For example:\n",
    "([1, 2, 3, 4, 5, 6, 7, 8, 9], 3) => [4, 6, 8]\n",
    "([-22, 5, 3, 11, 26, -6, -7, -8, -9, -8, 26], 2) => [-8, 26]\n",
    "([6, -25, 3, 7, 5, 5, 7, -3, 23], 1) => [6]\n",
    "\n",
    "\n",
    "def even_numbers(arr,n):\n",
    "    arr=[x for x in arr if  not x%2]\n",
    "    return arr[-n:]\n",
    "\n",
    "\n",
    "\n",
    "def even_numbers(arr,n):\n",
    "    return [i for i in arr if i % 2 == 0][-n:] \n",
    "\n",
    "\n",
    "def even_numbers(arr,n):\n",
    "    return list(filter(lambda n: n % 2 == 0, arr))[-n:]"
   ]
  }
 ],
 "metadata": {
  "kernelspec": {
   "display_name": "Python 3",
   "language": "python",
   "name": "python3"
  },
  "language_info": {
   "codemirror_mode": {
    "name": "ipython",
    "version": 3
   },
   "file_extension": ".py",
   "mimetype": "text/x-python",
   "name": "python",
   "nbconvert_exporter": "python",
   "pygments_lexer": "ipython3",
   "version": "3.7.6"
  }
 },
 "nbformat": 4,
 "nbformat_minor": 4
}
