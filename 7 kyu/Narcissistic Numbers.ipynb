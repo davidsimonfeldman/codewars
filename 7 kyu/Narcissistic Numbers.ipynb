{
 "cells": [
  {
   "cell_type": "code",
   "execution_count": null,
   "metadata": {},
   "outputs": [],
   "source": [
    "A Narcissistic Number is a number of length n in which the sum of its digits to the power of n is equal to the original number.\n",
    "If this seems confusing, refer to the example below.\n",
    "Ex: 153, where n = 3 (number of digits in 153)\n",
    "13 + 53 + 33 = 153\n",
    "Write a method is_narcissistic(i) (in Haskell: isNarcissistic :: Integer -> Bool) which returns whether or not i is a Narcissistic Number.\n",
    "\n",
    "\n",
    "\n",
    "\n",
    "def is_narcissistic(n):\n",
    "    num = str(n)\n",
    "    length = len(num)\n",
    "    return sum(int(a) ** length for a in num) == n\n",
    "\n",
    "\n",
    "\n",
    "\n",
    "def is_narcissistic(i):\n",
    "    return sum([int(n)**len(str(i)) for n in str(i)])==i\n",
    "\n",
    "\n",
    "def is_narcissistic(n):\n",
    "    t = str(n)\n",
    "    l = len(t)\n",
    "    \n",
    "    return n == sum(int(d) ** l for d in t)"
   ]
  }
 ],
 "metadata": {
  "kernelspec": {
   "display_name": "Python 3",
   "language": "python",
   "name": "python3"
  },
  "language_info": {
   "codemirror_mode": {
    "name": "ipython",
    "version": 3
   },
   "file_extension": ".py",
   "mimetype": "text/x-python",
   "name": "python",
   "nbconvert_exporter": "python",
   "pygments_lexer": "ipython3",
   "version": "3.7.6"
  }
 },
 "nbformat": 4,
 "nbformat_minor": 4
}
