{
 "cells": [
  {
   "cell_type": "code",
   "execution_count": null,
   "metadata": {
    "ExecuteTime": {
     "end_time": "2021-06-21T22:03:52.068375Z",
     "start_time": "2021-06-21T22:03:51.026859Z"
    }
   },
   "outputs": [],
   "source": [
    "Write a program to determine if the two given numbers are coprime.\n",
    "A pair of numbers are coprime if their greatest shared factor is 1.\n",
    "The inputs will always be two positive integers between 2 and 99.\n",
    "Examples\n",
    "20 and 27:\n",
    "Factors of 20: 1, 2, 4, 5, 10, 20\n",
    "Factors of 27: 1, 3, 9, 27\n",
    "Greatest shared factor: 1\n",
    "Result: 20 and 27 are coprime\n",
    "12 and 39:\n",
    "Factors of 12: 1, 2, 3, 4, 6, 12\n",
    "Factors of 39: 1, 3, 13, 39\n",
    "Greatest shared factor: 3\n",
    "Result: 12 and 39 are not coprimes\n",
    "    \n",
    "    \n",
    "def f(n):\n",
    "    i = 2\n",
    "    factors = []\n",
    "    while i * i <= n:\n",
    "        if n % i:\n",
    "            i += 1\n",
    "        else:\n",
    "            n //= i\n",
    "            factors.append(i)\n",
    "    if n > 1:\n",
    "        factors.append(n)\n",
    "        \n",
    "    return factors\n",
    "def are_coprime(n,m):\n",
    "    print(n,m)\n",
    "    print(f(n))\n",
    "    print(f(m))\n",
    "    # Enter code here\n",
    "    return not bool(set(f(m)) & set(f(n)))\n",
    "\n",
    "\n",
    "\n",
    "\n",
    "from fractions import gcd\n",
    "def are_coprime(n, m):\n",
    "    return gcd(n, m) == 1\n",
    "\n",
    "\n",
    "def are_coprime(n, m):\n",
    "    # All hail Euclid and his wonderful algorithm\n",
    "    while m > 0:\n",
    "        n, m = m, n % m\n",
    "    return n == 1\n",
    "\n",
    "from math import gcd\n",
    "def are_coprime(n , m):\n",
    "    return gcd(n, m) == 1\n",
    "\n",
    "\n",
    "def are_coprime(n, m):\n",
    "    factors = lambda n: [i for i in range(1, n + 1) if n % i == 0]\n",
    "    return sorted(set(factors(n)) & set(factors(m)))[-1] == 1\n"
   ]
  }
 ],
 "metadata": {
  "kernelspec": {
   "display_name": "Python 3",
   "language": "python",
   "name": "python3"
  },
  "language_info": {
   "codemirror_mode": {
    "name": "ipython",
    "version": 3
   },
   "file_extension": ".py",
   "mimetype": "text/x-python",
   "name": "python",
   "nbconvert_exporter": "python",
   "pygments_lexer": "ipython3",
   "version": "3.7.6"
  }
 },
 "nbformat": 4,
 "nbformat_minor": 4
}
