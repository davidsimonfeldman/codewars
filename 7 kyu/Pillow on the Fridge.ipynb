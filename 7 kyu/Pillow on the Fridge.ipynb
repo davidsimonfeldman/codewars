{
 "cells": [
  {
   "cell_type": "code",
   "execution_count": null,
   "metadata": {},
   "outputs": [],
   "source": [
    "Apparently \"Put A Pillow On Your Fridge Day is celebrated on the 29th of May each year, in Europe and the U.S.\n",
    "The day is all about prosperity, good fortune, and having bit of fun along the way.\"\n",
    "\n",
    "All seems very weird to me.\n",
    "\n",
    "Nevertheless, you will be given an array of two strings (s). First find out if the first string contains a fridge... \n",
    "(i've deemed this as being 'n', as it looks like it could hold something).\n",
    "\n",
    "Then check that the second string has a pillow - deemed 'B' (struggled to get the obvious pillow-esque character).\n",
    "\n",
    "If the pillow is on top of the fridge - it must be May 29th! Or a weird house... Return true; For clarity, on top means right on top, ie in the same index position.\n",
    "\n",
    "If the pillow is anywhere else in the 'house', return false;\n",
    "\n",
    "There may be multiple fridges, and multiple pillows. But you need at least 1 pillow ON TOP of a fridge to return true. Multiple pillows on fridges should return true also.\n",
    "\n",
    "100 random tests\n",
    " \n",
    " \n",
    " def pillow(s):\n",
    "    if \"n\" not in s[0] or \"B\" not in s[1]: return False\n",
    "    if len(s[0]) != len(s[1]):\n",
    "        return False\n",
    "    #your code here\n",
    "    print(s)\n",
    "    print()\n",
    "    return    ('n','B') in list(zip(s[0],s[1]))  \n",
    "    return False\n",
    "    \n",
    " \n",
    " \n",
    " def pillow(s):\n",
    "    return ('n','B') in zip(*s)\n",
    " \n",
    " \n",
    " \n",
    " def pillow(s):\n",
    "    return any(i == ('n', 'B') for i in zip(*s))\n",
    " "
   ]
  }
 ],
 "metadata": {
  "kernelspec": {
   "display_name": "Python 3",
   "language": "python",
   "name": "python3"
  },
  "language_info": {
   "codemirror_mode": {
    "name": "ipython",
    "version": 3
   },
   "file_extension": ".py",
   "mimetype": "text/x-python",
   "name": "python",
   "nbconvert_exporter": "python",
   "pygments_lexer": "ipython3",
   "version": "3.7.6"
  }
 },
 "nbformat": 4,
 "nbformat_minor": 4
}
