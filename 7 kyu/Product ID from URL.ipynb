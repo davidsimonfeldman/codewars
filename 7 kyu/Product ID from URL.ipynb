{
 "cells": [
  {
   "cell_type": "code",
   "execution_count": null,
   "metadata": {
    "ExecuteTime": {
     "end_time": "2021-06-21T22:03:52.068375Z",
     "start_time": "2021-06-21T22:03:51.026859Z"
    }
   },
   "outputs": [],
   "source": [
    "You need to write a code that will return product ID from string representing URL for that product's page in your online shop.\n",
    "All URLs are formatted similarly, first there is a domain exampleshop.com, then we have name of a product separated by dashes(-),\n",
    "then we have letter p indicating start of product ID, then an actual ID (no limit on length), and lastly 8-digit long representation of date when product got added followed by\n",
    ".html.It can look like this:\n",
    "exampleshop.com/fancy-coffee-cup-p-90764-12052019.html >> productID is 90764\n",
    "exampleshop.com/dry-water-just-add-water-to-get-water-p-147-24122017.html >> productID is 147\n",
    "exampleshop.com/public-toilet-proximity-radar-p-942312798-01012020.html >> productID is 942312798\n",
    "(NOTE: Product name can also contain letter p or digits)\n",
    "Your code needs to return the Product ID as a string. All URLs will be valid product URLs and all will follow above structure.\n",
    "\n",
    "\n",
    "\n",
    "def get_product_id(url):\n",
    "    print(url)\n",
    "    if url.count('-p-')>1:\n",
    "        a=url.index('-p-',url.index('-p-')+3)\n",
    "        print(a)\n",
    "        b=url.index('-',a+3)\n",
    "        print(b)\n",
    "        return url[a+3:b]\n",
    "    # your code here\n",
    "    a=url.index('-p-')\n",
    "    print(a)\n",
    "    b=url.index('-',a+3)\n",
    "    print(b)\n",
    "    return url[a+3:b]\n",
    "\n",
    "\n",
    "\n",
    "\n",
    "def get_product_id(url): \n",
    "    return url.split('-')[-2]\n",
    "\n",
    "\n",
    "\n",
    "\n",
    "def get_product_id(url: str) -> str:\n",
    "    return url[url.rindex(\"-p-\") + 3:-14]\n",
    "\n",
    "\n",
    "def get_product_id(url): \n",
    "    indexes = [i for i in range(len(url)) if url[i] == '-']\n",
    "    return url[indexes[-2] + 1:indexes[-1]]"
   ]
  }
 ],
 "metadata": {
  "kernelspec": {
   "display_name": "Python 3",
   "language": "python",
   "name": "python3"
  },
  "language_info": {
   "codemirror_mode": {
    "name": "ipython",
    "version": 3
   },
   "file_extension": ".py",
   "mimetype": "text/x-python",
   "name": "python",
   "nbconvert_exporter": "python",
   "pygments_lexer": "ipython3",
   "version": "3.7.6"
  }
 },
 "nbformat": 4,
 "nbformat_minor": 4
}
