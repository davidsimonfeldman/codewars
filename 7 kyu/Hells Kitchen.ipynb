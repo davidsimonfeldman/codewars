{
 "cells": [
  {
   "cell_type": "code",
   "execution_count": null,
   "metadata": {},
   "outputs": [],
   "source": [
    "Gordon Ramsay shouts. He shouts and swears. There may be something wrong with him.\n",
    "\n",
    "Anyway, you will be given a string of four words. Your job is to turn them in to Gordon language.\n",
    "\n",
    "Rules:\n",
    "\n",
    "Obviously the words should be Caps, Every word should end with '!!!!', Any letter 'a' or 'A' should become '@', Any other vowel should become '*'.\n",
    "\n",
    "\n",
    "\n",
    "\n",
    "def gordon(a):\n",
    "\n",
    "\n",
    "    # your code here\n",
    "    a=a.upper()\n",
    "    s=''\n",
    "    for x in a:\n",
    "        if x=='A':s+='@'\n",
    "        elif x  in 'EOUI':s+='*'\n",
    "        elif x==' ':s+= '!!!! '\n",
    "        else: s+=x\n",
    "            \n",
    "    return s+ '!!!!'\n",
    "\n",
    "\n",
    "\n",
    "\n",
    "\n",
    "def gordon(a):\n",
    "    return '!!!! '.join(a.upper().split()).translate(str.maketrans('AEIOU', '@****'))+'!!!!'\n",
    "\n",
    "\n",
    "\n",
    "def gordon(a):\n",
    "    a=a.upper()\n",
    "    a=a.replace(' ', '!!!! ')\n",
    "    a=a.replace('A', '@')\n",
    "    vowels = ['E', 'I', 'O', 'U']\n",
    "    for each in vowels:\n",
    "        a=a.replace(each, '*')\n",
    "    return a + '!!!!'"
   ]
  }
 ],
 "metadata": {
  "kernelspec": {
   "display_name": "Python 3",
   "language": "python",
   "name": "python3"
  },
  "language_info": {
   "codemirror_mode": {
    "name": "ipython",
    "version": 3
   },
   "file_extension": ".py",
   "mimetype": "text/x-python",
   "name": "python",
   "nbconvert_exporter": "python",
   "pygments_lexer": "ipython3",
   "version": "3.7.6"
  }
 },
 "nbformat": 4,
 "nbformat_minor": 4
}
