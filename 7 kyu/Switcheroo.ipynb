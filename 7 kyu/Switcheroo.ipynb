{
 "cells": [
  {
   "cell_type": "code",
   "execution_count": null,
   "metadata": {},
   "outputs": [],
   "source": [
    "Given a string made up of letters a, b, and/or c, switch the position of letters a and b (change a to b and vice versa). \n",
    "Leave any incidence of c untouched.\n",
    "\n",
    "Example:\n",
    "\n",
    "'acb' --> 'bca'\n",
    "'aabacbaa' --> 'bbabcabb'\n",
    "\n",
    "\n",
    "def switcheroo(s):\n",
    "    #your code here\n",
    "    a=''\n",
    "    for x in s:\n",
    "        if x=='a':a+='b'\n",
    "        if x=='b':a+='a'\n",
    "        if x=='c':a+='c'\n",
    "            \n",
    "    return a\n",
    "\n",
    "def switcheroo(s):\n",
    "    return s.translate(str.maketrans('ab','ba'))\n",
    "\n",
    "def switcheroo(string):\n",
    "    #your code here\n",
    "    result = ''\n",
    "    for letter in string:\n",
    "        if letter == 'a':\n",
    "            letter = 'b'\n",
    "        elif letter == 'b':\n",
    "            letter = 'a'\n",
    "        result += letter\n",
    "    return result\n",
    "\n",
    "def switcheroo(string):\n",
    "    return string.translate(str.maketrans('ab','ba'))\n"
   ]
  }
 ],
 "metadata": {
  "kernelspec": {
   "display_name": "Python 3",
   "language": "python",
   "name": "python3"
  },
  "language_info": {
   "codemirror_mode": {
    "name": "ipython",
    "version": 3
   },
   "file_extension": ".py",
   "mimetype": "text/x-python",
   "name": "python",
   "nbconvert_exporter": "python",
   "pygments_lexer": "ipython3",
   "version": "3.7.6"
  }
 },
 "nbformat": 4,
 "nbformat_minor": 4
}
