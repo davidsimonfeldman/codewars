{
 "cells": [
  {
   "cell_type": "code",
   "execution_count": null,
   "metadata": {},
   "outputs": [],
   "source": [
    "In this kata we are focusing on the Numpy python package. \n",
    "You must write a function called looper which takes three integers start, stop and number as input and returns a list from start to stop with number total values in the list.\n",
    "Five examples are shown below:\n",
    "looper(1, 5, 1) = [1.0]\n",
    "looper(1, 5, 2) = [1.0, 5.0]\n",
    "looper(1, 5, 3) = [1.0, 3.0, 5.0]\n",
    "looper(1, 5, 4) = [1.0, 2.333333333333333, 3.6666666666666665, 5.0]\n",
    "looper(1, 5, 5) = [1.0, 2.0, 3.0, 4.0, 5.0]\n",
    "\n",
    "\n",
    "import numpy as np\n",
    "def looper(start, stop, number):\n",
    "    print(start, stop, number)\n",
    "    return [i for i in np.linspace(start, stop, number)]\n",
    "\n",
    "\n",
    "\n",
    "\n",
    "import numpy as np\n",
    "def looper(start, stop, number):\n",
    "    return np.linspace(start, stop, number, dtype=np.float).tolist()"
   ]
  }
 ],
 "metadata": {
  "kernelspec": {
   "display_name": "Python 3",
   "language": "python",
   "name": "python3"
  },
  "language_info": {
   "codemirror_mode": {
    "name": "ipython",
    "version": 3
   },
   "file_extension": ".py",
   "mimetype": "text/x-python",
   "name": "python",
   "nbconvert_exporter": "python",
   "pygments_lexer": "ipython3",
   "version": "3.7.6"
  }
 },
 "nbformat": 4,
 "nbformat_minor": 4
}
