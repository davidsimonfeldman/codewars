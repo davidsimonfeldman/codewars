{
 "cells": [
  {
   "cell_type": "code",
   "execution_count": null,
   "metadata": {},
   "outputs": [],
   "source": [
    "Given a number, write a function to output its reverse digits. (e.g. given 123 the answer is 321)\n",
    "\n",
    "Numbers should preserve their sign; i.e. a negative number should still be negative when reversed.\n",
    "\n",
    "Examples\n",
    " 123 ->  321\n",
    "-456 -> -654\n",
    "1000 ->    1\n",
    "\n",
    "\n",
    "\n",
    "def reverse_number(n):\n",
    "    if abs(n)<10:return n\n",
    "    a=str(abs(n))\n",
    "    print(a[::-1])\n",
    "    if n<0:return int('-'+a[::-1] )\n",
    "    return int( a[::-1] )    \n",
    "    \n",
    "    \n",
    "def reverseNumber(n):\n",
    "    if n < 0: return -reverseNumber(-n)\n",
    "    return int(str(n)[::-1])    "
   ]
  }
 ],
 "metadata": {
  "kernelspec": {
   "display_name": "Python 3",
   "language": "python",
   "name": "python3"
  },
  "language_info": {
   "codemirror_mode": {
    "name": "ipython",
    "version": 3
   },
   "file_extension": ".py",
   "mimetype": "text/x-python",
   "name": "python",
   "nbconvert_exporter": "python",
   "pygments_lexer": "ipython3",
   "version": "3.7.6"
  }
 },
 "nbformat": 4,
 "nbformat_minor": 4
}
