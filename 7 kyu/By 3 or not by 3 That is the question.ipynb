{
 "cells": [
  {
   "cell_type": "code",
   "execution_count": 1,
   "metadata": {
    "ExecuteTime": {
     "end_time": "2021-07-06T12:58:36.050047Z",
     "start_time": "2021-07-06T12:58:36.031064Z"
    }
   },
   "outputs": [],
   "source": [
    "# A trick I learned in elementary school to determine whether or not a number was divisible by three is to add all of the integers in the number together and to divide the resulting sum by three. If there is no remainder from dividing the sum by three, then the original number is divisible by three as well.\n",
    "\n",
    "# Given a series of digits as a string, determine if the number represented by the string is divisible by three.\n",
    "\n",
    "# You can expect all test case arguments to be strings representing values greater than 0.\n",
    "\n",
    "# Example:\n",
    "\n",
    "# \"123\"      -> true\n",
    "# \"8409\"     -> true\n",
    "# \"100853\"   -> false\n",
    "# \"33333333\" -> true\n",
    "# \"7\"        -> false"
   ]
  },
  {
   "cell_type": "code",
   "execution_count": null,
   "metadata": {},
   "outputs": [],
   "source": [
    "def divisible_by_three(st): \n",
    "    # your code here\n",
    "    return int(st)%3==0"
   ]
  }
 ],
 "metadata": {
  "kernelspec": {
   "display_name": "Python 3",
   "language": "python",
   "name": "python3"
  },
  "language_info": {
   "codemirror_mode": {
    "name": "ipython",
    "version": 3
   },
   "file_extension": ".py",
   "mimetype": "text/x-python",
   "name": "python",
   "nbconvert_exporter": "python",
   "pygments_lexer": "ipython3",
   "version": "3.7.6"
  }
 },
 "nbformat": 4,
 "nbformat_minor": 4
}
