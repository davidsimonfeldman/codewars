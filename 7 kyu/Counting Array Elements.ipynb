{
 "cells": [
  {
   "cell_type": "code",
   "execution_count": null,
   "metadata": {},
   "outputs": [],
   "source": [
    "Write a function that takes an array and counts the number of each unique element present.\n",
    "\n",
    "count(['james', 'james', 'john']) \n",
    "#=> { 'james' => 2, 'john' => 1}\n",
    "\n",
    "\n",
    "\n",
    "from collections import Counter\n",
    "def count(array):\n",
    "    #your code here\n",
    "    f =  Counter(array)\n",
    "    print(f)\n",
    "    return f\n",
    "          \n",
    "    \n",
    "    \n",
    "def count(array):\n",
    "    return {x: array.count(x) for x in array}    "
   ]
  }
 ],
 "metadata": {
  "kernelspec": {
   "display_name": "Python 3",
   "language": "python",
   "name": "python3"
  },
  "language_info": {
   "codemirror_mode": {
    "name": "ipython",
    "version": 3
   },
   "file_extension": ".py",
   "mimetype": "text/x-python",
   "name": "python",
   "nbconvert_exporter": "python",
   "pygments_lexer": "ipython3",
   "version": "3.7.6"
  }
 },
 "nbformat": 4,
 "nbformat_minor": 4
}
