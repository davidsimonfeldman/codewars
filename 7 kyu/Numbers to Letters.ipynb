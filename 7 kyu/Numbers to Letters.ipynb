{
 "cells": [
  {
   "cell_type": "code",
   "execution_count": null,
   "metadata": {},
   "outputs": [],
   "source": [
    "Given an array of numbers (in string format), you must return a string. \n",
    "The numbers correspond to the letters of the alphabet in reverse order: a=26, z=1 etc.\n",
    "    You should also account for '!', '?' and ' ' that are represented by '27', '28' and '29' respectively.\n",
    "All inputs will be valid.\n",
    "\n",
    "\n",
    "def switcher(arr):\n",
    "    a=[int(x) for x in arr]\n",
    "    b=[]\n",
    "    for x in a:\n",
    "        if x not in [27,28,29]:\n",
    "            b.append(chr(-x+97+26 ))\n",
    "        elif  x==27 : b.append('!')\n",
    "        elif  x==28 : b.append('?')\n",
    "        elif  x==29 : b.append(' ')    \n",
    "    return''.join(b  )\n",
    "     \n",
    "    \n",
    "    \n",
    "def switcher(arr):\n",
    "    d = {str(i): chr(123-i) for i in range(1,27)}\n",
    "    d.update({'27':'!'})\n",
    "    d.update({'28':'?'})\n",
    "    d.update({'29':' '})\n",
    "    d.update({'0':''})\n",
    "    return ''.join([d[str(i)] for i in arr])\n",
    "\n",
    "\n",
    "\n",
    "def switcher(arr):\n",
    "    trans = { '26': 'a', '25': 'b', '24': 'c', '23': 'd', '22': 'e', '21': 'f',\n",
    "              '20': 'g', '19': 'h', '18': 'i', '17': 'j', '16': 'k', '15': 'l',\n",
    "              '14': 'm', '13': 'n', '12': 'o', '11': 'p', '10': 'q',  '9': 'r',\n",
    "              '8' : 's',  '7': 't',  '6': 'u',  '5': 'v',  '4': 'w',  '3': 'x',\n",
    "              '2' : 'y',  '1': 'z', '27': '!', '28': '?', '29': ' '}\n",
    "    return ''.join( trans[a] for a in arr if a in trans )"
   ]
  }
 ],
 "metadata": {
  "kernelspec": {
   "display_name": "Python 3",
   "language": "python",
   "name": "python3"
  },
  "language_info": {
   "codemirror_mode": {
    "name": "ipython",
    "version": 3
   },
   "file_extension": ".py",
   "mimetype": "text/x-python",
   "name": "python",
   "nbconvert_exporter": "python",
   "pygments_lexer": "ipython3",
   "version": "3.7.6"
  }
 },
 "nbformat": 4,
 "nbformat_minor": 4
}
