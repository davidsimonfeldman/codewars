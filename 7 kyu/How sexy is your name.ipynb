{
 "cells": [
  {
   "cell_type": "code",
   "execution_count": null,
   "metadata": {},
   "outputs": [],
   "source": [
    "How sexy is your name? Write a program that calculates how sexy one's name is according to the criteria below.\n",
    "\n",
    "There is a preloaded dictionary of letter scores called SCORES(python) / $SCORES (ruby). Add up the letters (case-insensitive) in your name to get your sexy score. \n",
    "Ignore other characters.\n",
    "    SCORES = {'A': 100, 'B': 14, 'C': 9, 'D': 28, 'E': 145, 'F': 12, 'G': 3,\n",
    "              'H': 10, 'I': 200, 'J': 100, 'K': 114, 'L': 100, 'M': 25,\n",
    "              'N': 450, 'O': 80, 'P': 2, 'Q': 12, 'R': 400, 'S': 113, 'T': 405,\n",
    "              'U': 11, 'V': 10, 'W': 10, 'X': 3, 'Y': 210, 'Z': 23}\n",
    "The program must return how sexy one's name is according to the \"Sexy score ranking\" chart.\n",
    "       score <= 60:   'NOT TOO SEXY'\n",
    " 61 <= score <= 300:  'PRETTY SEXY'\n",
    "301 <= score <= 599:  'VERY SEXY'\n",
    "       score >= 600:  'THE ULTIMATE SEXIEST'\n",
    "            \n",
    "            \n",
    "SCORES = {'A': 100, 'B': 14, 'C': 9, 'D': 28, 'E': 145, 'F': 12, 'G': 3,\n",
    "              'H': 10, 'I': 200, 'J': 100, 'K': 114, 'L': 100, 'M': 25,\n",
    "              'N': 450, 'O': 80, 'P': 2, 'Q': 12, 'R': 400, 'S': 113, 'T': 405,\n",
    "              'U': 11, 'V': 10, 'W': 10, 'X': 3, 'Y': 210, 'Z': 23}\n",
    "def sexy_name(name):\n",
    "    name=name.upper()\n",
    "    #calculate the sexy name score and return the sexy score ranking\n",
    "    if len(name)==0 or name == ' ':return 'NOT TOO SEXY'\n",
    "    a=0\n",
    "    for x in name:\n",
    "        if x in SCORES : \n",
    "            a+= SCORES[x]  \n",
    "    print(a)        \n",
    "    if a <= 60:return   'NOT TOO SEXY'\n",
    "    elif 61 <= a <= 300: return 'PRETTY SEXY'\n",
    "    elif 301 <= a <= 599: return 'VERY SEXY'\n",
    "    else:      return 'THE ULTIMATE SEXIEST'\n",
    "    \n",
    "    \n",
    "    \n",
    "def sexy_name(name):\n",
    "  s = sum(SCORES[letter] for letter in name.replace(' ', '').upper())\n",
    "  \n",
    "  if   s <= 60: return 'NOT TOO SEXY'\n",
    "  elif s <= 300: return 'PRETTY SEXY'\n",
    "  elif s <= 599: return 'VERY SEXY'\n",
    "  else: return 'THE ULTIMATE SEXIEST'    "
   ]
  }
 ],
 "metadata": {
  "kernelspec": {
   "display_name": "Python 3",
   "language": "python",
   "name": "python3"
  },
  "language_info": {
   "codemirror_mode": {
    "name": "ipython",
    "version": 3
   },
   "file_extension": ".py",
   "mimetype": "text/x-python",
   "name": "python",
   "nbconvert_exporter": "python",
   "pygments_lexer": "ipython3",
   "version": "3.7.6"
  }
 },
 "nbformat": 4,
 "nbformat_minor": 4
}
