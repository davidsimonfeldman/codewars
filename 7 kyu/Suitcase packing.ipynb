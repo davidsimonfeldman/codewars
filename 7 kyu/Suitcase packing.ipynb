{
 "cells": [
  {
   "cell_type": "code",
   "execution_count": null,
   "metadata": {},
   "outputs": [],
   "source": [
    "Mr. Square is going on a holiday. He wants to bring 2 of his favorite squares with him, so he put them in his rectangle suitcase.\n",
    "\n",
    "Write a function that, given the size of the squares and the suitcase, return whether the squares can fit inside the suitcase.\n",
    "\n",
    "fit_in(a,b,m,n)\n",
    "a,b are the sizes of the 2 squares\n",
    "m,n are the sizes of the suitcase\n",
    "Example\n",
    "fit_in(1,2,3,2) should return True\n",
    "fit_in(1,2,2,1) should return False\n",
    "fit_in(3,2,3,2) should return False\n",
    "fit_in(1,2,1,2) should return False\n",
    "\n",
    "\n",
    "\n",
    "def fit_in(a,b,m,n):\n",
    "    print((a,b,m,n))\n",
    "    # You may code here\n",
    "    print(a**2+b**2<=m*n)\n",
    "    return a**2+b**2<=m*n  and (a+b<=m or a+b<=n) and a<=m  and a<=n and b<=m  and b<=n \n",
    "\n",
    "\n",
    "def fit_in(a, b, m, n):\n",
    "  return max(a, b) <= min(m, n) and a + b <= max(m, n)\n",
    "\n",
    "\n",
    "def fit_in(a,b,m,n):\n",
    "    if m<a+b and n<a+b:\n",
    "        return False\n",
    "    if m<max([a,b]) or n<max([a,b]):\n",
    "        return False\n",
    "    return True"
   ]
  }
 ],
 "metadata": {
  "kernelspec": {
   "display_name": "Python 3",
   "language": "python",
   "name": "python3"
  },
  "language_info": {
   "codemirror_mode": {
    "name": "ipython",
    "version": 3
   },
   "file_extension": ".py",
   "mimetype": "text/x-python",
   "name": "python",
   "nbconvert_exporter": "python",
   "pygments_lexer": "ipython3",
   "version": "3.7.6"
  }
 },
 "nbformat": 4,
 "nbformat_minor": 4
}
