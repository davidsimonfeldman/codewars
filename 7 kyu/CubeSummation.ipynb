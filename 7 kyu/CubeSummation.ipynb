{
 "cells": [
  {
   "cell_type": "code",
   "execution_count": null,
   "metadata": {
    "ExecuteTime": {
     "end_time": "2021-06-21T22:03:52.068375Z",
     "start_time": "2021-06-21T22:03:51.026859Z"
    }
   },
   "outputs": [],
   "source": [
    "Write a function cubeSum(n, m) that will calculate a sum of cubes of numbers in a given range, starting from the smaller (but not including it) to the larger (including). The first argument is not necessarily the larger number.\n",
    "\n",
    "If both numbers are the same, then the range is empty and the result should be 0.\n",
    "\n",
    "Examples:\n",
    "\n",
    "cube_sum(2,3); # => 3^3 = 27\n",
    "cube_sum(3,2); # => 3^3 = 27\n",
    "cube_sum(0,4); # => 1^3+2^3+3^3+4^3 = 100\n",
    "cube_sum(17, 14); # => 15^3+16^3+17^3 = 12384\n",
    "cube_sum(9, 9); # => 0\n",
    "\n",
    "\n",
    "def cube_sum(n, m):\n",
    "    a=0\n",
    "    print(min(n, m),max(n, m))\n",
    "    for x in range(min(n, m)+1,max(n, m)+1):\n",
    "#         print(x,end=' ')\n",
    "        print(a,end=' ')\n",
    "        a+=x**3\n",
    "    return a   \n",
    "\n",
    "\n",
    "\n",
    "def cube_sum(n, m):\n",
    "    n, m = sorted([n, m])\n",
    "    return sum(i ** 3 for i in range(n + 1, m + 1))\n",
    "\n",
    "def cube_sum(n: int, m: int) -> int:\n",
    "    \"\"\"calculate a sum of cubes of numbers in a given range,\n",
    "    starting from the smaller (but not including it)\n",
    "    to the larger (including)\n",
    "    \"\"\"\n",
    "    if n > m:\n",
    "        n, m = m, n\n",
    "\n",
    "    result = sum(x**3 for x in range(n+1, m+1))\n",
    "    return result\n",
    "\n",
    "def cube_sum(n, m):    return sum([(i+1)**3 for i in range(min(n,m),max(n,m))])\n",
    "\n",
    "\n",
    "def cube_sum(n, m):\n",
    "    return abs(sum_cube(m) - sum_cube(n)) / 4\n",
    "\n",
    "\n",
    "def sum_cube(n):\n",
    "    return n * n * (n+1) * (n+1)"
   ]
  }
 ],
 "metadata": {
  "kernelspec": {
   "display_name": "Python 3",
   "language": "python",
   "name": "python3"
  },
  "language_info": {
   "codemirror_mode": {
    "name": "ipython",
    "version": 3
   },
   "file_extension": ".py",
   "mimetype": "text/x-python",
   "name": "python",
   "nbconvert_exporter": "python",
   "pygments_lexer": "ipython3",
   "version": "3.7.6"
  }
 },
 "nbformat": 4,
 "nbformat_minor": 4
}
