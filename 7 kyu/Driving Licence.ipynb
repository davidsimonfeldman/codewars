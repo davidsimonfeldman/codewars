{
 "cells": [
  {
   "cell_type": "code",
   "execution_count": null,
   "metadata": {
    "ExecuteTime": {
     "end_time": "2021-06-21T22:03:52.068375Z",
     "start_time": "2021-06-21T22:03:51.026859Z"
    }
   },
   "outputs": [],
   "source": [
    "Introduction\n",
    "In the United Kingdom, the driving licence is the official document which authorises its holder to operate various types of motor vehicle on highways and\n",
    "some other roads to which the public have access.\n",
    "In England, Scotland and Wales they are administered by the Driver and Vehicle Licensing Agency (DVLA) and in Northern Ireland by the Driver & Vehicle Agency (DVA).\n",
    "A driving licence is required in the UK by any person driving a vehicle on any highway or other road defined in s.192 Road Traffic Act 1988[1] \n",
    "irrespective of ownership of the land over which the road passes, thus including many which allow the public to pass over private land;\n",
    "similar requirements apply in Northern Ireland under the Road Traffic (Northern Ireland) Order 1981. (Source Wikipedia)\n",
    "Driving\n",
    "Task\n",
    "The UK driving number is made up from the personal details of the driver. The individual letters and digits can be code using the below information\n",
    "Rules\n",
    "1–5: The first five characters of the surname (padded with 9s if less than 5 characters)\n",
    "6: The decade digit from the year of birth (e.g. for 1987 it would be 8)\n",
    "7–8: The month of birth (7th character incremented by 5 if driver is female i.e. 51–62 instead of 01–12)\n",
    "9–10: The date within the month of birth\n",
    "11: The year digit from the year of birth (e.g. for 1987 it would be 7)\n",
    "12–13: The first two initials of the first name and middle name, padded with a 9 if no middle name\n",
    "14: Arbitrary digit – usually 9, but decremented to differentiate drivers with the first 13 characters in common. We will always use 9\n",
    "15–16: Two computer check digits. We will always use \"AA\"\n",
    "Your task is to code a UK driving license number using an Array of data. The Array will look like\n",
    "data = [\"John\",\"James\",\"Smith\",\"01-Jan-2000\",\"M\"]\n",
    "Where the elements are as follows\n",
    "0 = Forename\n",
    "1 = Middle Name (if any)\n",
    "2 = Surname\n",
    "3 = Date of Birth (In the format Day Month Year, this could include the full Month name or just shorthand ie September or Sep)\n",
    "4 = M-Male or F-Female\n",
    "\n",
    "\n",
    "\n",
    "\n",
    "\n",
    "def driver(data):\n",
    "    m=['nul','Jan','Feb','Mar','Apr','May','Jun','Jul','Aug','Sep','Oct','Nov','Dec']\n",
    "    n=(data[2].upper() +'99999')[:5]\n",
    "    d=data[3][-2]\n",
    "    m=m.index(data[-2][3:6]) +(50 if data[-1] == 'F' else 0)    \n",
    "    date=data[-2][:2]\n",
    "    y=data[-2][-1]\n",
    "    inits=data[0][0] + (data[1][0] if data[1] else '9')    \n",
    "    return '{}{}{:02d}{}{}{}9AA'.format(n,d,m,date,y,inits)\n",
    "\n",
    "\n",
    "\n",
    "\n",
    "\n",
    "\n",
    "\n",
    "months = \"Jan Feb Mar Apr May Jun Jul Aug Sep Oct Nov Dec\".split()\n",
    "\n",
    "def driver(data):\n",
    "    first, middle, surname, birth, sex = data\n",
    "    day, month, year = birth.split(\"-\")\n",
    "    \n",
    "    return \"%s%s%02d%s%s%s%s9AA\" % ((surname.upper() + \"9999\")[:5],\n",
    "            year[-2], months.index(month[:3]) + (51 if sex == \"F\" else 1),\n",
    "            day, year[-1], first[0], (middle + \"9\")[0])"
   ]
  }
 ],
 "metadata": {
  "kernelspec": {
   "display_name": "Python 3",
   "language": "python",
   "name": "python3"
  },
  "language_info": {
   "codemirror_mode": {
    "name": "ipython",
    "version": 3
   },
   "file_extension": ".py",
   "mimetype": "text/x-python",
   "name": "python",
   "nbconvert_exporter": "python",
   "pygments_lexer": "ipython3",
   "version": "3.7.6"
  }
 },
 "nbformat": 4,
 "nbformat_minor": 4
}
