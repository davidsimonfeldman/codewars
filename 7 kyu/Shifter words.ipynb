{
 "cells": [
  {
   "cell_type": "code",
   "execution_count": null,
   "metadata": {},
   "outputs": [],
   "source": [
    "You probably know that some characters written on a piece of paper, after turning this sheet 180 degrees, can be read, although sometimes in a different way. So, uppercase letters \"H\", \"I\", \"N\", \"O\", \"S\", \"X\", \"Z\" after rotation are not changed, the letter \"M\" becomes a \"W\", and Vice versa, the letter \"W\" becomes a \"M\".\n",
    "\n",
    "We will call a word \"shifter\" if it consists only of letters \"H\", \"I\", \"N\", \"O\", \"S\", \"X\", \"Z\", \"M\" and \"W\". After turning the sheet, this word can also be read, although in a different way. So, the word \"WOW \"turns into the word \"MOM\". On the other hand, the word \"HOME\" is not a shifter.\n",
    "\n",
    "Find the number of unique shifter words in the input string (without duplicates). All shifters to be counted, even if they are paired (like \"MOM\" and \"WOW\"). String contains only uppercase letters.\n",
    "\n",
    "Examples\n",
    "shifter(\"SOS IN THE HOME\") == 2 # shifter words are \"SOS\" and \"IN\"\n",
    "shifter(\"WHO IS SHIFTER AND WHO IS NO\") == 3 # shifter words are \"WHO\", \"IS\", \"NO\"\n",
    "shifter(\"TASK\") == 0 # no shifter words\n",
    "shifter(\"\") == 0 # no shifter words in empty string\n",
    "\n",
    "\n",
    "\n",
    "def shifter(st): \n",
    "    # your code here\n",
    "    a=0\n",
    "     \n",
    "    for x in (list(set((list(st.split()) )))):\n",
    "        if set(x) <= set('HINOSXZMW'):a+=1\n",
    "    return a    \n",
    "\n",
    "\n",
    "\n",
    "def shifter(st): \n",
    "    return sum(all(elem in \"HIMNOSWXZ\" for elem in x) for x in set(st.split()))\n",
    "\n",
    "\n",
    "\n",
    "def shifter(st): \n",
    "    shifters = set([\"H\", \"I\", \"N\", \"O\", \"S\", \"X\", \"Z\", \"M\",\"W\"])\n",
    "    words = set(st.upper().split())\n",
    "    return sum([1 for word in words if shifters.issuperset(set(word))])"
   ]
  }
 ],
 "metadata": {
  "kernelspec": {
   "display_name": "Python 3",
   "language": "python",
   "name": "python3"
  },
  "language_info": {
   "codemirror_mode": {
    "name": "ipython",
    "version": 3
   },
   "file_extension": ".py",
   "mimetype": "text/x-python",
   "name": "python",
   "nbconvert_exporter": "python",
   "pygments_lexer": "ipython3",
   "version": "3.7.6"
  }
 },
 "nbformat": 4,
 "nbformat_minor": 4
}
