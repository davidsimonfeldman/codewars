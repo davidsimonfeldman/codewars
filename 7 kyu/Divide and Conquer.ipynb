{
 "cells": [
  {
   "cell_type": "code",
   "execution_count": null,
   "metadata": {},
   "outputs": [],
   "source": [
    "Given a mixed array of number and string representations of integers, add up the string integers and subtract this from the total of the non-string integers.\n",
    "\n",
    "Return as a number.\n",
    "\n",
    "\n",
    "def div_con(nums):\n",
    "    # your code here\n",
    "    a=[]\n",
    "    b=[]\n",
    "    for x in nums:\n",
    "        if isinstance(x,int):a.append(x)\n",
    "        if isinstance(x,str):b.append(x)\n",
    "            \n",
    "    b=[int(x) for x in b ]\n",
    "    return  sum(a)-sum(b)\n",
    "\n",
    "\n",
    "\n",
    "def div_con(lst):\n",
    "    return sum(n if isinstance(n, int) else -int(n) for n in lst)"
   ]
  }
 ],
 "metadata": {
  "kernelspec": {
   "display_name": "Python 3",
   "language": "python",
   "name": "python3"
  },
  "language_info": {
   "codemirror_mode": {
    "name": "ipython",
    "version": 3
   },
   "file_extension": ".py",
   "mimetype": "text/x-python",
   "name": "python",
   "nbconvert_exporter": "python",
   "pygments_lexer": "ipython3",
   "version": "3.7.6"
  }
 },
 "nbformat": 4,
 "nbformat_minor": 4
}
