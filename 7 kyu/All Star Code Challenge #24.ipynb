{
 "cells": [
  {
   "cell_type": "code",
   "execution_count": null,
   "metadata": {},
   "outputs": [],
   "source": [
    "This Kata is intended as a small challenge for my students\n",
    "\n",
    "All Star Code Challenge #24\n",
    "\n",
    "Your friend David is an architect who is working on a triangle-focused design. He needs a quick way for knowing the measurement of a right triangle's side, only knowing two of the sides.\n",
    "\n",
    "He knows about the Pythagorean Theorem, but is too lazy to do the math. Help him by making 2 functions to ease his troubles.\n",
    "\n",
    "Create 2 functions:\n",
    "\n",
    "hypotenuse(), which takes 2 integer arguments, the length of two regular sides of a right triangle, and returns the length of the missing side, the hypotenuse, as a number.\n",
    "\n",
    "leg(), which takes 2 integer arguments, the first being the length of the hypotenuse, and the second being the length of a regular side of a right triangle. This function should return the length of the missing regular side, as a number.\n",
    "\n",
    "hypotenuse(3,4) // => 5\n",
    "leg(5,3) // => 4\n",
    "https://en.wikipedia.org/wiki/Pythagorean_theorem\n",
    "\n",
    "Note: Do NOT round the ouput number\n",
    "You do not have to verify if the input values are \"proper\", assume them to be non-zero integers\n",
    "\n",
    "\n",
    "from math import sqrt\n",
    "def hypotenuse(a, b):\n",
    "    # Put your code right here\n",
    "    return sqrt(a**2 + b**2)\n",
    "\n",
    "def leg(c, a):\n",
    "    # And right here\n",
    "    return sqrt(c**2 - a**2)\n",
    "\n",
    "\n",
    "\n",
    "import math\n",
    "\n",
    "def hypotenuse(a, b):\n",
    "    return math.hypot(a, b)\n",
    "\n",
    "def leg(c, a):\n",
    "    return (c ** 2 - a ** 2) ** .5"
   ]
  }
 ],
 "metadata": {
  "kernelspec": {
   "display_name": "Python 3",
   "language": "python",
   "name": "python3"
  },
  "language_info": {
   "codemirror_mode": {
    "name": "ipython",
    "version": 3
   },
   "file_extension": ".py",
   "mimetype": "text/x-python",
   "name": "python",
   "nbconvert_exporter": "python",
   "pygments_lexer": "ipython3",
   "version": "3.7.6"
  }
 },
 "nbformat": 4,
 "nbformat_minor": 4
}
