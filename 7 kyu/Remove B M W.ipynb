{
 "cells": [
  {
   "cell_type": "code",
   "execution_count": null,
   "metadata": {},
   "outputs": [],
   "source": [
    "It happened decades before Snapchat, years before Twitter and even before Facebook. Targeted advertising was a bit of a challenge back then.\n",
    "One day, the marketing professor at my university told us a story that I am yet to confirm using reliable sources.\n",
    "Nevertheless, I retold the story to dozens of my students already, so, sorry BMW if it is all a big lie.\n",
    "Allegedly, BMW, in an attempt to target the educated, produced billboard posters featuring the English alphabet with three letters missing: B, M and W.\n",
    "Needless to say, many were confused, some to the extent of road accidents.\n",
    "Your task is to write a function that takes one parameter str that MUST be a string and removes all capital and small letters B, M and W.\n",
    "If data of the wrong data type was sent as a parameter the function must throw an error with the following specific message:\n",
    "TypeError(\"This program only works for text.\")\n",
    "For Python here's a good resource you might need for the exception type ;)\n",
    "\n",
    "\n",
    "\n",
    "def remove_bmw(s):\n",
    "    if type(s)!=str: \n",
    "        raise TypeError(\"This program only works for text.\")\n",
    "    print(s)\n",
    "    for x in s:\n",
    "        if x in ['B','M','W','b','m','w']:\n",
    "            s=s.replace(x,'')\n",
    "    return s\n",
    "\n",
    "\n",
    "def remove_bmw(string):\n",
    "    if string!=str(string):\n",
    "        return 'This program only works for text'\n",
    "    string = string.replace('b','')\n",
    "    string = string.replace('m','')\n",
    "    string = string.replace('w','')\n",
    "    string = string.replace('B','')\n",
    "    string = string.replace('M','')\n",
    "    string = string.replace('W','')\n",
    "    try:\n",
    "        return string\n",
    "    except:\n",
    "        return 'This program only works for text'"
   ]
  }
 ],
 "metadata": {
  "kernelspec": {
   "display_name": "Python 3",
   "language": "python",
   "name": "python3"
  },
  "language_info": {
   "codemirror_mode": {
    "name": "ipython",
    "version": 3
   },
   "file_extension": ".py",
   "mimetype": "text/x-python",
   "name": "python",
   "nbconvert_exporter": "python",
   "pygments_lexer": "ipython3",
   "version": "3.7.6"
  }
 },
 "nbformat": 4,
 "nbformat_minor": 4
}
