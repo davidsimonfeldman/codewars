{
 "cells": [
  {
   "cell_type": "code",
   "execution_count": null,
   "metadata": {},
   "outputs": [],
   "source": [
    "Program the function distance(p1, p2) which returns the distance between the points p1 and p2 in n-dimensional space. p1 and p2 will be given as arrays.\n",
    "\n",
    "Your program should work for all lengths of arrays, and should return -1 if the arrays aren't of the same length or if both arrays are empty sets.\n",
    "\n",
    "If you don't know how to measure the distance between two points, go here: http://mathworld.wolfram.com/Distance.html\n",
    "\n",
    "\n",
    "\n",
    "def distance(p1, p2):\n",
    "    if len(p1)!=len(p2):return -1\n",
    "\n",
    "    \n",
    "    a=list(zip(p1, p2))\n",
    "    print(a)\n",
    "    if a:\n",
    "        b=[]\n",
    "        for x in a:\n",
    "            print(x)\n",
    "            b.append((abs(x[0]-x[1]))**2)\n",
    "        return sum(b)**0.5\n",
    "    return -1\n",
    "\n",
    "\n",
    "def distance(p1, p2):\n",
    "    return sum((a - b) ** 2 for a, b in zip(p1, p2)) ** 0.5 if len(p1) == len(p2) > 0 else -1\n",
    "\n",
    "\n",
    "def distance(p1, p2):\n",
    "    from functools import reduce\n",
    "    from math import hypot\n",
    "    if not p1 or len(p1) != len(p2): return -1\n",
    "    return reduce(hypot, (x-y for x,y in zip(p1, p2)))\n"
   ]
  }
 ],
 "metadata": {
  "kernelspec": {
   "display_name": "Python 3",
   "language": "python",
   "name": "python3"
  },
  "language_info": {
   "codemirror_mode": {
    "name": "ipython",
    "version": 3
   },
   "file_extension": ".py",
   "mimetype": "text/x-python",
   "name": "python",
   "nbconvert_exporter": "python",
   "pygments_lexer": "ipython3",
   "version": "3.7.6"
  }
 },
 "nbformat": 4,
 "nbformat_minor": 4
}
