{
 "cells": [
  {
   "cell_type": "code",
   "execution_count": null,
   "metadata": {},
   "outputs": [],
   "source": [
    "Your task is to write an update for a lottery machine.\n",
    "Its current version produces a sequence of random letters and integers (passed as a string to the function).\n",
    "Your code must filter out all letters and return unique integers as a string, in their order of first appearance. \n",
    "If there are no integers in the string return \"One more run!\"\n",
    "\n",
    "Examples\n",
    "\"hPrBKWDH8yc6Lt5NQZWQ\"  -->  \"865\"\n",
    "\"ynMAisVpHEqpqHBqTrwH\"  -->  \"One more run!\"\n",
    "\"555\"                   -->  \"5\"\n",
    "\n",
    "\n",
    "\n",
    "def lottery(s):\n",
    "    # your code here\n",
    "    a=''\n",
    "    for x in s:\n",
    "        if x.isdigit()  and x not in a : a+=x\n",
    "    if len(a)==0:return'One more run!'\n",
    "    return a\n",
    "\n",
    "def lottery(stg):\n",
    "    return \"\".join(c for c in sorted(set(stg), key=stg.index) if c.isdecimal()) or \"One more run!\""
   ]
  }
 ],
 "metadata": {
  "kernelspec": {
   "display_name": "Python 3",
   "language": "python",
   "name": "python3"
  },
  "language_info": {
   "codemirror_mode": {
    "name": "ipython",
    "version": 3
   },
   "file_extension": ".py",
   "mimetype": "text/x-python",
   "name": "python",
   "nbconvert_exporter": "python",
   "pygments_lexer": "ipython3",
   "version": "3.7.6"
  }
 },
 "nbformat": 4,
 "nbformat_minor": 4
}
