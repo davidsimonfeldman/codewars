{
 "cells": [
  {
   "cell_type": "code",
   "execution_count": null,
   "metadata": {},
   "outputs": [],
   "source": [
    "Challenge: Given two null-terminated strings in the arguments \"string\" and \"prefix\", determine if \"string\" starts with the \"prefix\" string.\n",
    "    Return 1 (or any other \"truthy\" value) if true, 0 if false.\n",
    "Example:\n",
    "startsWith(\"hello world!\", \"hello\"); // should return 1.\n",
    "startsWith(\"hello world!\", \"HELLO\"); // should return 0.\n",
    "startsWith(\"nowai\", \"nowaisir\"); // should return 0.\n",
    "Addendum: For this problem, an empty \"prefix\" string should always return 1 (true) for any value of \"string\".\n",
    "If the length of the \"prefix\" string is greater than the length of the \"string\", return 0.\n",
    "The check should be case-sensitive, i.e. startsWith(\"hello\", \"HE\") should return 0, whereas startsWith(\"hello\", \"he\") should return 1.\n",
    "The length of the \"string\" as well as the \"prefix\" can be defined by the formula: 0 <= length < +Infinity\n",
    "No characters should be ignored and/or omitted during the test, e.g. whitespace characters should not be ignored.\n",
    "\n",
    "\n",
    "def starts_with(st, prefix): \n",
    "    # your code here\n",
    "    print(st, prefix)\n",
    "    return st.startswith(prefix)\n",
    "\n",
    "\n",
    "\n",
    "def starts_with(st, prefix): \n",
    "    return st.startswith(prefix)\n",
    "\n",
    "\n",
    "def starts_with(st, prefix): \n",
    "    return 1 if st[:len(prefix)] == prefix else 0\n",
    "\n",
    "\n",
    "def starts_with(s, prefix): \n",
    "    return s[:len(prefix)]==prefix"
   ]
  }
 ],
 "metadata": {
  "kernelspec": {
   "display_name": "Python 3",
   "language": "python",
   "name": "python3"
  },
  "language_info": {
   "codemirror_mode": {
    "name": "ipython",
    "version": 3
   },
   "file_extension": ".py",
   "mimetype": "text/x-python",
   "name": "python",
   "nbconvert_exporter": "python",
   "pygments_lexer": "ipython3",
   "version": "3.7.6"
  }
 },
 "nbformat": 4,
 "nbformat_minor": 4
}
