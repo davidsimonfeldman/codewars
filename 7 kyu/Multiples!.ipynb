{
 "cells": [
  {
   "cell_type": "code",
   "execution_count": null,
   "metadata": {},
   "outputs": [],
   "source": [
    "Make a program that takes a value (x) and returns \"Bang\" if the number is divisible by 3, \"Boom\" if it is divisible by 5\n",
    ", \"BangBoom\" if it divisible by 3 and 5, and \"Miss\" if it isn't divisible by any of them. Note: Your program should only return one value\n",
    "Ex: Input: 105 --> Output: \"BangBoom\" Ex: Input: 9 --> Output: \"Bang\" Ex:Input: 25 --> Output: \"Boom\"\n",
    "                                    \n",
    "                                    \n",
    "                                    \n",
    "def multiple(x):\n",
    "    if x % 15 == 0: return \"BangBoom\"\n",
    "    if x % 5 == 0: return \"Boom\"\n",
    "    if x % 3 == 0: return \"Bang\"\n",
    "    return \"Miss\"\n",
    "\n",
    "\n",
    "\n",
    "def multiple(x):\n",
    "    return 'Bang' * (x % 3 == 0) + 'Boom' * (x % 5 == 0) or 'Miss'"
   ]
  }
 ],
 "metadata": {
  "kernelspec": {
   "display_name": "Python 3",
   "language": "python",
   "name": "python3"
  },
  "language_info": {
   "codemirror_mode": {
    "name": "ipython",
    "version": 3
   },
   "file_extension": ".py",
   "mimetype": "text/x-python",
   "name": "python",
   "nbconvert_exporter": "python",
   "pygments_lexer": "ipython3",
   "version": "3.7.6"
  }
 },
 "nbformat": 4,
 "nbformat_minor": 4
}
