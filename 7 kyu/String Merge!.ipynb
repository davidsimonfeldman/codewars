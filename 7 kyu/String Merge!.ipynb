{
 "cells": [
  {
   "cell_type": "code",
   "execution_count": null,
   "metadata": {
    "ExecuteTime": {
     "end_time": "2021-06-21T22:03:52.068375Z",
     "start_time": "2021-06-21T22:03:51.026859Z"
    }
   },
   "outputs": [],
   "source": [
    "Given two words and a letter, return a single word that's a combination of both words, merged at the point where the given letter first appears in each word. \n",
    "The returned word should have the beginning of the first word and the ending of the second, with the dividing letter in the middle.\n",
    "You can assume both words will contain the dividing letter.\n",
    "\n",
    "Examples\n",
    "string_merge(\"hello\", \"world\", \"l\")      ==>  \"held\"\n",
    "string_merge(\"coding\", \"anywhere\", \"n\")  ==>  \"codinywhere\"\n",
    "string_merge(\"jason\", \"samson\", \"s\")     ==>  \"jasamson\"\n",
    "string_merge(\"wonderful\", \"people\", \"e\") ==>  \"wondeople\"\n",
    "\n",
    "def string_merge(s1, s2, l):\n",
    "    # Add code here :)\n",
    "     \n",
    "    a=s1.index(l)\n",
    "    b=s2.index(l)\n",
    "    print(a)\n",
    "    print(b)\n",
    "    print(s1[:a])\n",
    "    return(s1[:a]+s2[b:])\n",
    "\n",
    "\n",
    "\n",
    "def StringMerge(string1, string2, letter):\n",
    "    return string1[:string1.index(letter)] + string2[string2.index(letter):]\n",
    "\n",
    "def string_merge(string1, string2, letter):\n",
    "    return string1[:string1.index(letter)] + string2[string2.index(letter):]\n",
    "\n",
    "def StringMerge(s1, s2, l):\n",
    "    return s1.split(l)[0] + l + s2.split(l, 1)[1]"
   ]
  }
 ],
 "metadata": {
  "kernelspec": {
   "display_name": "Python 3",
   "language": "python",
   "name": "python3"
  },
  "language_info": {
   "codemirror_mode": {
    "name": "ipython",
    "version": 3
   },
   "file_extension": ".py",
   "mimetype": "text/x-python",
   "name": "python",
   "nbconvert_exporter": "python",
   "pygments_lexer": "ipython3",
   "version": "3.7.6"
  }
 },
 "nbformat": 4,
 "nbformat_minor": 4
}
