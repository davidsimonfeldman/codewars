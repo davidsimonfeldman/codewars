{
 "cells": [
  {
   "cell_type": "code",
   "execution_count": null,
   "metadata": {
    "ExecuteTime": {
     "end_time": "2021-07-02T10:42:54.912501Z",
     "start_time": "2021-07-02T10:42:54.891518Z"
    }
   },
   "outputs": [],
   "source": [
    "Create a function that receives a (square) matrix and calculates the sum of both diagonals (main and secondary)\n",
    "\n",
    "Matrix = array of n length whose elements are n length arrays of integers.\n",
    "\n",
    "3x3 example:\n",
    "\n",
    "sum_diagonals( [\n",
    "  [ 1, 2, 3 ],\n",
    "  [ 4, 5, 6 ],\n",
    "  [ 7, 8, 9 ]\n",
    "] ) == 30 # 1 + 5 + 9 + 3 + 5 + 7\n",
    "\n",
    "\n",
    "def sum_diagonals(a):\n",
    "    x = 0\n",
    "    size = len(a[0])\n",
    "    if size == 1:\n",
    "        # What do you want to do with a single-element matrix?\n",
    "        return a[0][0]*2\n",
    "    print(len(a))\n",
    "    print(len(a[0]))\n",
    "    for i in range(0, len(a[0])):  \n",
    "        print(len(a))\n",
    "        print(len(a[0]))\n",
    "        x += a[i][i] \n",
    "        x += a[i][ size - i - 1] \n",
    "        print(len(a))\n",
    "        print(len(a[0]))\n",
    "    return x"
   ]
  }
 ],
 "metadata": {
  "kernelspec": {
   "display_name": "Python 3",
   "language": "python",
   "name": "python3"
  },
  "language_info": {
   "codemirror_mode": {
    "name": "ipython",
    "version": 3
   },
   "file_extension": ".py",
   "mimetype": "text/x-python",
   "name": "python",
   "nbconvert_exporter": "python",
   "pygments_lexer": "ipython3",
   "version": "3.7.6"
  }
 },
 "nbformat": 4,
 "nbformat_minor": 4
}
