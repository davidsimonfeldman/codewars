{
 "cells": [
  {
   "cell_type": "code",
   "execution_count": null,
   "metadata": {
    "ExecuteTime": {
     "end_time": "2021-06-21T22:03:52.068375Z",
     "start_time": "2021-06-21T22:03:51.026859Z"
    }
   },
   "outputs": [],
   "source": [
    " Write a function that returns only the decimal part of the given number.\n",
    "\n",
    "You only have to handle valid numbers, not Infinity, NaN, or similar. Always return a positive decimal part.\n",
    "\n",
    "Examples\n",
    "get_decimal(2.4)  # 0.4\n",
    "get_decimal(-0.2) # 0.2\n",
    "\n",
    "def get_decimal(n): \n",
    "    print(n)\n",
    "    # your code here\n",
    "    return abs(n)%1\n",
    "\n",
    "\n",
    "\n",
    "def get_decimal(n): \n",
    "    n = abs(n)\n",
    "    return n - int(n)\n",
    "\n",
    "def get_decimal(n): \n",
    "    return abs(n%int(n))\n"
   ]
  },
  {
   "cell_type": "code",
   "execution_count": null,
   "metadata": {
    "ExecuteTime": {
     "end_time": "2021-06-21T20:46:59.481736Z",
     "start_time": "2021-06-21T20:46:59.454334Z"
    }
   },
   "outputs": [],
   "source": [
    " "
   ]
  },
  {
   "cell_type": "code",
   "execution_count": null,
   "metadata": {},
   "outputs": [],
   "source": []
  }
 ],
 "metadata": {
  "kernelspec": {
   "display_name": "Python 3",
   "language": "python",
   "name": "python3"
  },
  "language_info": {
   "codemirror_mode": {
    "name": "ipython",
    "version": 3
   },
   "file_extension": ".py",
   "mimetype": "text/x-python",
   "name": "python",
   "nbconvert_exporter": "python",
   "pygments_lexer": "ipython3",
   "version": "3.7.6"
  }
 },
 "nbformat": 4,
 "nbformat_minor": 4
}
