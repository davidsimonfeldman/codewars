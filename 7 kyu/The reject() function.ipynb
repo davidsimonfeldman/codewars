{
 "cells": [
  {
   "cell_type": "code",
   "execution_count": null,
   "metadata": {},
   "outputs": [],
   "source": [
    "Implement a function which filters out array values which satisfy the given predicate.\n",
    "\n",
    "reject([1, 2, 3, 4, 5, 6], lambda x: x % 2 == 0)  =>  [1, 3, 5]\n",
    "\n",
    "\n",
    "\n",
    "def reject(seq, predicate): \n",
    "    # your code here\n",
    "    a=[]\n",
    "    for x in seq:\n",
    "        if not predicate(x):a.append(x)\n",
    "    return a     \n",
    "\n",
    "\n",
    "def reject(seq, predicate): \n",
    "    return [item for item in seq if not predicate(item)]\n",
    "\n",
    "def reject(seq, predicate): \n",
    "    # your code here\n",
    "    from itertools import filterfalse\n",
    "    return list(filterfalse(predicate,seq))"
   ]
  },
  {
   "cell_type": "code",
   "execution_count": null,
   "metadata": {
    "ExecuteTime": {
     "end_time": "2021-06-18T21:37:01.451515Z",
     "start_time": "2021-06-18T21:37:01.412513Z"
    }
   },
   "outputs": [],
   "source": []
  },
  {
   "cell_type": "code",
   "execution_count": null,
   "metadata": {},
   "outputs": [],
   "source": []
  }
 ],
 "metadata": {
  "kernelspec": {
   "display_name": "Python 3",
   "language": "python",
   "name": "python3"
  },
  "language_info": {
   "codemirror_mode": {
    "name": "ipython",
    "version": 3
   },
   "file_extension": ".py",
   "mimetype": "text/x-python",
   "name": "python",
   "nbconvert_exporter": "python",
   "pygments_lexer": "ipython3",
   "version": "3.7.6"
  }
 },
 "nbformat": 4,
 "nbformat_minor": 4
}
