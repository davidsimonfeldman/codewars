{
 "cells": [
  {
   "cell_type": "code",
   "execution_count": null,
   "metadata": {},
   "outputs": [],
   "source": [
    "# This Kata is intended as a small challenge for my students\n",
    "\n",
    "# All Star Code Challenge #20\n",
    "\n",
    "# Create a function called addArrays() that combines two arrays of equal length, summing each element of the first with the corresponding element in the second, returning the \"combined\" summed array.\n",
    "# Raise an error if input arguments are not of equal length.\n",
    "\n",
    "# addArrays([1,2],[4,5]); // => [5,7]\n",
    "# addArrays([1,2,3],[4,5]); // => Error\n",
    "# Note:\n",
    "# Expect array input to either contain numbers or strings only\n",
    "# The function should also allow for concatenating string\n",
    "\n",
    "# addArrays([\"a\"],[\"b\"]) // => [\"ab\"]\n",
    "# FUNDAMENTALS\n",
    "\n",
    "\n",
    "\n",
    "\n",
    "def add_arrays(array1, array2): \n",
    "    print(len(array1))\n",
    "    print(len(array2))\n",
    "    if len(array1)==len(array2):\n",
    "        a=[]\n",
    "#         print(array1,array2)\n",
    "#         print(list(zip(array1,array2)))\n",
    "        for x in list(zip(array1,array2)):\n",
    "            a.append(x[0]+x[1] )\n",
    "        return a    \n",
    "    if len(array1)!=len(array2):raise \"Input arguments are not of equal length\"\n",
    "\n",
    "\n",
    "\n",
    "def add_arrays(arr1, arr2): \n",
    "    if len(arr1) != len(arr2):\n",
    "        raise \"Input arguments are not of equal length\"\n",
    "    return [x + y for x, y in zip(arr1, arr2)]"
   ]
  }
 ],
 "metadata": {
  "kernelspec": {
   "display_name": "Python 3",
   "language": "python",
   "name": "python3"
  },
  "language_info": {
   "codemirror_mode": {
    "name": "ipython",
    "version": 3
   },
   "file_extension": ".py",
   "mimetype": "text/x-python",
   "name": "python",
   "nbconvert_exporter": "python",
   "pygments_lexer": "ipython3",
   "version": "3.7.6"
  }
 },
 "nbformat": 4,
 "nbformat_minor": 4
}
