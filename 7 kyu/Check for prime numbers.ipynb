{
 "cells": [
  {
   "cell_type": "code",
   "execution_count": null,
   "metadata": {},
   "outputs": [],
   "source": [
    "In this kata you will create a function to check a non-negative input to see if it is a prime number.\n",
    "\n",
    "The function will take in a number and will return True if it is a prime number and False if it is not.\n",
    "\n",
    "A prime number is a natural number greater than 1 that has no positive divisors other than 1 and itself.\n",
    "\n",
    "Examples\n",
    "isPrime(0) is false\n",
    "isPrime(1) is false\n",
    "isPrime(2) is true\n",
    "isPrime(11) is true\n",
    "isPrime(12) is false\n",
    "\n",
    "\n",
    "def is_prime(n):\n",
    "    if n < 2: return False\n",
    "    for x in range(2, int(n**0.5) + 1):\n",
    "        if n % x == 0:\n",
    "            return False\n",
    "    return True\n",
    "\n",
    "\n",
    "\n",
    "\n",
    "\n",
    "def is_prime(n):\n",
    "    return n > 1 and all(n % i for i in range(2, n))\n",
    "\n",
    "\n",
    "\n",
    "\n",
    "import math\n",
    "def is_prime(n):\n",
    "    if n < 2: \n",
    "        return False\n",
    "    return all(n % i for i in range(3, int(math.sqrt(n)) + 1, 2))\n"
   ]
  }
 ],
 "metadata": {
  "kernelspec": {
   "display_name": "Python 3",
   "language": "python",
   "name": "python3"
  },
  "language_info": {
   "codemirror_mode": {
    "name": "ipython",
    "version": 3
   },
   "file_extension": ".py",
   "mimetype": "text/x-python",
   "name": "python",
   "nbconvert_exporter": "python",
   "pygments_lexer": "ipython3",
   "version": "3.7.6"
  }
 },
 "nbformat": 4,
 "nbformat_minor": 4
}
