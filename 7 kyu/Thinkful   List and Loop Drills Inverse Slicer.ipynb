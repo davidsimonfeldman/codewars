{
 "cells": [
  {
   "cell_type": "code",
   "execution_count": null,
   "metadata": {},
   "outputs": [],
   "source": [
    ">>> ages = [12, 14, 63, 72, 55, 24]\n",
    ">>> ages[2:4]\n",
    "[63, 72]\n",
    ">>> ages[2:]\n",
    "[63, 72, 55, 24]\n",
    ">>> ages[:3]\n",
    "[12, 14, 63]\n",
    "write a function inverse_slice() that takes three arguments: a list items, an integer a and an integer b. \n",
    "    The function should return a new list with the slice specified by items[a:b] excluded. For example:\n",
    "\n",
    ">>>inverse_slice([12, 14, 63, 72, 55, 24], 2, 4)\n",
    "[12, 14, 55, 24]\n",
    "The input will always be a valid list, a and b will always be different integers equal to or greater than zero, but they may be zero or be larger than the length of the list.\n",
    "\n",
    "\n",
    "def inverse_slice(items, a, b):\n",
    "    # Your code here.\n",
    "    return [x for x in items if x not in items[a:b]]\n",
    "\n",
    "\n",
    "\n",
    "def inverse_slice(items, a, b):\n",
    "    return items[:a] + items[b:]\n",
    "\n",
    "def inverse_slice(items, a, b):\n",
    "    del items[a:b]\n",
    "    return items\n",
    "\n",
    "\n",
    "def inverse_slice(items, a, b):\n",
    "    part1 = items[:a]\n",
    "    part2 = items[b:]\n",
    "    return (part1+part2)"
   ]
  }
 ],
 "metadata": {
  "kernelspec": {
   "display_name": "Python 3",
   "language": "python",
   "name": "python3"
  },
  "language_info": {
   "codemirror_mode": {
    "name": "ipython",
    "version": 3
   },
   "file_extension": ".py",
   "mimetype": "text/x-python",
   "name": "python",
   "nbconvert_exporter": "python",
   "pygments_lexer": "ipython3",
   "version": "3.7.6"
  }
 },
 "nbformat": 4,
 "nbformat_minor": 4
}
