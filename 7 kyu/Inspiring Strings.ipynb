{
 "cells": [
  {
   "cell_type": "code",
   "execution_count": null,
   "metadata": {},
   "outputs": [],
   "source": [
    "When given a string of space separated words, return the word with the longest length. \n",
    "If there are multiple words with the longest length, return the last instance of the word with the longest length.\n",
    "\n",
    "Example:\n",
    "\n",
    "'red white blue' //returns string value of white\n",
    "\n",
    "'red blue gold' //returns gold\n",
    "\n",
    "FUNDAMENTALSSTRINGS\n",
    "\n",
    "def longest_word(string_of_words):\n",
    "    # Give me back the longest word!\n",
    "    return sorted(string_of_words.split(),key=len)[-1]\n",
    "\n",
    "\n",
    "def longest_word(string_of_words):\n",
    "    return max(reversed(string_of_words.split()), key=len)\n",
    "\n",
    "\n",
    "\n",
    "def longest_word(string_of_words):\n",
    "    words = string_of_words.split()[::-1]\n",
    "    return max(words, key = len)"
   ]
  }
 ],
 "metadata": {
  "kernelspec": {
   "display_name": "Python 3",
   "language": "python",
   "name": "python3"
  },
  "language_info": {
   "codemirror_mode": {
    "name": "ipython",
    "version": 3
   },
   "file_extension": ".py",
   "mimetype": "text/x-python",
   "name": "python",
   "nbconvert_exporter": "python",
   "pygments_lexer": "ipython3",
   "version": "3.7.6"
  }
 },
 "nbformat": 4,
 "nbformat_minor": 4
}
