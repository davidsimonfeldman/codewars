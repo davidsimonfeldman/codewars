{
 "cells": [
  {
   "cell_type": "code",
   "execution_count": null,
   "metadata": {},
   "outputs": [],
   "source": [
    "Find the second-to-last element of a list.\n",
    "\n",
    "Example:\n",
    "\n",
    "penultimate([1,2,3,4])            # => 3\n",
    "penultimate([\"Python is dynamic\"]) # => 'i'\n",
    "(courtesy of [haskell.org](http://www.haskell.org/haskellwiki/99_questions/1_to_10))\n",
    "\n",
    "\n",
    "def penultimate(a):\n",
    "    return a[-2]\n",
    "  # implement here"
   ]
  }
 ],
 "metadata": {
  "kernelspec": {
   "display_name": "Python 3",
   "language": "python",
   "name": "python3"
  },
  "language_info": {
   "codemirror_mode": {
    "name": "ipython",
    "version": 3
   },
   "file_extension": ".py",
   "mimetype": "text/x-python",
   "name": "python",
   "nbconvert_exporter": "python",
   "pygments_lexer": "ipython3",
   "version": "3.7.6"
  }
 },
 "nbformat": 4,
 "nbformat_minor": 4
}
