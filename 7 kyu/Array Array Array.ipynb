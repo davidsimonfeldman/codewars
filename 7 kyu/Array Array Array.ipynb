{
 "cells": [
  {
   "cell_type": "code",
   "execution_count": null,
   "metadata": {
    "ExecuteTime": {
     "end_time": "2021-06-21T22:03:52.068375Z",
     "start_time": "2021-06-21T22:03:51.026859Z"
    }
   },
   "outputs": [],
   "source": [
    "You are given an initial 2-value array (x). You will use this to calculate a score.\n",
    "\n",
    "If both values in (x) are numbers, the score is the sum of the two. If only one is a number, the score is that number. If neither is a number, return 'Void!'.\n",
    "\n",
    "Once you have your score, you must return an array of arrays. Each sub array will be the same as (x) and the number of sub arrays should be equal to the score.\n",
    "\n",
    "For example:\n",
    "\n",
    "if (x) == ['a', 3] you should return [['a', 3], ['a', 3], ['a', 3]].\n",
    "\n",
    "\n",
    "\n",
    "def explode(arr):  \n",
    "    a=0\n",
    "    for x in arr:\n",
    "        if type(x)==int:a+=1\n",
    "    if a==0:return         'Void!'\n",
    "    if a==2:\n",
    "        return [list(arr)]*(sum(arr))\n",
    "    if a==1:\n",
    "        if type(arr[0])==int:return arr[0]*[arr]\n",
    "        if type(arr[1])==int:return arr[1]*[arr]\n",
    "         \n",
    "            \n",
    "\n",
    "def explode(arr):  \n",
    "    return [arr] * sum(v for v in arr if isinstance(v,int)) or 'Void!'\n",
    "\n",
    "\n",
    "def explode(arr):  \n",
    "    numbers = [n for n in arr if type(n) == int]\n",
    "    return [arr] * sum(numbers) if numbers else \"Void!\""
   ]
  }
 ],
 "metadata": {
  "kernelspec": {
   "display_name": "Python 3",
   "language": "python",
   "name": "python3"
  },
  "language_info": {
   "codemirror_mode": {
    "name": "ipython",
    "version": 3
   },
   "file_extension": ".py",
   "mimetype": "text/x-python",
   "name": "python",
   "nbconvert_exporter": "python",
   "pygments_lexer": "ipython3",
   "version": "3.7.6"
  }
 },
 "nbformat": 4,
 "nbformat_minor": 4
}
