{
 "cells": [
  {
   "cell_type": "code",
   "execution_count": null,
   "metadata": {},
   "outputs": [],
   "source": [
    "This kata requires you to convert minutes (int) to hours and minutes in the format hh:mm (string).\n",
    "\n",
    "If the input is 0 or negative value, then you should return \"00:00\"\n",
    "\n",
    "Hint: use the modulo operation to solve this challenge. The modulo operation simply returns the remainder after a division. For example the remainder of 5 / 2 is 1, so 5 modulo 2 is 1.\n",
    "\n",
    "Example\n",
    "If the input is 78, then you should return \"01:18\", because 78 minutes converts to 1 hour and 18 minutes.\n",
    "\n",
    "Good luck! :D\n",
    "    \n",
    "    \n",
    "def time_convert(num):\n",
    "    # your code here\n",
    "    a=divmod(num,60)\n",
    "    print(a)\n",
    "    if num<=0:return '00:00'\n",
    "    if a[0]<10 and a[1]>9:return  '0'+str(a[0])+':'+    str(a[1])\n",
    "    if a[0]<10 and a[1]<10:return '0'+str(a[0])+':'+'0'+str(a[1])\n",
    "    if a[0]>9  and a[1]<10:return     str(a[0])+':'+'0'+str(a[1])\n",
    "    else:                  return     str(a[0])+':'    +str(a[1]) \n",
    "    \n",
    "    \n",
    "    \n",
    "def timeConvert(m):\n",
    "    return '{:02d}:{:02d}'.format(*divmod(max(int(m), 0), 60))    \n",
    "\n",
    "\n",
    "def time_convert(num):\n",
    "    if num <= 0:\n",
    "        return '00:00'\n",
    "    return f'{num//60:02}:{num%60:02}'\n",
    "\n",
    "    \n",
    "def time_convert(num):\n",
    "    return \"{:02d}:{:02d}\".format(*divmod(max(0, num), 60))    \n",
    "    "
   ]
  }
 ],
 "metadata": {
  "kernelspec": {
   "display_name": "Python 3",
   "language": "python",
   "name": "python3"
  },
  "language_info": {
   "codemirror_mode": {
    "name": "ipython",
    "version": 3
   },
   "file_extension": ".py",
   "mimetype": "text/x-python",
   "name": "python",
   "nbconvert_exporter": "python",
   "pygments_lexer": "ipython3",
   "version": "3.7.6"
  }
 },
 "nbformat": 4,
 "nbformat_minor": 4
}
