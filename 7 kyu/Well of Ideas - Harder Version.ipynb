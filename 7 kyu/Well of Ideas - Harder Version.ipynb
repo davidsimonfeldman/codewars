{
 "cells": [
  {
   "cell_type": "code",
   "execution_count": null,
   "metadata": {},
   "outputs": [],
   "source": [
    "For every good kata idea there seem to be quite a few bad ones!\n",
    "In this kata you need to check the provided 2 dimensional array (x) for good ideas 'good' and bad ideas 'bad'.\n",
    "If there are one or two good ideas, return 'Publish!', if there are more than 2 return 'I smell a series!'. If there are no good ideas, as is often the case, return 'Fail!'.\n",
    "The sub arrays may not be the same length.\n",
    "The solution should be case insensitive (ie good, GOOD and gOOd all count as a good idea). All inputs may not be strings.\n",
    "\n",
    "\n",
    "\n",
    "def well(arr):\n",
    "    a=0\n",
    "    print(arr)\n",
    "    for x in arr:\n",
    "        if x.count('good')>0:a+=x.count('good')\n",
    "        if x.count('GOOD')>0:a+=x.count('GOOD')  \n",
    "        if x.count('gOOd')>0:a+=x.count('gOOd')\n",
    "    print(a)\n",
    "    if a>2 :return    'I smell a series!'\n",
    "    if a>0 :return    'Publish!'\n",
    "    else :return    'Fail!'\n",
    "    \n",
    "    \n",
    "    \n",
    "    def well(arr):\n",
    "    good_ideas = str(arr).lower().count('good')\n",
    "    return 'I smell a series!' if (good_ideas > 2) else 'Fail!' if not(good_ideas) else 'Publish!'\n",
    "\n",
    "\n",
    "\n",
    "from itertools import chain\n",
    "\n",
    "def well(arr):\n",
    "    c = sum(isinstance(x, str) and x.lower() == 'good' for x in chain.from_iterable(arr))\n",
    "    return (\n",
    "        'I smell a series!' if c > 2 else\n",
    "        'Publish!' if c > 0 else\n",
    "        'Fail!'\n",
    "    )\n",
    "\n",
    "\n",
    "def well(arr):\n",
    "    nb_good = sum(1 for lst in arr for word in lst if str(word).lower() == \"good\")\n",
    "    return \"I smell a series!\" if nb_good > 2 else \"Publish!\" if nb_good > 0 else \"Fail!\""
   ]
  }
 ],
 "metadata": {
  "kernelspec": {
   "display_name": "Python 3",
   "language": "python",
   "name": "python3"
  },
  "language_info": {
   "codemirror_mode": {
    "name": "ipython",
    "version": 3
   },
   "file_extension": ".py",
   "mimetype": "text/x-python",
   "name": "python",
   "nbconvert_exporter": "python",
   "pygments_lexer": "ipython3",
   "version": "3.7.6"
  }
 },
 "nbformat": 4,
 "nbformat_minor": 4
}
