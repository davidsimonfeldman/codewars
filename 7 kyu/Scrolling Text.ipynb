{
 "cells": [
  {
   "cell_type": "code",
   "execution_count": null,
   "metadata": {},
   "outputs": [],
   "source": [
    "Let's create some scrolling text!\n",
    "\n",
    "Your task is to complete the function which takes a string, and returns an array with all possible rotations of the given string, in uppercase.\n",
    "\n",
    "Example\n",
    "scrollingText(\"codewars\") should return:\n",
    "\n",
    "[ \"CODEWARS\",\n",
    "  \"ODEWARSC\",\n",
    "  \"DEWARSCO\",\n",
    "  \"EWARSCOD\",\n",
    "  \"WARSCODE\",\n",
    "  \"ARSCODEW\"\n",
    "  \"RSCODEWA\",\n",
    "  \"SCODEWAR\" ]\n",
    "\n",
    "\n",
    "from itertools import combinations \n",
    "def scrolling_text(text):\n",
    "    t=text.upper()\n",
    "    l=[]\n",
    "    \n",
    "    for i in range(-1,len(t)+1):\n",
    "         \n",
    "        l.append(''.join(list(t)[i+1:]+ list(t)[ :i+1 ]))\n",
    "        \n",
    "\n",
    "    return  (l)[:-2]\n",
    "\n",
    "\n",
    "\n",
    "\n",
    "\n",
    "def scrolling_text(text):\n",
    "    text = text.upper()\n",
    "    return [ text[i:] + text[:i] for i in range(len(text)) ]\n",
    "\n",
    "\n",
    "def scrolling_text(text):\n",
    "    return [ (text[i:]+text[:i]).upper() for i, e in enumerate(text) ]\n",
    "\n",
    "\n",
    "def scrolling_text(t):\n",
    "    return [(t[n:] + t[:n]).upper() for n in range(len(t))]"
   ]
  }
 ],
 "metadata": {
  "kernelspec": {
   "display_name": "Python 3",
   "language": "python",
   "name": "python3"
  },
  "language_info": {
   "codemirror_mode": {
    "name": "ipython",
    "version": 3
   },
   "file_extension": ".py",
   "mimetype": "text/x-python",
   "name": "python",
   "nbconvert_exporter": "python",
   "pygments_lexer": "ipython3",
   "version": "3.7.6"
  }
 },
 "nbformat": 4,
 "nbformat_minor": 4
}
