{
 "cells": [
  {
   "cell_type": "code",
   "execution_count": null,
   "metadata": {},
   "outputs": [],
   "source": [
    "Implement String\n",
    "#whitespace?(str) (Ruby), String.prototype.whitespace(str) (JavaScript), String::whitespace(str)\n",
    "(CoffeeScript), or whitespace(str) (Python), which should return true/True if \n",
    "given object consists exclusively of zero or more whitespace characters, false/False otherwise.\n",
    "\n",
    "def whitespace(s):\n",
    "    #your code here\n",
    "    for x in s:\n",
    "        if x not in ' \\n\\r\\n\\t':return False\n",
    "    return True    \n",
    "\n",
    "\n",
    "def whitespace(string):\n",
    "    return not string or string.isspace()\n",
    "\n",
    "\n",
    "def whitespace(string):\n",
    "    return not string.lstrip()\n",
    "\n",
    "\n",
    "def whitespace(string):\n",
    "    return string.strip() == \"\"\n"
   ]
  }
 ],
 "metadata": {
  "kernelspec": {
   "display_name": "Python 3",
   "language": "python",
   "name": "python3"
  },
  "language_info": {
   "codemirror_mode": {
    "name": "ipython",
    "version": 3
   },
   "file_extension": ".py",
   "mimetype": "text/x-python",
   "name": "python",
   "nbconvert_exporter": "python",
   "pygments_lexer": "ipython3",
   "version": "3.7.6"
  }
 },
 "nbformat": 4,
 "nbformat_minor": 4
}
