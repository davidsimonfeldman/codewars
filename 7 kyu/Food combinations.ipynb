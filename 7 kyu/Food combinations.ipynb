{
 "cells": [
  {
   "cell_type": "code",
   "execution_count": null,
   "metadata": {},
   "outputs": [],
   "source": [
    "Task:\n",
    "Given an array containing a list of good foods, return a string containing the assertion that any two of the individually good foods are really good when combined.\n",
    "\n",
    "eg: \"You know what's actually really good? Pancakes and relish.\"\n",
    "\n",
    "Examples:\n",
    "Good_foods = [\"Ice cream\", \"Ham\", \"Relish\", \"Pancakes\", \"Ketchup\", \"Cheese\", \"Eggs\", \"Cupcakes\", \"Sour cream\", \"Hot chocolate\", \"Avocado\", \"Skittles\"]\n",
    "\n",
    "actually_really_good( Good_foods ) #  \"You know what's actually really good? Pancakes and relish.\"\n",
    "\n",
    "actually_really_good( ['Peanut butter'] ) #  \"You know what's actually really good? Peanut butter and more peanut butter.\"\n",
    "\n",
    "actually_really_good( [] ) #  \"You know what's actually really good? Nothing!\"\n",
    "Notes:\n",
    "There are many different valid combinations of 2 foods it doesn't matter which one you choose.\n",
    "But there should be 2 different foods listed unless there was only one food given in the input array.\n",
    "Capitalization should be correct, the first given food should be capitalized, but the second should not.\n",
    "The input array should not be modified by the method.\n",
    "\n",
    "The test cases for this kata are fairly complicated, see if you can trick them. (Then let me know about it in the discourse.)\n",
    "\n",
    "The original kata language is Ruby\n",
    "\n",
    "Bonus:\n",
    "If you thought this kata was easy, try this one: Testing 'Food combinations' in which you get to write a method similar to the one the tests here use to\n",
    "    check that a result is valid and returns any errors it has.\n",
    "    \n",
    "    \n",
    "    \n",
    "    def actually_really_good(foods):\n",
    "    if len(foods) > 1:\n",
    "        return \"You know what's actually really good? {}\".format(\"{} and {}.\".format(foods[0].capitalize(), foods[1].lower()))\n",
    "    elif len(foods) == 1:    \n",
    "        return \"You know what's actually really good? {}\".format( \"{} and more {}.\".format(foods[0].capitalize(), foods[0].lower()) )\n",
    "    else:\n",
    "        return \"You know what's actually really good? {}\".format( \"Nothing!\"  )\n",
    "     \n",
    "        \n",
    "        \n",
    "        \n",
    "        \n",
    "        \n",
    "def actually_really_good(F):\n",
    "    if len(F)==0 : return \"You know what's actually really good? Nothing!\"\n",
    "    if len(F)==1 : return f\"You know what's actually really good? {F[0].capitalize()} and more {F[0].lower()}.\"\n",
    "    return f\"You know what's actually really good? {F[0].capitalize()} and {F[1].lower()}.\"        "
   ]
  }
 ],
 "metadata": {
  "kernelspec": {
   "display_name": "Python 3",
   "language": "python",
   "name": "python3"
  },
  "language_info": {
   "codemirror_mode": {
    "name": "ipython",
    "version": 3
   },
   "file_extension": ".py",
   "mimetype": "text/x-python",
   "name": "python",
   "nbconvert_exporter": "python",
   "pygments_lexer": "ipython3",
   "version": "3.7.6"
  }
 },
 "nbformat": 4,
 "nbformat_minor": 4
}
