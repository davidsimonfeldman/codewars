{
 "cells": [
  {
   "cell_type": "code",
   "execution_count": null,
   "metadata": {
    "ExecuteTime": {
     "end_time": "2021-06-21T22:03:52.068375Z",
     "start_time": "2021-06-21T22:03:51.026859Z"
    }
   },
   "outputs": [],
   "source": [
    "An abundant number or excessive number is a number for which the sum of its proper divisors is greater than the number itself.\n",
    "The integer 12 is the first abundant number. Its proper divisors are 1, 2, 3, 4 and 6 for a total of 16 (> 12).\n",
    "Derive function abundantNumber(num)/abundant_number(num) which returns true/True/.true. if num is abundant, false/False/.false. if not.\n",
    "\n",
    "\n",
    "\n",
    "def abundant_number(num):\n",
    "    # Your code here\n",
    "    a=0\n",
    "    print(num)\n",
    "    for x in range(1,int(num *(.5)+1)):\n",
    "        if not num%x:\n",
    "            a+=x\n",
    "            print(x)\n",
    "    return a>num  \n",
    "\n",
    "\n",
    "def abundant_number(num):\n",
    "    return (sum([e for e in range(1,num) if num%e==0]) > num)\n",
    "\n",
    "def abundant_number(num):\n",
    "    return sum([i for i in range(1,num/2+1) if num%i==0])>num\n",
    "\n",
    "def abundant_number(n):\n",
    "    return sum(m for m in range(1, n) if n % m == 0) > n\n",
    "\n",
    "def abundant_number(num):\n",
    "    return sum(i for i in range(1, num//2 + 1) if not num % i) > num"
   ]
  }
 ],
 "metadata": {
  "kernelspec": {
   "display_name": "Python 3",
   "language": "python",
   "name": "python3"
  },
  "language_info": {
   "codemirror_mode": {
    "name": "ipython",
    "version": 3
   },
   "file_extension": ".py",
   "mimetype": "text/x-python",
   "name": "python",
   "nbconvert_exporter": "python",
   "pygments_lexer": "ipython3",
   "version": "3.7.6"
  }
 },
 "nbformat": 4,
 "nbformat_minor": 4
}
