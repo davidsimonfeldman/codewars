{
 "cells": [
  {
   "cell_type": "code",
   "execution_count": null,
   "metadata": {},
   "outputs": [],
   "source": [
    "We need a function that receives two arrays, each of them with elements that occur only once. We need to know:\n",
    "\n",
    "Number of elements that are present in both arrays\n",
    "Number of elements that are present in only one array\n",
    "Number of remaining elements in arr1 after extracting the elements of arr2\n",
    "Number of remaining elements in arr2 after extracting the elements of arr1\n",
    "Example\n",
    "arr1 = [1, 2, 3, 4, 5, 6, 7, 8, 9]\n",
    "arr2 = [2, 4, 6, 8, 10, 12, 14]\n",
    "The result is: [4, 8, 5, 3]\n",
    "\n",
    "4 elements present in both arrays: 2, 4, 6, 8\n",
    "8 elements present in only one array: 1, 3, 5, 7, 9, 10, 12, 14\n",
    "5 elements remaning in arr1: 1, 3, 5, 7, 9\n",
    "3 elements remaning in arr2: 10, 12, 14\n",
    "No doubt, an easy kata to warm up before doing the more complex ones. Enjoy it!\n",
    "\n",
    "def process_2arrays(arr1, arr2):\n",
    "    arr1,arr2=set(arr1),set(arr2)\n",
    "    # your code here\n",
    "    a=len(arr1.intersection(arr2))\n",
    "    b=len(arr1.symmetric_difference(arr2))\n",
    "    c=len(arr1.difference(arr2))\n",
    "    d=len(arr2.difference(arr1))\n",
    "    return[a,b,c,d]\n",
    "\n",
    "\n",
    "def process_2arrays(arr1, arr2):\n",
    "    s1,s2 = set(arr1), set(arr2)\n",
    "    return [len(s1 & s2), len(s1 ^ s2), len(s1 - s2), len(s2 - s1)]\n",
    "\n",
    "def process_2arrays(arr1, arr2):\n",
    "    a, b = set(arr1), set(arr2)\n",
    "    return map(len, [a&b, a^b, a-b, b-a])\n",
    "\n",
    "\n",
    "\n",
    "def process_2arrays(arr1, arr2):\n",
    "    set1, set2 = set(arr1), set(arr2)\n",
    "    return[len(set1.intersection(set2)), len(set1.symmetric_difference(set2)), len(set1.difference(set2)), len(set2.difference(set1))]"
   ]
  }
 ],
 "metadata": {
  "kernelspec": {
   "display_name": "Python 3",
   "language": "python",
   "name": "python3"
  },
  "language_info": {
   "codemirror_mode": {
    "name": "ipython",
    "version": 3
   },
   "file_extension": ".py",
   "mimetype": "text/x-python",
   "name": "python",
   "nbconvert_exporter": "python",
   "pygments_lexer": "ipython3",
   "version": "3.7.6"
  }
 },
 "nbformat": 4,
 "nbformat_minor": 4
}
