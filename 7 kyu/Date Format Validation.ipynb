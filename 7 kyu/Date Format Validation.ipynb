{
 "cells": [
  {
   "cell_type": "code",
   "execution_count": null,
   "metadata": {},
   "outputs": [],
   "source": [
    "Create a function that will return true if the input is in the following date time format 01-09-2016 01:20 and false if it is not.\n",
    "\n",
    "This Kata has been inspired by the Regular Expressions chapter from the book Eloquent JavaScript.\n",
    "\n",
    "\n",
    "import re\n",
    "\n",
    "def date_checker(date):\n",
    "    return bool(re.match(\"\\d{2}-\\d{2}-\\d{4} \\d{2}:\\d{2}\", date))\n",
    "\n",
    "import re\n",
    "\n",
    "def date_checker(date):\n",
    "    return bool(re.fullmatch(\"\\d\\d-\\d\\d-\\d\\d\\d\\d \\d\\d:\\d\\d\", date))"
   ]
  }
 ],
 "metadata": {
  "kernelspec": {
   "display_name": "Python 3",
   "language": "python",
   "name": "python3"
  },
  "language_info": {
   "codemirror_mode": {
    "name": "ipython",
    "version": 3
   },
   "file_extension": ".py",
   "mimetype": "text/x-python",
   "name": "python",
   "nbconvert_exporter": "python",
   "pygments_lexer": "ipython3",
   "version": "3.7.6"
  }
 },
 "nbformat": 4,
 "nbformat_minor": 4
}
