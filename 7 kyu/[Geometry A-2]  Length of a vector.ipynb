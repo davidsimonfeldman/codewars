{
 "cells": [
  {
   "cell_type": "code",
   "execution_count": null,
   "metadata": {},
   "outputs": [],
   "source": [
    "For a given 2D vector described by cartesian coordinates of its initial point and terminal point in the following format:\n",
    "\n",
    "[[x1, y1], [x2, y2]]\n",
    "Your function must return this vector's length represented as a floating point number.\n",
    "\n",
    "Error must be within 1e-7.\n",
    "\n",
    "Coordinates can be integers or floating point numbers.\n",
    "\n",
    "import math\n",
    "def vector_length(vector):\n",
    "    return math.sqrt( ((vector[0][0]-vector[1][0])**2)+((vector[0][1]-vector[1][1])**2) )\n",
    "    return -1\n",
    "\n",
    "\n",
    "\n",
    "\n",
    "def vector_length(vector):\n",
    "    (x1,y1),(x2,y2) = vector\n",
    "    return ((x1-x2)**2 + (y1-y2)**2) ** .5"
   ]
  }
 ],
 "metadata": {
  "kernelspec": {
   "display_name": "Python 3",
   "language": "python",
   "name": "python3"
  },
  "language_info": {
   "codemirror_mode": {
    "name": "ipython",
    "version": 3
   },
   "file_extension": ".py",
   "mimetype": "text/x-python",
   "name": "python",
   "nbconvert_exporter": "python",
   "pygments_lexer": "ipython3",
   "version": "3.7.6"
  }
 },
 "nbformat": 4,
 "nbformat_minor": 4
}
