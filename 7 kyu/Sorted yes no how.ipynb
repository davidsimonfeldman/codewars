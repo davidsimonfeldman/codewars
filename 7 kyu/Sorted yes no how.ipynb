{
 "cells": [
  {
   "cell_type": "code",
   "execution_count": null,
   "metadata": {},
   "outputs": [],
   "source": [
    "Complete the method which accepts an array of integers, and returns one of the following:\n",
    "\n",
    "\"yes, ascending\" - if the numbers in the array are sorted in an ascending order\n",
    "\"yes, descending\" - if the numbers in the array are sorted in a descending order\n",
    "\"no\" - otherwise\n",
    "You can assume the array will always be valid, and there will always be one correct answer.\n",
    "\n",
    "\n",
    "def is_sorted_and_how(arr):\n",
    "    # your code here\n",
    "    print(arr)\n",
    "    if all(arr[i+1] > arr[i] for i in range(len(arr)-1)): return 'yes, ascending'\n",
    "    if all(arr[i+1] < arr[i] for i in range(len(arr)-1)): return 'yes, descending'\n",
    "    else :return 'no'\n",
    "     \n",
    "        \n",
    "        \n",
    "        \n",
    "def is_sorted_and_how(arr):\n",
    "    if arr == sorted(arr):\n",
    "        return 'yes, ascending' \n",
    "    elif arr == sorted(arr)[::-1]:\n",
    "        return 'yes, descending'\n",
    "    else:\n",
    "        return 'no'        "
   ]
  }
 ],
 "metadata": {
  "kernelspec": {
   "display_name": "Python 3",
   "language": "python",
   "name": "python3"
  },
  "language_info": {
   "codemirror_mode": {
    "name": "ipython",
    "version": 3
   },
   "file_extension": ".py",
   "mimetype": "text/x-python",
   "name": "python",
   "nbconvert_exporter": "python",
   "pygments_lexer": "ipython3",
   "version": "3.7.6"
  }
 },
 "nbformat": 4,
 "nbformat_minor": 4
}
