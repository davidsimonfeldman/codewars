{
 "cells": [
  {
   "cell_type": "code",
   "execution_count": null,
   "metadata": {},
   "outputs": [],
   "source": [
    "Given an array (or list or vector) of arrays (or, guess what, lists or vectors) of integers, your goal is to return the sum of a specific set of numbers, \n",
    "starting with elements whose position is equal to the main array length and going down by one at each step.\n",
    "Say for example the parent array (etc, etc) has 3 sub-arrays inside: you should consider the third element of the first sub-array, the second of the second array and the\n",
    "first element in the third one: [[3, 2, 1, 0], [4, 6, 5, 3, 2], [9, 8, 7, 4]] would have you considering 1\n",
    "for [3, 2, 1, 0], 6 for [4, 6, 5, 3, 2] and 9 for [9, 8, 7, 4], which sums up to 16.\n",
    "One small note is that not always each sub-array will have enough elements, in which case you should then use a \n",
    "default value (if provided) or 0 (if not provided), as shown in the test cases.\n",
    "\n",
    "\n",
    "def elements_sum(arr, d=0):\n",
    "    a=len(arr)    \n",
    "    res=0\n",
    "    for i in arr:\n",
    "        if len(i)>=a:\n",
    "            res+=i[a-1]\n",
    "        else:\n",
    "            res+=d\n",
    "        a-=1\n",
    "    return res\n",
    "\n",
    "\n",
    "\n",
    "def elements_sum(arr, d=0):\n",
    "    return sum(r[i] if i<len(r) else d for i,r in enumerate(reversed(arr)))\n",
    "\n",
    "\n",
    "\n",
    "def elements_sum(arr, d=0):\n",
    "    a=len(arr)    \n",
    "    res=0\n",
    "    for i in arr:\n",
    "        if len(i)>=a:\n",
    "            res+=i[a-1]\n",
    "        else:\n",
    "            res+=d\n",
    "        a-=1\n",
    "    return res\n",
    "\n",
    "\n",
    "\n",
    "def elements_sum(arr, d=0):\n",
    "    return sum(a[i] if len(a) > i else d for i, a in enumerate(arr[::-1]))\n",
    "\n",
    "\n",
    "def elements_sum(arr, d = 0):\n",
    "    lf = len(arr) - 1\n",
    "    return sum(n[lf - i] if n and len(n) > (lf - i) else d for i,n in enumerate(arr))"
   ]
  }
 ],
 "metadata": {
  "kernelspec": {
   "display_name": "Python 3",
   "language": "python",
   "name": "python3"
  },
  "language_info": {
   "codemirror_mode": {
    "name": "ipython",
    "version": 3
   },
   "file_extension": ".py",
   "mimetype": "text/x-python",
   "name": "python",
   "nbconvert_exporter": "python",
   "pygments_lexer": "ipython3",
   "version": "3.7.6"
  }
 },
 "nbformat": 4,
 "nbformat_minor": 4
}
