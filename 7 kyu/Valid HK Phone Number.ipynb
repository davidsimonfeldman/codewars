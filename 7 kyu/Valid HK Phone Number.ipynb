{
 "cells": [
  {
   "cell_type": "code",
   "execution_count": null,
   "metadata": {},
   "outputs": [],
   "source": [
    "Valid HK Phone Number\n",
    "Overview\n",
    "In Hong Kong, a valid phone number has the format xxxx xxxx where x is a decimal digit (0-9). For example:\n",
    "\"1234 5678\" // is valid\n",
    "\"2359 1478\" // is valid\n",
    "\"85748475\" // invalid, as there are no spaces separating the first 4 and last 4 digits\n",
    "\"3857  4756\" // invalid; there should be exactly 1 whitespace separating the first 4 and last 4 digits respectively\n",
    "\"sklfjsdklfjsf\" // clearly invalid\n",
    "\"     1234 5678   \" // is NOT a valid phone number but CONTAINS a valid phone number\n",
    "\"skldfjs287389274329dklfj84239029043820942904823480924293042904820482409209438dslfdjs9345 8234sdklfjsdkfjskl28394723987jsfss2343242kldjf23423423SDLKFJSLKsdklf\" //\n",
    "also contains a valid HK phone number (9345 8234)\n",
    "Task\n",
    "Define two functions, isValidHKPhoneNumber and hasValidHKPhoneNumber, that returns whether a given string is a valid HK phone \n",
    "number and contains a valid HK phone number respectively (i.e. true/false values).\n",
    "If in doubt please refer to the example tests.\n",
    "\n",
    "\n",
    "\n",
    "def is_valid_HK_phone_number(n):\n",
    "    #your code here\n",
    "    print(n)\n",
    "    \n",
    "    return all(x.isdigit() and len(x)==4 and n.count(' ')==1  for x in n.split())\n",
    "\n",
    "def has_valid_HK_phone_number(n):\n",
    "    #your code here\n",
    "    print(n)\n",
    "    if sum(c.isdigit() for c in n)<8:return False\n",
    "    for i in range(len(n)):\n",
    "        if is_valid_HK_phone_number(n[i:i+9])==True:return True\n",
    "    return False  \n",
    "\n",
    "\n",
    "\n",
    "import re\n",
    "def is_valid_HK_phone_number(number):\n",
    "    return bool(re.match('^\\d{4} \\d{4}$',number))\n",
    " \n",
    "def has_valid_HK_phone_number(number):\n",
    "    return bool(re.search('\\d{4} \\d{4}',number))\n",
    "\n",
    "\n",
    "\n",
    "\n",
    "\n",
    "from re import match, search\n",
    "def is_valid_HK_phone_number(number):\n",
    "    return bool(match(r'\\d{4}\\s\\d{4}\\Z', number))\n",
    "\n",
    "def has_valid_HK_phone_number(number):\n",
    "    return bool(search(r'\\d{4}\\s\\d{4}', number))\n"
   ]
  }
 ],
 "metadata": {
  "kernelspec": {
   "display_name": "Python 3",
   "language": "python",
   "name": "python3"
  },
  "language_info": {
   "codemirror_mode": {
    "name": "ipython",
    "version": 3
   },
   "file_extension": ".py",
   "mimetype": "text/x-python",
   "name": "python",
   "nbconvert_exporter": "python",
   "pygments_lexer": "ipython3",
   "version": "3.7.6"
  }
 },
 "nbformat": 4,
 "nbformat_minor": 4
}
