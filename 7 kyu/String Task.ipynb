{
 "cells": [
  {
   "cell_type": "code",
   "execution_count": null,
   "metadata": {},
   "outputs": [],
   "source": [
    " Petya started to attend programming lessons. On the first lesson his task was to write a simple program.\n",
    "    The program was supposed to do the following: in the given string, consisting of uppercase and lowercase Latin letters, it:\n",
    "deletes all the vowels,\n",
    "inserts a character \".\" before each consonant,\n",
    "replaces all uppercase consonants with corresponding lowercase ones.\n",
    " Vowels are letters \"A\", \"O\", \"Y\", \"E\", \"U\", \"I\", and the rest are consonants.\n",
    "    The program's input is exactly one string, it should return the output as a single string, resulting after the program's processing the initial string.\n",
    "Input:\n",
    " The first argument represents input string of Petya's program. This string only consists of uppercase and lowercase Latin letters.\n",
    "Output:\n",
    " Return the resulting string.\n",
    "Examples:\n",
    "('tour')      =>  '.t.r'\n",
    "('Codewars')  =>  '.c.d.w.r.s'\n",
    "('aBAcAba')   =>  '.b.c.b'\n",
    "\n",
    "\n",
    "def string_task(s):\n",
    "    s=s.lower().translate(str.maketrans('','',\"aeiouyAEIOUY\"))\n",
    "    a=''\n",
    "    for x in s:\n",
    "        a+='.'+x\n",
    "    return a\n",
    "\n",
    "\n",
    "\n",
    "def string_task(s):\n",
    "    return ''.join(f'.{a}' for a in s.lower() if a not in 'aoyeui')\n",
    "\n",
    "\n",
    "def string_task(s):\n",
    "    return ''.join('.'+c.lower() for c in s if c.lower() not in 'aoyeui')"
   ]
  }
 ],
 "metadata": {
  "kernelspec": {
   "display_name": "Python 3",
   "language": "python",
   "name": "python3"
  },
  "language_info": {
   "codemirror_mode": {
    "name": "ipython",
    "version": 3
   },
   "file_extension": ".py",
   "mimetype": "text/x-python",
   "name": "python",
   "nbconvert_exporter": "python",
   "pygments_lexer": "ipython3",
   "version": "3.7.6"
  }
 },
 "nbformat": 4,
 "nbformat_minor": 4
}
