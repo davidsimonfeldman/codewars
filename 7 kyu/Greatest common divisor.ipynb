{
 "cells": [
  {
   "cell_type": "code",
   "execution_count": null,
   "metadata": {},
   "outputs": [],
   "source": [
    "\n",
    "\n",
    "\n",
    "Find the greatest common divisor of two positive integers. The integers can be large, so you need to find a clever solution.\n",
    "\n",
    "The inputs x and y are always greater or equal to 1, so the greatest common divisor will always be an integer that is also greater or equal to 1.\n",
    "\n",
    "\n",
    "\n",
    "\n",
    "\n",
    "\n",
    "\n",
    "\n",
    "from fractions import gcd\n",
    " \n",
    "def mygcd(x, y):\n",
    "    print(gcd(x, y))\n",
    "    return gcd(x, y)\n",
    "\n",
    "\n",
    "def mygcd(x,y):\n",
    "    #GOOD LUCK\n",
    "    while y:\n",
    "        x,y=y,x%y\n",
    "    return x\n",
    "\n",
    "\n",
    "def mygcd(x,y):\n",
    "  return x if y == 0 else mygcd(y, x % y)\n",
    "\n",
    "\n",
    "\n",
    "\n",
    "\n"
   ]
  }
 ],
 "metadata": {
  "kernelspec": {
   "display_name": "Python 3",
   "language": "python",
   "name": "python3"
  },
  "language_info": {
   "codemirror_mode": {
    "name": "ipython",
    "version": 3
   },
   "file_extension": ".py",
   "mimetype": "text/x-python",
   "name": "python",
   "nbconvert_exporter": "python",
   "pygments_lexer": "ipython3",
   "version": "3.7.6"
  }
 },
 "nbformat": 4,
 "nbformat_minor": 4
}
