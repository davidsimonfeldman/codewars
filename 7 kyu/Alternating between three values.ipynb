{
 "cells": [
  {
   "cell_type": "code",
   "execution_count": null,
   "metadata": {},
   "outputs": [],
   "source": [
    "Alternating Among Three Values\n",
    "Suppose a variable x can have only three possible different values a, b and c, and you wish to assign to x the value other than its current one, and you wish your code to be independent of the values of a, b and c.\n",
    "\n",
    "What is the most efficient way to cycle among three values? Write a function f so that it satisfies\n",
    "\n",
    "  f(a) = b\n",
    "  f(b) = c\n",
    "  f(c) = a\n",
    "EXAMPLE\n",
    "  f(10, a=10, b=20, c=100) -> 20\n",
    "  f(20, a=10, b=20, c=100) -> 100\n",
    "  f(100, a=10, b=20, c=100) -> 10\n",
    "    \n",
    "    \n",
    "def f(x, a, b, c):\n",
    "    return b if a==x else c if b==x else a\n",
    "\n",
    "\n",
    "def f(x, a, b, c): \n",
    "    return {a:b, b:c, c:a}[x]"
   ]
  }
 ],
 "metadata": {
  "kernelspec": {
   "display_name": "Python 3",
   "language": "python",
   "name": "python3"
  },
  "language_info": {
   "codemirror_mode": {
    "name": "ipython",
    "version": 3
   },
   "file_extension": ".py",
   "mimetype": "text/x-python",
   "name": "python",
   "nbconvert_exporter": "python",
   "pygments_lexer": "ipython3",
   "version": "3.7.6"
  }
 },
 "nbformat": 4,
 "nbformat_minor": 4
}
