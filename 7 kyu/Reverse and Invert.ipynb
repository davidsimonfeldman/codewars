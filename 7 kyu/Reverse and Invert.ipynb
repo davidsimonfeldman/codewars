{
 "cells": [
  {
   "cell_type": "code",
   "execution_count": null,
   "metadata": {},
   "outputs": [],
   "source": [
    "Reverse and invert all integer values in a given list.\n",
    "\n",
    "Python:\n",
    "\n",
    "reverse_invert([1,12,'a',3.4,87,99.9,-42,50,5.6]) = [-1,-21,-78,24,-5]\n",
    "Ignore all other types than integer.\n",
    "\n",
    "\n",
    "def reverse_invert(lst):\n",
    "    a=[x for x in lst if type(x)==int]\n",
    "    print(a)\n",
    "    c=list(map(lambda x : abs(x),a))\n",
    "    print(c)\n",
    "    d=list(map(lambda x : int(str(x)[::-1]),list(map(lambda x : str(x),c))))\n",
    "    print(d)\n",
    "    for i in range(len(a)):\n",
    "        if a[i]>0:d[i]=d[i]*-1\n",
    "    return d   \n",
    "\n",
    "\n",
    "\n",
    "def reverse_invert(lst):\n",
    "    return [(-1,1)[x<0]*int(str(abs(x))[::-1]) for x in lst if isinstance(x,int)]\n",
    "\n",
    "\n",
    "def reverse_invert(lst):\n",
    "    r = []\n",
    "    for i in lst:\n",
    "        if isinstance(i,int):\n",
    "            if i < 0:\n",
    "                i = int(str(i)[1:][::-1])\n",
    "            else:\n",
    "                i = -int(str(i)[::-1])\n",
    "            r.append(i)\n",
    "    return r\n",
    "\n",
    "def reverse_invert(lst):\n",
    "    return [int(str(x).lstrip('-')[::-1]) * (1 if x < 0 else -1) for x in lst if isinstance(x, int)]"
   ]
  }
 ],
 "metadata": {
  "kernelspec": {
   "display_name": "Python 3",
   "language": "python",
   "name": "python3"
  },
  "language_info": {
   "codemirror_mode": {
    "name": "ipython",
    "version": 3
   },
   "file_extension": ".py",
   "mimetype": "text/x-python",
   "name": "python",
   "nbconvert_exporter": "python",
   "pygments_lexer": "ipython3",
   "version": "3.7.6"
  }
 },
 "nbformat": 4,
 "nbformat_minor": 4
}
