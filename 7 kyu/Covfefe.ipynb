{
 "cells": [
  {
   "cell_type": "code",
   "execution_count": null,
   "metadata": {},
   "outputs": [],
   "source": [
    "Covfefe\n",
    "Your are given a string. \n",
    "You must replace any occurence of the sequence coverage by covfefe, however, if you don't find the word coverage in the string,\n",
    "you must add covfefe at the end of the string with a leading space.\n",
    "For the languages where the string is not immutable (such as ruby), don't modify the given string, otherwise this will break the test cases.\n",
    "\n",
    "\n",
    "def covfefe(s):\n",
    "    if s.count(\"coverage\")>0: return s.replace(\"coverage\" ,\"covfefe\" )\n",
    "    return s+\" covfefe\"\n",
    "    #covfefe !\n",
    "    \n",
    "    \n",
    "    \n",
    "def covfefe(s):\n",
    "    if 'coverage' in s:\n",
    "        return s.replace('coverage', 'covfefe')\n",
    "    else:\n",
    "        return s + ' ' + 'covfefe'\n",
    "    \n",
    "    \n",
    "def covfefe(s):\n",
    "    return \"\".join(s.replace(\"coverage\", \"covfefe\") if \"coverage\" in s else s + \" covfefe\")\n",
    "    "
   ]
  }
 ],
 "metadata": {
  "kernelspec": {
   "display_name": "Python 3",
   "language": "python",
   "name": "python3"
  },
  "language_info": {
   "codemirror_mode": {
    "name": "ipython",
    "version": 3
   },
   "file_extension": ".py",
   "mimetype": "text/x-python",
   "name": "python",
   "nbconvert_exporter": "python",
   "pygments_lexer": "ipython3",
   "version": "3.7.6"
  }
 },
 "nbformat": 4,
 "nbformat_minor": 4
}
