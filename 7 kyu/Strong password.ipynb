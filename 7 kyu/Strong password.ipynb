{
 "cells": [
  {
   "cell_type": "code",
   "execution_count": null,
   "metadata": {
    "ExecuteTime": {
     "end_time": "2021-06-21T22:03:52.068375Z",
     "start_time": "2021-06-21T22:03:51.026859Z"
    }
   },
   "outputs": [],
   "source": [
    "Your users' passwords were all stolen in the Yahoo! hack, and it turns out they have been lax in creating secure passwords. \n",
    "Create a function that checks their new password (passed as a string) to make sure it meets the following requirements:\n",
    "\n",
    "Between 8 - 20 characters\n",
    "Contains only the following characters (and at least one character from each category):\n",
    "uppercase letters,\n",
    "lowercase letters,\n",
    "digits,\n",
    "special characters from !@#$%^&*?\n",
    "Return \"valid\" if passed or \"not valid\" otherwise.\n",
    "\n",
    "\n",
    "import re\n",
    "\n",
    "PATTRN = re.compile(\n",
    "'^'                   \n",
    "'(?=.*?[A-Z])'         \n",
    "         \n",
    "'(?=.*?\\d)'   \n",
    "'(?=.*?[a-z])'\n",
    "    '(?=.*?[!@#$%^&*?])' \n",
    "'[A-Za-z\\d!@#$%^&*?]'  \n",
    "'{8,20}' \n",
    "'$'   )\n",
    "\n",
    "def check_password(s):\n",
    "    return \"valid\" if PATTRN.match(s) else \"not valid\"\n",
    "\n",
    "\n",
    "\n",
    "\n",
    "\n",
    "def check_password(s):\n",
    "    c1 = 8 <= len(s) <=20\n",
    "    c2 = any([i.isupper() for i in s])\n",
    "    c3 = any([i.islower() for i in s])\n",
    "    c4 = any([i.isdigit() for i in s])\n",
    "    c5 = any([i for i in s if i in '!@#$%^&*?'])\n",
    "    c6 = not any([i for i in s if i not in '!@#$%^&*?' and not i.isupper() and not i.islower() and not i.isdigit()])\n",
    "    return 'valid' if c1 and c2 and c3 and c4 and c5 and c6 else 'not valid'"
   ]
  }
 ],
 "metadata": {
  "kernelspec": {
   "display_name": "Python 3",
   "language": "python",
   "name": "python3"
  },
  "language_info": {
   "codemirror_mode": {
    "name": "ipython",
    "version": 3
   },
   "file_extension": ".py",
   "mimetype": "text/x-python",
   "name": "python",
   "nbconvert_exporter": "python",
   "pygments_lexer": "ipython3",
   "version": "3.7.6"
  }
 },
 "nbformat": 4,
 "nbformat_minor": 4
}
