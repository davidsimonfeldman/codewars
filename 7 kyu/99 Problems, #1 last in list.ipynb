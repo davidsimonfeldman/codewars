{
 "cells": [
  {
   "cell_type": "code",
   "execution_count": null,
   "metadata": {
    "ExecuteTime": {
     "end_time": "2021-07-02T10:42:54.912501Z",
     "start_time": "2021-07-02T10:42:54.891518Z"
    }
   },
   "outputs": [],
   "source": [
    "Write a function last that accepts a list and returns the last element in the list.\n",
    "\n",
    "If the list is empty:\n",
    "\n",
    "In languages that have a built-in option or result type (like OCaml or Haskell), return an empty option\n",
    "\n",
    "In languages that do not have an empty option, just return None\n",
    "\n",
    "\n",
    "def last(lst):\n",
    "    return lst[-1] if lst else None\n",
    "\n",
    "\n"
   ]
  }
 ],
 "metadata": {
  "kernelspec": {
   "display_name": "Python 3",
   "language": "python",
   "name": "python3"
  },
  "language_info": {
   "codemirror_mode": {
    "name": "ipython",
    "version": 3
   },
   "file_extension": ".py",
   "mimetype": "text/x-python",
   "name": "python",
   "nbconvert_exporter": "python",
   "pygments_lexer": "ipython3",
   "version": "3.7.6"
  }
 },
 "nbformat": 4,
 "nbformat_minor": 4
}
