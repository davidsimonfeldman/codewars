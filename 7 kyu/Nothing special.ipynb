{
 "cells": [
  {
   "cell_type": "code",
   "execution_count": null,
   "metadata": {},
   "outputs": [],
   "source": [
    "The notorious Captain Schneider has given you a very straight forward mission.\n",
    "Any data that comes through the system make sure that only non-special characters see the light of day.\n",
    "Create a function that given a string, retains only the letters A-Z (upper and lowercase), 0-9 digits, and whitespace characters. \n",
    "Also, returns \"Not a string!\" if the entry type is not a string.\n",
    "\n",
    "\n",
    "def nothing_special(s):\n",
    "    # Your code here\n",
    "    if type(s)!=str:return \"Not a string!\"\n",
    "    a=''\n",
    "    s=s.replace('\\\\','')\n",
    "    for x in s:\n",
    "        if x.isalnum() or x == \"\\t\" or x == ' ':\n",
    "            a+=x\n",
    "    return a   \n",
    "\n",
    "\n",
    "def nothing_special(s):\n",
    "    return \"\".join(x for x in s if x.isalnum() or x != x.strip()) if isinstance(s,str) else \"Not a string!\"\n",
    "\n",
    "\n",
    "def nothing_special(s):\n",
    "    try:\n",
    "        return ''.join([x for x in list(s) if x.isalpha() or x.isnumeric() or x == ' '])\n",
    "    except TypeError:\n",
    "        return \"Not a string!\""
   ]
  }
 ],
 "metadata": {
  "kernelspec": {
   "display_name": "Python 3",
   "language": "python",
   "name": "python3"
  },
  "language_info": {
   "codemirror_mode": {
    "name": "ipython",
    "version": 3
   },
   "file_extension": ".py",
   "mimetype": "text/x-python",
   "name": "python",
   "nbconvert_exporter": "python",
   "pygments_lexer": "ipython3",
   "version": "3.7.6"
  }
 },
 "nbformat": 4,
 "nbformat_minor": 4
}
