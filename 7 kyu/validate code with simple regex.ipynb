{
 "cells": [
  {
   "cell_type": "code",
   "execution_count": null,
   "metadata": {
    "ExecuteTime": {
     "end_time": "2021-06-21T22:03:52.068375Z",
     "start_time": "2021-06-21T22:03:51.026859Z"
    }
   },
   "outputs": [],
   "source": [
    "Basic regex tasks. Write a function that takes in a numeric code of any length. \n",
    "The function should check if the code begins with 1, 2, or 3 and return true if so. Return false otherwise.\n",
    "You can assume the input will always be a number.\n",
    "\n",
    "\n",
    "def validate_code(code):\n",
    "    #your code here\n",
    "    return str(code).startswith('1') or str(code).startswith('3') or str(code).startswith('2')\n",
    "\n",
    "\n",
    "\n",
    "def validate_code(code):\n",
    "    return str(code).startswith(('1', '2', '3'))\n",
    "\n",
    "\n",
    "\n",
    "\n",
    "def validate_code(code):\n",
    "    return str(code)[0] in '123'"
   ]
  }
 ],
 "metadata": {
  "kernelspec": {
   "display_name": "Python 3",
   "language": "python",
   "name": "python3"
  },
  "language_info": {
   "codemirror_mode": {
    "name": "ipython",
    "version": 3
   },
   "file_extension": ".py",
   "mimetype": "text/x-python",
   "name": "python",
   "nbconvert_exporter": "python",
   "pygments_lexer": "ipython3",
   "version": "3.7.6"
  }
 },
 "nbformat": 4,
 "nbformat_minor": 4
}
