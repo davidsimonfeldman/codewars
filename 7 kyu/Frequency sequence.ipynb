{
 "cells": [
  {
   "cell_type": "code",
   "execution_count": null,
   "metadata": {},
   "outputs": [],
   "source": [
    "Return an output string that translates an input string s/$s by replacing each character in s/$s with\n",
    "a number representing the number of times that character occurs in s/$s and separating each number with the character(s) sep/$sep.\n",
    "freq_seq(\"hello world\", \"-\"); // => \"1-1-3-3-2-1-1-2-1-3-1\"\n",
    "freq_seq(\"19999999\", \":\"); // => \"1:7:7:7:7:7:7:7\"\n",
    "freq_seq(\"^^^**$\", \"x\"); // => \"3x3x3x2x2x1\"\n",
    "\n",
    "def freq_seq(s, sep):\n",
    "    \n",
    "    a={i:list(s).count(i) for i in set((s))}\n",
    "    print(a)\n",
    "    b=''\n",
    "    for x in s:\n",
    "        b+= str(a[x])+sep\n",
    "    return b[:-1]  \n",
    "\n",
    "\n",
    "\n",
    "def freq_seq(s, sep):\n",
    "    return sep.join([str(s.count(i)) for i in s])\n",
    "\n",
    "\n",
    "from collections import Counter\n",
    "def freq_seq(s, sep):\n",
    "    freq = Counter(s)\n",
    "    return sep.join(str(freq[c]) for c in s)\n",
    "\n",
    "\n",
    "from collections import Counter\n",
    "def freq_seq(string, separator):\n",
    "    count = Counter(string)\n",
    "    return separator.join(str(count[symbol]) for symbol in string)"
   ]
  }
 ],
 "metadata": {
  "kernelspec": {
   "display_name": "Python 3",
   "language": "python",
   "name": "python3"
  },
  "language_info": {
   "codemirror_mode": {
    "name": "ipython",
    "version": 3
   },
   "file_extension": ".py",
   "mimetype": "text/x-python",
   "name": "python",
   "nbconvert_exporter": "python",
   "pygments_lexer": "ipython3",
   "version": "3.7.6"
  }
 },
 "nbformat": 4,
 "nbformat_minor": 4
}
