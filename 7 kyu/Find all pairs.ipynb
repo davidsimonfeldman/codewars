{
 "cells": [
  {
   "cell_type": "code",
   "execution_count": null,
   "metadata": {},
   "outputs": [],
   "source": [
    "You are given array of integers, your task will be to count all pairs in that array and return their count.\n",
    "\n",
    "Notes:\n",
    "\n",
    "Array can be empty or contain only one value; in this case return 0\n",
    "If there are more pairs of a certain number, count each pair only once. E.g.: for [0, 0, 0, 0] the return value is 2 (= 2 pairs of 0s)\n",
    "Random tests: maximum array length is 1000, range of values in array is between 0 and 1000\n",
    "Examples\n",
    "[1, 2, 5, 6, 5, 2]  -->  2\n",
    "...because there are 2 pairs: 2 and 5\n",
    "\n",
    "[1, 2, 2, 20, 6, 20, 2, 6, 2]  -->  4\n",
    "...because there are 4 pairs: 2, 20, 6 and 2 (again)\n",
    "    \n",
    "    \n",
    "    \n",
    "    def duplicates(arr):\n",
    "    #Make the magic happen\n",
    "    a={i:arr.count(i) for i in set(arr)}\n",
    "    print(a)\n",
    "    b=0\n",
    "    for x in a.values():\n",
    "        if   x>1:b+=x//2\n",
    "            \n",
    "              \n",
    "    return b        \n",
    "    \n",
    "    \n",
    "    def duplicates(arr):\n",
    "    return sum(arr.count(i)//2 for i in set(arr))\n",
    "\n",
    "\n",
    "from collections import Counter\n",
    "\n",
    "def duplicates(arr):\n",
    "    return sum(v//2 for v in Counter(arr).values())\n",
    "    "
   ]
  }
 ],
 "metadata": {
  "kernelspec": {
   "display_name": "Python 3",
   "language": "python",
   "name": "python3"
  },
  "language_info": {
   "codemirror_mode": {
    "name": "ipython",
    "version": 3
   },
   "file_extension": ".py",
   "mimetype": "text/x-python",
   "name": "python",
   "nbconvert_exporter": "python",
   "pygments_lexer": "ipython3",
   "version": "3.7.6"
  }
 },
 "nbformat": 4,
 "nbformat_minor": 4
}
