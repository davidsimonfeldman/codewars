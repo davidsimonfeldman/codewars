{
 "cells": [
  {
   "cell_type": "code",
   "execution_count": null,
   "metadata": {
    "ExecuteTime": {
     "end_time": "2021-06-21T22:03:52.068375Z",
     "start_time": "2021-06-21T22:03:51.026859Z"
    }
   },
   "outputs": [],
   "source": [
    "A \"Perfect Number\" is a number in which the sum of its factors (excluding itself) are equal to itself.\n",
    "\n",
    "Write a function that can verify if the given integer is a perfect number.\n",
    "\n",
    "Example\n",
    "28 has the following factors: 1, 2, 4, 7, 14\n",
    "\n",
    "1 + 2 + 4 + 7 + 14 = 28 therefore 28 is a perfect number!\n",
    "\n",
    "\n",
    "\n",
    "\n",
    "def is_perfect(n):\n",
    "    \n",
    "    i=2\n",
    "    a=1\n",
    "    while i**2<n:\n",
    "        if n%i==0:\n",
    "            a+=i+n/i\n",
    "        i+=1    \n",
    "    return n==a and n!=1  \n",
    "\n",
    "\n",
    "def is_perfect(n):\n",
    "    return n in [6, 28, 496, 8128, 33550336, 8589869056, 137438691328]\n",
    "\n",
    "\n",
    "\n",
    "def is_perfect(n):\n",
    "    s = 1\n",
    "    for i in range(2, int(n**0.5)+1):\n",
    "        q, r = divmod(n, i)\n",
    "        if r == 0:\n",
    "            s += q + i\n",
    "    return s == n and n != 1"
   ]
  }
 ],
 "metadata": {
  "kernelspec": {
   "display_name": "Python 3",
   "language": "python",
   "name": "python3"
  },
  "language_info": {
   "codemirror_mode": {
    "name": "ipython",
    "version": 3
   },
   "file_extension": ".py",
   "mimetype": "text/x-python",
   "name": "python",
   "nbconvert_exporter": "python",
   "pygments_lexer": "ipython3",
   "version": "3.7.6"
  }
 },
 "nbformat": 4,
 "nbformat_minor": 4
}
