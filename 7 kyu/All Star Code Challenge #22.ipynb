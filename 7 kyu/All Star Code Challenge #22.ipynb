{
 "cells": [
  {
   "cell_type": "code",
   "execution_count": null,
   "metadata": {},
   "outputs": [],
   "source": [
    "This Kata is intended as a small challenge for my students\n",
    "\n",
    "All Star Code Challenge #22\n",
    "\n",
    "Create a function that takes an integer argument of seconds and converts the value into a string describing how many hours and minutes comprise that many seconds.\n",
    "\n",
    "Any remaining seconds left over are ignored.\n",
    "\n",
    "Note:\n",
    "The string output needs to be in the specific form - \"X hour(s) and X minute(s)\"\n",
    "\n",
    "For example:\n",
    "\n",
    "3600 --> \"1 hour(s) and 0 minute(s)\"\n",
    "3601 --> \"1 hour(s) and 0 minute(s)\"\n",
    "3500 --> \"0 hour(s) and 58 minute(s)\"\n",
    "323500 --> \"89 hour(s) and 51 minute(s)\"\n",
    "\n",
    "\n",
    "from math import floor\n",
    "def to_time(seconds):\n",
    "    a=floor(seconds/3600)\n",
    "    b=floor(seconds/ 60 )%60\n",
    "    return \"{} hour(s) and {} minute(s)\".format(int(a),int(b))\n",
    "  \n",
    "    \n",
    "def to_time(seconds):\n",
    "    m, s = divmod(seconds, 60)\n",
    "    h, m = divmod(m, 60)\n",
    "    return f'{h} hour(s) and {m} minute(s)'    "
   ]
  }
 ],
 "metadata": {
  "kernelspec": {
   "display_name": "Python 3",
   "language": "python",
   "name": "python3"
  },
  "language_info": {
   "codemirror_mode": {
    "name": "ipython",
    "version": 3
   },
   "file_extension": ".py",
   "mimetype": "text/x-python",
   "name": "python",
   "nbconvert_exporter": "python",
   "pygments_lexer": "ipython3",
   "version": "3.7.6"
  }
 },
 "nbformat": 4,
 "nbformat_minor": 4
}
