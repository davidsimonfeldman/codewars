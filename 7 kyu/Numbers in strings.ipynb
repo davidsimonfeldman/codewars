{
 "cells": [
  {
   "cell_type": "code",
   "execution_count": null,
   "metadata": {},
   "outputs": [],
   "source": [
    "In this Kata, you will be given a string that has lowercase letters and numbers.\n",
    "Your task is to compare the number groupings and return the largest number.\n",
    "Numbers will not have leading zeros.\n",
    "For example, solve(\"gh12cdy695m1\") = 695, because this is the largest of all number groupings.\n",
    "Good luck!\n",
    "\n",
    "\n",
    "\n",
    "def solve(s):\n",
    "    print(s)\n",
    "    print(list(x  if x.isdigit() else ' ' for x in s))\n",
    "    print(''.join(x  if x.isdigit() else ' ' for x in s).split() )\n",
    "\n",
    "    a=[int(y) for y in   ''.join(x  if x.isdigit() else ' ' for x in s).split()]\n",
    "    return max(a)\n",
    "    \n",
    "    \n",
    "    \n",
    "    \n",
    "def solve(s):\n",
    "    return max(map(int,\"\".join(\" \" if x.isalpha() else x for x in s).split()))    \n"
   ]
  }
 ],
 "metadata": {
  "kernelspec": {
   "display_name": "Python 3",
   "language": "python",
   "name": "python3"
  },
  "language_info": {
   "codemirror_mode": {
    "name": "ipython",
    "version": 3
   },
   "file_extension": ".py",
   "mimetype": "text/x-python",
   "name": "python",
   "nbconvert_exporter": "python",
   "pygments_lexer": "ipython3",
   "version": "3.7.6"
  }
 },
 "nbformat": 4,
 "nbformat_minor": 4
}
