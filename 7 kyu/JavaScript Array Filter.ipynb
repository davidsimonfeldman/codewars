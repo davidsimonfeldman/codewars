{
 "cells": [
  {
   "cell_type": "code",
   "execution_count": null,
   "metadata": {
    "ExecuteTime": {
     "end_time": "2021-06-21T22:03:52.068375Z",
     "start_time": "2021-06-21T22:03:51.026859Z"
    }
   },
   "outputs": [],
   "source": [
    "In Python, there is a built-in filter function that operates similarly to JS's filter.\n",
    "For more information on how to use this function, visit https://docs.python.org/3/library/functions.html#filter\n",
    "The solution would work like the following:\n",
    "get_even_numbers([2,4,5,6]) => [2,4,6]\n",
    "\n",
    "def get_even_numbers(arr):\n",
    "    return [x for x in arr if not x%2]\n",
    "\n",
    "\n",
    "def get_even_numbers(arr):\n",
    "    return [x for x in arr if x % 2 == 0]\n",
    "\n",
    "def get_even_numbers(arr):\n",
    "    return list(filter(lambda x: x % 2 == 0, arr))\n",
    "\n",
    "\n",
    "is_even = lambda x: x % 2 == 0\n",
    "def get_even_numbers(arr):\n",
    "    return list(filter(is_even, arr))"
   ]
  }
 ],
 "metadata": {
  "kernelspec": {
   "display_name": "Python 3",
   "language": "python",
   "name": "python3"
  },
  "language_info": {
   "codemirror_mode": {
    "name": "ipython",
    "version": 3
   },
   "file_extension": ".py",
   "mimetype": "text/x-python",
   "name": "python",
   "nbconvert_exporter": "python",
   "pygments_lexer": "ipython3",
   "version": "3.7.6"
  }
 },
 "nbformat": 4,
 "nbformat_minor": 4
}
