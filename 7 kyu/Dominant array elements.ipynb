{
 "cells": [
  {
   "cell_type": "code",
   "execution_count": null,
   "metadata": {},
   "outputs": [],
   "source": [
    "An element in an array is dominant if it is greater than all elements to its right. \n",
    "You will be given an array and your task will be to return a list of all dominant elements. For example:\n",
    "solve([1,21,4,7,5]) = [21,7,5] because 21, 7 and 5 are greater than elments to their right. \n",
    "solve([5,4,3,2,1]) = [5,4,3,2,1]\n",
    "Notice that the last element is always included. All numbers will be greater than 0.\n",
    "More examples in the test cases.\n",
    "\n",
    "\n",
    "def solve(arr):\n",
    "    a=[]\n",
    "    for i in range(len(arr)):\n",
    "        if arr[i]==max(arr[i:]) and arr[i] not in a:\n",
    "            a.append(arr[i])\n",
    "    return a \n",
    "\n",
    "\n",
    "\n",
    "\n",
    "def solve(arr):\n",
    "    r = []\n",
    "    for v in arr[::-1]:\n",
    "        if not r or r[-1] < v: r.append(v)\n",
    "    return r[::-1]\n",
    "\n",
    "\n",
    "def solve(arr):\n",
    "    return [a for i,a in enumerate(arr) if all(x < a for x in arr[i+1:])]\n",
    "\n",
    "\n",
    "def solve(arr):\n",
    "    return [n for i,n in enumerate(arr) if all(n > x for x in arr[i + 1:])]\n",
    "\n",
    "\n",
    "def solve(arr):\n",
    "    return [a for i,a in enumerate(arr) if a > max(arr[i+1:]+[0])]"
   ]
  }
 ],
 "metadata": {
  "kernelspec": {
   "display_name": "Python 3",
   "language": "python",
   "name": "python3"
  },
  "language_info": {
   "codemirror_mode": {
    "name": "ipython",
    "version": 3
   },
   "file_extension": ".py",
   "mimetype": "text/x-python",
   "name": "python",
   "nbconvert_exporter": "python",
   "pygments_lexer": "ipython3",
   "version": "3.7.6"
  }
 },
 "nbformat": 4,
 "nbformat_minor": 4
}
