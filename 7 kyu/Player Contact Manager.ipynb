{
 "cells": [
  {
   "cell_type": "code",
   "execution_count": null,
   "metadata": {},
   "outputs": [],
   "source": [
    "You are the Dungeon Master for a public DnD game at your local comic shop and recently you've had some trouble keeping your players'\n",
    "info neat and organized so you've decided to write a bit of code to help keep them sorted!\n",
    "\n",
    "The goal of this code is to create an array of objects that stores a player's name and contact number from a given string.\n",
    "\n",
    "The method should return an empty array if the argument passed is an empty string or nil/None/null.\n",
    "\n",
    "Examples\n",
    "player_manager(\"John Doe, 8167238327, Jane Doe, 8163723827\") returns [{\"player\": \"John Doe\", \"contact\": 8167238327}, {\"player\": \"Jane Doe\", \"contact\": 8163723827}]\n",
    "player_manager(None) returns []\n",
    "player_manager(\"\")   returns []\n",
    "Have at thee!\n",
    "\n",
    "\n",
    "def player_manager(players):\n",
    "    \n",
    "    print(players)\n",
    "    if not (players) :return []\n",
    "    a,b=[],[]\n",
    "    print(type(players))\n",
    "    c=players.split(', ')\n",
    "    print(c)\n",
    "    \n",
    "    for i in range(0,len(c),2):\n",
    "        players[i]\n",
    "\n",
    "        a.append(c[i])\n",
    "    for i in range(1,len(c),2):\n",
    "        b.append(c[i])\n",
    "    print(a)\n",
    "    print(b)\n",
    "    return [{'player': x, 'contact': int(y)} for x, y in zip(a, b)]     \n",
    "    \n",
    "    \n",
    "    \n",
    "    \n",
    "    def player_manager(players):\n",
    "    if not players: \n",
    "        return []\n",
    "    lst = players.split(', ')\n",
    "    return [{'player': name, 'contact': int(num)} for name, num in zip(lst[::2], lst[1::2])]\n",
    "\n",
    "\n",
    "\n",
    "def player_manager(plrs):\n",
    "    if not plrs: return []\n",
    "    output = []\n",
    "    contact, player = plrs.split(', ')[1::2], plrs.split(', ')[::2]\n",
    "    \n",
    "    for x in range(len(contact)):\n",
    "        output.append({'player': player[x], 'contact': int(contact[x])})\n",
    "        \n",
    "    return output"
   ]
  },
  {
   "cell_type": "code",
   "execution_count": null,
   "metadata": {
    "ExecuteTime": {
     "end_time": "2021-06-18T21:37:01.451515Z",
     "start_time": "2021-06-18T21:37:01.412513Z"
    }
   },
   "outputs": [],
   "source": []
  },
  {
   "cell_type": "code",
   "execution_count": null,
   "metadata": {},
   "outputs": [],
   "source": []
  }
 ],
 "metadata": {
  "kernelspec": {
   "display_name": "Python 3",
   "language": "python",
   "name": "python3"
  },
  "language_info": {
   "codemirror_mode": {
    "name": "ipython",
    "version": 3
   },
   "file_extension": ".py",
   "mimetype": "text/x-python",
   "name": "python",
   "nbconvert_exporter": "python",
   "pygments_lexer": "ipython3",
   "version": "3.7.6"
  }
 },
 "nbformat": 4,
 "nbformat_minor": 4
}
