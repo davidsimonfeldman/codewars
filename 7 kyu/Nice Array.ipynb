{
 "cells": [
  {
   "cell_type": "code",
   "execution_count": null,
   "metadata": {},
   "outputs": [],
   "source": [
    "A Nice array is defined to be an array where for every value n in the array, there is also an element n-1 or n+1 in the array.\n",
    "\n",
    "example:\n",
    "\n",
    "[2,10,9,3] is Nice array because\n",
    "\n",
    "2=3-1\n",
    "10=9+1\n",
    "3=2+1\n",
    "9=10-1\n",
    "Write a function named isNice/IsNice that returns true if its array argument is a Nice array, else false. \n",
    "You should also return false if input array has no elements.\n",
    "\n",
    "\n",
    "\n",
    "def is_nice(arr):\n",
    "    print(arr)\n",
    "    if len(arr)==0:return False\n",
    "    for x in arr:\n",
    "        if (x-1)in arr or (x+1)in arr  :continue\n",
    "        else:return False\n",
    "    return True   \n",
    "\n",
    "\n",
    "\n",
    "\n",
    "def is_nice(arr):\n",
    "    s = set(arr)\n",
    "    return bool(arr) and all( n+1 in s or n-1 in s for n in s)\n",
    "\n",
    "\n",
    "def is_nice(arr):\n",
    "    return all(x+1 in arr or x-1 in arr for x in arr) and len(arr)>0"
   ]
  }
 ],
 "metadata": {
  "kernelspec": {
   "display_name": "Python 3",
   "language": "python",
   "name": "python3"
  },
  "language_info": {
   "codemirror_mode": {
    "name": "ipython",
    "version": 3
   },
   "file_extension": ".py",
   "mimetype": "text/x-python",
   "name": "python",
   "nbconvert_exporter": "python",
   "pygments_lexer": "ipython3",
   "version": "3.7.6"
  }
 },
 "nbformat": 4,
 "nbformat_minor": 4
}
