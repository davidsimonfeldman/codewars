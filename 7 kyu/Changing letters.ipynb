{
 "cells": [
  {
   "cell_type": "code",
   "execution_count": null,
   "metadata": {},
   "outputs": [],
   "source": [
    "When provided with a String, capitalize all vowels\n",
    "\n",
    "For example:\n",
    "\n",
    "Input : \"Hello World!\"\n",
    "\n",
    "Output : \"HEllO WOrld!\"\n",
    "\n",
    "Note: Y is not a vowel in this kata.\n",
    "    \n",
    "    \n",
    "    \n",
    "def swap(st):\n",
    "    #your code here\n",
    "      \n",
    "    return \"\".join([x.upper() if x in 'aeiou' else x for x in st ])\n",
    "\n",
    "\n",
    "def swap(st):\n",
    "    return \"\".join( c.upper() if c in \"aeiou\" else c for c in st )\n",
    "\n",
    "def swap(st):\n",
    "    translation = st.maketrans('aeiou', 'AEIOU')\n",
    "    return st.translate(translation)"
   ]
  }
 ],
 "metadata": {
  "kernelspec": {
   "display_name": "Python 3",
   "language": "python",
   "name": "python3"
  },
  "language_info": {
   "codemirror_mode": {
    "name": "ipython",
    "version": 3
   },
   "file_extension": ".py",
   "mimetype": "text/x-python",
   "name": "python",
   "nbconvert_exporter": "python",
   "pygments_lexer": "ipython3",
   "version": "3.7.6"
  }
 },
 "nbformat": 4,
 "nbformat_minor": 4
}
