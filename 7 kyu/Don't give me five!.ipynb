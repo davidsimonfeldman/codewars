{
 "cells": [
  {
   "cell_type": "code",
   "execution_count": null,
   "metadata": {
    "ExecuteTime": {
     "end_time": "2021-06-21T22:03:52.068375Z",
     "start_time": "2021-06-21T22:03:51.026859Z"
    }
   },
   "outputs": [],
   "source": [
    "Don't give me five!\n",
    "In this kata you get the start number and the end number of a region and should return the count of all numbers except numbers with a 5 in it.\n",
    "The start and the end number are both inclusive!\n",
    "Examples:\n",
    "1,9 -> 1,2,3,4,6,7,8,9 -> Result 8\n",
    "4,17 -> 4,6,7,8,9,10,11,12,13,14,16,17 -> Result 12\n",
    "The result may contain fives. ;-)\n",
    "The start number will always be smaller than the end number. Both numbers can be also negative!\n",
    "I'm very curious for your solutions and the way you solve it. Maybe someone of you will find an easy pure mathematics solution.\n",
    "Have fun coding it and please don't forget to vote and rank this kata! :-)\n",
    "I have also created other katas. Take a look if you enjoyed this kata!\n",
    "\n",
    "\n",
    "\n",
    "def dont_give_me_five(start,end):\n",
    "    # your code here\n",
    "    print(start,end)\n",
    "    a=[x for x in range(start,end+1) if (str(x)[-1] not in '5') and (str(x)[0] not in '5')]\n",
    "    if end<150:return  len(a)\n",
    "    print(list(a))\n",
    "    if end>150:\n",
    "        a=[x for x in a if x<150 or x>159]\n",
    "        \n",
    "    \n",
    "    return  len(a) \n",
    "\n",
    "\n",
    "\n",
    "def dont_give_me_five(start, end):\n",
    "    return sum('5' not in str(i) for i in range(start, end + 1))\n",
    "\n",
    "\n",
    "def dont_give_me_five(start,end):\n",
    "    return len([num for num in range(start, end+1) if '5' not in str(num)])\n",
    "\n",
    "def dont_give_me_five(start,end):\n",
    "    tick = 0\n",
    "    for x in range(start, end+1):\n",
    "        if '5' not in str(x):\n",
    "            tick += 1\n",
    "    return tick"
   ]
  }
 ],
 "metadata": {
  "kernelspec": {
   "display_name": "Python 3",
   "language": "python",
   "name": "python3"
  },
  "language_info": {
   "codemirror_mode": {
    "name": "ipython",
    "version": 3
   },
   "file_extension": ".py",
   "mimetype": "text/x-python",
   "name": "python",
   "nbconvert_exporter": "python",
   "pygments_lexer": "ipython3",
   "version": "3.7.6"
  }
 },
 "nbformat": 4,
 "nbformat_minor": 4
}
