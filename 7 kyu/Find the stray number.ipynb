{
 "cells": [
  {
   "cell_type": "code",
   "execution_count": null,
   "metadata": {},
   "outputs": [],
   "source": [
    "You are given an odd-length array of integers, in which all of them are the same, except for one single number.\n",
    "\n",
    "Complete the method which accepts such an array, and returns that single different number.\n",
    "\n",
    "The input array will always be valid! (odd-length >= 3)\n",
    "\n",
    "Examples\n",
    "[1, 1, 2] ==> 2\n",
    "[17, 17, 3, 17, 17, 17, 17] ==> 3\n",
    "\n",
    "\n",
    "def stray(arr):\n",
    "    a={i:arr.count(i) for i in set(arr)}\n",
    "#     print(a)\n",
    "    sa = {k: v for k, v in sorted(a.items(), key=lambda item: -item[1])}\n",
    "#     print(list(sa.keys())[1])\n",
    "    return list(sa.keys())[1]\n",
    "\n",
    "\n",
    "\n",
    "\n",
    "\n",
    "def stray(arr):\n",
    "    for x in arr:\n",
    "        if arr.count(x) == 1:\n",
    "            return x"
   ]
  }
 ],
 "metadata": {
  "kernelspec": {
   "display_name": "Python 3",
   "language": "python",
   "name": "python3"
  },
  "language_info": {
   "codemirror_mode": {
    "name": "ipython",
    "version": 3
   },
   "file_extension": ".py",
   "mimetype": "text/x-python",
   "name": "python",
   "nbconvert_exporter": "python",
   "pygments_lexer": "ipython3",
   "version": "3.7.6"
  }
 },
 "nbformat": 4,
 "nbformat_minor": 4
}
