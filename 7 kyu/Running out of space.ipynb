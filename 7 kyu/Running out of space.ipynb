{
 "cells": [
  {
   "cell_type": "code",
   "execution_count": null,
   "metadata": {
    "ExecuteTime": {
     "end_time": "2021-06-21T22:03:52.068375Z",
     "start_time": "2021-06-21T22:03:51.026859Z"
    }
   },
   "outputs": [],
   "source": [
    "Kevin is noticing his space run out! Write a function that removes the spaces from the values and returns an array showing the space decreasing.\n",
    "For example, running this function on the array ['i', 'have','no','space'] would produce ['i','ihave','ihaveno','ihavenospace'].\n",
    "\n",
    "\n",
    "def spacey(arr):\n",
    "    a=[]\n",
    "    for i in range(0,len(arr)):\n",
    "        a.append(''.join(arr[:i+1]))\n",
    "    return a\n",
    "\n",
    "\n",
    "from itertools import accumulate\n",
    "\n",
    "def spacey(a):\n",
    "    return list(accumulate(a))\n",
    "\n",
    "\n",
    "def spacey(array):\n",
    "    return [''.join(array[:i+1]) for i in range(len(array))]\n",
    "\n",
    "\n",
    "\n",
    "def spacey(array):\n",
    "    strr = ''\n",
    "    out = []\n",
    "    for el in array:\n",
    "        strr += str(el)\n",
    "        out.append(strr)\n",
    "    return out"
   ]
  }
 ],
 "metadata": {
  "kernelspec": {
   "display_name": "Python 3",
   "language": "python",
   "name": "python3"
  },
  "language_info": {
   "codemirror_mode": {
    "name": "ipython",
    "version": 3
   },
   "file_extension": ".py",
   "mimetype": "text/x-python",
   "name": "python",
   "nbconvert_exporter": "python",
   "pygments_lexer": "ipython3",
   "version": "3.7.6"
  }
 },
 "nbformat": 4,
 "nbformat_minor": 4
}
