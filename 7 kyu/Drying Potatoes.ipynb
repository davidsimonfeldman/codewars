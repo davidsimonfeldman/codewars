{
 "cells": [
  {
   "cell_type": "code",
   "execution_count": null,
   "metadata": {},
   "outputs": [],
   "source": [
    "All we eat is water and dry matter.\n",
    "John bought potatoes: their weight is 100 kilograms. Potatoes contain water and dry matter.\n",
    "The water content is 99 percent of the total weight. He thinks they are too wet and puts them in an oven - at low temperature - for them to lose some water.\n",
    "At the output the water content is only 98%.\n",
    "What is the total weight in kilograms (water content plus dry matter) coming out of the oven?\n",
    "He finds 50 kilograms and he thinks he made a mistake: \"So much weight lost for such a small change in water content!\"\n",
    "Can you help him?\n",
    "Write function potatoes with\n",
    "int parameter p0 - initial percent of water-\n",
    "int parameter w0 - initial weight -\n",
    "int parameter p1 - final percent of water -\n",
    "potatoesshould return the final weight coming out of the oven w1 truncated as an int.\n",
    "Example:\n",
    "potatoes(99, 100, 98) --> 50\n",
    "\n",
    "\n",
    "def potatoes(p0, w0, p1):\n",
    "    # your code\n",
    "    return int(((100-p0)*w0)/(100-p1))"
   ]
  }
 ],
 "metadata": {
  "kernelspec": {
   "display_name": "Python 3",
   "language": "python",
   "name": "python3"
  },
  "language_info": {
   "codemirror_mode": {
    "name": "ipython",
    "version": 3
   },
   "file_extension": ".py",
   "mimetype": "text/x-python",
   "name": "python",
   "nbconvert_exporter": "python",
   "pygments_lexer": "ipython3",
   "version": "3.7.6"
  }
 },
 "nbformat": 4,
 "nbformat_minor": 4
}
