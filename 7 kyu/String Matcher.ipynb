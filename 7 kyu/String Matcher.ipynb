{
 "cells": [
  {
   "cell_type": "code",
   "execution_count": null,
   "metadata": {},
   "outputs": [],
   "source": [
    "isMatching checks if a string can be created by combining and rearranging the letters of two other strings (not case sensitive).\n",
    "\n",
    "!Spaces will be ignored but special characters and numbers won't match the string and return false.\n",
    "\n",
    "For example:\n",
    "isMatching(\"email box\", \"b aIl\", \"Mo x e\") return true\n",
    "but\n",
    "isMatching(\"bouh\", \"0b\", \"uh\") return false\n",
    "\n",
    "You need to be able to use all the caracters from the two strings so:\n",
    "isMatching(\"kata\", \"kt\", \"aaa\") return false\n",
    "\n",
    "\n",
    "def is_matching(st, st1, st2): \n",
    "    print('st', st )\n",
    "    print('st1', st1)\n",
    "    print('st2',st2)\n",
    "    st=st.replace(' ','').lower()\n",
    "    st1=st1.replace(' ','').lower()\n",
    "    st2=st2.replace(' ','').lower()\n",
    "    a={x:st.count(x) for x in set(st)}\n",
    "    print(a)\n",
    "    b=st1+st2\n",
    "    print(b)\n",
    "    c={x:b.count(x) for x in set(b)}\n",
    "    print(c)\n",
    "    return c==a\n",
    "\n",
    "\n",
    "\n",
    "\n",
    "def is_matching(stg, st1, st2):\n",
    "    return clean(stg) == clean(f\"{st1}{st2}\")\n",
    "def clean(stg):\n",
    "    return sorted(stg.replace(\" \", \"\").lower())\n",
    "\n",
    "\n",
    "\n",
    "\n",
    "\n",
    "def is_matching(st, st1, st2):\n",
    "    stlow = st.lower().replace(' ','')\n",
    "    st1low = st1.lower().replace(' ','')\n",
    "    st2low = st2.lower().replace(' ','')\n",
    "    return sorted(stlow) == sorted(st1low+st2low)"
   ]
  }
 ],
 "metadata": {
  "kernelspec": {
   "display_name": "Python 3",
   "language": "python",
   "name": "python3"
  },
  "language_info": {
   "codemirror_mode": {
    "name": "ipython",
    "version": 3
   },
   "file_extension": ".py",
   "mimetype": "text/x-python",
   "name": "python",
   "nbconvert_exporter": "python",
   "pygments_lexer": "ipython3",
   "version": "3.7.6"
  }
 },
 "nbformat": 4,
 "nbformat_minor": 4
}
