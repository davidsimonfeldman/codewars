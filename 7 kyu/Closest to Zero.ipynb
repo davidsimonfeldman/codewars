{
 "cells": [
  {
   "cell_type": "code",
   "execution_count": null,
   "metadata": {},
   "outputs": [],
   "source": [
    "Simply find the closest value to zero from the list. Notice that there are negatives in the list.\n",
    "List is always not empty and contains only integers. \n",
    "Return None if it is not possible to define only one of such values. And of course, we are expecting 0 as closest value to zero.\n",
    "\n",
    "Examples:\n",
    "\n",
    "[2, 4, -1, -3]  => -1\n",
    "[5, 2, -2]      => None\n",
    "[5, 2, 2]       => 2\n",
    "[13, 0, -6]     => 0\n",
    "\n",
    "\n",
    "def closest(lst):\n",
    "    a=min(set(lst))\n",
    "    print(a)\n",
    "    if len((set(lst)))<20:    print(set(lst))\n",
    "    if 0 in lst:return 0 \n",
    "    b=min(list(map(abs,lst)))\n",
    "    print('b',b)\n",
    "    \n",
    "    if b in  set(lst) and -b not in set(lst):return b\n",
    "    if b in  set(lst) and -b in set(lst):return None\n",
    "    return -b\n",
    "\n",
    "\n",
    "def closest(lst):\n",
    "    m = min(lst, key=abs)\n",
    "    return m if m == 0 or -m not in lst else None\n",
    "\n",
    "\n",
    "def closest(lst):\n",
    "    result = min(lst, key=abs)\n",
    "    return result if not result or -result not in lst else None\n",
    "\n",
    "\n",
    "\n",
    "def closest(lst):\n",
    "    m = min(lst, key=lambda x: abs(x))\n",
    "    if not m or -m not in lst: return m\n"
   ]
  }
 ],
 "metadata": {
  "kernelspec": {
   "display_name": "Python 3",
   "language": "python",
   "name": "python3"
  },
  "language_info": {
   "codemirror_mode": {
    "name": "ipython",
    "version": 3
   },
   "file_extension": ".py",
   "mimetype": "text/x-python",
   "name": "python",
   "nbconvert_exporter": "python",
   "pygments_lexer": "ipython3",
   "version": "3.7.6"
  }
 },
 "nbformat": 4,
 "nbformat_minor": 4
}
