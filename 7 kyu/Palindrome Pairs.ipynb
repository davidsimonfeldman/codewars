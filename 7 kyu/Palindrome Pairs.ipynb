{
 "cells": [
  {
   "cell_type": "code",
   "execution_count": 5,
   "metadata": {
    "ExecuteTime": {
     "end_time": "2021-06-18T12:12:42.273720Z",
     "start_time": "2021-06-18T12:12:42.241715Z"
    }
   },
   "outputs": [
    {
     "name": "stdout",
     "output_type": "stream",
     "text": [
      "['abcd', 'dcba', 'lls', 's', 'sssll']\n",
      "i 0 j 1\n",
      "[[0, 1]]\n",
      "i 1 j 0\n",
      "[[0, 1], [1, 0]]\n",
      "i 2 j 4\n",
      "[[0, 1], [1, 0], [2, 4]]\n",
      "i 3 j 2\n",
      "[[0, 1], [1, 0], [2, 4], [3, 2]]\n"
     ]
    },
    {
     "data": {
      "text/plain": [
       "[[0, 1], [1, 0], [2, 4], [3, 2]]"
      ]
     },
     "execution_count": 5,
     "metadata": {},
     "output_type": "execute_result"
    }
   ],
   "source": [
    "# Given a list of unique words. Find all pairs of distinct indices (i, j) in the given list so that the concatenation of the two words, i.e. words[i] + words[j] is a palindrome.\n",
    "\n",
    "# Examples:\n",
    "\n",
    "# [\"bat\", \"tab\", \"cat\"] # [[0, 1], [1, 0]]\n",
    "# [\"dog\", \"cow\", \"tap\", \"god\", \"pat\"] # [[0, 3], [2, 4], [3, 0], [4, 2]]\n",
    "# [\"abcd\", \"dcba\", \"lls\", \"s\", \"sssll\"] # [[0, 1], [1, 0], [2, 4], [3, 2]]\n",
    "# Non-string inputs should be converted to strings.\n",
    "\n",
    "# Return an array of arrays containing pairs of distinct indices that form palindromes. Pairs should be returned in the order they appear in the original list.\n",
    "\n",
    "\n",
    "\n",
    "def f(word):\n",
    "    return  (word) ==  (word)[::-1]\n",
    "\n",
    "def palindrome_pairs(words):\n",
    "    w=list(map(str,words))\n",
    "    print(w)\n",
    "    l = []\n",
    "    ln=len(words)\n",
    "    for i in range(ln):\n",
    "         \n",
    "        for j in range(ln):\n",
    "            \n",
    "            if i != j and f(w[i]+w[j]) :\n",
    "                print('i',i,'j',j)\n",
    "                l.append([i, j])\n",
    "                print(l)     \n",
    "    return l\n",
    "palindrome_pairs([\"abcd\", \"dcba\", \"lls\", \"s\", \"sssll\"]) \n"
   ]
  },
  {
   "cell_type": "code",
   "execution_count": null,
   "metadata": {},
   "outputs": [],
   "source": [
    "def palindrome_pairs(w):\n",
    "    return [[i, j] for i in range(len(w)) for j in range(len(w)) if str(w[i])+str(w[j])==(str(w[i])+str(w[j]))[::-1] and i!=j]"
   ]
  }
 ],
 "metadata": {
  "kernelspec": {
   "display_name": "Python 3",
   "language": "python",
   "name": "python3"
  },
  "language_info": {
   "codemirror_mode": {
    "name": "ipython",
    "version": 3
   },
   "file_extension": ".py",
   "mimetype": "text/x-python",
   "name": "python",
   "nbconvert_exporter": "python",
   "pygments_lexer": "ipython3",
   "version": "3.7.6"
  }
 },
 "nbformat": 4,
 "nbformat_minor": 4
}
