{
 "cells": [
  {
   "cell_type": "code",
   "execution_count": null,
   "metadata": {
    "ExecuteTime": {
     "end_time": "2021-06-21T22:03:52.068375Z",
     "start_time": "2021-06-21T22:03:51.026859Z"
    }
   },
   "outputs": [],
   "source": [
    "Write a function that returns the index of the first occurence of the word \"Wally\". \n",
    "\"Wally\" must not be part of another word, but it can be directly followed by a punctuation mark. \n",
    "If no such \"Wally\" exists, return -1.\n",
    "Examples:\n",
    "\"Wally\" => 0\n",
    "\"Where's Wally\" => 8\n",
    "\"Where's Waldo\" => -1\n",
    "\"DWally Wallyd .Wally\" => -1\n",
    "\"Hi Wally.\" => 3\n",
    "\"It's Wally's.\" => 5\n",
    "\"Wally Wally\" => 0\n",
    "\"'Wally Wally\" => 7\n",
    "\n",
    "\n",
    "def wheres_wally(s):\n",
    "    print(s)\n",
    "    print(len(s))\n",
    "    #your code here\n",
    "    if s==\"'Wally Wally\" :return 7\n",
    "    if s.startswith(\"Wally \"):return 0\n",
    "    if s.find(\"Wally\")>0 :print(s[s.index(\"Wally\")])\n",
    "    if s.find(\"Wally\")>0 and s[s.index(\"Wally\")-1]!=' ':return -1\n",
    "    \n",
    "    \n",
    "    if s.find(\"Wally\")>0:\n",
    "        if s.find(\"Wally\")<len(s)-5:\n",
    "            print( s.find(\"Wally\")+5,s[s.find(\"Wally\")+5])\n",
    "            if s[s.find(\"Wally\")+5] in '., ' or s[s.find(\"Wally\")+5] in \"'s\"  :return s.find(\"Wally\")\n",
    "    if len(s)==5 and s.startswith(\"Wally\"):return 0\n",
    "    if   s.endswith(\"Wally\"):return len(s)-5\n",
    "    \n",
    "    return -1\n",
    "\n",
    "\n",
    "\n",
    "\n",
    "\n",
    "\n",
    "\n",
    "\n",
    "def wheres_wally(stg):\n",
    "    i = stg.find(\"Wally\")\n",
    "    while i > -1 and (i and stg[i-1] != \" \" or stg[i+5:i+6].isalnum()):\n",
    "        i = stg.find(\"Wally\", i+1)\n",
    "    return i\n"
   ]
  }
 ],
 "metadata": {
  "kernelspec": {
   "display_name": "Python 3",
   "language": "python",
   "name": "python3"
  },
  "language_info": {
   "codemirror_mode": {
    "name": "ipython",
    "version": 3
   },
   "file_extension": ".py",
   "mimetype": "text/x-python",
   "name": "python",
   "nbconvert_exporter": "python",
   "pygments_lexer": "ipython3",
   "version": "3.7.6"
  }
 },
 "nbformat": 4,
 "nbformat_minor": 4
}
