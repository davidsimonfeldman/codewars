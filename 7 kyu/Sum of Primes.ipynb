{
 "cells": [
  {
   "cell_type": "code",
   "execution_count": null,
   "metadata": {},
   "outputs": [],
   "source": [
    "A prime number (or a prime) is a natural number greater than 1 that has no positive divisors other than 1 and itself.\n",
    "You will be given the lower and upper limits: the program will look for any prime number that exists between the lower limit to the upper limit (included).\n",
    "Your objective is to sum all the primes between the given limits.\n",
    "If the limits are primes, then they are included\n",
    "-100000 <= lower < upper <= 100000\n",
    "If lower is greater than upper, it should return 0\n",
    "Example\n",
    "You are given a lower limit of 4 and an upper limit of 20.\n",
    "So the prime numbers from 4 to 20 will be: 5, 7, 11, 13, 17, 19\n",
    "and if you add them up, the result will be 72.\n",
    "sum_primes(4, 20) = 72  # 5 + 7 + 11 + 13 + 17 + 19 = 72\n",
    "sum_primes(20, 4) = 0  # since lower is greater than upper\n",
    "sum_primes(2, 7) = 17  # 2 + 3 + 5 + 7 = 17\n",
    "sum_primes(11, 11) = 11  # it consists of one prime number\n",
    "sum_primes(60, 60) = 0  # since 60 is not a prime number\n",
    "\n",
    "\n",
    "\n",
    "def is_prime(n):\n",
    "    return n > 1 and all(n % i != 0 for i in range(2, int(n**0.5)+1))\n",
    "    \n",
    "def sum_primes(lower, upper):\n",
    "    print(lower, upper)\n",
    "    # Your code here\n",
    "    if lower > upper:return 0\n",
    "    import math\n",
    "    a=0 \n",
    "    for num in range(lower, upper+1 ):\n",
    "        if is_prime( num):\n",
    "            a+= (num)\n",
    "#             print(a)\n",
    "    return a \n",
    "\n",
    "\n",
    "\n",
    "\n",
    "\n",
    "def is_prime(N):\n",
    "    if N<=1:\n",
    "        return False\n",
    "    \n",
    "    for fact in range(2,int(N**.5)+1):\n",
    "        if N%fact==0:\n",
    "            return False\n",
    "    return True\n",
    "\n",
    "def sum_primes(lower, upper):\n",
    "    return sum(n for n in range(lower,upper+1) if is_prime(n))"
   ]
  }
 ],
 "metadata": {
  "kernelspec": {
   "display_name": "Python 3",
   "language": "python",
   "name": "python3"
  },
  "language_info": {
   "codemirror_mode": {
    "name": "ipython",
    "version": 3
   },
   "file_extension": ".py",
   "mimetype": "text/x-python",
   "name": "python",
   "nbconvert_exporter": "python",
   "pygments_lexer": "ipython3",
   "version": "3.7.6"
  }
 },
 "nbformat": 4,
 "nbformat_minor": 4
}
