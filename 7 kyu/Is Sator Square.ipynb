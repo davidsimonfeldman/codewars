{
 "cells": [
  {
   "cell_type": "code",
   "execution_count": null,
   "metadata": {},
   "outputs": [],
   "source": [
    "A Discovery\n",
    "While turning through the fields one fine day with his favorite rotary plough, farmer Arepo struck upon something quite odd: a square stone tablet with strange symbols carved into it... he knew some such objects could portray the same message in four different directions all at once, so he wisely kept it for later examination and dutifully resumed working the rich soil. As he wheeled on, he found more such tablets, but with so many crops to sow, he had no time for deciphering their many glyphs.\n",
    "\n",
    "Your Task\n",
    "Please help Arepo by reading each tablet to discern whether or not it is a Sator Square!\n",
    "\n",
    "The Square . . .\n",
    "is known as a two-dimentional palindrome observing four symmetries\n",
    "\n",
    "can be read:\n",
    "\n",
    "top-to-bottom\n",
    "bottom-to-top\n",
    "left-to-right\n",
    "right-to-left\n",
    "can be rotated 180 degrees and still be read in all four ways\n",
    "\n",
    "may contain similar looking characters that are different, so be careful\n",
    "\n",
    "is shown here illustrates how you can read the word \"TUBA\" in four different directions...\n",
    "\n",
    "          v\n",
    "      B A T S\n",
    "      A B U T <\n",
    "    > T U B A        \n",
    "      S T A B\n",
    "        ^\n",
    "...where every word in the square can be thus read!\n",
    "\n",
    "Input\n",
    "tablet  #  a 2D char list (2 <= n <= 33)\n",
    "Output\n",
    "True or False  #  whether or not the tablet is a sator square\n",
    "Enjoy!\n",
    "If interested, you may choose from one of the following kata to solve next:\n",
    "\n",
    "Playing With Toy Blocks ~ Can you build a 4x4 square?\n",
    "Four Letter Words ~ Mutations\n",
    "Crossword Puzzle! (2x2)\n",
    "\n",
    "\n",
    "\n",
    "def is_sator_square(t):\n",
    "    if len((t))<10:  print(t)\n",
    "    a,b,c,d=set(),set(),set(),set()\n",
    "    for x in t:\n",
    "        a.add(''.join(x))\n",
    "        b.add(''.join(x[::-1]))\n",
    "    for x in zip(*t):\n",
    "        c.add(''.join(x))\n",
    "        d.add(''.join(x[::-1]))\n",
    "    if len((t))<10:\n",
    "        print(a)\n",
    "        print(b)\n",
    "        print(c)\n",
    "        print(d)\n",
    "    return a==b==c==d\n",
    " \n",
    "    \n",
    "    \n",
    "def is_sator_square(tablet):\n",
    "    return tablet == [t[::-1] for t in tablet][::-1] == list(map(list, zip(*tablet)))\n",
    "\n",
    "\n",
    "\n"
   ]
  },
  {
   "cell_type": "code",
   "execution_count": 3,
   "metadata": {
    "ExecuteTime": {
     "end_time": "2021-06-18T21:37:18.413218Z",
     "start_time": "2021-06-18T21:37:18.390694Z"
    }
   },
   "outputs": [
    {
     "name": "stdout",
     "output_type": "stream",
     "text": [
      "False\n",
      "True\n"
     ]
    }
   ],
   "source": [
    "def is_sator_square(tablet):\n",
    "    A = {''.join(lst) for lst in tablet}\n",
    "    B = {''.join(lst)[::-1] for lst in tablet}\n",
    "    C = {''.join(lst) for lst in zip(*tablet)}\n",
    "    D = {''.join(lst)[::-1] for lst in zip(*tablet)}\n",
    "    return A == B == C == D\n",
    "tablet = [['K', 'N', 'I', 'T'],\n",
    "          ['N', 'O', 'R', 'I'],  #  warning: O and 0 look similar\n",
    "          ['I', 'R', '0', 'N'],  #           but are not the same\n",
    "          ['T', 'I', 'N', 'K']]\n",
    "tablet2 = [['S', 'A', 'T', 'O', 'R'],\n",
    "          ['A', 'R', 'E', 'P', 'O'],\n",
    "          ['T', 'E', 'N', 'E', 'T'],\n",
    "          ['O', 'P', 'E', 'R', 'A'],\n",
    "          ['R', 'O', 'T', 'A', 'S']]\n",
    "print(is_sator_square(tablet))\n",
    "print(is_sator_square(tablet2))\n",
    " "
   ]
  },
  {
   "cell_type": "code",
   "execution_count": null,
   "metadata": {},
   "outputs": [],
   "source": []
  }
 ],
 "metadata": {
  "kernelspec": {
   "display_name": "Python 3",
   "language": "python",
   "name": "python3"
  },
  "language_info": {
   "codemirror_mode": {
    "name": "ipython",
    "version": 3
   },
   "file_extension": ".py",
   "mimetype": "text/x-python",
   "name": "python",
   "nbconvert_exporter": "python",
   "pygments_lexer": "ipython3",
   "version": "3.7.6"
  }
 },
 "nbformat": 4,
 "nbformat_minor": 4
}
