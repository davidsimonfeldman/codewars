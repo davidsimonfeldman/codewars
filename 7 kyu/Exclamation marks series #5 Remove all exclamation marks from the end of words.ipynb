{
 "cells": [
  {
   "cell_type": "code",
   "execution_count": null,
   "metadata": {},
   "outputs": [],
   "source": [
    "Description:\n",
    "Remove all exclamation marks from the end of words. Words are separated by spaces in the sentence.\n",
    "\n",
    "Examples\n",
    "remove(\"Hi!\") === \"Hi\"\n",
    "remove(\"Hi!!!\") === \"Hi\"\n",
    "remove(\"!Hi\") === \"!Hi\"\n",
    "remove(\"!Hi!\") === \"!Hi\"\n",
    "remove(\"Hi! Hi!\") === \"Hi Hi\"\n",
    "remove(\"!!!Hi !!hi!!! !hi\") === \"!!!Hi !!hi !hi\"\n",
    "\n",
    "\n",
    "\n",
    "def remove(s):\n",
    "    print(s.split())\n",
    "    a=[]\n",
    "    for  x in s.split():\n",
    "        #print(x)\n",
    "        while x[-1]=='!':\n",
    "            x=x[:-1]\n",
    "            print(x)\n",
    "        a.append(x)    \n",
    "    return(' '.join(a))  \n",
    "\n",
    "\n",
    "\n",
    "def remove(s):\n",
    "    return ' '.join(w.rstrip('!') or w for w in s.split())\n",
    "\n",
    "\n",
    "def remove(s):\n",
    "    return \" \".join(x.rstrip(\"!\") for x in s.split())\n"
   ]
  }
 ],
 "metadata": {
  "kernelspec": {
   "display_name": "Python 3",
   "language": "python",
   "name": "python3"
  },
  "language_info": {
   "codemirror_mode": {
    "name": "ipython",
    "version": 3
   },
   "file_extension": ".py",
   "mimetype": "text/x-python",
   "name": "python",
   "nbconvert_exporter": "python",
   "pygments_lexer": "ipython3",
   "version": "3.7.6"
  }
 },
 "nbformat": 4,
 "nbformat_minor": 4
}
