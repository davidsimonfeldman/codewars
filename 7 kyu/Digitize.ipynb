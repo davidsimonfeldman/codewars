{
 "cells": [
  {
   "cell_type": "code",
   "execution_count": null,
   "metadata": {},
   "outputs": [],
   "source": [
    "Given a non-negative integer, return an array / a list of the individual digits in order.\n",
    "\n",
    "Examples:\n",
    "\n",
    "123 => [1,2,3]\n",
    "\n",
    "1 => [1]\n",
    "\n",
    "8675309 => [8,6,7,5,3,0,9]\n",
    "\n",
    "\n",
    "\n",
    "\n",
    "\n",
    "\n",
    "def digitize(n):\n",
    "    return list(map(int,list(str(n))))\n",
    "\n",
    "\n",
    "def digitize(n):\n",
    "    return [int(d) for d in str(n)]\n",
    "\n",
    "def digitize(n):\n",
    "    return list(map(int, str(n)))\n",
    "\n",
    "def digitize(n):\n",
    "    return [int(n) for n in str(n)]"
   ]
  }
 ],
 "metadata": {
  "kernelspec": {
   "display_name": "Python 3",
   "language": "python",
   "name": "python3"
  },
  "language_info": {
   "codemirror_mode": {
    "name": "ipython",
    "version": 3
   },
   "file_extension": ".py",
   "mimetype": "text/x-python",
   "name": "python",
   "nbconvert_exporter": "python",
   "pygments_lexer": "ipython3",
   "version": "3.7.6"
  }
 },
 "nbformat": 4,
 "nbformat_minor": 4
}
