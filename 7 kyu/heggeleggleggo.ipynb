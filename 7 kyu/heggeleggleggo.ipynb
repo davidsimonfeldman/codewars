{
 "cells": [
  {
   "cell_type": "code",
   "execution_count": null,
   "metadata": {
    "ExecuteTime": {
     "end_time": "2021-06-21T22:03:52.068375Z",
     "start_time": "2021-06-21T22:03:51.026859Z"
    }
   },
   "outputs": [],
   "source": [
    "Egg Talk.\n",
    "Insert an \"egg\" after each consonant. If there are no consonants, there will be no eggs.\n",
    "Argument will consist of a string with only alphabetic characters and possibly some spaces.\n",
    "eg:\n",
    "hello => heggeleggleggo\n",
    "eggs => egegggeggsegg\n",
    "FUN KATA => FeggUNegg KeggATeggA\n",
    "////\n",
    "This Kata is designed for beginners to practice the basics of regular expressions. With this in mind a little bit of commenting in your solution could be very useful.\n",
    "\n",
    "\n",
    "\n",
    "def heggeleggleggo(word):\n",
    "    print(word)\n",
    "    a=''\n",
    "    for x in word:\n",
    "        if x in ' aeiuoAEIOU':\n",
    "            a +=x\n",
    "        else: a+= x+'egg'\n",
    "    return a   \n",
    "\n",
    "\n",
    "consonants = \"bcdfghjklmnpqrstvwxyz\"\n",
    "\n",
    "def heggeleggleggo(word):\n",
    "    return \"\".join(c + \"egg\" if c.lower() in consonants else c for c in word)\n",
    "\n",
    "\n"
   ]
  }
 ],
 "metadata": {
  "kernelspec": {
   "display_name": "Python 3",
   "language": "python",
   "name": "python3"
  },
  "language_info": {
   "codemirror_mode": {
    "name": "ipython",
    "version": 3
   },
   "file_extension": ".py",
   "mimetype": "text/x-python",
   "name": "python",
   "nbconvert_exporter": "python",
   "pygments_lexer": "ipython3",
   "version": "3.7.6"
  }
 },
 "nbformat": 4,
 "nbformat_minor": 4
}
