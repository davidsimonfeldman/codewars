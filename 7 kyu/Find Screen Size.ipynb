{
 "cells": [
  {
   "cell_type": "code",
   "execution_count": null,
   "metadata": {
    "ExecuteTime": {
     "end_time": "2021-06-21T22:03:52.068375Z",
     "start_time": "2021-06-21T22:03:51.026859Z"
    }
   },
   "outputs": [],
   "source": [
    "Cheesy Cheeseman just got a new monitor! He is happy with it, but he just discovered that his old desktop wallpaper no longer fits. He wants to find a new wallpaper, but does not know which size wallpaper he should be looking for, and alas, he just threw out the new monitor's box. Luckily he remembers the width and the aspect ratio of the monitor from when Bob Mortimer sold it to him. Can you help Cheesy out?\n",
    "\n",
    "The Challenge\n",
    "Given an integer width and a string ratio written as WIDTH:HEIGHT, output the screen dimensions as a string written as WIDTHxHEIGHT.\n",
    "\n",
    "Note: The calculated height should be represented as an integer. If the height is fractional, truncate it.\n",
    "    \n",
    "    \n",
    "    \n",
    "def find_screen_height(w, ratio): \n",
    "    # your code here\n",
    "    a=[int(x) for x in  ratio.split(':')]\n",
    "    print(a)\n",
    "    b=w*a[1]/a[0]\n",
    "    print(str(w)+'x'+str(int(b)))\n",
    "    return str(w)+'x'+str(int(b))\n",
    "\n",
    "\n",
    "def find_screen_height(width, ratio): \n",
    "    a, b = map(int, ratio.split(\":\"))\n",
    "    return f\"{width}x{int(width / a * b)}\"\n",
    "\n",
    "\n",
    "\n"
   ]
  }
 ],
 "metadata": {
  "kernelspec": {
   "display_name": "Python 3",
   "language": "python",
   "name": "python3"
  },
  "language_info": {
   "codemirror_mode": {
    "name": "ipython",
    "version": 3
   },
   "file_extension": ".py",
   "mimetype": "text/x-python",
   "name": "python",
   "nbconvert_exporter": "python",
   "pygments_lexer": "ipython3",
   "version": "3.7.6"
  }
 },
 "nbformat": 4,
 "nbformat_minor": 4
}
