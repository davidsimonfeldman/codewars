{
 "cells": [
  {
   "cell_type": "code",
   "execution_count": null,
   "metadata": {
    "ExecuteTime": {
     "end_time": "2021-06-21T22:03:52.068375Z",
     "start_time": "2021-06-21T22:03:51.026859Z"
    }
   },
   "outputs": [],
   "source": [
    "Simple, given a string of words, return the length of the shortest word(s).\n",
    "\n",
    "String will never be empty and you do not need to account for different data types.\n",
    "\n",
    "\n",
    "def find_short(s):\n",
    "    # your code here\n",
    "    l=[len(x) for x in  s.split( )]\n",
    "    print(l)\n",
    "    return min(l) \n",
    "\n",
    "\n",
    "\n",
    "def find_short(s):\n",
    "    return min(len(x) for x in s.split())\n",
    "\n",
    "\n",
    "def find_short(s):\n",
    "    return len(min(s.split(' '), key=len))\n",
    "\n",
    "\n",
    "\n",
    "def find_short(s):\n",
    "    return min(map(len, s.split(' ')))"
   ]
  }
 ],
 "metadata": {
  "kernelspec": {
   "display_name": "Python 3",
   "language": "python",
   "name": "python3"
  },
  "language_info": {
   "codemirror_mode": {
    "name": "ipython",
    "version": 3
   },
   "file_extension": ".py",
   "mimetype": "text/x-python",
   "name": "python",
   "nbconvert_exporter": "python",
   "pygments_lexer": "ipython3",
   "version": "3.7.6"
  }
 },
 "nbformat": 4,
 "nbformat_minor": 4
}
