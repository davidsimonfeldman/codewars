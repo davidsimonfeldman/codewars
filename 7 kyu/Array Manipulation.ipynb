{
 "cells": [
  {
   "cell_type": "code",
   "execution_count": null,
   "metadata": {},
   "outputs": [],
   "source": [
    "Given an array of positive integers, replace every element with the least greater element to its right.\n",
    "If there is no greater element to its right, replace it with -1. For instance, given the array\n",
    "\n",
    "[8, 58, 71, 18, 31, 32, 63, 92, 43, 3, 91, 93, 25, 80, 28],\n",
    "\n",
    "the desired output is\n",
    "\n",
    "[18, 63, 80, 25, 32, 43, 80, 93, 80, 25, 93, -1, 28, -1, -1].\n",
    "\n",
    "Your task is to create a function \"arrayManip()\" that takes in an array as its argument, manipulates the array as described above, then return the resulting array.\n",
    "\n",
    "Note: Return a new array, rather than modifying the passed array.\n",
    "    \n",
    "    \n",
    "def array_manip(arr):\n",
    "    #your code here\n",
    "    a=[]\n",
    "    for i in range(len(arr)):\n",
    "        if len([x for x in sorted(arr[i+1:])if x>arr[i]])>0:\n",
    "            print([x for x in sorted(arr[i+1:])if x>arr[i]])\n",
    "            a.append([x for x in sorted(arr[i+1:])if x>arr[i]  ][0])\n",
    "        else:a.append(-1)\n",
    "    return a     \n",
    "\n",
    "\n",
    "\n",
    "def array_manip(array):\n",
    "    return [min([a for a in array[i+1:] if a > array[i]], default=-1) for i in range(len(array))]\n",
    "\n",
    "\n",
    "def array_manip(array):\n",
    "    return [min((r for r in array[i:] if r > n), default=-1) for i, n in enumerate(array, 1)]\n",
    "\n",
    "\n",
    "# This is O(n²), it's a bad solution\n",
    "# You can do it in O(n*log(n)) but I'm too lazy for now\n",
    "def array_manip(array):\n",
    "    return [min(filter(lambda y: y > x, array[i+1:]), default=-1) for i,x in enumerate(array)]\n",
    "\n",
    "\n",
    "def array_manip(array):\n",
    "    return [min((j for j in array[i+1:] if j > array[i]), default=-1) for i in range(len(array))]\n",
    "\n",
    "\n",
    "def array_manip(array):\n",
    "    return [\n",
    "        min((x for x in array[i:] if x > n), default=-1)\n",
    "        for i, n in enumerate(array)]"
   ]
  },
  {
   "cell_type": "code",
   "execution_count": null,
   "metadata": {
    "ExecuteTime": {
     "end_time": "2021-06-18T21:37:01.451515Z",
     "start_time": "2021-06-18T21:37:01.412513Z"
    }
   },
   "outputs": [],
   "source": []
  },
  {
   "cell_type": "code",
   "execution_count": null,
   "metadata": {},
   "outputs": [],
   "source": []
  }
 ],
 "metadata": {
  "kernelspec": {
   "display_name": "Python 3",
   "language": "python",
   "name": "python3"
  },
  "language_info": {
   "codemirror_mode": {
    "name": "ipython",
    "version": 3
   },
   "file_extension": ".py",
   "mimetype": "text/x-python",
   "name": "python",
   "nbconvert_exporter": "python",
   "pygments_lexer": "ipython3",
   "version": "3.7.6"
  }
 },
 "nbformat": 4,
 "nbformat_minor": 4
}
