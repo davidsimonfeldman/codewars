{
 "cells": [
  {
   "cell_type": "code",
   "execution_count": null,
   "metadata": {},
   "outputs": [],
   "source": [
    "Modify the spacify function so that it returns the given string with spaces inserted between each character.\n",
    "\n",
    "spacify(\"hello world\") # returns \"h e l l o   w o r l d\"\n",
    "\n",
    "\n",
    "def spacify(s):\n",
    "    return ' '.join(list(s))\n",
    "\n",
    "\n",
    "def spacify(string):\n",
    "    return ' '.join(list(string))"
   ]
  }
 ],
 "metadata": {
  "kernelspec": {
   "display_name": "Python 3",
   "language": "python",
   "name": "python3"
  },
  "language_info": {
   "codemirror_mode": {
    "name": "ipython",
    "version": 3
   },
   "file_extension": ".py",
   "mimetype": "text/x-python",
   "name": "python",
   "nbconvert_exporter": "python",
   "pygments_lexer": "ipython3",
   "version": "3.7.6"
  }
 },
 "nbformat": 4,
 "nbformat_minor": 4
}
