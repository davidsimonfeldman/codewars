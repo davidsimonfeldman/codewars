{
 "cells": [
  {
   "cell_type": "code",
   "execution_count": null,
   "metadata": {
    "ExecuteTime": {
     "end_time": "2021-06-21T22:03:52.068375Z",
     "start_time": "2021-06-21T22:03:51.026859Z"
    }
   },
   "outputs": [],
   "source": [
    "One suggestion to build a satisfactory password is to start with a memorable phrase or sentence and make a password by extracting the first letter of each word.\n",
    "\n",
    "Even better is to replace some of those letters with numbers (e.g., the letter O can be replaced with the number 0):\n",
    "\n",
    "instead of including i or I put the number 1 in the password;\n",
    "instead of including o or O put the number 0 in the password;\n",
    "instead of including s or S put the number 5 in the password.\n",
    "Examples:\n",
    "\"Give me liberty or give me death\"  --> \"Gml0gmd\"\n",
    "\"Keep Calm and Carry On\"            --> \"KCaC0\"\n",
    "\n",
    "\n",
    "\n",
    "\n",
    "\n",
    "def make_password(p):\n",
    "    # Your code here\n",
    "    a=p.split()\n",
    "    print(a)\n",
    "    b=''.join([x[0] for x in a])\n",
    "    b=b.replace('o','0').replace('O','0').replace('i','1').replace('I','1').replace('s','5').replace('S','5') \n",
    "    return b\n",
    "\n",
    "\n",
    "\n",
    "\n",
    "SWAP = {'i': '1', 'I': '1', 'o': '0', 'O': '0', 's': '5', 'S': '5'}\n",
    "def make_password(phrase):\n",
    "    return ''.join(SWAP.get(a[0], a[0]) for a in phrase.split())\n",
    "\n",
    "\n",
    "\n",
    "def make_password(phrase):\n",
    "    new = \"\"\n",
    "    phrase = phrase.replace(\"i\", \"1\").replace(\"I\", \"1\")\n",
    "    phrase = phrase.replace(\"o\", \"0\").replace(\"O\", \"0\")\n",
    "    phrase = phrase.replace(\"s\", \"5\").replace(\"S\", \"5\")\n",
    "    phrase = phrase.split(\" \")\n",
    "    for i in phrase:\n",
    "        new += i[0]\n",
    "    return new"
   ]
  }
 ],
 "metadata": {
  "kernelspec": {
   "display_name": "Python 3",
   "language": "python",
   "name": "python3"
  },
  "language_info": {
   "codemirror_mode": {
    "name": "ipython",
    "version": 3
   },
   "file_extension": ".py",
   "mimetype": "text/x-python",
   "name": "python",
   "nbconvert_exporter": "python",
   "pygments_lexer": "ipython3",
   "version": "3.7.6"
  }
 },
 "nbformat": 4,
 "nbformat_minor": 4
}
