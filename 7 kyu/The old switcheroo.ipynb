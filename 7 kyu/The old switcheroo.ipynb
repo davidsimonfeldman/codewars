{
 "cells": [
  {
   "cell_type": "code",
   "execution_count": null,
   "metadata": {},
   "outputs": [],
   "source": [
    "Write a function\n",
    "\n",
    "vowel_2_index\n",
    "that takes in a string and replaces all the vowels [a,e,i,o,u] with their respective positions within that string.\n",
    "E.g:\n",
    "\n",
    "vowel_2_index('this is my string') == 'th3s 6s my str15ng'\n",
    "vowel_2_index('Codewars is the best site in the world') == 'C2d4w6rs 10s th15 b18st s23t25 27n th32 w35rld'\n",
    "vowel_2_index('') == ''\n",
    "Your function should be case insensitive to the vowels.\n",
    "\n",
    "\n",
    "def vowel_2_index(s ):\n",
    "    a=''\n",
    "    for i in range(len(s.lower())):\n",
    "        if s[i] in['a','e','i','o','u','A','E','I','O','U']:\n",
    "            #print(i)\n",
    "            a+=str(i+1)\n",
    "        else:a+=s[i]    \n",
    "    return a  \n",
    "\n",
    "\n",
    "\n",
    "def vowel_2_index(string):\n",
    "    vowels = 'aeiouAEIOU'\n",
    "    return ''.join(x if x not in vowels else str(n + 1) for n,x in enumerate(string))\n"
   ]
  }
 ],
 "metadata": {
  "kernelspec": {
   "display_name": "Python 3",
   "language": "python",
   "name": "python3"
  },
  "language_info": {
   "codemirror_mode": {
    "name": "ipython",
    "version": 3
   },
   "file_extension": ".py",
   "mimetype": "text/x-python",
   "name": "python",
   "nbconvert_exporter": "python",
   "pygments_lexer": "ipython3",
   "version": "3.7.6"
  }
 },
 "nbformat": 4,
 "nbformat_minor": 4
}
