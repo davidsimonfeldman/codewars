{
 "cells": [
  {
   "cell_type": "code",
   "execution_count": null,
   "metadata": {
    "ExecuteTime": {
     "end_time": "2021-06-21T22:03:52.068375Z",
     "start_time": "2021-06-21T22:03:51.026859Z"
    }
   },
   "outputs": [],
   "source": [
    "The Menger Sponge is a three-dimensional fractal, first described by Karl Menger in 1926.\n",
    "\n",
    "Mengers Sponge (Level 0-3)\n",
    "\n",
    "An illustration of the iterative construction of a Menger sponge\n",
    "A method of constructing a Menger Sponge can be visualized as follows:\n",
    "\n",
    "Start from a cube (first part of image).\n",
    "Scale down the cube so that side length is 1/3 of its original, and make 20 copies of it.\n",
    "Place the copies so that they measure the same size as the original cube but without its central parts (next part of image)\n",
    "Repeat the process from step 2 for the new smaller cubes from the previous step.\n",
    "In each iteration (e.g. repeating the last three steps), the effect will be that parts of the cube will be removed,\n",
    "they'll never be added. Menger sponge will always consist of parts will never be removed, regardless of how many iterations you do.\n",
    "An alternative explanation:\n",
    "Start from a cube (first part of image).\n",
    "Devide each cube into 27 equal sized cubes.\n",
    "Remove the middle-cube and the six cubes on each side of the group of 27 cubes (second part of image).\n",
    "Repeat the process from step 2 for the smaller cubes (third and fourth part of image).\n",
    "Task\n",
    "In this kata you will create a function that takes non negative integers (from 0 to n) and return the amount of cubes that the Menger Sponge would have in that specific iteration.\n",
    "Example\n",
    "calc_ms(0) == 1\n",
    "calc_ms(1) == 20\n",
    "calc_ms(2) == 400\n",
    "calc_ms(3) == 8000\n",
    "calc_ms(4) == 160000\n",
    "calc_ms(5) == 3200000\n",
    "calc_ms(6) == 64000000\n",
    "\n",
    "def calc_ms(n):\n",
    "    return 20**n "
   ]
  }
 ],
 "metadata": {
  "kernelspec": {
   "display_name": "Python 3",
   "language": "python",
   "name": "python3"
  },
  "language_info": {
   "codemirror_mode": {
    "name": "ipython",
    "version": 3
   },
   "file_extension": ".py",
   "mimetype": "text/x-python",
   "name": "python",
   "nbconvert_exporter": "python",
   "pygments_lexer": "ipython3",
   "version": "3.7.6"
  }
 },
 "nbformat": 4,
 "nbformat_minor": 4
}
