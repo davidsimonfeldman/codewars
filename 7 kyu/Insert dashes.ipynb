{
 "cells": [
  {
   "cell_type": "code",
   "execution_count": null,
   "metadata": {},
   "outputs": [],
   "source": [
    "Write a function insert_dash(num) / insertDash(num) / InsertDash(int num) that will insert dashes ('-') between each two odd numbers in num. \n",
    "For example: if num is 454793 the output should be 4547-9-3. Don't count zero as an odd number.\n",
    "\n",
    "Note that the number will always be non-negative (>= 0).\n",
    "\n",
    "def insert_dash(num):\n",
    "    #your code here\n",
    "    n=str(num)\n",
    "    a=''\n",
    "    for i in  (range(len(n))):\n",
    "        if n[i-1] in '13579' and n[i ] in '13579' :\n",
    "            a+='-'+n[i]            \n",
    "        else:a+= n[i]\n",
    "    \n",
    "    return a.lstrip('-') \n",
    "\n",
    "\n",
    "def insert_dash(num):\n",
    "    digits = [d for d in str(num)]\n",
    "    for i in range(len(digits)-1):\n",
    "        if int(digits[i])%2 and int(digits[i+1])%2:\n",
    "            digits[i] = digits[i] + '-'\n",
    "    return ''.join(digits)"
   ]
  }
 ],
 "metadata": {
  "kernelspec": {
   "display_name": "Python 3",
   "language": "python",
   "name": "python3"
  },
  "language_info": {
   "codemirror_mode": {
    "name": "ipython",
    "version": 3
   },
   "file_extension": ".py",
   "mimetype": "text/x-python",
   "name": "python",
   "nbconvert_exporter": "python",
   "pygments_lexer": "ipython3",
   "version": "3.7.6"
  }
 },
 "nbformat": 4,
 "nbformat_minor": 4
}
