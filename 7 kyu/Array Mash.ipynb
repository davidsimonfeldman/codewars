{
 "cells": [
  {
   "cell_type": "code",
   "execution_count": null,
   "metadata": {},
   "outputs": [],
   "source": [
    "Mash 2 arrays together so that the returning array has alternating elements of the 2 arrays . Both arrays will always be the same length.\n",
    "\n",
    "eg. [1,2,3] + ['a','b','c'] = [1, 'a', 2, 'b', 3, 'c']\n",
    "\n",
    "\n",
    "\n",
    "def array_mash(a, b):\n",
    "    # your code here\n",
    "    l=[]\n",
    "    for x in list(zip(a,b)):\n",
    "        print(x)\n",
    "        l.append(x[0])\n",
    "        l.append(x[1])\n",
    "            \n",
    "    return l \n",
    "\n",
    "def array_mash(xs, ys):\n",
    "    return [z for p in zip(xs, ys) for z in p]\n",
    "\n",
    "\n",
    "from itertools import chain\n",
    "\n",
    "def array_mash(a, b):\n",
    "    return list(chain(*zip(a,b)))\n",
    "\n",
    "\n",
    "\n",
    "def array_mash(a, b):\n",
    "    lista=[]\n",
    "    c=len(a)\n",
    "    for i in range(len(a)):\n",
    "        lista.append(a[i])\n",
    "        lista.append(b[i])\n",
    "    return lista\n"
   ]
  }
 ],
 "metadata": {
  "kernelspec": {
   "display_name": "Python 3",
   "language": "python",
   "name": "python3"
  },
  "language_info": {
   "codemirror_mode": {
    "name": "ipython",
    "version": 3
   },
   "file_extension": ".py",
   "mimetype": "text/x-python",
   "name": "python",
   "nbconvert_exporter": "python",
   "pygments_lexer": "ipython3",
   "version": "3.7.6"
  }
 },
 "nbformat": 4,
 "nbformat_minor": 4
}
