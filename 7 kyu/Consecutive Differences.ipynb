{
 "cells": [
  {
   "cell_type": "code",
   "execution_count": null,
   "metadata": {
    "ExecuteTime": {
     "end_time": "2021-06-21T22:03:52.068375Z",
     "start_time": "2021-06-21T22:03:51.026859Z"
    }
   },
   "outputs": [],
   "source": [
    "Given a list of integers, find the positive difference between each consecutive pair of numbers, and put this into a new list of differences.\n",
    "Then, find the differences between consecutive pairs in this new list, and repeat until the list has a length of 1. Then, return the single value.\n",
    "The list will only contain integers, and will not be empty.\n",
    "For example:\n",
    "differences([1, 2, 3]) => [1, 1] => [0] => 0\n",
    "differences([1, 5, 2, 7, 8, 9, 0]) => [4, 3, 5, 1, 1, 9] => [1, 2, 4, 0, 8] => ... => 1\n",
    "differences([2, 3, 1]) => [1, 2] => 1\n",
    "\n",
    "\n",
    "\n",
    "\n",
    "def differences(lst):\n",
    "    x = lst\n",
    "    while len(x)>1:\n",
    "        x = [abs(j-i) for i,j in zip(x[:-1],x[1:])]\n",
    "    if len(x)>0:    return x[0]\n",
    "    else:return 0\n",
    "    \n",
    "    \n",
    "    \n",
    "def differences(lst):\n",
    "    if len(lst)<2: return lst[0] if lst else 0\n",
    "    return differences([abs(b-a) for a,b in zip(lst, lst[1:])])\n",
    "\n",
    "\n",
    "def differences(lst):\n",
    "    lst = lst or [0]\n",
    "    while len(lst) > 1:\n",
    "        lst = [abs(x-y) for x,y in zip(lst, lst[1:])]\n",
    "    return lst[0]\n",
    "\n",
    "\n",
    "\n",
    "def differences(lst):\n",
    "    l=lst\n",
    "    while len(l)!=1:\n",
    "        l=[abs(l[i]-l[i+1]) for i in range(len(l)-1)]\n",
    "    return l[0]\n",
    "\n",
    "\n",
    "def differences(lst):\n",
    "    return differences([abs(a - b) for a, b in zip(lst[1:], lst)]) if len(lst) > 1 else (lst and lst[0] or 0)    \n"
   ]
  }
 ],
 "metadata": {
  "kernelspec": {
   "display_name": "Python 3",
   "language": "python",
   "name": "python3"
  },
  "language_info": {
   "codemirror_mode": {
    "name": "ipython",
    "version": 3
   },
   "file_extension": ".py",
   "mimetype": "text/x-python",
   "name": "python",
   "nbconvert_exporter": "python",
   "pygments_lexer": "ipython3",
   "version": "3.7.6"
  }
 },
 "nbformat": 4,
 "nbformat_minor": 4
}
