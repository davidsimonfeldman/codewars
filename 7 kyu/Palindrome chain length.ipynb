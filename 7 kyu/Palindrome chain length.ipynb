{
 "cells": [
  {
   "cell_type": "code",
   "execution_count": null,
   "metadata": {
    "ExecuteTime": {
     "end_time": "2021-07-02T10:42:54.912501Z",
     "start_time": "2021-07-02T10:42:54.891518Z"
    }
   },
   "outputs": [],
   "source": [
    "Number is a palindrome if it is equal to the number with digits in reversed order. For example, 5, 44, 171, 4884 are palindromes, and 43, 194, 4773 are not.\n",
    "Write a function which takes a positive integer and returns the number of special steps needed to obtain a palindrome.\n",
    "The special step is: \"reverse the digits, and add to the original number\". \n",
    "If the resulting number is not a palindrome, repeat the procedure with the sum until the resulting number is a palindrome.\n",
    "If the input number is already a palindrome, the number of steps is 0.\n",
    "All inputs are guaranteed to have a final palindrome smaller than $ 2^63 $.\n",
    "Example\n",
    "For example, start with 87:\n",
    "  87 +   78 =  165     - step 1, not a palindrome\n",
    " 165 +  561 =  726     - step 2, not a palindrome\n",
    " 726 +  627 = 1353     - step 3, not a palindrome\n",
    "1353 + 3531 = 4884     - step 4, palindrome!\n",
    "4884 is a palindrome and we needed 4 steps to obtain it, so answer for 87 is 4.\n",
    "Additional info\n",
    "Some interesting information on the problem can be found in this Wikipedia article on Lychrel numbers.\n",
    "\n",
    "\n",
    "def palindrome_chain_length(n):\n",
    "    # parameter n is a positive integer\n",
    "    # your function should return the number of steps\n",
    "    if str(n)==str(n)[::-1]:return 0\n",
    "    print(n)\n",
    "    a=n\n",
    "    cnt=0\n",
    "    while  str(a)!=str(a)[::-1]:\n",
    "        a=a+int(str(a)[::-1])\n",
    "        cnt+=1\n",
    "    return cnt  \n",
    "\n",
    "\n",
    "\n",
    "def palindrome_chain_length(n):\n",
    "    steps = 0\n",
    "    while str(n) != str(n)[::-1]:\n",
    "        n = n + int(str(n)[::-1])\n",
    "        steps += 1\n",
    "    return steps\n",
    "\n",
    "\n",
    "def palindrome_chain_length(n, count=0):\n",
    "    if str(n) == str(n)[::-1]: return count\n",
    "    else: return palindrome_chain_length(n + int(str(n)[::-1]), count+1)"
   ]
  }
 ],
 "metadata": {
  "kernelspec": {
   "display_name": "Python 3",
   "language": "python",
   "name": "python3"
  },
  "language_info": {
   "codemirror_mode": {
    "name": "ipython",
    "version": 3
   },
   "file_extension": ".py",
   "mimetype": "text/x-python",
   "name": "python",
   "nbconvert_exporter": "python",
   "pygments_lexer": "ipython3",
   "version": "3.7.6"
  }
 },
 "nbformat": 4,
 "nbformat_minor": 4
}
