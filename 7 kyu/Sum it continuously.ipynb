{
 "cells": [
  {
   "cell_type": "code",
   "execution_count": null,
   "metadata": {},
   "outputs": [],
   "source": [
    "Make a function \"add\" that will be able to sum elements of list continuously and return a new list of sums.\n",
    "For example:\n",
    "add [1,2,3,4,5] == [1, 3, 6, 10, 15], because it's calculated like \n",
    "this : [1, 1 + 2, 1 + 2 + 3, 1 + 2 + 3 + 4, 1 + 2 + 3 + 4 + 5]\n",
    "    \n",
    "    \n",
    "def add(l):\n",
    "    a=[]\n",
    "    for i in range(len(l)):\n",
    "        a.append(sum(l[:i+1]))\n",
    "    return a    \n",
    "\n",
    "\n",
    "\n",
    "from itertools import accumulate\n",
    "def add(l):\n",
    "    return list(accumulate(l)) if isinstance(l, list) and all(isinstance(x, int) for x in l) \\\n",
    "        else 'Invalid input'\n",
    "\n",
    "from itertools import accumulate\n",
    "def add(lst):\n",
    "    return list(accumulate(lst))\n",
    "\n",
    "\n",
    "\n",
    "def add(l):\n",
    "    return [sum(l[:i+1]) for i in range(len(l))]\n"
   ]
  }
 ],
 "metadata": {
  "kernelspec": {
   "display_name": "Python 3",
   "language": "python",
   "name": "python3"
  },
  "language_info": {
   "codemirror_mode": {
    "name": "ipython",
    "version": 3
   },
   "file_extension": ".py",
   "mimetype": "text/x-python",
   "name": "python",
   "nbconvert_exporter": "python",
   "pygments_lexer": "ipython3",
   "version": "3.7.6"
  }
 },
 "nbformat": 4,
 "nbformat_minor": 4
}
