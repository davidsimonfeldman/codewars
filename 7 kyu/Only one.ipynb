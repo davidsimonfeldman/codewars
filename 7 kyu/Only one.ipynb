{
 "cells": [
  {
   "cell_type": "code",
   "execution_count": 4,
   "metadata": {
    "ExecuteTime": {
     "end_time": "2021-06-22T11:13:20.260921Z",
     "start_time": "2021-06-22T11:13:20.256927Z"
    }
   },
   "outputs": [],
   "source": [
    "Given any number of boolean flags function should return true if and only if one of them is true while others are false. If function is called without arguments it should return false.\n",
    "\n",
    "  only_one() == False\n",
    "  only_one(True, False, False) == True\n",
    "  only_one(True, False, False, True) == False\n",
    "  only_one(False, False, False, False) == False  \n",
    "    \n",
    "    \n",
    "def only_one(*args):\n",
    "    print(*args)\n",
    "    if len( list(args))==0:return False\n",
    "    a=list(args)\n",
    "    if a.count(True)==1:return True\n",
    "    return False\n",
    "\n",
    "\n",
    "\n",
    "def only_one(*args):\n",
    "    return sum(args) == 1\n",
    "\n",
    "\n",
    "def only_one(*args):\n",
    "    return args.count(True)==1"
   ]
  },
  {
   "cell_type": "code",
   "execution_count": null,
   "metadata": {},
   "outputs": [],
   "source": []
  }
 ],
 "metadata": {
  "kernelspec": {
   "display_name": "Python 3",
   "language": "python",
   "name": "python3"
  },
  "language_info": {
   "codemirror_mode": {
    "name": "ipython",
    "version": 3
   },
   "file_extension": ".py",
   "mimetype": "text/x-python",
   "name": "python",
   "nbconvert_exporter": "python",
   "pygments_lexer": "ipython3",
   "version": "3.7.6"
  }
 },
 "nbformat": 4,
 "nbformat_minor": 4
}
