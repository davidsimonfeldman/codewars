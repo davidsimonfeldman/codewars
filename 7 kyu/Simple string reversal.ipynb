{
 "cells": [
  {
   "cell_type": "code",
   "execution_count": null,
   "metadata": {
    "ExecuteTime": {
     "end_time": "2021-06-21T22:03:52.068375Z",
     "start_time": "2021-06-21T22:03:51.026859Z"
    }
   },
   "outputs": [],
   "source": [
    "In this Kata, we are going to reverse a string while maintaining the spaces (if any) in their original place.\n",
    "\n",
    "For example:\n",
    "\n",
    "solve(\"our code\") = \"edo cruo\"\n",
    "-- Normal reversal without spaces is \"edocruo\". \n",
    "-- However, there is a space at index 3, so the string becomes \"edo cruo\"\n",
    "\n",
    "solve(\"your code rocks\") = \"skco redo cruoy\". \n",
    "solve(\"codewars\") = \"srawedoc\"\n",
    "More examples in the test cases. All input will be lower case letters and in some cases spaces.\n",
    "\n",
    "Good luck!\n",
    "\n",
    "\n",
    "\n",
    "def solve(s):\n",
    "    it = reversed(s.replace(' ',''))\n",
    "    a=[]\n",
    "    for x in s:\n",
    "        if x==' ':\n",
    "            a.append(x)\n",
    "        else:a.append(next(it))    \n",
    "    return ''.join( a)\n",
    "\n",
    "\n",
    "\n",
    "def solve(s):\n",
    "    it = reversed(s.replace(' ',''))\n",
    "    return ''.join(c if c == ' ' else next(it) for c in s)\n",
    "\n",
    "\n",
    "def solve(s):\n",
    "    space_index=[i for i in range(len(s)) if s[i]==\" \"]    #find index of saces  \n",
    "    s = ''.join(s.split())                                 #remove spaces\n",
    "    s=s[::-1]                                              #reverse the string    \n",
    "    for i in space_index:                                  #add spaces again to exactly same place before\n",
    "        s = s[:i] + \" \" + s[i:]\n",
    "    return s\n",
    "\n",
    "\n",
    "def solve(s):\n",
    "    rev = list(s.replace(' ', '')[::-1])\n",
    "    for index, item in enumerate(s):\n",
    "        if item == ' ':\n",
    "            rev.insert(index, item)\n",
    "    return ''.join(rev)\n",
    "    "
   ]
  }
 ],
 "metadata": {
  "kernelspec": {
   "display_name": "Python 3",
   "language": "python",
   "name": "python3"
  },
  "language_info": {
   "codemirror_mode": {
    "name": "ipython",
    "version": 3
   },
   "file_extension": ".py",
   "mimetype": "text/x-python",
   "name": "python",
   "nbconvert_exporter": "python",
   "pygments_lexer": "ipython3",
   "version": "3.7.6"
  }
 },
 "nbformat": 4,
 "nbformat_minor": 4
}
