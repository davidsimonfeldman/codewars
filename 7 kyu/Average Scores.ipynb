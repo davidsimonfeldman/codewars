{
 "cells": [
  {
   "cell_type": "code",
   "execution_count": null,
   "metadata": {},
   "outputs": [],
   "source": [
    "Create a function that returns the average of an array of numbers (\"scores\"), rounded to the nearest whole number.\n",
    "You are not allowed to use any loops (including for, for/in, while, and do/while loops).\n",
    "\n",
    "\n",
    "import numpy as np\n",
    "def average(l):\n",
    "    #your code here and if you use a loop you are lame and inefficient!\n",
    "    return round( sum(l) / len(l))\n"
   ]
  }
 ],
 "metadata": {
  "kernelspec": {
   "display_name": "Python 3",
   "language": "python",
   "name": "python3"
  },
  "language_info": {
   "codemirror_mode": {
    "name": "ipython",
    "version": 3
   },
   "file_extension": ".py",
   "mimetype": "text/x-python",
   "name": "python",
   "nbconvert_exporter": "python",
   "pygments_lexer": "ipython3",
   "version": "3.7.6"
  }
 },
 "nbformat": 4,
 "nbformat_minor": 4
}
