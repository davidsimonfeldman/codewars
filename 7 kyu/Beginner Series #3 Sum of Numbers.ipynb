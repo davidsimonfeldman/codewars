{
 "cells": [
  {
   "cell_type": "code",
   "execution_count": null,
   "metadata": {},
   "outputs": [],
   "source": [
    "Given two integers a and b, which can be positive or negative, find the sum of all the integers between and including them and return it. If the two numbers are equal return a or b.\n",
    "\n",
    "Note: a and b are not ordered!\n",
    "\n",
    "Examples\n",
    "get_sum(1, 0) == 1   // 1 + 0 = 1\n",
    "get_sum(1, 2) == 3   // 1 + 2 = 3\n",
    "get_sum(0, 1) == 1   // 0 + 1 = 1\n",
    "get_sum(1, 1) == 1   // 1 Since both are same\n",
    "get_sum(-1, 0) == -1 // -1 + 0 = -1\n",
    "get_sum(-1, 2) == 2  // -1 + 0 + 1 + 2 = 2\n",
    "\n",
    "\n",
    "\n",
    "def get_sum(a,b):\n",
    "    d=max(a,b)\n",
    "    c=min(a,b)\n",
    "    print(a,b,c,d)\n",
    "    #good luck!\n",
    "    if d<20:\n",
    "        print(list(range(c,d+1)))\n",
    "    return sum(list(range(c,d+1)))   \n",
    "\n",
    "\n",
    "\n",
    "def get_sum(a,b):\n",
    "    return sum(xrange(min(a,b), max(a,b)+1))\n",
    "\n",
    "\n",
    "def get_sum(a,b):\n",
    "    return sum(range(min(a, b), max(a, b) + 1))\n",
    "\n",
    "\n",
    "def get_sum(a, b):\n",
    "    return (a + b) * (abs(a - b) + 1) // 2"
   ]
  }
 ],
 "metadata": {
  "kernelspec": {
   "display_name": "Python 3",
   "language": "python",
   "name": "python3"
  },
  "language_info": {
   "codemirror_mode": {
    "name": "ipython",
    "version": 3
   },
   "file_extension": ".py",
   "mimetype": "text/x-python",
   "name": "python",
   "nbconvert_exporter": "python",
   "pygments_lexer": "ipython3",
   "version": "3.7.6"
  }
 },
 "nbformat": 4,
 "nbformat_minor": 4
}
