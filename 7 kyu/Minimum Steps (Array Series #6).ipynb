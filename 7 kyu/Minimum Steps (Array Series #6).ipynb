{
 "cells": [
  {
   "cell_type": "code",
   "execution_count": null,
   "metadata": {},
   "outputs": [],
   "source": [
    "Task\n",
    "Given an array of N integers, you have to find how many times you have to add up the smallest numbers in the array until their Sum becomes greater or equal to K.\n",
    "Notes:\n",
    "List size is at least 3.\n",
    "All numbers will be positive.\n",
    "Numbers could occur more than once , (Duplications may exist).\n",
    "Threshold K will always be reachable.\n",
    "Input >> Output Examples\n",
    "minimumSteps({1, 10, 12, 9, 2, 3}, 6)  ==>  return (2)\n",
    "Explanation:\n",
    "We add two smallest elements (1 + 2), their sum is 3 .\n",
    "Then we add the next smallest number to it (3 + 3) , so the sum becomes 6 .\n",
    "Now the result is greater or equal to 6 , Hence the output is (2) i.e (2) operations are required to do this .\n",
    "minimumSteps({8 , 9, 4, 2}, 23)  ==> return (3)\n",
    "Explanation:\n",
    "We add two smallest elements (4 + 2), their sum is 6 .\n",
    "Then we add the next smallest number to it (6 + 8) , so the sum becomes 14 .\n",
    "Now we add the next smallest number (14 + 9) , so the sum becomes 23 .\n",
    "Now the result is greater or equal to 23 , Hence the output is (3) i.e (3) operations are required to do this .\n",
    "minimumSteps({19,98,69,28,75,45,17,98,67}, 464)  ==>  return (8)\n",
    "Explanation:\n",
    "We add two smallest elements (19 + 17), their sum is 36 .\n",
    "Then we add the next smallest number to it (36 + 28) , so the sum becomes 64 .\n",
    "We need to keep doing this until the sum becomes greater or equal to K (464 in this case), which will require 8 Steps .\n",
    "Expected Time Complexity O(n Log n)\n",
    "\n",
    "\n",
    "def minimum_steps(numbers, value):\n",
    "    #your code here\n",
    "    a=0\n",
    "    numbers=sorted(numbers)\n",
    "    print((numbers))\n",
    "    for i in range(len(numbers)):\n",
    "        a=a+numbers[i]\n",
    "        if a>=value:\n",
    "            return i\n",
    "           \n",
    "            \n",
    "            \n",
    "from itertools import accumulate\n",
    "def minimum_steps(numbers, value):\n",
    "    return next(i for i, s in enumerate(accumulate(sorted(numbers))) if s >= value)\n",
    "\n",
    "\n",
    "\n",
    "\n",
    "from itertools import accumulate\n",
    "def minimum_steps(numbers, value):\n",
    "    return next(i for i, x in enumerate(accumulate(sorted(numbers))) if x >= value)\n",
    "\n",
    "\n",
    "\n",
    "def minimum_steps(numbers, value):\n",
    "    return sum(sum(sorted(numbers)[:i+1]) < value for i in range(len(numbers)))            "
   ]
  }
 ],
 "metadata": {
  "kernelspec": {
   "display_name": "Python 3",
   "language": "python",
   "name": "python3"
  },
  "language_info": {
   "codemirror_mode": {
    "name": "ipython",
    "version": 3
   },
   "file_extension": ".py",
   "mimetype": "text/x-python",
   "name": "python",
   "nbconvert_exporter": "python",
   "pygments_lexer": "ipython3",
   "version": "3.7.6"
  }
 },
 "nbformat": 4,
 "nbformat_minor": 4
}
