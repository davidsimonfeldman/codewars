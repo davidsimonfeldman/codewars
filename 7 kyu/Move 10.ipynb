{
 "cells": [
  {
   "cell_type": "code",
   "execution_count": null,
   "metadata": {},
   "outputs": [],
   "source": [
    "Move every letter in the provided string forward 10 letters through the alphabet.\n",
    "\n",
    "If it goes past 'z', start again at 'a'.\n",
    "\n",
    "Input will be a string with length > 0.\n",
    "\n",
    "\n",
    "def move_ten(s):\n",
    "    a=[]\n",
    "    for x in s:\n",
    "        a.append(  chr(  (ord(x)-87)%26 +97 )  )\n",
    "    a=''.join(   a)\n",
    "    return a\n",
    "\n",
    "\n",
    "def move_ten(st):\n",
    "    return ''.join(chr(ord(i)+10) if i<'q' else chr(ord(i)-16) for i in st)"
   ]
  }
 ],
 "metadata": {
  "kernelspec": {
   "display_name": "Python 3",
   "language": "python",
   "name": "python3"
  },
  "language_info": {
   "codemirror_mode": {
    "name": "ipython",
    "version": 3
   },
   "file_extension": ".py",
   "mimetype": "text/x-python",
   "name": "python",
   "nbconvert_exporter": "python",
   "pygments_lexer": "ipython3",
   "version": "3.7.6"
  }
 },
 "nbformat": 4,
 "nbformat_minor": 4
}
