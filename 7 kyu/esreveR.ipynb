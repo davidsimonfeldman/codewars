{
 "cells": [
  {
   "cell_type": "code",
   "execution_count": null,
   "metadata": {
    "ExecuteTime": {
     "end_time": "2021-07-02T10:42:54.912501Z",
     "start_time": "2021-07-02T10:42:54.891518Z"
    }
   },
   "outputs": [],
   "source": [
    "Write a function reverse which reverses a list (or in clojure's case, any list-like data structure)\n",
    "\n",
    "(the dedicated builtin(s) functionalities are deactivated)\n",
    "                                                \n",
    "                                                \n",
    "                                                \n",
    "\n",
    "def reverse(lst):\n",
    "    print(lst)\n",
    "    e = list()            # use this!\n",
    "    for i in  (range( len(lst) )):\n",
    "        print(lst[-(i+1)])\n",
    "        e.append(lst[-(i+1)])\n",
    "    return(e)\n",
    "                                                \n",
    "                                                \n",
    "\n",
    "                                                \n",
    "                                                \n",
    "def reverse(lst):\n",
    "    out = list()\n",
    "    for i in range(len(lst)-1,-1,-1):\n",
    "        out.append(lst[i])\n",
    "    return out\n",
    "\n",
    "                                                \n",
    "                                                \n",
    "from collections import deque\n",
    "def reverse(lst):\n",
    "    q = deque()\n",
    "    for x in lst:\n",
    "        q.appendleft(x)\n",
    "    return list(q)                                                "
   ]
  }
 ],
 "metadata": {
  "kernelspec": {
   "display_name": "Python 3",
   "language": "python",
   "name": "python3"
  },
  "language_info": {
   "codemirror_mode": {
    "name": "ipython",
    "version": 3
   },
   "file_extension": ".py",
   "mimetype": "text/x-python",
   "name": "python",
   "nbconvert_exporter": "python",
   "pygments_lexer": "ipython3",
   "version": "3.7.6"
  }
 },
 "nbformat": 4,
 "nbformat_minor": 4
}
