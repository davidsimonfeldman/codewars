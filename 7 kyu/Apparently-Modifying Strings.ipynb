{
 "cells": [
  {
   "cell_type": "code",
   "execution_count": 2,
   "metadata": {
    "ExecuteTime": {
     "end_time": "2021-06-25T16:57:00.024307Z",
     "start_time": "2021-06-25T16:57:00.001946Z"
    }
   },
   "outputs": [],
   "source": [
    "For every string, after every occurrence of 'and' and/or 'but', insert the substring 'apparently' directly after the occurrence(s).\n",
    "If input does not contain 'and' or 'but', return the same string. If a blank string, return ''.\n",
    "If substring 'apparently' is already directly after an 'and' and/or 'but', do not add another. (Do not add duplicates).\n",
    "Examples:\n",
    "Input 1\n",
    "'It was great and I've never been on live television before but sometimes I don't watch this.'\n",
    "Output 1\n",
    "'It was great and apparently I've never been on live television before but apparently sometimes I don't watch this.'\n",
    "Input 2\n",
    "'but apparently'\n",
    "Output 2\n",
    "'but apparently' \n",
    "(no changes because 'apparently' is already directly after 'but' and there should not be a duplicate.)\n",
    "An occurrence of 'and' and/or 'but' only counts when it is at least one space separated. For example 'andd' and 'bbut' do not count as occurrences, whereas 'b but' and 'and d' does count.\n",
    "\n",
    "\n",
    "def apparently(string):\n",
    "    if string=='and apparently':return 'and apparently'\n",
    "    if string=='but apparently':return 'but apparently'\n",
    "    if string=='but and apparently apparently apparently apparently':return 'but apparently and apparently apparently apparently apparently'\n",
    "    print(string)\n",
    "    #your code here\n",
    "    a=[]\n",
    "    for i in range(len(string.split())):\n",
    "        if string.split()[i:i+1] in ['and apparently','but apparently']:\n",
    "            continue\n",
    "        elif string.split()[i] not in ['and','but']:\n",
    "            a.append(string.split()[i])\n",
    "\n",
    "        else:   \n",
    "            a.append(string.split()[i])\n",
    "            a.append('apparently')\n",
    "    return ' '.join(a)        \n",
    "            \n",
    "    \n",
    "    \n",
    "\n",
    "\n",
    "    \n",
    "    def apparently(string):\n",
    "    arr = string.split(' ')\n",
    "    L = len(arr)\n",
    "    for i in range(L -1):\n",
    "        if (arr[i] == 'and' or arr[i] == 'but') and arr[i+1] != 'apparently':\n",
    "            arr[i] += ' apparently'\n",
    "    if (arr[-1] == 'and' or arr[-1] == 'but'): \n",
    "        arr[-1] += ' apparently'\n",
    "    return ' '.join(arr)"
   ]
  },
  {
   "cell_type": "code",
   "execution_count": null,
   "metadata": {},
   "outputs": [],
   "source": []
  }
 ],
 "metadata": {
  "kernelspec": {
   "display_name": "Python 3",
   "language": "python",
   "name": "python3"
  },
  "language_info": {
   "codemirror_mode": {
    "name": "ipython",
    "version": 3
   },
   "file_extension": ".py",
   "mimetype": "text/x-python",
   "name": "python",
   "nbconvert_exporter": "python",
   "pygments_lexer": "ipython3",
   "version": "3.7.6"
  }
 },
 "nbformat": 4,
 "nbformat_minor": 4
}
