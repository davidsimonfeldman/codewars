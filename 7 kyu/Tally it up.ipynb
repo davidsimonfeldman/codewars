{
 "cells": [
  {
   "cell_type": "code",
   "execution_count": null,
   "metadata": {
    "ExecuteTime": {
     "end_time": "2021-06-21T22:03:52.068375Z",
     "start_time": "2021-06-21T22:03:51.026859Z"
    }
   },
   "outputs": [],
   "source": [
    "I'm creating a scoreboard on my game website, but I want the score to be displayed as tally marks instead of Roman numerals. \n",
    "Write a function that translates the numeric score into tally marks.\n",
    "My tally mark font uses the letters a, b, c, d, e to represent tally marks for 1, 2, 3, 4, 5, respectively. I want a space and line break ( ) after each completed tally (5).\n",
    "Assume that the score you receive will be an integer. This function should return an HTML string that I can insert into my website that represents the correct score.\n",
    "\n",
    "\n",
    "def score_to_tally(score):\n",
    "    x,y = divmod(score, 5)\n",
    "    return \"e <br>\" * x + ['','a','b','c','d'][y]\n",
    "\n",
    "\n",
    "\n",
    "\n",
    "def score_to_tally(s):\n",
    "    return 'e <br>'*(s//5)+'abcd'[s%5-1:s%5]\n",
    "\n",
    "\n",
    "def score_to_tally(score):\n",
    "    return \"e <br>\" * (score // 5) + ['','a','b','c','d'][score % 5]\n",
    "\n",
    "\n",
    "def score_to_tally(score):\n",
    "    q, r = divmod(score, 5)\n",
    "    return \"e <br>\"*q + (r and \" abcd\"[r] or \"\")"
   ]
  }
 ],
 "metadata": {
  "kernelspec": {
   "display_name": "Python 3",
   "language": "python",
   "name": "python3"
  },
  "language_info": {
   "codemirror_mode": {
    "name": "ipython",
    "version": 3
   },
   "file_extension": ".py",
   "mimetype": "text/x-python",
   "name": "python",
   "nbconvert_exporter": "python",
   "pygments_lexer": "ipython3",
   "version": "3.7.6"
  }
 },
 "nbformat": 4,
 "nbformat_minor": 4
}
