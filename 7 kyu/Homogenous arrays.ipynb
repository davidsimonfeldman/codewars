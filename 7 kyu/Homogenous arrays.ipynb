{
 "cells": [
  {
   "cell_type": "code",
   "execution_count": null,
   "metadata": {},
   "outputs": [],
   "source": [
    "Challenge:\n",
    "Given a two-dimensional array, return a new array which carries over only those arrays from the original, which were not empty and whose items are all of the same type (i.e. homogenous).\n",
    "For simplicity, the arrays inside the array will only contain characters and integers.\n",
    "Example:\n",
    "Given [[1, 5, 4], ['a', 3, 5], ['b'], [], ['1', 2, 3]], your function should return [[1, 5, 4], ['b']].\n",
    "Addendum:\n",
    "Please keep in mind that for this kata, we assume that empty arrays are not homogenous.\n",
    "The resultant arrays should be in the order they were originally in and should not have its values changed.\n",
    "No implicit type casting is allowed. A subarray [1, '2'] would be considered illegal and should be filtered out.\n",
    "\n",
    "\n",
    "def filter_homogenous(arr ):\n",
    "    # your code\n",
    "    a=[]\n",
    "    for X in arr:\n",
    "        if len(X)==0:continue\n",
    "        if all(isinstance(x, int) for x in X) or all(isinstance(x, str) for x in X):a.append(X)\n",
    "        \n",
    "        else: continue\n",
    "    return a        \n",
    "\n",
    "\n",
    "def filter_homogenous(arrays):\n",
    "    return[a for a in arrays if len(set(map(type,a)))==1]\n",
    "\n",
    "\n",
    "\n",
    "def homogenous(a):\n",
    "    return len(set(map(type, a))) == 1\n",
    "def filter_homogenous(arrays):\n",
    "    return list(filter(homogenous, arrays))\n",
    "\n",
    "\n",
    "def filter_homogenous(arrays):\n",
    "    return [arr for arr in arrays if len(set([type(el) for el in arr])) == 1]"
   ]
  }
 ],
 "metadata": {
  "kernelspec": {
   "display_name": "Python 3",
   "language": "python",
   "name": "python3"
  },
  "language_info": {
   "codemirror_mode": {
    "name": "ipython",
    "version": 3
   },
   "file_extension": ".py",
   "mimetype": "text/x-python",
   "name": "python",
   "nbconvert_exporter": "python",
   "pygments_lexer": "ipython3",
   "version": "3.7.6"
  }
 },
 "nbformat": 4,
 "nbformat_minor": 4
}
