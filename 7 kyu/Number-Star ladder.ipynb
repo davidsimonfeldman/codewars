{
 "cells": [
  {
   "cell_type": "code",
   "execution_count": null,
   "metadata": {
    "ExecuteTime": {
     "end_time": "2021-06-21T22:03:52.068375Z",
     "start_time": "2021-06-21T22:03:51.026859Z"
    }
   },
   "outputs": [],
   "source": [
    "Using n as a parameter in the function pattern, where n>0, complete the codes to get the pattern (take the help of examples):\n",
    "Note: There is no newline in the end (after the pattern ends)\n",
    "Examples\n",
    "pattern(3) should return \"1\\n1*2\\n1**3\", e.g. the following:\n",
    "1\n",
    "1*2\n",
    "1**3\n",
    "pattern(10): should return the following:\n",
    "1\n",
    "1*2\n",
    "1**3\n",
    "1***4\n",
    "1****5\n",
    "1*****6\n",
    "1******7\n",
    "1*******8\n",
    "1********9\n",
    "1*********10\n",
    "\n",
    "\n",
    "\n",
    "def pattern(n):\n",
    "    a=''\n",
    "    for i in range(n):\n",
    "        if i==0:\n",
    "            a+='1\\n'\n",
    "        else:\n",
    "            a+='1{}{}\\n'.format('*' * i, i + 1)\n",
    "    print(a)\n",
    "    return a[:-1]\n",
    "\n",
    "\n",
    "\n",
    "def pattern(n):\n",
    "    return '\\n'.join(['1'] + ['1' + '*' * (i-1) + str(i) for i in xrange(2, n+1)])\n",
    "\n",
    "\n",
    "def pattern(n):\n",
    "    s = ''\n",
    "    for i in range(n):\n",
    "        if i == 0:\n",
    "            s += '1\\n'\n",
    "        else:\n",
    "            s += '1{}{}\\n'.format('*' * i, i + 1)\n",
    "    return s.rstrip('\\n')\n",
    "\n",
    "\n",
    "def pattern(n):\n",
    "    return \"\\n\".join(\"{}{}{}\".format(1 if i else \"\", \"*\" * i, i+1) for i in range(n))\n"
   ]
  }
 ],
 "metadata": {
  "kernelspec": {
   "display_name": "Python 3",
   "language": "python",
   "name": "python3"
  },
  "language_info": {
   "codemirror_mode": {
    "name": "ipython",
    "version": 3
   },
   "file_extension": ".py",
   "mimetype": "text/x-python",
   "name": "python",
   "nbconvert_exporter": "python",
   "pygments_lexer": "ipython3",
   "version": "3.7.6"
  }
 },
 "nbformat": 4,
 "nbformat_minor": 4
}
