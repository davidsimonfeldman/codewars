{
 "cells": [
  {
   "cell_type": "code",
   "execution_count": null,
   "metadata": {
    "ExecuteTime": {
     "end_time": "2021-06-21T22:03:52.068375Z",
     "start_time": "2021-06-21T22:03:51.026859Z"
    }
   },
   "outputs": [],
   "source": [
    "Write a function that can return the smallest value of an array or the index of that value. The function's 2nd parameter will tell whether it should return the value or the index.\n",
    "Assume the first parameter will always be an array filled with at least 1 number and no duplicates.\n",
    "Assume the second parameter will be a string holding one of two values: 'value' and 'index'.\n",
    "\n",
    "min([1,2,3,4,5], 'value') // => 1\n",
    "min([1,2,3,4,5], 'index') // => 0\n",
    "\n",
    "def find_smallest(numbers,to_return):\n",
    "    # Enter your code here!\n",
    "    if to_return=='index':\n",
    "        return numbers.index(min(numbers))\n",
    "    return min(numbers)\n",
    "\n",
    "\n",
    "def find_smallest(numbers,to_return):\n",
    "    return min(numbers) if to_return == 'value' else numbers.index(min(numbers))\n",
    "\n",
    "\n",
    "def find_smallest(numbers,to_return):\n",
    "    val = min(numbers)\n",
    "    return val if to_return == \"value\" else numbers.index(val)"
   ]
  }
 ],
 "metadata": {
  "kernelspec": {
   "display_name": "Python 3",
   "language": "python",
   "name": "python3"
  },
  "language_info": {
   "codemirror_mode": {
    "name": "ipython",
    "version": 3
   },
   "file_extension": ".py",
   "mimetype": "text/x-python",
   "name": "python",
   "nbconvert_exporter": "python",
   "pygments_lexer": "ipython3",
   "version": "3.7.6"
  }
 },
 "nbformat": 4,
 "nbformat_minor": 4
}
