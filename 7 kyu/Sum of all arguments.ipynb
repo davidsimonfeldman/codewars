{
 "cells": [
  {
   "cell_type": "code",
   "execution_count": 2,
   "metadata": {
    "ExecuteTime": {
     "end_time": "2021-06-18T14:23:18.842507Z",
     "start_time": "2021-06-18T14:23:18.837522Z"
    }
   },
   "outputs": [],
   "source": [
    "Write a function that finds the sum of all its arguments.\n",
    "eg:\n",
    "sum(1, 2, 3) # => 6\n",
    "sum(8, 2) # => 10\n",
    "sum(1, 2, 3, 4, 5) # => 15\n",
    "Note that Python's function name is sum_args, as to avoid confusion with the preexistsing sum function. Ruby's Array#sum has been removed to make it a bit more interesting!\n",
    "\n",
    "def sum_args(*args):\n",
    "    print( args)\n",
    "    print( type(args))\n",
    "    return sum(args)\n",
    "\n",
    "def sum_args(*args):\n",
    "    return sum(args)\n",
    "\n",
    "\n",
    "def sum_args(*args):\n",
    "    return reduce(lambda x, y: x + y, args, 0)\n",
    "\n",
    "\n",
    "\n",
    "def sum_args(*args):\n",
    "    res = 0\n",
    "    for i in args:\n",
    "        res += i\n",
    "    return res\n",
    "\n",
    "\n",
    "\n",
    "from operator import add\n",
    "\n",
    "def sum_args(*args):\n",
    "    return reduce(add, args)"
   ]
  },
  {
   "cell_type": "code",
   "execution_count": null,
   "metadata": {},
   "outputs": [],
   "source": []
  }
 ],
 "metadata": {
  "kernelspec": {
   "display_name": "Python 3",
   "language": "python",
   "name": "python3"
  },
  "language_info": {
   "codemirror_mode": {
    "name": "ipython",
    "version": 3
   },
   "file_extension": ".py",
   "mimetype": "text/x-python",
   "name": "python",
   "nbconvert_exporter": "python",
   "pygments_lexer": "ipython3",
   "version": "3.7.6"
  }
 },
 "nbformat": 4,
 "nbformat_minor": 4
}
