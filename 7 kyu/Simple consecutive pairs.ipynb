{
 "cells": [
  {
   "cell_type": "code",
   "execution_count": null,
   "metadata": {},
   "outputs": [],
   "source": [
    "In this Kata your task will be to return the count of pairs that have consecutive numbers as follows:\n",
    "pairs([1,2,5,8,-4,-3,7,6,5]) = 3\n",
    "The pairs are selected as follows [(1,2),(5,8),(-4,-3),(7,6),5]\n",
    "--the first pair is (1,2) and the numbers in the pair are consecutive; Count = 1\n",
    "--the second pair is (5,8) and are not consecutive\n",
    "--the third pair is (-4,-3), consecutive. Count = 2\n",
    "--the fourth pair is (7,6), also consecutive. Count = 3. \n",
    "--the last digit has no pair, so we ignore.\n",
    "More examples in the test cases.\n",
    "Good luck!\n",
    "\n",
    "\n",
    "def pairs(ar):\n",
    "    a=list(zip(ar[::2],ar[1::2]))\n",
    "    print(a)\n",
    "    b=0\n",
    "    for x in a :\n",
    "        if abs(x[0]-x[1])==1:\n",
    "            b+=1\n",
    "    return b    \n",
    "\n",
    "\n",
    "\n",
    "def pairs(ar):\n",
    "    res=0\n",
    "    for i in range(1,len(ar),2):\n",
    "        if abs(ar[i]-ar[i-1])==1:\n",
    "            res+=1\n",
    "    return res\n",
    "\n",
    "\n",
    "def pairs(arr):\n",
    "    return sum( abs(a-b)==1 for a,b in zip(arr[::2],arr[1::2]) )"
   ]
  }
 ],
 "metadata": {
  "kernelspec": {
   "display_name": "Python 3",
   "language": "python",
   "name": "python3"
  },
  "language_info": {
   "codemirror_mode": {
    "name": "ipython",
    "version": 3
   },
   "file_extension": ".py",
   "mimetype": "text/x-python",
   "name": "python",
   "nbconvert_exporter": "python",
   "pygments_lexer": "ipython3",
   "version": "3.7.6"
  }
 },
 "nbformat": 4,
 "nbformat_minor": 4
}
