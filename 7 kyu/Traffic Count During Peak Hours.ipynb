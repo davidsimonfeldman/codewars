{
 "cells": [
  {
   "cell_type": "code",
   "execution_count": null,
   "metadata": {
    "ExecuteTime": {
     "end_time": "2021-06-21T22:03:52.068375Z",
     "start_time": "2021-06-21T22:03:51.026859Z"
    }
   },
   "outputs": [],
   "source": [
    "You work for a company that analyzes traffic count at a particular intersection during the peak hours of 4:00 PM to 8:00 PM.\n",
    "        Each day, you are given a list that contains the number of vehicles that pass through the intersection every 10 minutes from 4:00 to 8:00 PM.\n",
    "\n",
    "You are expected to return a list of tuples that each contain the hour and the maximum amount of traffic for each hour.\n",
    "\n",
    "For example:\n",
    "\n",
    "a1 = [23,24,34,45,43,23,57,34,65,12,19,45, 54,65,54,43,89,48,42,55,22,69,23,93]\n",
    "\n",
    "traffic_count(a1) ==> [('4:00pm', 45), ('5:00pm', 65), ('6:00pm', 89), ('7:00pm', 93)]\n",
    "All values in the given list are integers.\n",
    "\n",
    "\n",
    "def traffic_count(arr ):\n",
    "    print(len(arr))\n",
    "    a=[]\n",
    "    for i in range(0,len(arr),6):\n",
    "        a.append(arr[  i:i+6] )\n",
    "    print(a)\n",
    "    b=[max(x) for x in a ]\n",
    "    c=['4:00pm',    '5:00pm' ,  '6:00pm' ,  '7:00pm']\n",
    "    print(b,c)\n",
    "    d=list(zip(c,b))\n",
    "    return(d)\n",
    "\n",
    "\n",
    "\n",
    "\n",
    "def traffic_count(array):\n",
    "    return [('{}:00pm'.format(i+4), max(array[i*6:(i+1)*6])) for i in range(4)]\n",
    "\n",
    "\n",
    "\n",
    "\n",
    "def traffic_count(array):\n",
    "    return [('4:00pm', max(array[:6])), ('5:00pm', max(array[6:12])), ('6:00pm', max(array[12:18])), ('7:00pm', max(array[18:]))]\n",
    "\n",
    "\n",
    "def traffic_count(array):\n",
    "    return [(\"{}:00pm\".format(hour), max(array[index:index + 6]))\n",
    "            for hour, index in zip(range(4, 8), range(0, len(array), 6))]\n",
    "\n",
    "\n",
    "def traffic_count(array):\n",
    "    return [(f\"{i // 6 + 4}:00pm\", max(array[i:i+6])) for i in range(0, 19, 6)]"
   ]
  }
 ],
 "metadata": {
  "kernelspec": {
   "display_name": "Python 3",
   "language": "python",
   "name": "python3"
  },
  "language_info": {
   "codemirror_mode": {
    "name": "ipython",
    "version": 3
   },
   "file_extension": ".py",
   "mimetype": "text/x-python",
   "name": "python",
   "nbconvert_exporter": "python",
   "pygments_lexer": "ipython3",
   "version": "3.7.6"
  }
 },
 "nbformat": 4,
 "nbformat_minor": 4
}
