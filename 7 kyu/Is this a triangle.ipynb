{
 "cells": [
  {
   "cell_type": "code",
   "execution_count": null,
   "metadata": {},
   "outputs": [],
   "source": [
    "Implement a method that accepts 3 integer values a, b, c. \n",
    "The method should return true if a triangle can be built with the sides of given length and false in any other case.\n",
    "(In this case, all triangles must have surface greater than 0 to be accepted).\n",
    "\n",
    "\n",
    "def is_triangle(a, b, c):\n",
    "    \n",
    "    return (a+b> c ) and (a+c> b) and( b+c> a )\n",
    "\n",
    "\n",
    "def is_triangle(a, b, c):\n",
    "    a, b, c = sorted([a, b, c])\n",
    "    return a + b > c"
   ]
  }
 ],
 "metadata": {
  "kernelspec": {
   "display_name": "Python 3",
   "language": "python",
   "name": "python3"
  },
  "language_info": {
   "codemirror_mode": {
    "name": "ipython",
    "version": 3
   },
   "file_extension": ".py",
   "mimetype": "text/x-python",
   "name": "python",
   "nbconvert_exporter": "python",
   "pygments_lexer": "ipython3",
   "version": "3.7.6"
  }
 },
 "nbformat": 4,
 "nbformat_minor": 4
}
