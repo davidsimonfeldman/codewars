{
 "cells": [
  {
   "cell_type": "code",
   "execution_count": null,
   "metadata": {},
   "outputs": [],
   "source": [
    "Create a function that takes one positive three digit integer and rearranges its digits to get the maximum possible number. \n",
    "Assume that the argument is an integer. Return null (nil for Ruby, nothing for Julia) if the argument is not valid.\n",
    "\n",
    "maxRedigit(123); // returns 321\n",
    "\n",
    "def max_redigit(n): \n",
    "    # your code here\n",
    "    if len(str(n))!=3 or n<0: return None\n",
    "    return int(''.join(sorted(str(n))[::-1]))\n",
    "\n",
    "\n",
    "\n",
    "\n",
    "def max_redigit(num):\n",
    "    if isinstance(num, int) and 99 < num < 1000:\n",
    "        return int(\"\".join(sorted(str(num), reverse=True)))"
   ]
  }
 ],
 "metadata": {
  "kernelspec": {
   "display_name": "Python 3",
   "language": "python",
   "name": "python3"
  },
  "language_info": {
   "codemirror_mode": {
    "name": "ipython",
    "version": 3
   },
   "file_extension": ".py",
   "mimetype": "text/x-python",
   "name": "python",
   "nbconvert_exporter": "python",
   "pygments_lexer": "ipython3",
   "version": "3.7.6"
  }
 },
 "nbformat": 4,
 "nbformat_minor": 4
}
