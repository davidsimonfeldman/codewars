{
 "cells": [
  {
   "cell_type": "code",
   "execution_count": null,
   "metadata": {
    "ExecuteTime": {
     "end_time": "2021-06-21T22:03:52.068375Z",
     "start_time": "2021-06-21T22:03:51.026859Z"
    }
   },
   "outputs": [],
   "source": [
    "You're on your way to the market when you hear beautiful music coming from a nearby street performer.\n",
    "The notes come together like you wouln't believe as the musician puts together patterns of tunes. \n",
    "As you wonder what kind of algorithm you could use to shift octaves by 8 pitches or something silly like that, \n",
    "it dawns on you that you have been watching the musician for some 10 odd minutes. \n",
    "You ask, \"How much do people normally tip for something like this?\" The artist looks up. \"Its always gonna be about tree fiddy.\"\n",
    "\n",
    "It was then that you realize the musician was a 400 foot tall beast from the paleolithic era.\n",
    "The Loch Ness Monster almost tricked you!\n",
    "\n",
    "There are only 2 guaranteed ways to tell if you are speaking to The Loch Ness Monster: A.) It is a 400 foot tall beast from the paleolithic era B.) It will ask you for tree fiddy\n",
    "\n",
    "Since Nessie is a master of disguise, the only way accurately tell is to look for the phrase \"tree fiddy\".\n",
    "Since you are tired of being grifted by this monster, the time has come to code a solution for finding The Loch Ness Monster. Note: It can also be written as 3.50 or three fifty.\n",
    "    \n",
    "    \n",
    "    \n",
    "    \n",
    "def is_lock_ness_monster(string):\n",
    "    #your code here\n",
    "    return string.find('3.50')>-1 or string.find('tree fiddy')>-1  or string.find('three fifty')>-1\n",
    "\n",
    "\n",
    "\n",
    "def is_lock_ness_monster(s):\n",
    "    return any(i in s for i in ('tree fiddy', 'three fifty', '3.50'))\n",
    "\n",
    "import re\n",
    "def is_lock_ness_monster(s):\n",
    "    return bool(re.search(r\"3\\.50|tree fiddy|three fifty\", s))\n",
    "\n",
    "\n",
    "def is_lock_ness_monster(s):\n",
    "    return any(phrase in s for phrase in [\"tree fiddy\", \"three fifty\", \"3.50\"])"
   ]
  }
 ],
 "metadata": {
  "kernelspec": {
   "display_name": "Python 3",
   "language": "python",
   "name": "python3"
  },
  "language_info": {
   "codemirror_mode": {
    "name": "ipython",
    "version": 3
   },
   "file_extension": ".py",
   "mimetype": "text/x-python",
   "name": "python",
   "nbconvert_exporter": "python",
   "pygments_lexer": "ipython3",
   "version": "3.7.6"
  }
 },
 "nbformat": 4,
 "nbformat_minor": 4
}
