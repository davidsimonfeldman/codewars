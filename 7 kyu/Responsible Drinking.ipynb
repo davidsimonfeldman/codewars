{
 "cells": [
  {
   "cell_type": "code",
   "execution_count": null,
   "metadata": {},
   "outputs": [],
   "source": [
    "Welcome to the Codewars Bar!\n",
    "Codewars Bar recommends you drink 1 glass of water per standard drink so you're not hungover tomorrow morning.\n",
    "Your fellow coders have bought you several drinks tonight in the form of a string. Return a string suggesting how many glasses of water you should drink to not be hungover.\n",
    "Examples\n",
    "\"1 beer\"  -->  \"1 glass of water\"\n",
    "because you drank one standard drink\n",
    "\"1 shot, 5 beers, 2 shots, 1 glass of wine, 1 beer\"  -->  \"10 glasses of water\"\n",
    "because you drank ten standard drinks\n",
    "Note:\n",
    "To keep the things simple, we'll consider that any \"numbered thing\" in the string is a drink. Even \"1 bear\" -> \"1 glass of water\"; or \"1 chainsaw and 2 pools\" -> \"3 glasses of water\"...\n",
    "\n",
    "def hydrate(drink_string): \n",
    "    a=list(drink_string.split())\n",
    "    print(a)\n",
    "    b=[int(x) for x in a if x.isdigit()]\n",
    "    print(b)\n",
    "    if b==[1]: return str(b[0]) +' glass of water' \n",
    "    return str(sum(b)) +' glasses of water' \n",
    "\n",
    "\n",
    "\n",
    "\n",
    "def hydrate(drink_string): \n",
    "    c=sum(int(c) for c in drink_string if c.isdigit())\n",
    "    return \"{} {} of water\".format(c,'glass') if c==1 else \"{} {} of water\".format(c,'glasses')\n",
    "\n",
    "\n",
    "\n",
    "import re\n",
    "def hydrate(s):\n",
    "    n = sum(map(int,re.findall(r'\\d+',s)))\n",
    "    return f\"{ n } glass{ 'es'*(n!=1) } of water\"\n",
    "\n",
    "\n",
    "\n",
    "\n",
    "def hydrate(drink_string): \n",
    "    n = sum([int(a) for a in drink_string if a.isnumeric()])\n",
    "    return str(n) +' glass of water' if n==1 else str(n) +' glasses of water'\n",
    "    pass\n",
    "\n",
    "\n",
    "\n",
    "def hydrate(drinks):\n",
    "    water = sum([int(drink) for drink in drinks if drink.isnumeric()])\n",
    "    return '1 glass of water' if water == 1 else '%d glasses of water' % water"
   ]
  }
 ],
 "metadata": {
  "kernelspec": {
   "display_name": "Python 3",
   "language": "python",
   "name": "python3"
  },
  "language_info": {
   "codemirror_mode": {
    "name": "ipython",
    "version": 3
   },
   "file_extension": ".py",
   "mimetype": "text/x-python",
   "name": "python",
   "nbconvert_exporter": "python",
   "pygments_lexer": "ipython3",
   "version": "3.7.6"
  }
 },
 "nbformat": 4,
 "nbformat_minor": 4
}
