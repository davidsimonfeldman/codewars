{
 "cells": [
  {
   "cell_type": "code",
   "execution_count": null,
   "metadata": {
    "ExecuteTime": {
     "end_time": "2021-06-21T22:03:52.068375Z",
     "start_time": "2021-06-21T22:03:51.026859Z"
    }
   },
   "outputs": [],
   "source": [
    "Description:\n",
    "At 'We Rate Dogs', we try our best to give dogs accurate ratings, which will always be above 10/10. Because they're good dogs.\n",
    "Over the weekend Bront has come in and hacked our system, lowering the ratings of dogs to below 10/10. \n",
    "Please help to fix Brant's bad system and give the dogs their original ratings. They're good dogs Brent.\n",
    "Task:\n",
    "The function weRateDogs(str, rating) takes a string and an integer as the inputs. Within the string is an incorrect rating x/y.\n",
    "You will need to change the incorrect rating x/y to the correct rating rating/10. The given string may contain numbers and letters, but no special characters other than /.\n",
    "For example:\n",
    "if you are given the following string:\n",
    "'This is Max99. She has one ear that is always s1ightly higher than the other 4/10 wonky af'\n",
    "And the following rating: 11 return: 'This is Max99. She has one ear that is always s1ightly heigher than the other 11/10 wonky af'\n",
    "    \n",
    "    \n",
    "    \n",
    "def we_rate_dogs(s, rating):\n",
    "    a=s.index('/')\n",
    "    print(a)\n",
    "    print((s[:a-1]+str(rating)+s[a:]))\n",
    "    return(s[:a-1]+str(rating)+s[a:])\n",
    "\n",
    "\n",
    "\n",
    "def we_rate_dogs(string, rating):\n",
    "    return string[:string.index(\"/\")-1] + str(rating) + string[string.index(\"/\"):]\n",
    "\n",
    "\n",
    "def we_rate_dogs(string, rating):\n",
    "    num_ind = string.find('/')-1\n",
    "    return string[:num_ind] + str(rating) + string[num_ind+1:]"
   ]
  }
 ],
 "metadata": {
  "kernelspec": {
   "display_name": "Python 3",
   "language": "python",
   "name": "python3"
  },
  "language_info": {
   "codemirror_mode": {
    "name": "ipython",
    "version": 3
   },
   "file_extension": ".py",
   "mimetype": "text/x-python",
   "name": "python",
   "nbconvert_exporter": "python",
   "pygments_lexer": "ipython3",
   "version": "3.7.6"
  }
 },
 "nbformat": 4,
 "nbformat_minor": 4
}
