{
 "cells": [
  {
   "cell_type": "code",
   "execution_count": null,
   "metadata": {
    "ExecuteTime": {
     "end_time": "2021-06-21T22:03:52.068375Z",
     "start_time": "2021-06-21T22:03:51.026859Z"
    }
   },
   "outputs": [],
   "source": [
    "I highly recommend listening Vivaldi's Four Seasons as an inspiration to solve this Kata :)\n",
    "\n",
    "In the UK, winter begins on 21 December and ends on 20 March. Spring begins on 21 March and ends on 20 June.\n",
    "Summer begins on 21 June and ends on 20 September. Autumn begins on 21 September and ends on 20 December.\n",
    "Given a date day from 1 (January 1st) to 365 (December 31th) your task is to return the season of the year that corresponds to that day. \n",
    "If the number given is greater than 365, return \"The year flew by!\".\n",
    "Note: We are not considering leap years.\n",
    "    \n",
    "def four_seasons(d):\n",
    "    print(d)\n",
    "    if d>=1 and d<=79:return'Winter Season'\n",
    "    if d>=80 and d<=171:return'Spring Season'\n",
    "    if d>=172 and d<=263:return'Summer Season'\n",
    "    if d>=264 and d<=354:return'Autumn Season'\n",
    "    if d>=345 and d<=365:return'Winter Season'\n",
    "    \n",
    "    if d>365:return'The year flew by!'\n",
    "    \n",
    "    \n",
    "def four_seasons(d):\n",
    "    return {\n",
    "              d < 80 : 'Winter Season',\n",
    "        79  < d < 172: 'Spring Season',\n",
    "        171 < d < 264: 'Summer Season',\n",
    "        263 < d < 355: 'Autumn Season',\n",
    "        354 < d < 366: 'Winter Season',\n",
    "              d > 365: 'The year flew by!'\n",
    "    }[True]    "
   ]
  }
 ],
 "metadata": {
  "kernelspec": {
   "display_name": "Python 3",
   "language": "python",
   "name": "python3"
  },
  "language_info": {
   "codemirror_mode": {
    "name": "ipython",
    "version": 3
   },
   "file_extension": ".py",
   "mimetype": "text/x-python",
   "name": "python",
   "nbconvert_exporter": "python",
   "pygments_lexer": "ipython3",
   "version": "3.7.6"
  }
 },
 "nbformat": 4,
 "nbformat_minor": 4
}
