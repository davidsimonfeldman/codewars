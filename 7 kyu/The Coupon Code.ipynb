{
 "cells": [
  {
   "cell_type": "code",
   "execution_count": null,
   "metadata": {
    "ExecuteTime": {
     "end_time": "2021-06-21T22:03:52.068375Z",
     "start_time": "2021-06-21T22:03:51.026859Z"
    }
   },
   "outputs": [],
   "source": [
    "Story\n",
    "Your online store likes to give out coupons for special occasions. Some customers try to cheat the system by entering invalid codes or using expired coupons.\n",
    "Task\n",
    "Your mission:\n",
    "Write a function called checkCoupon which verifies that a coupon code is valid and not expired.\n",
    "A coupon is no more valid on the day AFTER the expiration date. All dates will be passed as strings in this format: \"MONTH DATE, YEAR\".\n",
    "Examples:\n",
    "checkCoupon(\"123\", \"123\", \"July 9, 2015\", \"July 9, 2015\")  == True\n",
    "checkCoupon(\"123\", \"123\", \"July 9, 2015\", \"July 2, 2015\")  == False\n",
    "\n",
    "\n",
    "\n",
    "def check_coupon(entered_code, correct_code, current_date, expiration_date):\n",
    "    #Code here!\n",
    "    from datetime import datetime\n",
    "\n",
    "    a = datetime.strptime(current_date, '%B %d, %Y')\n",
    "    b = datetime.strptime(expiration_date, '%B %d, %Y')\n",
    "    return entered_code is correct_code and a <= b\n",
    "\n",
    "\n",
    "\n",
    "import datetime\n",
    "def check_coupon(entered_code, correct_code, current_date, expiration_date):\n",
    "    if entered_code is correct_code:\n",
    "        return(datetime.datetime.strptime(current_date,'%B %d, %Y') <= datetime.datetime.strptime(expiration_date,'%B %d, %Y'))\n",
    "    return False\n",
    "\n",
    "\n",
    "import datetime\n",
    "def check_coupon(entered_code, correct_code, current_date, expiration_date):\n",
    "    strptime = datetime.datetime.strptime\n",
    "    format = \"%B %d, %Y\"\n",
    "    return strptime(current_date, format) <= strptime(expiration_date, format) and\\\n",
    "                             entered_code is correct_code"
   ]
  }
 ],
 "metadata": {
  "kernelspec": {
   "display_name": "Python 3",
   "language": "python",
   "name": "python3"
  },
  "language_info": {
   "codemirror_mode": {
    "name": "ipython",
    "version": 3
   },
   "file_extension": ".py",
   "mimetype": "text/x-python",
   "name": "python",
   "nbconvert_exporter": "python",
   "pygments_lexer": "ipython3",
   "version": "3.7.6"
  }
 },
 "nbformat": 4,
 "nbformat_minor": 4
}
