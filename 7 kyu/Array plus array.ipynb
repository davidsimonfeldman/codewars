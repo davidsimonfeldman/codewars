{
 "cells": [
  {
   "cell_type": "code",
   "execution_count": null,
   "metadata": {},
   "outputs": [],
   "source": [
    " I'm new to coding and now I want to get the sum of two arrays...actually the sum of all their elements.\n",
    "    I'll appreciate for your help.\n",
    "P.S. Each array includes only integer numbers. Output is a number too.\n",
    "\n",
    "import numpy as np\n",
    "def array_plus_array(arr1,arr2):\n",
    "    return sum(arr1+arr2)\n",
    "\n",
    " \n",
    "\n",
    "def array_plus_array(arr1,arr2):\n",
    "    return sum(arr1) + sum(arr2)"
   ]
  }
 ],
 "metadata": {
  "kernelspec": {
   "display_name": "Python 3",
   "language": "python",
   "name": "python3"
  },
  "language_info": {
   "codemirror_mode": {
    "name": "ipython",
    "version": 3
   },
   "file_extension": ".py",
   "mimetype": "text/x-python",
   "name": "python",
   "nbconvert_exporter": "python",
   "pygments_lexer": "ipython3",
   "version": "3.7.6"
  }
 },
 "nbformat": 4,
 "nbformat_minor": 4
}
