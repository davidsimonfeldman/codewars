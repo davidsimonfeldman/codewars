{
 "cells": [
  {
   "cell_type": "code",
   "execution_count": null,
   "metadata": {
    "ExecuteTime": {
     "end_time": "2021-06-21T22:03:52.068375Z",
     "start_time": "2021-06-21T22:03:51.026859Z"
    }
   },
   "outputs": [],
   "source": [
    "Oh no! Ghosts have reportedly swarmed the city. It's your job to get rid of them and save the day!\n",
    "In this kata, strings represent buildings while whitespaces within those strings represent ghosts.\n",
    "So what are you waiting for? Return the building(string) without any ghosts(whitespaces)!\n",
    "Example:\n",
    "ghostBusters(\"Sky scra per\");\n",
    "Should return:\n",
    "\"Skyscraper\"\n",
    "If the building contains no ghosts, return the string:\n",
    "\"You just wanted my autograph didn't you?\"\n",
    "\n",
    "\n",
    "def ghostbusters(building):\n",
    "    #your code here\n",
    "    if building.count(' ')>0:  return building.replace(' ','')\n",
    "    return \"You just wanted my autograph didn't you?\"\n",
    "\n",
    "\n",
    "\n",
    "\n",
    "def ghostbusters(building):\n",
    "    if ' ' in building:\n",
    "        return building.replace(' ', '')\n",
    "    return \"You just wanted my autograph didn't you?\""
   ]
  }
 ],
 "metadata": {
  "kernelspec": {
   "display_name": "Python 3",
   "language": "python",
   "name": "python3"
  },
  "language_info": {
   "codemirror_mode": {
    "name": "ipython",
    "version": 3
   },
   "file_extension": ".py",
   "mimetype": "text/x-python",
   "name": "python",
   "nbconvert_exporter": "python",
   "pygments_lexer": "ipython3",
   "version": "3.7.6"
  }
 },
 "nbformat": 4,
 "nbformat_minor": 4
}
