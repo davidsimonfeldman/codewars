{
 "cells": [
  {
   "cell_type": "code",
   "execution_count": null,
   "metadata": {},
   "outputs": [],
   "source": [
    "Who is the killer?\n",
    "Some people have been killed!\n",
    "You have managed to narrow the suspects down to just a few. Luckily, you know every person who those suspects have seen on the day of the murders.\n",
    "Task.\n",
    "Given a dictionary with all the names of the suspects and everyone that they have seen on that day which may look like this:\n",
    "{'James': ['Jacob', 'Bill', 'Lucas'],\n",
    " 'Johnny': ['David', 'Kyle', 'Lucas'],\n",
    " 'Peter': ['Lucy', 'Kyle']}\n",
    "and also a list of the names of the dead people:\n",
    "['Lucas', 'Bill']\n",
    "return the name of the one killer, in our case 'James' because he is the only person that saw both 'Lucas' and 'Bill'\n",
    "\n",
    "\n",
    "\n",
    "def killer(info, dead):\n",
    "    for name, seen in info.items():\n",
    "        if set(dead) <= set(seen):\n",
    "            return name\n",
    "        \n",
    "        \n",
    "        \n",
    "def killer(suspect_info, dead):\n",
    "    for suspect, persons in suspect_info.items():\n",
    "        if all(name in persons for name in dead):\n",
    "            return suspect\n",
    "\n",
    "def killer(suspect_info, dead):\n",
    "    is_killer = set(dead).issubset\n",
    "    return next(k for k,L in suspect_info.items() if is_killer(L))        "
   ]
  }
 ],
 "metadata": {
  "kernelspec": {
   "display_name": "Python 3",
   "language": "python",
   "name": "python3"
  },
  "language_info": {
   "codemirror_mode": {
    "name": "ipython",
    "version": 3
   },
   "file_extension": ".py",
   "mimetype": "text/x-python",
   "name": "python",
   "nbconvert_exporter": "python",
   "pygments_lexer": "ipython3",
   "version": "3.7.6"
  }
 },
 "nbformat": 4,
 "nbformat_minor": 4
}
