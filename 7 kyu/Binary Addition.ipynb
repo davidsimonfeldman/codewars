{
 "cells": [
  {
   "cell_type": "code",
   "execution_count": null,
   "metadata": {
    "ExecuteTime": {
     "end_time": "2021-06-21T22:03:52.068375Z",
     "start_time": "2021-06-21T22:03:51.026859Z"
    }
   },
   "outputs": [],
   "source": [
    "Implement a function that adds two numbers together and returns their sum in binary. The conversion can be done before, or after the addition.\n",
    "\n",
    "The binary number returned should be a string.\n",
    "\n",
    "Examples:\n",
    "\n",
    "add_binary(1, 1) == \"10\" (1 + 1 = 2 in decimal or 10 in binary)\n",
    "add_binary(5, 9) == \"1110\" (5 + 9 = 14 in decimal or 1110 in binary)\n",
    "\n",
    "\n",
    "\n",
    "def add_binary(a,b):\n",
    "    c=bin(a+b)[2:]\n",
    "     \n",
    "    return( c)\n",
    "\n",
    "\n",
    "\n",
    "def add_binary(a,b):\n",
    "    return '{0:b}'.format(a + b)\n",
    "\n",
    "def add_binary(a, b):\n",
    "    return format(a + b, 'b')"
   ]
  }
 ],
 "metadata": {
  "kernelspec": {
   "display_name": "Python 3",
   "language": "python",
   "name": "python3"
  },
  "language_info": {
   "codemirror_mode": {
    "name": "ipython",
    "version": 3
   },
   "file_extension": ".py",
   "mimetype": "text/x-python",
   "name": "python",
   "nbconvert_exporter": "python",
   "pygments_lexer": "ipython3",
   "version": "3.7.6"
  }
 },
 "nbformat": 4,
 "nbformat_minor": 4
}
