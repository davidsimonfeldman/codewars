{
 "cells": [
  {
   "cell_type": "code",
   "execution_count": null,
   "metadata": {},
   "outputs": [],
   "source": [
    "An acrostic is a text in which the first letter of each line spells out a word. It is also a quick and cheap way of writing a poem for somebody, as exemplified below :\n",
    "\n",
    "\n",
    "\n",
    "Write a program that reads an acrostic to identify the \"hidden\" word. \n",
    "Specifically, your program will receive a list of words (reprensenting an acrostic) and will need to return a string corresponding to the word that is spelled\n",
    "out by taking the first letter of each word in the acrostic.\n",
    "\n",
    "\n",
    "\n",
    "def read_out(acrostic):\n",
    "    a=''\n",
    "    for x in acrostic:\n",
    "        a+=x[0]\n",
    "        \n",
    "    return a#the word hidden in the acrostic"
   ]
  }
 ],
 "metadata": {
  "kernelspec": {
   "display_name": "Python 3",
   "language": "python",
   "name": "python3"
  },
  "language_info": {
   "codemirror_mode": {
    "name": "ipython",
    "version": 3
   },
   "file_extension": ".py",
   "mimetype": "text/x-python",
   "name": "python",
   "nbconvert_exporter": "python",
   "pygments_lexer": "ipython3",
   "version": "3.7.6"
  }
 },
 "nbformat": 4,
 "nbformat_minor": 4
}
