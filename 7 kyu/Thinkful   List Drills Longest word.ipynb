{
 "cells": [
  {
   "cell_type": "code",
   "execution_count": null,
   "metadata": {},
   "outputs": [],
   "source": [
    "Complete the function that takes one argument, a list of words, and returns the length of the longest word in the list.\n",
    "\n",
    "For example:\n",
    "\n",
    "['simple', 'is', 'better', 'than', 'complex'] ==> 7\n",
    "Do not modify the input list.\n",
    "\n",
    "def longest(words):\n",
    "    # Your code here\n",
    "    return len(max(words,key=len))\n",
    "\n",
    "def longest(words):\n",
    "    return max(map(len, words))\n",
    "\n",
    "def longest(words):\n",
    "    return max(len(i) for i in words)\n",
    "\n",
    "def longest(words):\n",
    "    return len(max(words, key=len))\n",
    "\n",
    "\n",
    "def longest(words):\n",
    "    number_of_chars = [len(word) for word in words]\n",
    "    return max(number_of_chars)"
   ]
  }
 ],
 "metadata": {
  "kernelspec": {
   "display_name": "Python 3",
   "language": "python",
   "name": "python3"
  },
  "language_info": {
   "codemirror_mode": {
    "name": "ipython",
    "version": 3
   },
   "file_extension": ".py",
   "mimetype": "text/x-python",
   "name": "python",
   "nbconvert_exporter": "python",
   "pygments_lexer": "ipython3",
   "version": "3.7.6"
  }
 },
 "nbformat": 4,
 "nbformat_minor": 4
}
