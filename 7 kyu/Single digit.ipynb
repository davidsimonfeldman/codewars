{
 "cells": [
  {
   "cell_type": "code",
   "execution_count": null,
   "metadata": {
    "ExecuteTime": {
     "end_time": "2021-06-21T22:03:52.068375Z",
     "start_time": "2021-06-21T22:03:51.026859Z"
    }
   },
   "outputs": [],
   "source": [
    "The goal of this Kata is to reduce the passed integer to a single digit (if not already) \n",
    "by converting the number to binary, taking the sum of the binary digits, and if that sum is not a single digit then repeat the process.\n",
    "n will be an integer such that 0 < n < 10^20\n",
    "If the passed integer is already a single digit there is no need to reduce\n",
    "For example given 5665 the function should return 5:\n",
    "5665 --> (binary) 1011000100001\n",
    "1011000100001 --> (sum of binary digits) 5\n",
    "Given 123456789 the function should return 1:\n",
    "123456789 --> (binary) 111010110111100110100010101\n",
    "111010110111100110100010101 --> (sum of binary digits) 16\n",
    "16 --> (binary) 10000\n",
    "10000 --> (sum of binary digits) 1\n",
    "\n",
    "\n",
    "def single_digit(n):\n",
    "    print(n)\n",
    "    if n<10:return n\n",
    "    # do stuff\n",
    "    a=bin(n)[2:]\n",
    "    print(a)\n",
    "    print(type(a))\n",
    "    print(sum(map(int,list(a))))\n",
    "    if len(str(sum(map(int,list(a)))))==1:\n",
    "        return sum(map(int,list(a)))\n",
    "    if len(str(sum(map(int,list(a)))))==2:\n",
    "            b=sum(map(int,list(a)))\n",
    "            print(b)\n",
    "            c=bin(b)[2:]\n",
    "            print(c)\n",
    "            if len(str(sum(map(int,list(c)))))==1:\n",
    "                return sum(map(int,list(c)))\n",
    "            \n",
    "            \n",
    "\n",
    "            \n",
    "\n",
    "            \n",
    "def single_digit(n):\n",
    "    while n > 9:\n",
    "        n = bin(n).count(\"1\")\n",
    "    return n\n",
    "\n",
    "\n",
    "def single_digit(n):\n",
    "    while n > 9:\n",
    "        n = int(bin(n).count('1'))\n",
    "    return n\n",
    "\n",
    "def single_digit(n):\n",
    "    return n if n<10 else single_digit(bin(n).count(\"1\"))            "
   ]
  }
 ],
 "metadata": {
  "kernelspec": {
   "display_name": "Python 3",
   "language": "python",
   "name": "python3"
  },
  "language_info": {
   "codemirror_mode": {
    "name": "ipython",
    "version": 3
   },
   "file_extension": ".py",
   "mimetype": "text/x-python",
   "name": "python",
   "nbconvert_exporter": "python",
   "pygments_lexer": "ipython3",
   "version": "3.7.6"
  }
 },
 "nbformat": 4,
 "nbformat_minor": 4
}
