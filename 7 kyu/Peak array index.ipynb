{
 "cells": [
  {
   "cell_type": "code",
   "execution_count": null,
   "metadata": {},
   "outputs": [],
   "source": [
    "Given an array of ints, return the index such that the sum of the elements to the right of that index equals the sum of the elements to the left of that index. \n",
    "If there is no such index, return -1.\n",
    "If there is more than one such index, return the left-most index.\n",
    "For example:\n",
    "peak([1,2,3,5,3,2,1]) = 3, because the sum of the elements at indexes 0,1,2 == sum of elements at indexes 4,5,6. We don't sum index 3.\n",
    "peak([1,12,3,3,6,3,1]) = 2\n",
    "peak([10,20,30,40]) = -1\n",
    "--For Haskell\n",
    "peak [1,12,3,3,6,3,1] == Just 2\n",
    "peak [10,20,30,40]  == Nothing \n",
    "The special case of an array of zeros (for instance [0,0,0,0]) will not be tested.\n",
    "More examples in the test cases.\n",
    "\n",
    "\n",
    "\n",
    "def peak(arr):\n",
    "    for i in range(len(arr)):\n",
    "        x=(sum(arr[:i]))\n",
    "        y=(sum(arr[i+1:]))\n",
    "        if x==y:return (i)\n",
    "    else: return -1\n",
    "    \n",
    "    \n",
    "    \n",
    "    \n",
    "    \n",
    "def peak(arr):\n",
    "    for i in range(len(arr)):\n",
    "        if sum(arr[:i]) == sum(arr[i+1:]): return i\n",
    "    return -1    "
   ]
  }
 ],
 "metadata": {
  "kernelspec": {
   "display_name": "Python 3",
   "language": "python",
   "name": "python3"
  },
  "language_info": {
   "codemirror_mode": {
    "name": "ipython",
    "version": 3
   },
   "file_extension": ".py",
   "mimetype": "text/x-python",
   "name": "python",
   "nbconvert_exporter": "python",
   "pygments_lexer": "ipython3",
   "version": "3.7.6"
  }
 },
 "nbformat": 4,
 "nbformat_minor": 4
}
