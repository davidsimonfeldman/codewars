{
 "cells": [
  {
   "cell_type": "code",
   "execution_count": null,
   "metadata": {},
   "outputs": [],
   "source": [
    "Complete the solution so that it returns a formatted string. The return value should equal \"Value is VALUE\" where value is a 5 digit padded number.\n",
    "\n",
    "Example:\n",
    "\n",
    "solution(5)  # should return \"Value is 00005\"\n",
    "\n",
    "def solution(v):\n",
    "    while len(str(v))<5:\n",
    "        v='0'+ str(v)\n",
    "    return 'Value is '+ str(v)  \n",
    "\n",
    "def solution(value):\n",
    "    return \"Value is %05d\" % value\n",
    "\n",
    "\n",
    "def solution(value):\n",
    "    num = 5 - len(str(value))\n",
    "    zeros = \"\"\n",
    "    for i in range(num):\n",
    "        zeros += \"0\"\n",
    "    return(\"Value is {}\".format(zeros + str(value)))"
   ]
  }
 ],
 "metadata": {
  "kernelspec": {
   "display_name": "Python 3",
   "language": "python",
   "name": "python3"
  },
  "language_info": {
   "codemirror_mode": {
    "name": "ipython",
    "version": 3
   },
   "file_extension": ".py",
   "mimetype": "text/x-python",
   "name": "python",
   "nbconvert_exporter": "python",
   "pygments_lexer": "ipython3",
   "version": "3.7.6"
  }
 },
 "nbformat": 4,
 "nbformat_minor": 4
}
