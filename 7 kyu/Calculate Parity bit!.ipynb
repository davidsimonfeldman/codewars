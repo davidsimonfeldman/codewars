{
 "cells": [
  {
   "cell_type": "code",
   "execution_count": null,
   "metadata": {
    "ExecuteTime": {
     "end_time": "2021-06-21T22:03:52.068375Z",
     "start_time": "2021-06-21T22:03:51.026859Z"
    }
   },
   "outputs": [],
   "source": [
    "A parity bit, or check bit, is a bit added to a string of bits to ensure that the total number of 1-bits in the string is even or odd. \n",
    "Parity bits are used as the simplest form of error detecting code.\n",
    "You have two parameters, one being the wanted parity (always 'even' or 'odd'), and the other being the binary representation of the number you want to check.\n",
    "Your task is to return an integer (0 or 1), whose the parity bit you need to add to the binary representation so that the parity of the resulting string is as expected.\n",
    "Example:\n",
    "  Parity: 'even'\n",
    "  Bin: '0101010'\n",
    "  Result: 1\n",
    "Because there is an odd number of 1-bits (3) you need to put another 1 to it to get an even number of 1-bits.\n",
    "\n",
    "\n",
    "\n",
    "def check_parity(parity, b): \n",
    "    # your code here\n",
    "    if parity=='even' and not b.count('1')%2:return 0\n",
    "    if parity=='even' and   b.count('1')%2:return 1\n",
    "    if parity=='odd' and not b.count('1')%2:return 1\n",
    "    if parity=='odd' and   b.count('1')%2:return 0\n",
    "    \n",
    "    \n",
    "    \n",
    "def check_parity(parity, bin_str): \n",
    "    return [0, 1][bin_str.count(\"1\") % 2 == (parity == \"even\")]\n",
    "\n",
    "\n",
    "def check_parity(parity, bin_str):\n",
    "    return (parity == \"odd\") ^ (bin_str.count('1') & 1)\n",
    "\n",
    "\n",
    "def check_parity(parity, bin_str): \n",
    "    return bin_str.count('1') & 1 ^ (parity == 'odd')\n",
    "\n",
    "\n",
    "\n",
    "def check_parity(parity, bin_str): \n",
    "    return 1 if bin_str.count('1') % 2 == (parity == 'even') else 0    "
   ]
  }
 ],
 "metadata": {
  "kernelspec": {
   "display_name": "Python 3",
   "language": "python",
   "name": "python3"
  },
  "language_info": {
   "codemirror_mode": {
    "name": "ipython",
    "version": 3
   },
   "file_extension": ".py",
   "mimetype": "text/x-python",
   "name": "python",
   "nbconvert_exporter": "python",
   "pygments_lexer": "ipython3",
   "version": "3.7.6"
  }
 },
 "nbformat": 4,
 "nbformat_minor": 4
}
