{
 "cells": [
  {
   "cell_type": "code",
   "execution_count": null,
   "metadata": {},
   "outputs": [],
   "source": [
    "Oh no!\n",
    "Some really funny web dev gave you a sequence of numbers from his API response as an sequence of strings!\n",
    "\n",
    "You need to cast the whole array to the correct type.\n",
    "\n",
    "Create the function that takes as a parameter a sequence of numbers represented as strings and outputs a sequence of numbers.\n",
    "\n",
    "ie:[\"1\", \"2\", \"3\"] to [1, 2, 3]\n",
    "\n",
    "Note that you can receive floats as well.\n",
    "\n",
    "\n",
    "def to_float_array(arr): \n",
    "    # your code here\n",
    "    a=[]\n",
    "    for x in arr:\n",
    "        a.append(float(x))\n",
    "    return a    "
   ]
  }
 ],
 "metadata": {
  "kernelspec": {
   "display_name": "Python 3",
   "language": "python",
   "name": "python3"
  },
  "language_info": {
   "codemirror_mode": {
    "name": "ipython",
    "version": 3
   },
   "file_extension": ".py",
   "mimetype": "text/x-python",
   "name": "python",
   "nbconvert_exporter": "python",
   "pygments_lexer": "ipython3",
   "version": "3.7.6"
  }
 },
 "nbformat": 4,
 "nbformat_minor": 4
}
