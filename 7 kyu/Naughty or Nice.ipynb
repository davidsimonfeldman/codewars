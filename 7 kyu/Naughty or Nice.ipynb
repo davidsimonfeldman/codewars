{
 "cells": [
  {
   "cell_type": "code",
   "execution_count": 2,
   "metadata": {
    "ExecuteTime": {
     "end_time": "2021-06-18T22:14:22.939291Z",
     "start_time": "2021-06-18T22:14:22.916023Z"
    }
   },
   "outputs": [],
   "source": [
    "Happy Holidays fellow Code Warriors!\n",
    "It's almost Christmas! That means Santa's making his list, and checking it twice. \n",
    "Unfortunately, elves accidentally mixed the Naughty and Nice list together! Santa needs your help to save Christmas!\n",
    "Save Christmas!\n",
    "Santa needs you to write two functions. Both of the functions accept a sequence of objects.\n",
    "The first one returns a sequence containing only the names of the nice people, and the other returns a sequence containing only the names of the naughty people. \n",
    "Return an empty sequence [] if the result from either of the functions contains no names.\n",
    "The objects in the passed will represent people. Each object contains two properties: name and wasNice.\n",
    "name - The name of the person\n",
    "wasNice - True if the person was nice this year, false if they were naughty\n",
    "\n",
    "Person Object Examples\n",
    "Test Examples\n",
    "get_nice_names( [\n",
    "    { 'name': 'Warrior reading this kata', 'was_nice': True },\n",
    "    { 'name': 'xDranik', 'was_nice': False },\n",
    "    { 'name': 'Santa', 'was_nice': True }\n",
    "] )\n",
    "# => returns [ 'Warrior reading this kata', 'Santa' ]\n",
    "\n",
    "\n",
    "def get_nice_names(people):\n",
    "    # your code here\n",
    "    print('1',people)\n",
    "    a=[]\n",
    "    for x in people:\n",
    "        if  x['was_nice']:\n",
    "            a.append(x['name'])\n",
    "    return a    \n",
    "    \n",
    "def get_naughty_names(people):\n",
    "    # your code here\n",
    "    print('2',people)\n",
    "    a=[]\n",
    "    for x in people:\n",
    "        if not x['was_nice']:\n",
    "            a.append(x['name'])\n",
    "    return a\n",
    "\n",
    "\n",
    "\n",
    "def get_nice_names(people):\n",
    "    return [p['name'] for p in people if p['was_nice']]\n",
    "\n",
    "def get_naughty_names(people):\n",
    "    return [p['name'] for p in people if not p['was_nice']]"
   ]
  },
  {
   "cell_type": "code",
   "execution_count": null,
   "metadata": {},
   "outputs": [],
   "source": []
  }
 ],
 "metadata": {
  "kernelspec": {
   "display_name": "Python 3",
   "language": "python",
   "name": "python3"
  },
  "language_info": {
   "codemirror_mode": {
    "name": "ipython",
    "version": 3
   },
   "file_extension": ".py",
   "mimetype": "text/x-python",
   "name": "python",
   "nbconvert_exporter": "python",
   "pygments_lexer": "ipython3",
   "version": "3.7.6"
  }
 },
 "nbformat": 4,
 "nbformat_minor": 4
}
