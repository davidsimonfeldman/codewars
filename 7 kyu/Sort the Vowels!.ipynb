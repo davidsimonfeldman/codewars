{
 "cells": [
  {
   "cell_type": "code",
   "execution_count": null,
   "metadata": {},
   "outputs": [],
   "source": [
    "Sort the Vowels!\n",
    "In this kata, we want to sort the vowels in a special format.\n",
    "\n",
    "Task\n",
    "Write a function which takes a input string s and return a string in the following way:\n",
    "\n",
    "   \n",
    "                  C|                          R|\n",
    "                  |O                          n|\n",
    "                  D|                          d|\n",
    "   \"Codewars\" =>  |E       \"Rnd Te5T\"  =>      |\n",
    "                  W|                          T|\n",
    "                  |A                          |e\n",
    "                  R|                          5|\n",
    "                  S|                          T|\n",
    "\n",
    "Notes:\n",
    "\n",
    "List all the Vowels on the right side of |\n",
    "List every character except Vowels on the left side of |\n",
    "Case doesn't matter\n",
    "Each line is seperated with \\n\n",
    "Invalid input ( undefined / null / integer ) should return an empty string\n",
    "\n",
    "\n",
    "\n",
    "def sort_vowels(s):\n",
    "    a=''\n",
    "    if isinstance(s,str) == True:\n",
    "        for i in range(len(s)):\n",
    "            if s[i].lower() in 'aeiou': a+=('|' + s[i])\n",
    "            else: a+= ( s[i]+'|')\n",
    "            if i < len(s) - 1:\n",
    "                a += '\\n'\n",
    "        return(a)    \n",
    "    else: return ''\n",
    "    \n",
    "    \n",
    "    \n",
    "def sort_vowels(s):\n",
    "    a = \"AaEeUuIiOo\"\n",
    "    if type(s)== int or s==None:\n",
    "        return ''\n",
    "    else:\n",
    "        return \"\".join([\"|\"+i+\"\\n\" if i in a else i+\"|\"+'\\n' for i in s])[:-1]    "
   ]
  }
 ],
 "metadata": {
  "kernelspec": {
   "display_name": "Python 3",
   "language": "python",
   "name": "python3"
  },
  "language_info": {
   "codemirror_mode": {
    "name": "ipython",
    "version": 3
   },
   "file_extension": ".py",
   "mimetype": "text/x-python",
   "name": "python",
   "nbconvert_exporter": "python",
   "pygments_lexer": "ipython3",
   "version": "3.7.6"
  }
 },
 "nbformat": 4,
 "nbformat_minor": 4
}
