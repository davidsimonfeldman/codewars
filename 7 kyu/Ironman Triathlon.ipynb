{
 "cells": [
  {
   "cell_type": "code",
   "execution_count": null,
   "metadata": {},
   "outputs": [],
   "source": [
    "An Ironman Triathlon is one of a series of long-distance triathlon races organized by the World Triathlon Corporaion (WTC).\n",
    "It consists of a 2.4-mile swim, a 112-mile bicycle ride and a marathon (26.2-mile) (run, raced in that order and without a break. It hurts... trust me.\n",
    "Your task is to take a distance that an athlete is through the race, and return one of the following:\n",
    "If the distance is zero, return 'Starting Line... Good Luck!'.\n",
    "If the athlete will be swimming, return an object with 'Swim' as the key, and the remaining race distance as the value.\n",
    "If the athlete will be riding their bike, return an object with 'Bike' as the key, and the remaining race distance as the value.\n",
    "If the athlete will be running, and has more than 10 miles to go, return an object with 'Run' as the key, and the remaining race distance as the value.\n",
    "If the athlete has 10 miles or less to go, return return an object with 'Run' as the key, and 'Nearly there!' as the value.\n",
    "Finally, if the athlete has completed te distance, return \"You're done! Stop running!\".\n",
    "All distance should be calculated to two decimal places.\n",
    "                                                                                    \n",
    "                                                                                    \n",
    "                                                                                    \n",
    "                                                                                    \n",
    "def i_tri(s):\n",
    "    print(s)\n",
    "    x=round(140.6-s,1)\n",
    "    if s ==0:return 'Starting Line... Good Luck!'\n",
    "    if s >140.6:return \"You're done! Stop running!\"\n",
    "    elif s<2.4: return {'Swim':f'{x}0 to go!'}\n",
    "    elif s<114.4: return {'Bike':f'{x}0 to go!'}\n",
    "    elif s>114.4 and 140.6 - s > 10 : return {'Run':f'{x}0 to go!'}\n",
    "    elif 140.6 - s <= 10:\n",
    "        return {'Run':'Nearly there!'}\n",
    "      \n",
    "     \n",
    "                                                                                    \n",
    "                                                                                    \n",
    "def i_tri(s):\n",
    "    total = 2.4 + 112 + 26.2\n",
    "    to_go = '%.2f to go!' % (total - s)\n",
    "    \n",
    "    return ( 'Starting Line... Good Luck!' if s == 0 else\n",
    "            {'Swim': to_go} if s < 2.4 else\n",
    "            {'Bike': to_go} if s < 2.4 + 112 else\n",
    "            {'Run':  to_go} if s < total - 10 else\n",
    "            {'Run': 'Nearly there!'} if s < total else\n",
    "            \"You're done! Stop running!\" )                                                                                    "
   ]
  }
 ],
 "metadata": {
  "kernelspec": {
   "display_name": "Python 3",
   "language": "python",
   "name": "python3"
  },
  "language_info": {
   "codemirror_mode": {
    "name": "ipython",
    "version": 3
   },
   "file_extension": ".py",
   "mimetype": "text/x-python",
   "name": "python",
   "nbconvert_exporter": "python",
   "pygments_lexer": "ipython3",
   "version": "3.7.6"
  }
 },
 "nbformat": 4,
 "nbformat_minor": 4
}
