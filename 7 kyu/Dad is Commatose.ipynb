{
 "cells": [
  {
   "cell_type": "code",
   "execution_count": null,
   "metadata": {},
   "outputs": [],
   "source": [
    "Your dad doesn't really get punctuation, and he's always putting extra commas in when he posts.\n",
    "You can tolerate the run-on sentences, as he does actually talk like that, but those extra commas have to go!\n",
    "Write a function called dadFilter that takes a string as argument and returns a string with the extraneous commas removed. \n",
    "The returned string should not end with a comma or any trailing whitespace.\n",
    "\n",
    "\n",
    "from itertools import groupby\n",
    "def dad_filter(s):\n",
    "    #your code here\n",
    "    s=s.rstrip(',')\n",
    "    a=''\n",
    "    print(s)\n",
    "#     print(list(groupby(s)))\n",
    "    for x,y in groupby(s):\n",
    "#         print(x)\n",
    "#         print('y',list(y))\n",
    "        if x not in ' ,':\n",
    "            a+=''.join(y)\n",
    "        if x==',':a+=','\n",
    "        if x==' ':a+=' '    \n",
    "#         print(list(y))\n",
    "    return a.rstrip(', ')\n",
    "\n",
    "\n",
    "def dad_filter(string):\n",
    "    return \",\".join([w for w in string.rstrip(\", \").split(\",\") if w != \"\"])\n",
    "\n",
    "\n",
    "def dad_filter(string):\n",
    "    #your code here\n",
    "    new_list = string.split()\n",
    "    for i in range(len(new_list)):\n",
    "        while new_list[i].count(',') > 1:\n",
    "            new_list[i] = new_list[i].replace(',', '', 1)\n",
    "    \n",
    "    str = ' '.join(new_list)       \n",
    "    while str[-1] in ' ,':\n",
    "        str = str[:-1]\n",
    "    return str\n"
   ]
  }
 ],
 "metadata": {
  "kernelspec": {
   "display_name": "Python 3",
   "language": "python",
   "name": "python3"
  },
  "language_info": {
   "codemirror_mode": {
    "name": "ipython",
    "version": 3
   },
   "file_extension": ".py",
   "mimetype": "text/x-python",
   "name": "python",
   "nbconvert_exporter": "python",
   "pygments_lexer": "ipython3",
   "version": "3.7.6"
  }
 },
 "nbformat": 4,
 "nbformat_minor": 4
}
