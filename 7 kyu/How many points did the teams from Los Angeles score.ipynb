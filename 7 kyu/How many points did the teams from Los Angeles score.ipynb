{
 "cells": [
  {
   "cell_type": "code",
   "execution_count": null,
   "metadata": {},
   "outputs": [],
   "source": [
    "You are given an array including a list of basketball teams and their scores showing points scored vs points lost:\n",
    "\n",
    "basketball_results = [\n",
    "  [\"Dallas Mavericks\", \"492:513\"],\n",
    "  [\"Los Angeles Lakers\", \"641:637\"],\n",
    "  [\"Houston Rockets\", \"494:458\"],\n",
    "  [\"Los Angeles Clippers\", \"382:422\"],\n",
    "  [\"New Orleans Pelicans\", \"433:454\"],\n",
    "  [\"Oklahoma City Thunder\", \"315:318\"],\n",
    "  [\"Golden State Warriors\", \"559:503\"],\n",
    "  [\"Memphis Grizzlies\", \"550:511\"],\n",
    "  [\"Portland Trail Blazers\", \"527:520\"],\n",
    "  [\"Minnesota Timberwolves\", \"495:494\"],\n",
    "  [\"Utah Jazz\", \"399:402\"],\n",
    "  [\"Sacramento Kings\", \"420:431\"],\n",
    "  [\"San Antonio Spurs\", \"469:460\"],\n",
    "  [\"Phoenix Suns\", \"523:522\"],\n",
    "  [\"Denver Nuggets\", \"646:658\"]\n",
    "]\n",
    "Your task it to return a number which represents the total number of points scored by a team from Los Angeles.\n",
    "\n",
    "In the above example the correct result is a number of 1023, as Los Angeles Lakers got 641 and Los Angeles Clippers got 382, so 641 + 382 = 1023.\n",
    "\n",
    "Notes:\n",
    "\n",
    "The format of the Los Angeles team name will always start with 'Los Angeles' followed by one-word team name, for example, 'Los Angeles Name'.\n",
    "All letters will be in lower-case apart from first letters which will be in upper-case. Only letters will be used (no numbers, underscores, hyphens, special characters etc.)\n",
    "For example, the following strings do not represent a team from Los Angeles: 'Happy Los Angeles', 'Los Angeles', Los Angelesio Thunders', 'los angeles masters'.\n",
    "The number of teams from Los Angeles may vary.\n",
    "If there are no teams from Los Angeles, return the number 0.\n",
    "The order of the teams may vary.\n",
    "All values in the arrays will always be strings.\n",
    "Points will always be given in the following format '100:99' (points scored:points lost).\n",
    "\n",
    "\n",
    "\n",
    "\n",
    "\n",
    "def get_los_angeles_points(results):\n",
    "    #your code here\n",
    "    a=[]\n",
    "    print(results)\n",
    "    for x in results:\n",
    "        if    x[0].startswith('Los Angeles') and len(x[0])>12:\n",
    "            if    x[0].startswith('Los Angeles') and x[0][12].isupper() and x[0][13:].islower() and x[0][13:].isalpha():\n",
    "                a.append(x[1][:x[1].index(':')])\n",
    "    return(sum(list(map(int,a)))) \n",
    "\n",
    "\n",
    "def get_los_angeles_points(results):\n",
    "    result = []\n",
    "    for i in results:\n",
    "        b = i[0].split(' ')\n",
    "        if b[0] == 'Los' and b[1] == 'Angeles' and len(b) == 3 and b[2].isalpha() and b[2][0].isupper() and b[2][1:].islower():\n",
    "            result.append(i[1].rsplit(':')[0])\n",
    "    return sum([int(i) for i in result])"
   ]
  }
 ],
 "metadata": {
  "kernelspec": {
   "display_name": "Python 3",
   "language": "python",
   "name": "python3"
  },
  "language_info": {
   "codemirror_mode": {
    "name": "ipython",
    "version": 3
   },
   "file_extension": ".py",
   "mimetype": "text/x-python",
   "name": "python",
   "nbconvert_exporter": "python",
   "pygments_lexer": "ipython3",
   "version": "3.7.6"
  }
 },
 "nbformat": 4,
 "nbformat_minor": 4
}
