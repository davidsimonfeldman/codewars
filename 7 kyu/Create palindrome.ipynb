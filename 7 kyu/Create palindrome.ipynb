{
 "cells": [
  {
   "cell_type": "code",
   "execution_count": null,
   "metadata": {
    "ExecuteTime": {
     "end_time": "2021-06-21T22:03:52.068375Z",
     "start_time": "2021-06-21T22:03:51.026859Z"
    }
   },
   "outputs": [],
   "source": [
    "Consider the string \"adfa\" and the following rules:\n",
    "\n",
    "a) each character MUST be changed either to the one before or the one after in alphabet. \n",
    "b) \"a\" can only be changed to \"b\" and \"z\" to \"y\". \n",
    "From our string, we get:\n",
    "\n",
    "\"adfa\" -> [\"begb\",\"beeb\",\"bcgb\",\"bceb\"]\n",
    "\n",
    "Here is another example: \n",
    "\"bd\" -> [\"ae\",\"ac\",\"ce\",\"cc\"]\n",
    "\n",
    "--We see that in each example, one of the outcomes is a palindrome. That is, \"beeb\" and \"cc\".\n",
    "You will be given a lowercase string and your task is to return True if at least one of the outcomes is a palindrome or False otherwise.\n",
    "\n",
    "More examples in test cases. Good luck!\n",
    "\n",
    "\n",
    "def solve(s):\n",
    "    print(len(s))\n",
    "    for i in range(0,len(s)):\n",
    "        print('x',i)\n",
    "        if s[i]!=s[-1-i] and  abs(ord(s[0+i])-ord(s[-1+(-i)]))!=2:return False\n",
    "    return True  \n",
    "\n",
    "\n",
    "\n",
    "\n",
    "\n",
    "def solve(st):\n",
    "    return all(True if ord(x) - ord(y) in [-2, 0, 2] else False for x, y in zip(st, st[::-1]))\n",
    "\n",
    "\n",
    "def solve(st):\n",
    "    return all(abs(ord(x) - ord(y)) in {0, 2} for x, y in zip(st, st[::-1]))\n",
    "\n",
    "def solve(st):\n",
    "    for i in range(len(st)//2):\n",
    "        if abs(ord(st[i]) - ord(st[-i-1])) not in (0, 2):\n",
    "            return False\n",
    "    return True"
   ]
  }
 ],
 "metadata": {
  "kernelspec": {
   "display_name": "Python 3",
   "language": "python",
   "name": "python3"
  },
  "language_info": {
   "codemirror_mode": {
    "name": "ipython",
    "version": 3
   },
   "file_extension": ".py",
   "mimetype": "text/x-python",
   "name": "python",
   "nbconvert_exporter": "python",
   "pygments_lexer": "ipython3",
   "version": "3.7.6"
  }
 },
 "nbformat": 4,
 "nbformat_minor": 4
}
