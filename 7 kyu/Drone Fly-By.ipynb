{
 "cells": [
  {
   "cell_type": "code",
   "execution_count": null,
   "metadata": {
    "ExecuteTime": {
     "end_time": "2021-06-21T22:03:52.068375Z",
     "start_time": "2021-06-21T22:03:51.026859Z"
    }
   },
   "outputs": [],
   "source": [
    "The other day I saw an amazing video where a guy hacked some wifi controlled lightbulbs by flying a drone past them. Brilliant.\n",
    "\n",
    "In this kata we will recreate that stunt... sort of.\n",
    "\n",
    "You will be given two strings: lamps and drone. lamps represents a row of lamps, currently off, each represented by x. When these lamps are on, they should be represented by o.\n",
    "\n",
    "The drone string represents the position of the drone T (any better suggestion for character??) \n",
    "and its flight path up until this point =. The drone always flies left to right, and always begins at the start of the row of lamps.\n",
    "Anywhere the drone has flown, including its current position, will result in the lamp at that position switching on.\n",
    "Return the resulting lamps string. See example tests for more clarity.\n",
    "\n",
    "\n",
    "\n",
    "def fly_by(lamps, drone):\n",
    "    #hack the lamps4\n",
    "    a=''\n",
    "    print(lamps, drone)\n",
    "    d=len(drone)\n",
    "    l=len(lamps)\n",
    "    print('d',d)\n",
    "    print('l',l)\n",
    "    print(len('o'*(d )+'x'*(l-d)))\n",
    "    if d<=l:    return 'o'*(d )+'x'*(l-d)\n",
    "    return 'o'*(d -1)\n",
    "\n",
    "\n",
    "def fly_by(lamps, drone):\n",
    "    return lamps.replace('x', 'o', drone.count('=') + 1)\n",
    "\n",
    "\n",
    "def fly_by(lamps, drone):\n",
    "    l = len(lamps)\n",
    "    d = len(drone)\n",
    "    if d >= l:\n",
    "        return 'o'* l\n",
    "    return ('o' * d) + ('x' * (l - d))"
   ]
  }
 ],
 "metadata": {
  "kernelspec": {
   "display_name": "Python 3",
   "language": "python",
   "name": "python3"
  },
  "language_info": {
   "codemirror_mode": {
    "name": "ipython",
    "version": 3
   },
   "file_extension": ".py",
   "mimetype": "text/x-python",
   "name": "python",
   "nbconvert_exporter": "python",
   "pygments_lexer": "ipython3",
   "version": "3.7.6"
  }
 },
 "nbformat": 4,
 "nbformat_minor": 4
}
