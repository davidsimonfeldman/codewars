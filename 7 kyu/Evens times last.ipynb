{
 "cells": [
  {
   "cell_type": "code",
   "execution_count": null,
   "metadata": {},
   "outputs": [],
   "source": [
    "Given a sequence of integers, return the sum of all the integers that have an even index, multiplied by the integer at the last index.\n",
    "\n",
    "Indices in sequence start from 0.\n",
    "\n",
    "If the sequence is empty, you should return 0.\n",
    "\n",
    "\n",
    "def even_last(numbers):\n",
    "    print(numbers)\n",
    "    if not numbers :return 0\n",
    "    # your code here\n",
    "    a=0\n",
    "    for x,y in enumerate(numbers):\n",
    "        if x%2==0:\n",
    "            a+=y\n",
    "            \n",
    "    return a*numbers[-1]   \n",
    "\n",
    "\n",
    "def even_last(numbers): \n",
    "    return sum(numbers[::2]) * numbers[-1] if numbers else 0\n",
    "\n",
    "\n",
    "def even_last(numbers):\n",
    "    if numbers == []:\n",
    "        return 0\n",
    "    else:\n",
    "        addition = sum(numbers[::2])\n",
    "        multiplication = addition * numbers[-1]\n",
    "        return multiplication"
   ]
  }
 ],
 "metadata": {
  "kernelspec": {
   "display_name": "Python 3",
   "language": "python",
   "name": "python3"
  },
  "language_info": {
   "codemirror_mode": {
    "name": "ipython",
    "version": 3
   },
   "file_extension": ".py",
   "mimetype": "text/x-python",
   "name": "python",
   "nbconvert_exporter": "python",
   "pygments_lexer": "ipython3",
   "version": "3.7.6"
  }
 },
 "nbformat": 4,
 "nbformat_minor": 4
}
