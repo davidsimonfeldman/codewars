{
 "cells": [
  {
   "cell_type": "code",
   "execution_count": 2,
   "metadata": {
    "ExecuteTime": {
     "end_time": "2021-06-17T21:35:35.491006Z",
     "start_time": "2021-06-17T21:35:35.454478Z"
    }
   },
   "outputs": [],
   "source": [
    "Steps\n",
    "\n",
    "Square the numbers that are greater than zero.\n",
    "Multiply by 3 every third number.\n",
    "Multiply by -1 every fifth number.\n",
    "Return the sum of the sequence.\n",
    "Example\n",
    "{ -2, -1, 0, 1, 2 } returns -6\n",
    "\n",
    "1. { -2, -1, 0, 1 * 1, 2 * 2 }\n",
    "2. { -2, -1, 0 * 3, 1, 4 }\n",
    "3. { -2, -1, 0, 1, -1 * 4 }\n",
    "4. -6\n",
    "P.S.: The sequence consists only of integers. And try not to use \"for\", \"while\" or \"loop\" statements.\n",
    "    \n",
    "    \n",
    "    \n",
    "    \n",
    "def calc(a):\n",
    "    \n",
    "    a=[x**2 if x>0 else x for x in a]\n",
    "    print(a)\n",
    "    b=[]\n",
    "    c=[]\n",
    "    for i,x in enumerate(a ):\n",
    "        print(a[i],i)\n",
    "        if i%3==2:b.append(x*3)\n",
    "        else:b.append(x)\n",
    "    print(b)        \n",
    "    for i,x in enumerate(b ):\n",
    "#         print(a[i],i)\n",
    "        if i%5==4:c.append(x*(-1))\n",
    "        else:c.append(x)    \n",
    "    print(c)    \n",
    "    return sum(c)\n",
    "\n",
    "\n",
    "\n",
    "def calc(a):\n",
    "    for i, n in enumerate(a):\n",
    "        if a[i] > 0: a[i] *= a[i]\n",
    "        if i % 3 == 2: a[i] = a[i] * 3\n",
    "        if i % 5 == 4: a[i] = a[i] * -1\n",
    "    return sum(a)"
   ]
  },
  {
   "cell_type": "code",
   "execution_count": null,
   "metadata": {},
   "outputs": [],
   "source": []
  }
 ],
 "metadata": {
  "kernelspec": {
   "display_name": "Python 3",
   "language": "python",
   "name": "python3"
  },
  "language_info": {
   "codemirror_mode": {
    "name": "ipython",
    "version": 3
   },
   "file_extension": ".py",
   "mimetype": "text/x-python",
   "name": "python",
   "nbconvert_exporter": "python",
   "pygments_lexer": "ipython3",
   "version": "3.7.6"
  }
 },
 "nbformat": 4,
 "nbformat_minor": 4
}
