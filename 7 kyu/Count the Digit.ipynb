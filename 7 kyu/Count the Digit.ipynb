{
 "cells": [
  {
   "cell_type": "code",
   "execution_count": null,
   "metadata": {
    "ExecuteTime": {
     "end_time": "2021-06-21T22:03:52.068375Z",
     "start_time": "2021-06-21T22:03:51.026859Z"
    }
   },
   "outputs": [],
   "source": [
    "Take an integer n (n >= 0) and a digit d (0 <= d <= 9) as an integer.\n",
    "\n",
    "Square all numbers k (0 <= k <= n) between 0 and n.\n",
    "\n",
    "Count the numbers of digits d used in the writing of all the k**2.\n",
    "\n",
    "Call nb_dig (or nbDig or ...) the function taking n and d as parameters and returning this count.\n",
    "\n",
    "Examples:\n",
    "n = 10, d = 1 \n",
    "the k*k are 0, 1, 4, 9, 16, 25, 36, 49, 64, 81, 100\n",
    "We are using the digit 1 in: 1, 16, 81, 100. The total count is then 4.\n",
    "\n",
    "nb_dig(25, 1) returns 11 since\n",
    "the k*k that contain the digit 1 are:\n",
    "1, 16, 81, 100, 121, 144, 169, 196, 361, 441.\n",
    "So there are 11 digits 1 for the squares of numbers between 0 and 25.\n",
    "Note that 121 has twice the digit 1.\n",
    "\n",
    "\n",
    "def nb_dig(n, d):\n",
    "    a=[]\n",
    "    for x in range(n+1):\n",
    "        a.append(str(x**2))\n",
    "    return ''.join(a).count(str(d))    \n",
    " \n",
    "    \n",
    "    \n",
    "    \n",
    "def nb_dig(n, d):\n",
    "    return sum(str(i*i).count(str(d)) for i in range(n+1))\n",
    "\n",
    "\n",
    "def nb_dig(n, d):\n",
    "    return ''.join(str(a ** 2) for a in xrange(n + 1)).count(str(d))    \n",
    "\n",
    "\n",
    "\n",
    "def nb_dig(n, d):\n",
    "    \n",
    "    tot_occur = 0;\n",
    "    \n",
    "    for i in range(n+1):\n",
    "        #print(i**2)\n",
    "        tot_occur += str(i**2).count(str(d))\n",
    "        \n",
    "    return tot_occur"
   ]
  }
 ],
 "metadata": {
  "kernelspec": {
   "display_name": "Python 3",
   "language": "python",
   "name": "python3"
  },
  "language_info": {
   "codemirror_mode": {
    "name": "ipython",
    "version": 3
   },
   "file_extension": ".py",
   "mimetype": "text/x-python",
   "name": "python",
   "nbconvert_exporter": "python",
   "pygments_lexer": "ipython3",
   "version": "3.7.6"
  }
 },
 "nbformat": 4,
 "nbformat_minor": 4
}
