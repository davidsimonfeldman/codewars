{
 "cells": [
  {
   "cell_type": "code",
   "execution_count": null,
   "metadata": {},
   "outputs": [],
   "source": [
    "Task:\n",
    "Make a function that converts a word to pig latin. The rules of pig latin are:\n",
    "\n",
    "If the word has more than 3 letters:\n",
    "  1. Take the first letter of a word and move it to the end\n",
    "  2. Add -ay to the word\n",
    "Otherwise leave the word alone.\n",
    "Example: hello = ellohay\n",
    "    \n",
    "    \n",
    "def pig_latin(w):\n",
    "    # Happy coding ;)\n",
    "    print((w))\n",
    "    if len((w))<4:return (w)\n",
    "    else:\n",
    "        return w[1:]+w[0]+'ay'\n",
    "    \n",
    "    \n",
    "    \n",
    "def pig_latin(word):\n",
    "    return word[1:]+word[0]+'ay' if len(word)>3 else word    "
   ]
  }
 ],
 "metadata": {
  "kernelspec": {
   "display_name": "Python 3",
   "language": "python",
   "name": "python3"
  },
  "language_info": {
   "codemirror_mode": {
    "name": "ipython",
    "version": 3
   },
   "file_extension": ".py",
   "mimetype": "text/x-python",
   "name": "python",
   "nbconvert_exporter": "python",
   "pygments_lexer": "ipython3",
   "version": "3.7.6"
  }
 },
 "nbformat": 4,
 "nbformat_minor": 4
}
