{
 "cells": [
  {
   "cell_type": "code",
   "execution_count": null,
   "metadata": {
    "ExecuteTime": {
     "end_time": "2021-06-21T22:03:52.068375Z",
     "start_time": "2021-06-21T22:03:51.026859Z"
    }
   },
   "outputs": [],
   "source": [
    "Given an integer, if the length of it's digits is a perfect square, return a square block of sqroot(length) * sqroot(length). If not, simply return \"Not a perfect square!\".\n",
    "\n",
    "Examples:\n",
    "\n",
    "1212 returns:\n",
    "\n",
    "12\n",
    "12 \n",
    "\n",
    "Note: 4 digits so 2 squared (2x2 perfect square). 2 digits on each line.\n",
    "\n",
    "123123123 returns:\n",
    "\n",
    "123\n",
    "123\n",
    "123\n",
    "\n",
    "Note: 9 digits so 3 squared (3x3 perfect square). 3 digits on each line.\n",
    "    \n",
    "\n",
    "from math import floor\n",
    "def square_it(digits):\n",
    "    # Your code here\n",
    "    digits=str(digits)\n",
    "    if len(str(digits))=='1':return '1'\n",
    "    print(digits,len(str(digits)))\n",
    "    if len(str(digits))**(0.5)!=round(len(str(digits))**(0.5)):return 'Not a perfect square!'\n",
    "    if len(str(digits))**(0.5)==round(len(str(digits))**(0.5)):\n",
    "        a=int(len(str(digits))**(0.5))\n",
    "        print(a)\n",
    "        b=''\n",
    "        for i in range(0,len(digits),a):\n",
    "            b+=digits[i:i+a]+'\\n'\n",
    "        \n",
    "        return b[:-1]    \n",
    "    \n",
    "    \n",
    "    \n",
    "def square_it(digits):\n",
    "    s = str(digits)\n",
    "    n = len(s)**0.5\n",
    "    if n != int(n):\n",
    "        return \"Not a perfect square!\"\n",
    "    n = int(n)\n",
    "    return \"\\n\".join(s[i*n:i*n+n] for i in range(int(n)))\n",
    "\n",
    "\n",
    "\n",
    "def square_it(digits):\n",
    "    digits = str(digits)\n",
    "    len_ = len(digits)\n",
    "    float_ = len_ ** .5\n",
    "    int_ = int(float_)\n",
    "    if float_ == int_:\n",
    "        return \"\\n\".join(digits[j: j + int_] for j in range(0, len_, int_))\n",
    "    return \"Not a perfect square!\"\n",
    "\n",
    "\n",
    "def square_it(s):\n",
    "    s=str(s)\n",
    "    n = int(len(s)**0.5)\n",
    "    if n**2 != len(s): return 'Not a perfect square!'\n",
    "    return '\\n'.join(s[i:i+n] for i in range(0, len(s), n))    "
   ]
  }
 ],
 "metadata": {
  "kernelspec": {
   "display_name": "Python 3",
   "language": "python",
   "name": "python3"
  },
  "language_info": {
   "codemirror_mode": {
    "name": "ipython",
    "version": 3
   },
   "file_extension": ".py",
   "mimetype": "text/x-python",
   "name": "python",
   "nbconvert_exporter": "python",
   "pygments_lexer": "ipython3",
   "version": "3.7.6"
  }
 },
 "nbformat": 4,
 "nbformat_minor": 4
}
