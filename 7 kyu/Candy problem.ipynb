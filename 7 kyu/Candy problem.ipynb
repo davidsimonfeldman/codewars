{
 "cells": [
  {
   "cell_type": "code",
   "execution_count": 1,
   "metadata": {
    "ExecuteTime": {
     "end_time": "2021-06-17T15:40:29.948893Z",
     "start_time": "2021-06-17T15:40:29.925891Z"
    }
   },
   "outputs": [
    {
     "ename": "SyntaxError",
     "evalue": "EOL while scanning string literal (<ipython-input-1-006de2644729>, line 2)",
     "output_type": "error",
     "traceback": [
      "\u001b[1;36m  File \u001b[1;32m\"<ipython-input-1-006de2644729>\"\u001b[1;36m, line \u001b[1;32m2\u001b[0m\n\u001b[1;33m    \"It's the end of trick-or-treating and we have a list/array representing how much candy each child in our group has made out with.\u001b[0m\n\u001b[1;37m                                                                                                                                       ^\u001b[0m\n\u001b[1;31mSyntaxError\u001b[0m\u001b[1;31m:\u001b[0m EOL while scanning string literal\n"
     ]
    }
   ],
   "source": [
    "Description\n",
    "\"It's the end of trick-or-treating and we have a list/array representing how much candy each child in our group has made out with. \n",
    "We don't want the kids to start arguing, and using our parental intuition we know trouble is brewing as many of the children in the group have received different amounts of candy from each home.\n",
    "\n",
    "So we want each child to have the same amount of candies, only we can't exactly take any candy away from the kids, that would be even worse. \n",
    "Instead we decide to give each child extra candy until they all have the same amount.\n",
    "\n",
    "Task\n",
    "Your job is to find out how much candy each child has, and give them each additional candy until they too have as much as the child(ren) with the most candy.\n",
    "You also want to keep a total of how much candy you've handed out because reasons.\"\n",
    "\n",
    "Your job is to give all the kids the same amount of candies as the kid with the most candies and then return the total number candies that have been given out. If there are no kids, or only one, return -1.\n",
    "\n",
    "In the first case (look below) the most candies are given to second kid (i.e second place in list/array), \n",
    "8. Because of that we will give the first kid 3 so he can have 8 and the third kid 2 and the fourth kid 4, so all kids will have 8 candies.So we end up handing out 3 + 2 + 4 = 9.\n",
    "\n",
    "candies ([5,8,6,4]) # return 9\n",
    "\n",
    "candies ([1,2,4,6]) # return 11\n",
    "\n",
    "candies ([1,6]) # return 5\n",
    "\n",
    "candies ([]) # return -1\n",
    "\n",
    "candies ([6]) # return -1 (because only one kid)\n",
    "\n",
    "\n",
    "def candies(s):\n",
    "    if len(s)<2:return -1\n",
    "    a=0\n",
    "    b=sorted(s)[::-1][1:]\n",
    "    m=max(s)\n",
    "    print(b)\n",
    "    for x in b:\n",
    "        a+=(m-x)\n",
    "    return a \n",
    "\n",
    "\n",
    "\n",
    "def candies(s):\n",
    "    if not s or len(s) == 1:\n",
    "        return -1\n",
    "    return len(s) * max(s) - sum(s)\n",
    "\n",
    "\n",
    "def candies(s):\n",
    "    return sum([max(s) - x for x in s]) if len(s) > 1 else -1"
   ]
  }
 ],
 "metadata": {
  "kernelspec": {
   "display_name": "Python 3",
   "language": "python",
   "name": "python3"
  },
  "language_info": {
   "codemirror_mode": {
    "name": "ipython",
    "version": 3
   },
   "file_extension": ".py",
   "mimetype": "text/x-python",
   "name": "python",
   "nbconvert_exporter": "python",
   "pygments_lexer": "ipython3",
   "version": "3.7.6"
  }
 },
 "nbformat": 4,
 "nbformat_minor": 4
}
