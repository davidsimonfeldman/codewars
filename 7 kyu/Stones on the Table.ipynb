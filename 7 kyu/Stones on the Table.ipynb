{
 "cells": [
  {
   "cell_type": "code",
   "execution_count": null,
   "metadata": {
    "ExecuteTime": {
     "end_time": "2021-06-21T22:03:52.068375Z",
     "start_time": "2021-06-21T22:03:51.026859Z"
    }
   },
   "outputs": [],
   "source": [
    "There are some stones on Bob's table in a row, and each of them can be red, green or blue, indicated by the characters R, G, and B.\n",
    "\n",
    "Help Bob find the minimum number of stones he needs to remove from the table so that the stones in each pair of adjacent stones have different colours.\n",
    "\n",
    "Examples:\n",
    "\n",
    "\"RGBRGBRGGB\"   => 1\n",
    "\"RGGRGBBRGRR\"  => 3\n",
    "\"RRRRGGGGBBBB\" => 9\n",
    "\n",
    "\n",
    "from itertools import groupby\n",
    "def solution(stones):\n",
    "    print(len(stones))\n",
    "    print(stones)\n",
    "    sum=0\n",
    "    l=[]\n",
    "    for a,b in groupby(stones):\n",
    "        print(a)\n",
    "        print(list(b))\n",
    "    for x,y in  groupby(stones) :\n",
    "        l.append(x)\n",
    "        for x in y:\n",
    "            sum+=1\n",
    "    print(len(l))        \n",
    "    sum=sum-len(l)    \n",
    "    print(sum)     \n",
    "    return sum\n",
    "\n",
    "\n",
    "def solution(s):\n",
    "    st=[1 for i in range(1,len(s)) if s[i-1]==s[i]]\n",
    "    return sum(st)\n",
    "\n",
    "\n",
    "def solution(s):\n",
    "    return sum(1 for i in range(len(s)) if i and s[i-1]==s[i])\n",
    "\n",
    "\n",
    "\n",
    "def solution(stones):\n",
    "    return sum(a==b for a,b in zip(stones, stones[1:]))\n",
    "\n",
    "\n",
    "from itertools import groupby\n",
    "def solution(stones):\n",
    "    return sum(len(list(grp))-1 for _, grp in groupby(stones))"
   ]
  }
 ],
 "metadata": {
  "kernelspec": {
   "display_name": "Python 3",
   "language": "python",
   "name": "python3"
  },
  "language_info": {
   "codemirror_mode": {
    "name": "ipython",
    "version": 3
   },
   "file_extension": ".py",
   "mimetype": "text/x-python",
   "name": "python",
   "nbconvert_exporter": "python",
   "pygments_lexer": "ipython3",
   "version": "3.7.6"
  }
 },
 "nbformat": 4,
 "nbformat_minor": 4
}
