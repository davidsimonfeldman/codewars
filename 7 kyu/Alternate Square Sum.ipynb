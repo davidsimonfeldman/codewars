{
 "cells": [
  {
   "cell_type": "code",
   "execution_count": null,
   "metadata": {},
   "outputs": [],
   "source": [
    "Write a method alternate_sq_sum() (JS: alternateSqSum ) that takes an array of integers as input and finds the sum of squares of the elements at even positions (i.e., 2nd, 4th, etc.)\n",
    "plus the sum of the rest of the elements at odd position.\n",
    "\n",
    "NOTE:\n",
    "The values at even *position* need to be squared. For a language with zero-based indices, this will occur at oddly-indexed locations. \n",
    "For instance, in Python, the values at indices 1, 3, 5, *etc.* should be squared because these are the second, fourth, and sixth positions in the list.\n",
    "\n",
    "For Example:\n",
    "alternate_sq_sum([11, 12, 13, 14, 15]) #should return 379\n",
    "Explanation:\n",
    "Elements at indices 0, 2, 4 are 11, 13, 15 and they are at odd positions as 11 is at position #1, 13 is at position #3 and 15 at #5.\n",
    "\n",
    "Elements at indices 1, 3 are 12 and 14 and they are at even position. So we need to add 11, 13, 15 as they are and square of 12 and 14\n",
    "\n",
    "--> 11 + 13 + 15 + 12^2 + 14^2\n",
    "= 11 + 13 + 15 + 144 + 196\n",
    "= 379\n",
    "\n",
    "For empty arrays, result should be 0 (zero) (except for Haskell).\n",
    "\n",
    "\n",
    "\n",
    "def alternate_sq_sum(arr):\n",
    "    a=[]\n",
    "    for i,x in enumerate(arr):\n",
    "        if i==0 or   not i%2:\n",
    "            a.append(x)\n",
    "        else:a.append(x**2)    \n",
    "    return sum(a)\n",
    "\n",
    "\n",
    "\n",
    "def alternate_sq_sum(arr):\n",
    "    return sum([ x**2 if i % 2 == 1 else x for i, x in enumerate(arr) ])\n",
    "\n",
    "\n",
    "def alternate_sq_sum(arr):\n",
    "    return sum(x * x for x in arr[1::2]) + sum(arr[::2])"
   ]
  }
 ],
 "metadata": {
  "kernelspec": {
   "display_name": "Python 3",
   "language": "python",
   "name": "python3"
  },
  "language_info": {
   "codemirror_mode": {
    "name": "ipython",
    "version": 3
   },
   "file_extension": ".py",
   "mimetype": "text/x-python",
   "name": "python",
   "nbconvert_exporter": "python",
   "pygments_lexer": "ipython3",
   "version": "3.7.6"
  }
 },
 "nbformat": 4,
 "nbformat_minor": 4
}
