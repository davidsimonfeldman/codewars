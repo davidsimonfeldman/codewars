{
 "cells": [
  {
   "cell_type": "code",
   "execution_count": null,
   "metadata": {
    "ExecuteTime": {
     "end_time": "2021-06-21T22:03:52.068375Z",
     "start_time": "2021-06-21T22:03:51.026859Z"
    }
   },
   "outputs": [],
   "source": [
    "Math hasn't always been your best subject, and these programming symbols always trip you up! \n",
    "I mean, does ** mean \"Times, Times\" or \"To the power of\"? Luckily, you can create the function to write out the expressions for you!\n",
    "\n",
    "The operators you'll need to use are:\n",
    "\"+\"   -->  \"Plus\"\n",
    "\"-\"   -->  \"Minus\"\n",
    "\"*\"   -->  \"Times\"\n",
    "\"/\"   -->  \"Divided By\"\n",
    "\"**\"  -->  \"To The Power Of\"\n",
    "\"=\"   -->  \"Equals\"\n",
    "\"!=\"  -->  \"Does Not Equal\"\n",
    "Notes:\n",
    "the input will always be given as a string, in the following format: number space operator space number; for example: \"1 + 3\" or \"2 - 10\"\n",
    "the numbers used will be 1 to 10\n",
    "the valid operators and the relevant texts are stored in the preloaded dictionary/hash OPERATORS\n",
    "invalid operators will also be tested, to which you should return \"That's not an operator!\"\n",
    "Examples\n",
    "\"4 ** 9\"  -->  \"Four To The Power Of Nine\"\n",
    "\"10 - 5\"  -->  \"Ten Minus Five\"\n",
    "\"2 = 2\"   -->  \"Two Equals Two\"\n",
    "\"2 x 3\"   -->  \"That's not an operator!\"\n",
    "Good luck!\n",
    "\n",
    "\n",
    "\n",
    "def expression_out(exp):\n",
    "    #Your amazing code below!\n",
    "    print(exp.split())\n",
    "    a=exp.split()\n",
    "    print()\n",
    "     \n",
    "    nums={ '1':   'One',\n",
    "           '2':   'Two',\n",
    "           '3':   'Three',\n",
    "           '4':   'Four',  \n",
    "           '5':  'Five',\n",
    "           '6':   'Six',\n",
    "           '7':  'Seven',\n",
    "           '8':   'Eight',\n",
    "           '9':  'Nine','10':  'Ten' }\n",
    "    if a[1] not in OPERATORS.keys()  :return   \"That's not an operator!\"\n",
    "    return nums[a[0]] +' '+ OPERATORS[exp.split()[1]]+ nums[a[2]] \n",
    "\n",
    "\n",
    "\n",
    "l = ['0','One', 'Two', 'Three', 'Four', 'Five', 'Six', 'Seven', 'Eight', 'Nine', 'Ten']\n",
    "def expression_out(exp):\n",
    "    try:\n",
    "        return l[int(exp.split()[0])] +\" \"+ OPERATORS[exp.split()[1]] + l[int(exp.split()[2])]\n",
    "    except KeyError:\n",
    "        return \"That's not an operator!\"\n",
    "\n",
    "    \n",
    "    \n",
    "NUMBERS = 'Zero One Two Three Four Five Six Seven Eight Nine Ten'.split()\n",
    "\n",
    "def expression_out(exp):\n",
    "    x, op, y = exp.split()\n",
    "    x, y = NUMBERS[int(x)], NUMBERS[int(y)]\n",
    "    op = OPERATORS.get(op, \"That's not an operator!\")\n",
    "    return '%s %s%s' % (x, op, y) if op[-1] != '!' else op"
   ]
  }
 ],
 "metadata": {
  "kernelspec": {
   "display_name": "Python 3",
   "language": "python",
   "name": "python3"
  },
  "language_info": {
   "codemirror_mode": {
    "name": "ipython",
    "version": 3
   },
   "file_extension": ".py",
   "mimetype": "text/x-python",
   "name": "python",
   "nbconvert_exporter": "python",
   "pygments_lexer": "ipython3",
   "version": "3.7.6"
  }
 },
 "nbformat": 4,
 "nbformat_minor": 4
}
