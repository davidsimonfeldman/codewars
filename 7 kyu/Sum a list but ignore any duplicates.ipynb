{
 "cells": [
  {
   "cell_type": "code",
   "execution_count": null,
   "metadata": {
    "ExecuteTime": {
     "end_time": "2021-06-21T22:03:52.068375Z",
     "start_time": "2021-06-21T22:03:51.026859Z"
    }
   },
   "outputs": [],
   "source": [
    "Please write a function that sums a list, but ignores any duplicate items in the list.\n",
    "\n",
    "For instance, for the list [3, 4, 3, 6] , the function should return 10.\n",
    "\n",
    "\n",
    "\n",
    "\n",
    "\n",
    "\n",
    "\n",
    "def sum_no_duplicates(l):\n",
    "    a=0\n",
    "    for x in l:\n",
    "        if l.count(x)>1:\n",
    "            continue\n",
    "        else: a+=x\n",
    "    return a      \n",
    "\n",
    "\n",
    "def sum_no_duplicates(l):\n",
    "    return sum(n for n in set(l) if l.count(n) == 1)\n",
    "\n",
    "\n",
    "from collections import Counter\n",
    "def sum_no_duplicates(nums):\n",
    "    return sum(k for k, v in Counter(nums).items() if v == 1)\n",
    "\n",
    "\n",
    "\n",
    "\n",
    "from collections import Counter\n",
    "def sum_no_duplicates(l):\n",
    "    return sum(k for k,v in Counter(l).items() if v == 1)"
   ]
  }
 ],
 "metadata": {
  "kernelspec": {
   "display_name": "Python 3",
   "language": "python",
   "name": "python3"
  },
  "language_info": {
   "codemirror_mode": {
    "name": "ipython",
    "version": 3
   },
   "file_extension": ".py",
   "mimetype": "text/x-python",
   "name": "python",
   "nbconvert_exporter": "python",
   "pygments_lexer": "ipython3",
   "version": "3.7.6"
  }
 },
 "nbformat": 4,
 "nbformat_minor": 4
}
