{
 "cells": [
  {
   "cell_type": "code",
   "execution_count": null,
   "metadata": {},
   "outputs": [],
   "source": [
    "Bob is a lazy man.\n",
    "\n",
    "He needs you to create a method that can determine how many letters and digits are in a given string.\n",
    "\n",
    "Example:\n",
    "\n",
    "\"hel2!lo\" --> 6\n",
    "\n",
    "\"wicked .. !\" --> 6\n",
    "\n",
    "\"!?..A\" --> 1\n",
    "\n",
    "\n",
    "\n",
    "def count_letters_and_digits(s):\n",
    "    a=0\n",
    "    for x in s:\n",
    "        if x.isalnum():a+=1\n",
    "    return a\n",
    "\n",
    "def count_letters_and_digits(s):\n",
    "    return isinstance(s, str) and sum(map(str.isalnum, s))\n",
    "\n",
    "\n",
    "def count_letters_and_digits(s):\n",
    "    return sum(map(str.isalnum, s))"
   ]
  }
 ],
 "metadata": {
  "kernelspec": {
   "display_name": "Python 3",
   "language": "python",
   "name": "python3"
  },
  "language_info": {
   "codemirror_mode": {
    "name": "ipython",
    "version": 3
   },
   "file_extension": ".py",
   "mimetype": "text/x-python",
   "name": "python",
   "nbconvert_exporter": "python",
   "pygments_lexer": "ipython3",
   "version": "3.7.6"
  }
 },
 "nbformat": 4,
 "nbformat_minor": 4
}
