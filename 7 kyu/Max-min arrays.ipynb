{
 "cells": [
  {
   "cell_type": "code",
   "execution_count": null,
   "metadata": {},
   "outputs": [],
   "source": [
    "In this Kata, you will be given an array of unique elements, and your task is to rearrange the values so that the first max value is followed by the first minimum, \n",
    "followed by second max value then second min value, etc.\n",
    "For example:\n",
    "solve([15,11,10,7,12]) = [15,7,12,10,11]\n",
    "The first max is 15 and the first min is 7. The second max is 12 and the second min is 10 and so on.\n",
    "More examples in the test cases.\n",
    "Good luck!\n",
    "\n",
    "\n",
    "\n",
    "def solve(arr):\n",
    "    a=[]\n",
    "    arr=sorted(arr)\n",
    "    print(len(arr))             \n",
    "    arr1=arr[::-1]\n",
    "    b=list(zip(arr1,arr))\n",
    "    print(b)     \n",
    "    for x in b:\n",
    "        for i in x:\n",
    "            if len(a)<len(arr):\n",
    "                a.append(i)\n",
    "    return a\n",
    "\n",
    "\n",
    "\n",
    "def solve(arr):\n",
    "    l = sorted(arr)\n",
    "    result = []\n",
    "    while l:\n",
    "        result.append(l.pop())\n",
    "        l.reverse()\n",
    "    return result"
   ]
  }
 ],
 "metadata": {
  "kernelspec": {
   "display_name": "Python 3",
   "language": "python",
   "name": "python3"
  },
  "language_info": {
   "codemirror_mode": {
    "name": "ipython",
    "version": 3
   },
   "file_extension": ".py",
   "mimetype": "text/x-python",
   "name": "python",
   "nbconvert_exporter": "python",
   "pygments_lexer": "ipython3",
   "version": "3.7.6"
  }
 },
 "nbformat": 4,
 "nbformat_minor": 4
}
