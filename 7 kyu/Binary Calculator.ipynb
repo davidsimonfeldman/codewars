{
 "cells": [
  {
   "cell_type": "code",
   "execution_count": null,
   "metadata": {},
   "outputs": [],
   "source": [
    "In this kata you need to write a function that will receive two strings (n1 and n2), each representing an integer as a binary number.\n",
    "A third parameter will be provided (o) as a string representing one of the following operators: add, subtract, multiply.\n",
    "Your task is to write the calculate function so that it will perform the arithmetic and the result returned should be a string representing the binary result.\n",
    "Examples:\n",
    "1 + 1 === 10\n",
    "10 + 10 === 100\n",
    "Negative binary numbers are usually preceded by several 1's. For this kata, negative numbers can be represented with the negative symbol at the beginning of the string.\n",
    "Examples of negatives:\n",
    "1 - 10 === -1\n",
    "10 - 100 === -10\n",
    "\n",
    "\n",
    "\n",
    "\n",
    "def calculate(n1, n2, o):\n",
    "    print(n1, n2, o)\n",
    "    x=int(n1,2)\n",
    "    y=int(n2 ,2)\n",
    "    if o=='add' : return str(bin(x+y))[2:]\n",
    "    if o=='multiply' : return str(bin(x*y))[2:]\n",
    "    print(x,y)\n",
    "    if y>x:\n",
    "        if o=='subtract' : return '-'+ str(bin(x-y))[3:]\n",
    "    if y==x and o=='subtract' : return '0'\n",
    "         \n",
    "    \n",
    "    return   str(bin(x-y))[2:]   \n",
    "\n",
    "\n",
    "from operator import mul,add,div,sub\n",
    "operators = {'add':add, 'subtract':sub, 'multiply':mul }\n",
    "def calculate(n1, n2, o):    \n",
    "    return '{:b}'.format(operators[o](int(n1,2), int(n2,2)))\n",
    "\n",
    "\n",
    "\n",
    "def calculate(n1, n2, o):\n",
    "    operators = {\n",
    "        \"add\": (lambda x, y: x + y),\n",
    "        \"subtract\": (lambda x, y: x - y),\n",
    "        \"multiply\": (lambda x, y: x * y),\n",
    "    }\n",
    "    \n",
    "    return \"{:b}\".format( operators[o]( int(n1, 2), int(n2, 2) ) )"
   ]
  }
 ],
 "metadata": {
  "kernelspec": {
   "display_name": "Python 3",
   "language": "python",
   "name": "python3"
  },
  "language_info": {
   "codemirror_mode": {
    "name": "ipython",
    "version": 3
   },
   "file_extension": ".py",
   "mimetype": "text/x-python",
   "name": "python",
   "nbconvert_exporter": "python",
   "pygments_lexer": "ipython3",
   "version": "3.7.6"
  }
 },
 "nbformat": 4,
 "nbformat_minor": 4
}
