{
 "cells": [
  {
   "cell_type": "code",
   "execution_count": null,
   "metadata": {
    "ExecuteTime": {
     "end_time": "2021-06-21T22:03:52.068375Z",
     "start_time": "2021-06-21T22:03:51.026859Z"
    }
   },
   "outputs": [],
   "source": [
    "Complete the method that returns true if 2 integers share at least two 1 bits, otherwise return false. For simplicity assume that all numbers are non-negative.\n",
    "\n",
    "Examples\n",
    " 7  =  0111 in binary\n",
    "10  =  1010\n",
    "15  =  1111\n",
    "7 and 10 share only a single 1-bit (at index 2) --> false\n",
    "7 and 15 share 3 1-bits (at indexes 1, 2, and 3) --> true\n",
    "10 and 15 share 2 1-bits (at indexes 0 and 2) --> true\n",
    "Hint: you can do this with just string manipulation, but binary operators will make your life much easier.\n",
    "    \n",
    "\n",
    "from itertools import zip_longest \n",
    "\n",
    "def shared_bits(a, b):\n",
    "    abin=(bin(max(a,b))[2: ])\n",
    "    print(abin)\n",
    "    bbin=(bin(min(a,b))[2: ])\n",
    "    print(bbin)\n",
    "    a=0\n",
    "    if bbin.count('1')<2 or  abin.count('1')<2 :return False\n",
    "    if len(abin)==len(bbin):\n",
    "        for x in zip_longest(abin,bbin):\n",
    "            print(x)\n",
    "            if x[0]==x[1]=='1':\n",
    "                a+=1\n",
    "        return a>1\n",
    "    l=max(str(abin),str(bbin),key=len)\n",
    "    s=min(str(abin),str(bbin),key=len)\n",
    "    print(l)\n",
    "    print(s)\n",
    "    print(len(l))\n",
    "    print(len(s))\n",
    "    s='0'*(len(l)-len(s))+s\n",
    "    a=0\n",
    "    print(l)\n",
    "    print(s)\n",
    "    for x in zip_longest(s,l):\n",
    "        print(x)\n",
    "        if x[0]==x[1]=='1':\n",
    "            a+=1\n",
    "    return a>1\n",
    "        \n",
    "    \n",
    "    \n",
    "    \n",
    "def shared_bits(a, b):\n",
    "    return bin(a & b).count('1') > 1\n",
    "\n",
    "\n",
    "def shared_bits(a, b):\n",
    "    return bool(a & b & (a & b) - 1)\n",
    "\n",
    "def shared_bits(a, b):\n",
    "    n = a&b\n",
    "    return bool(n and n-(1<<n.bit_length()-1))    "
   ]
  }
 ],
 "metadata": {
  "kernelspec": {
   "display_name": "Python 3",
   "language": "python",
   "name": "python3"
  },
  "language_info": {
   "codemirror_mode": {
    "name": "ipython",
    "version": 3
   },
   "file_extension": ".py",
   "mimetype": "text/x-python",
   "name": "python",
   "nbconvert_exporter": "python",
   "pygments_lexer": "ipython3",
   "version": "3.7.6"
  }
 },
 "nbformat": 4,
 "nbformat_minor": 4
}
