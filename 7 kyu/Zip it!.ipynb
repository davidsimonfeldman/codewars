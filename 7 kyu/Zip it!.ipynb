{
 "cells": [
  {
   "cell_type": "code",
   "execution_count": null,
   "metadata": {},
   "outputs": [],
   "source": [
    "Write\n",
    "\n",
    "lstzip\n",
    "that merges the corresponding elements of two sequences using a specified selector function fn (a block in Ruby)\n",
    "\n",
    "For example:\n",
    "\n",
    "a = [1, 2, 3, 4, 5]\n",
    "b = ['a', 'b']\n",
    "lstzip(a,b, lambda a,b: str(a)+str(b))\n",
    "\n",
    "a = [1, 2, 3, 4, 5]\n",
    "b = ['a','b','c','d','e']\n",
    "lstzip(a,b, lambda a, b: a * ord(b[0]))\n",
    "if arrays have different lengths, go up to the minimum length and then stop.\n",
    "\n",
    "FUNDAMENTALSARRAYSPROTOTYPES\n",
    "\n",
    "def lstzip(a,b,fn):\n",
    "    print(a,b,fn)\n",
    "    return [fn(x,y) for x,y in list(zip(a,b))]\n",
    "    #your code here\n",
    "    \n",
    "    \n",
    "def lstzip(a, b, fn):\n",
    "    return list(map(fn, a, b))    \n"
   ]
  }
 ],
 "metadata": {
  "kernelspec": {
   "display_name": "Python 3",
   "language": "python",
   "name": "python3"
  },
  "language_info": {
   "codemirror_mode": {
    "name": "ipython",
    "version": 3
   },
   "file_extension": ".py",
   "mimetype": "text/x-python",
   "name": "python",
   "nbconvert_exporter": "python",
   "pygments_lexer": "ipython3",
   "version": "3.7.6"
  }
 },
 "nbformat": 4,
 "nbformat_minor": 4
}
