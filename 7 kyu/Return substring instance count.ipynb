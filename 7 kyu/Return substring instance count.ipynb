{
 "cells": [
  {
   "cell_type": "code",
   "execution_count": null,
   "metadata": {},
   "outputs": [],
   "source": [
    "Complete the solution so that it returns the number of times the search_text is found within the full_text.\n",
    "\n",
    "Usage example:\n",
    "\n",
    "solution('aa_bb_cc_dd_bb_e', 'bb') # should return 2 since bb shows up twice\n",
    "solution('aaabbbcccc', 'bbb') # should return 1\n",
    "\n",
    "\n",
    "def solution(ft, st):\n",
    "    return ft.count(st)"
   ]
  }
 ],
 "metadata": {
  "kernelspec": {
   "display_name": "Python 3",
   "language": "python",
   "name": "python3"
  },
  "language_info": {
   "codemirror_mode": {
    "name": "ipython",
    "version": 3
   },
   "file_extension": ".py",
   "mimetype": "text/x-python",
   "name": "python",
   "nbconvert_exporter": "python",
   "pygments_lexer": "ipython3",
   "version": "3.7.6"
  }
 },
 "nbformat": 4,
 "nbformat_minor": 4
}
