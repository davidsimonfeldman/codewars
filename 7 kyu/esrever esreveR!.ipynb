{
 "cells": [
  {
   "cell_type": "code",
   "execution_count": null,
   "metadata": {},
   "outputs": [],
   "source": [
    "In this kata you must take an input string, reverse the order of the words, and reverse the order of the letters within the words.\n",
    "\n",
    "But, as a bonus, every test input will end with a punctuation mark (! ? .) and the output should be returned with the mark at the end.\n",
    "\n",
    "A few examples should help clarify:\n",
    "\n",
    "esrever(\"hello world.\") == \"dlrow olleh.\"\n",
    "\n",
    "esrever(\"Much l33t?\") == \"t33l hcuM?\"\n",
    "\n",
    "esrever(\"tacocat!\") == \"tacocat!\"\n",
    "Quick Note: A string will always be passed in (though it may be empty) so no need for error-checking other types.\n",
    "    \n",
    "    \n",
    "    def esrever(string):\n",
    "    if string:   #Do your magic\n",
    "        return string [:-1]  [::-1]+string[ -1] \n",
    "    return ''\n",
    "\n",
    "\n",
    "def esrever(string):\n",
    "    return string and string[-2::-1] + string[-1]"
   ]
  }
 ],
 "metadata": {
  "kernelspec": {
   "display_name": "Python 3",
   "language": "python",
   "name": "python3"
  },
  "language_info": {
   "codemirror_mode": {
    "name": "ipython",
    "version": 3
   },
   "file_extension": ".py",
   "mimetype": "text/x-python",
   "name": "python",
   "nbconvert_exporter": "python",
   "pygments_lexer": "ipython3",
   "version": "3.7.6"
  }
 },
 "nbformat": 4,
 "nbformat_minor": 4
}
