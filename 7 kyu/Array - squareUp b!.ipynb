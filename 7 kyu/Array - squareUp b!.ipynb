{
 "cells": [
  {
   "cell_type": "code",
   "execution_count": null,
   "metadata": {
    "ExecuteTime": {
     "end_time": "2021-07-02T10:42:54.912501Z",
     "start_time": "2021-07-02T10:42:54.891518Z"
    }
   },
   "outputs": [],
   "source": [
    "This is a question from codingbat\n",
    "\n",
    "Given an integer n greater than or equal to 0, create and return an array with the following pattern:\n",
    "\n",
    "squareUp(3) => [0, 0, 1, 0, 2, 1, 3, 2, 1]\n",
    "squareUp(2) => [0, 1, 2, 1]\n",
    "squareUp(4) => [0, 0, 0, 1, 0, 0, 2, 1, 0, 3, 2, 1, 4, 3, 2, 1]\n",
    "\n",
    "\n",
    "\n",
    "def square_up(n):\n",
    "    \n",
    "    a=sorted(list(range(1,n+1)),reverse=True)\n",
    "    b = []\n",
    "    c = [0]*n\n",
    "    for i in range(1, n+1):\n",
    "        print(i)\n",
    "        c[-i] = a[-i]\n",
    "        b.extend(c)\n",
    "    return [x if x >= 0 else 0 for x in b]\n",
    "\n",
    "\n",
    "\n",
    "def square_up(n):\n",
    "    return [j if j <= i else 0 for i in range(1, n+1) for j in range(n, 0, -1)]\n",
    "    \n",
    "\n",
    "    \n",
    "    \n",
    "    \n",
    "    \n",
    "    \n",
    "def square_up(n):\n",
    "    result = []\n",
    "    for i in range(1, n + 1):\n",
    "        result.extend([0] * (n - i) + list(range(i, 0,  -1)))\n",
    "    return result\n",
    "    \n"
   ]
  },
  {
   "cell_type": "code",
   "execution_count": null,
   "metadata": {
    "ExecuteTime": {
     "end_time": "2021-07-02T10:42:56.175638Z",
     "start_time": "2021-07-02T10:42:56.158639Z"
    }
   },
   "outputs": [],
   "source": []
  },
  {
   "cell_type": "code",
   "execution_count": null,
   "metadata": {
    "ExecuteTime": {
     "end_time": "2021-07-02T10:46:49.341984Z",
     "start_time": "2021-07-02T10:46:49.326999Z"
    }
   },
   "outputs": [],
   "source": []
  },
  {
   "cell_type": "code",
   "execution_count": null,
   "metadata": {},
   "outputs": [],
   "source": []
  },
  {
   "cell_type": "code",
   "execution_count": null,
   "metadata": {},
   "outputs": [],
   "source": []
  }
 ],
 "metadata": {
  "kernelspec": {
   "display_name": "Python 3",
   "language": "python",
   "name": "python3"
  },
  "language_info": {
   "codemirror_mode": {
    "name": "ipython",
    "version": 3
   },
   "file_extension": ".py",
   "mimetype": "text/x-python",
   "name": "python",
   "nbconvert_exporter": "python",
   "pygments_lexer": "ipython3",
   "version": "3.7.6"
  }
 },
 "nbformat": 4,
 "nbformat_minor": 4
}
