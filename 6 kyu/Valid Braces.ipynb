{
 "cells": [
  {
   "cell_type": "code",
   "execution_count": null,
   "metadata": {},
   "outputs": [],
   "source": [
    "Write a function that takes a string of braces, and determines if the order of the braces is valid. It should return true if the string is valid, and false if it's invalid.\n",
    "\n",
    "This Kata is similar to the Valid Parentheses Kata, but introduces new characters: brackets [], and curly braces {}. Thanks to @arnedag for the idea!\n",
    "\n",
    "All input strings will be nonempty, and will only consist of parentheses, brackets and curly braces: ()[]{}.\n",
    "\n",
    "What is considered Valid?\n",
    "A string of braces is considered valid if all braces are matched with the correct brace.\n",
    "\n",
    "Examples\n",
    "\"(){}[]\"   =>  True\n",
    "\"([{}])\"   =>  True\n",
    "\"(}\"       =>  False\n",
    "\"[(])\"     =>  False\n",
    "\"[({})](]\" =>  False\n",
    "\n",
    "def validBraces(s):\n",
    "      \n",
    "    a=['()','{}','[]','()','{}','[]','()','{}','[]','{}','[]','()','{}','[]','()','{}','[]']\n",
    "    for x in a:\n",
    "        if x in s:\n",
    "            s=s.replace(x,'')\n",
    "    return s=='' \n"
   ]
  },
  {
   "cell_type": "code",
   "execution_count": 14,
   "metadata": {
    "ExecuteTime": {
     "end_time": "2021-07-25T12:47:43.575863Z",
     "start_time": "2021-07-25T12:47:43.535856Z"
    }
   },
   "outputs": [],
   "source": [
    "def f(s):\n",
    "    a=['()','{}','[]','()','{}','[]','()','{}','[]']\n",
    "    for x in a:\n",
    "        if x in s:\n",
    "            s=s.replace(x,'')\n",
    "    return s==''    "
   ]
  },
  {
   "cell_type": "code",
   "execution_count": 15,
   "metadata": {
    "ExecuteTime": {
     "end_time": "2021-07-25T12:47:44.093364Z",
     "start_time": "2021-07-25T12:47:44.058018Z"
    }
   },
   "outputs": [
    {
     "data": {
      "text/plain": [
       "False"
      ]
     },
     "execution_count": 15,
     "metadata": {},
     "output_type": "execute_result"
    }
   ],
   "source": [
    "f(\"[({})](]\")"
   ]
  },
  {
   "cell_type": "code",
   "execution_count": null,
   "metadata": {},
   "outputs": [],
   "source": [
    "def validBraces(s):\n",
    "  while '{}' in s or '()' in s or '[]' in s:\n",
    "      s=s.replace('{}','')\n",
    "      s=s.replace('[]','')\n",
    "      s=s.replace('()','')\n",
    "  return s==''"
   ]
  },
  {
   "cell_type": "code",
   "execution_count": null,
   "metadata": {},
   "outputs": [],
   "source": [
    "def validBraces(string):\n",
    "    while '()' in string or '{}' in string or '[]' in string:\n",
    "        string = string.replace('()', '')\n",
    "        string = string.replace('{}', '')\n",
    "        string = string.replace('[]', '')\n",
    "    return False if len(string) != 0 else True"
   ]
  }
 ],
 "metadata": {
  "kernelspec": {
   "display_name": "Python 3",
   "language": "python",
   "name": "python3"
  },
  "language_info": {
   "codemirror_mode": {
    "name": "ipython",
    "version": 3
   },
   "file_extension": ".py",
   "mimetype": "text/x-python",
   "name": "python",
   "nbconvert_exporter": "python",
   "pygments_lexer": "ipython3",
   "version": "3.7.6"
  }
 },
 "nbformat": 4,
 "nbformat_minor": 4
}
