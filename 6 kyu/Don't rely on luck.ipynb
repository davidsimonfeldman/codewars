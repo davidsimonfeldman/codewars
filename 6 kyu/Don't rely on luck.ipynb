{
 "cells": [
  {
   "cell_type": "code",
   "execution_count": null,
   "metadata": {},
   "outputs": [],
   "source": [
    "The test fixture I use for this kata is pre-populated.\n",
    "\n",
    "It will compare your guess to a random number generated using:\n",
    "\n",
    "randint(1,100)\n",
    "You can pass by relying on luck or skill but try not to rely on luck.\n",
    "\n",
    "\"The power to define the situation is the ultimate power.\" - Jerry Rubin\n",
    "\n",
    "Good luck!\n",
    "\n",
    "\n",
    "\n",
    "\n",
    "\n",
    "\n",
    "\n",
    "\n",
    "\n",
    "\n",
    "\n",
    "from random import randint,seed\n",
    "seed(1)\n",
    "guess = randint(1,100)\n",
    "seed(1)"
   ]
  }
 ],
 "metadata": {
  "kernelspec": {
   "display_name": "Python 3",
   "language": "python",
   "name": "python3"
  },
  "language_info": {
   "codemirror_mode": {
    "name": "ipython",
    "version": 3
   },
   "file_extension": ".py",
   "mimetype": "text/x-python",
   "name": "python",
   "nbconvert_exporter": "python",
   "pygments_lexer": "ipython3",
   "version": "3.7.6"
  }
 },
 "nbformat": 4,
 "nbformat_minor": 4
}
