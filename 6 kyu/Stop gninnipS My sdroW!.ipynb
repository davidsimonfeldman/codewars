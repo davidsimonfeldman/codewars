{
 "cells": [
  {
   "cell_type": "code",
   "execution_count": null,
   "metadata": {},
   "outputs": [],
   "source": [
    "Write a function that takes in a string of one or more words, and returns the same string, but with all five or more letter words reversed (like the name of this kata).\n",
    "\n",
    "Strings passed in will consist of only letters and spaces.\n",
    "Spaces will be included only when more than one word is present.\n",
    "Examples:\n",
    "\n",
    "spinWords(\"Hey fellow warriors\") => \"Hey wollef sroirraw\" \n",
    "spinWords(\"This is a test\") => \"This is a test\" \n",
    "spinWords(\"This is another test\") => \"This is rehtona test\"\n",
    "\n",
    "\n",
    "\n",
    "def spin_words(s):\n",
    "    # Your code goes here\n",
    "    print(s)\n",
    "    a=s.split()\n",
    "    print(a)\n",
    "    return ' '.join([x if len(x)<5 else x[::-1] for x in a ])\n",
    "\n",
    "\n",
    "\n",
    "def spin_words(sentence):\n",
    "    # Your code goes here\n",
    "    return \" \".join([x[::-1] if len(x) >= 5 else x for x in sentence.split(\" \")])\n",
    "\n",
    "\n",
    "\n",
    "def spin_words(sentence):\n",
    "    words = [word for word in sentence.split(\" \")]\n",
    "    words = [word if len(word) < 5 else word[::-1] for word in words]\n",
    "    return \" \".join(words)\n",
    "    "
   ]
  }
 ],
 "metadata": {
  "kernelspec": {
   "display_name": "Python 3",
   "language": "python",
   "name": "python3"
  },
  "language_info": {
   "codemirror_mode": {
    "name": "ipython",
    "version": 3
   },
   "file_extension": ".py",
   "mimetype": "text/x-python",
   "name": "python",
   "nbconvert_exporter": "python",
   "pygments_lexer": "ipython3",
   "version": "3.7.6"
  }
 },
 "nbformat": 4,
 "nbformat_minor": 4
}
