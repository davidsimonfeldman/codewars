{
 "cells": [
  {
   "cell_type": "code",
   "execution_count": null,
   "metadata": {},
   "outputs": [],
   "source": [
    "Given a string of binary numbers of length 3 sort the numbers in ascending order but only order the even numbers and leave all odd numbers in their place.\n",
    "\n",
    "Example:\n",
    "\n",
    "even_binary(\"101 111 100 001 010\") # returns \"101 111 010 001 100\"\n",
    "Note: make sure all the binary numbers have a length of 3\n",
    "    \n",
    "    \n",
    "\n",
    "def even_binary(n):\n",
    "    data=[ (x) for x in n.split()]\n",
    "    print(data)\n",
    "    odds = iter(sorted((el for el in data if el[-1]=='0' )  ))\n",
    "#     print(odds)\n",
    "#     print(list(odds))\n",
    "    return ' '.join([next(odds) if el[-1]=='0' else el for el in data])\n",
    "\n",
    "\n",
    "\n",
    "def even_binary(s):\n",
    "    s = s.split()\n",
    "    e = sorted(filter(lambda b: b[-1]=='0', s), reverse=True)\n",
    "    return ' '.join(map(lambda b: e.pop() if b[-1]=='0' else b, s))\n",
    "\n",
    "\n",
    "\n",
    "def even_binary(n):\n",
    "    n_arr = n.split(' ')\n",
    "    L = len(n_arr)\n",
    "    n_even = sorted( [d for d in n_arr if int(d)%2 == 0] )\n",
    "    n_index = 0\n",
    "    result = []\n",
    "    for i in range(L):\n",
    "        if int(n_arr[i])%2: # n is odd\n",
    "            result += [n_arr[i]]\n",
    "        else: # n is even\n",
    "            result += [n_even[n_index]]\n",
    "            n_index += 1\n",
    "    return ' '.join(n for n in result)"
   ]
  }
 ],
 "metadata": {
  "kernelspec": {
   "display_name": "Python 3",
   "language": "python",
   "name": "python3"
  },
  "language_info": {
   "codemirror_mode": {
    "name": "ipython",
    "version": 3
   },
   "file_extension": ".py",
   "mimetype": "text/x-python",
   "name": "python",
   "nbconvert_exporter": "python",
   "pygments_lexer": "ipython3",
   "version": "3.7.6"
  }
 },
 "nbformat": 4,
 "nbformat_minor": 4
}
