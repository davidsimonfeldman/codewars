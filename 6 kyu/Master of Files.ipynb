{
 "cells": [
  {
   "cell_type": "code",
   "execution_count": null,
   "metadata": {},
   "outputs": [],
   "source": [
    "Are you a file extension master? Let's find out by checking if Bill's files are images or audio files. Please use regex if available natively for your language.\n",
    "You will create 2 string methods:\n",
    "isAudio/is_audio, matching 1 or + uppercase/lowercase letter(s) (combination possible), with the extension .mp3, .flac, .alac, or .aac.\n",
    "isImage/is_image, matching 1 or + uppercase/lowercase letter(s) (combination possible), with the extension .jpg, .jpeg, .png, .bmp, or .gif.\n",
    "Note that this is not a generic image/audio files checker. It's meant to be a test for Bill's files only. \n",
    "Bill doesn't like punctuation. He doesn't like numbers, neither. Thus, his filenames are letter-only\n",
    "Rules\n",
    "It should return true or false, simply.\n",
    "File extensions should consist of lowercase letters and numbers only.\n",
    "File names should consist of letters only (uppercase, lowercase, or both)\n",
    "Good luck!\n",
    "\n",
    "\n",
    "\n",
    "def is_audio(file_name):\n",
    "    a, extensions = file_name.split('.')\n",
    "    if file_name.endswith(('.mp3','.flac','.aac','alac')) and a.isalpha(): return True\n",
    "    return False\n",
    "def is_img(file_name):\n",
    "    a, extensions = file_name.split('.')\n",
    "    if file_name.endswith(('.jpg','.jpeg','.png','.gif','.bmp')) and a.isalpha(): return True\n",
    "    return False\n",
    "\n",
    "\n",
    " \n",
    "    \n",
    "    \n",
    "    \n",
    "    \n",
    "def is_audio(filename):\n",
    "    name, ext = filename.split('.')\n",
    "    return name.isalpha() and ext in {'mp3', 'flac', 'alac', 'aac'}\n",
    "\n",
    "\n",
    "def is_img(filename):\n",
    "    name, ext = filename.split('.')\n",
    "    return name.isalpha() and ext in {'jpg', 'jpeg', 'png', 'bmp', 'gif'}    "
   ]
  }
 ],
 "metadata": {
  "kernelspec": {
   "display_name": "Python 3",
   "language": "python",
   "name": "python3"
  },
  "language_info": {
   "codemirror_mode": {
    "name": "ipython",
    "version": 3
   },
   "file_extension": ".py",
   "mimetype": "text/x-python",
   "name": "python",
   "nbconvert_exporter": "python",
   "pygments_lexer": "ipython3",
   "version": "3.7.6"
  }
 },
 "nbformat": 4,
 "nbformat_minor": 4
}
