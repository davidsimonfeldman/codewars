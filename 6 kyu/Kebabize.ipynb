{
 "cells": [
  {
   "cell_type": "code",
   "execution_count": null,
   "metadata": {},
   "outputs": [],
   "source": [
    "Modify the kebabize function so that it converts a camel case string into a kebab case.\n",
    "\n",
    "kebabize('camelsHaveThreeHumps') // camels-have-three-humps\n",
    "kebabize('camelsHave3Humps') // camels-have-humps\n",
    "Notes:\n",
    "\n",
    "the returned string should only contain lowercase letters\n",
    "\n",
    "\n",
    "def kebabize(s):\n",
    "    a=''\n",
    "    for i in range(len(s)):\n",
    "#         print(s[i])\n",
    "        if  s[i].islower() and s[i].isalpha(): a += s[i]\n",
    "        elif  s[i].isupper() and s[i].isalpha(): a =a + '-'+str(s[i] )   \n",
    "    return a.lstrip('-').lower() \n",
    "\n",
    "\n",
    "\n",
    "def kebabize(s):\n",
    "    return ''.join(c if c.islower() else '-' + c.lower() for c in s if c.isalpha()).strip('-')"
   ]
  }
 ],
 "metadata": {
  "kernelspec": {
   "display_name": "Python 3",
   "language": "python",
   "name": "python3"
  },
  "language_info": {
   "codemirror_mode": {
    "name": "ipython",
    "version": 3
   },
   "file_extension": ".py",
   "mimetype": "text/x-python",
   "name": "python",
   "nbconvert_exporter": "python",
   "pygments_lexer": "ipython3",
   "version": "3.7.6"
  }
 },
 "nbformat": 4,
 "nbformat_minor": 4
}
