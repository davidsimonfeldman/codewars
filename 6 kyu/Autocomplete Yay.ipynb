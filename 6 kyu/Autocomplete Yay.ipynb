{
 "cells": [
  {
   "cell_type": "code",
   "execution_count": null,
   "metadata": {},
   "outputs": [],
   "source": [
    "It's time to create an autocomplete function! Yay!\n",
    "The autocomplete function will take in an input string and a dictionary array and return the values from the dictionary that start with the input string.\n",
    "If there are more than 5 matches, restrict your output to the first 5 results. If there are no matches, return an empty array.\n",
    "Example:\n",
    "autocomplete('ai', ['airplane','airport','apple','ball']) = ['airplane','airport']\n",
    "For this kata, the dictionary will always be a valid array of strings. Please return all results in the order given in the dictionary, even if they're not always alphabetical.\n",
    "The search should NOT be case sensitive, but the case of the word should be preserved when it's returned.\n",
    "For example, \"Apple\" and \"airport\" would both return for an input of 'a'. However, they should return as \"Apple\" and \"airport\" in their original cases.\n",
    "Important note:\n",
    "Any input that is NOT a letter should be treated as if it is not there. For example, an input of \"$%^\" should be treated as \"\" and an input of \"ab*&1cd\" should be treated as \"abcd\".\n",
    "(Thanks to wthit56 for the suggestion!)\n",
    "\n",
    "\n",
    "def autocomplete(s, dictionary):\n",
    "    print(s)\n",
    "    s=''.join([x for x in s if x.isalpha()])\n",
    "    #your code here\n",
    "    a=[x for x in dictionary if (x.lower()).startswith(s)][:5]\n",
    "    return(a)\n",
    "\n",
    "\n",
    "def autocomplete(input_, dictionary):\n",
    "    input_ = ''.join([letter for letter in input_ if letter.isalpha()]).lower()\n",
    "    options = [word for word in dictionary if word.startswith(input_) or word.startswith(input_.capitalize())]\n",
    "    return options[:5]"
   ]
  }
 ],
 "metadata": {
  "kernelspec": {
   "display_name": "Python 3",
   "language": "python",
   "name": "python3"
  },
  "language_info": {
   "codemirror_mode": {
    "name": "ipython",
    "version": 3
   },
   "file_extension": ".py",
   "mimetype": "text/x-python",
   "name": "python",
   "nbconvert_exporter": "python",
   "pygments_lexer": "ipython3",
   "version": "3.7.6"
  }
 },
 "nbformat": 4,
 "nbformat_minor": 4
}
