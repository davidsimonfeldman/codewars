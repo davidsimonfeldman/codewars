{
 "cells": [
  {
   "cell_type": "code",
   "execution_count": null,
   "metadata": {},
   "outputs": [],
   "source": [
    "In another Kata I came across a weird sort function to implement. \n",
    "We had to sort characters as usual ( 'A' before 'Z' and 'Z' before 'a' ) except that the numbers had to be sorted after the letters ( '0' after 'z') !!!\n",
    "(After a couple of hours trying to solve this unusual-sorting-kata I discovered final tests used **usual** sort (digits **before** letters :-)\n",
    "So, the unusualSort/unusual_sort function you'll have to code will sort letters as usual, but will put digits (or one-digit-long numbers ) after letters.\n",
    "Examples\n",
    "unusual_sort([\"a\",\"z\",\"b\"])  # -> [\"a\",\"b\",\"z\"]  as usual\n",
    "unusual_sort([\"a\",\"Z\",\"B\"])  # -> [\"B\",\"Z\",\"a\"]  as usual\n",
    "//... but ...\n",
    "unusual_sort([\"1\",\"z\",\"a\"])  # -> [\"a\",\"z\",\"1\"]\n",
    "unusual_sort([\"1\",\"Z\",\"a\"])  # -> [\"Z\",\"a\",\"1\"]\n",
    "unusual_sort([3,2,1\"a\",\"z\",\"b\"])  # -> [\"a\",\"b\",\"z\",1,2,3]\n",
    "unusual_sort([3,\"2\",1,\"a\",\"c\",\"b\"])  # -> [\"a\",\"b\",\"c\",1,\"2\",3]\n",
    "Note: digits will be sorted after \"same-digit-numbers\", eg: 1 is before \"1\", \"2\" after 2.\n",
    "unusual_sort([3,\"2\",1,\"1\",\"3\",2])  # -> [1,\"1\",2,\"2\",3,\"3\"]\n",
    "You may assume that argument will always be an array/list of characters or one-digit-long numbers.\n",
    " \n",
    " \n",
    " \n",
    " def unusual_sort(arr):\n",
    "    a=sorted([x for x in arr if not str(x).isdigit()])\n",
    "    b = [x for x in arr if str(x ).isdigit()]\n",
    "    \n",
    "    print('a1',a )\n",
    "    print('a2',b)\n",
    "    return a  + sorted(b,key=lambda x:(int(x),type(x)==str)  ) \n",
    " \n",
    " \n",
    " \n",
    " \n",
    " def unusual_sort(array):\n",
    "    return sorted(array, key=lambda x: (str(x).isdigit(), str(x), -isinstance(x, int)))\n",
    "\n",
    " \n",
    " \n",
    " def unusual_sort(array):\n",
    "    return sorted(array, key=lambda item: (str(item).isdigit(), str(item), isinstance(item, str)))\n",
    "\n",
    " \n",
    " \n",
    " def my_key(char):\n",
    "    if '0' <= str(char) <= '9':\n",
    "        return 2 * (int(char) + 1) - isinstance(char, int) + ord('z')\n",
    "    return ord(char)\n",
    "\n",
    "def unusual_sort(array):\n",
    "    return sorted(array, key=my_key)"
   ]
  }
 ],
 "metadata": {
  "kernelspec": {
   "display_name": "Python 3",
   "language": "python",
   "name": "python3"
  },
  "language_info": {
   "codemirror_mode": {
    "name": "ipython",
    "version": 3
   },
   "file_extension": ".py",
   "mimetype": "text/x-python",
   "name": "python",
   "nbconvert_exporter": "python",
   "pygments_lexer": "ipython3",
   "version": "3.7.6"
  }
 },
 "nbformat": 4,
 "nbformat_minor": 4
}
