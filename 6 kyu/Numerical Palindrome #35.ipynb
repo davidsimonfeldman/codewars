{
 "cells": [
  {
   "cell_type": "code",
   "execution_count": null,
   "metadata": {},
   "outputs": [],
   "source": [
    "A palindrome is a word, phrase, number, or other sequence of characters which reads the same backward as forward. Examples of numerical palindromes are: 2332, 110011, 54322345\n",
    "For a given number num, write a function which returns an array of all the numerical palindromes contained within each number.\n",
    "The array should be sorted in ascending order and any duplicates should be removed.\n",
    "In this kata, single digit numbers and numbers which start or end with zeros (such as 010 and 00) are NOT considered valid numerical palindromes.\n",
    "If num contains no valid palindromes, return \"No palindromes found\". Otherwise, return \"Not valid\" if the input is not an integer or is less than 0.\n",
    "Examples\n",
    "palindrome(1221)      =>  [22, 1221]\n",
    "palindrome(34322122)  =>  [22, 212, 343, 22122]\n",
    "palindrome(1001331)   =>  [33, 1001, 1331]\n",
    "palindrome(1294)      =>  \"No palindromes found\"\n",
    "palindrome(\"1221\")    =>  \"Not valid\"\n",
    "\n",
    "\n",
    "\n",
    "def palindrome(s):\n",
    "    # Code here\n",
    "    counter = [ ]\n",
    "    print(s)\n",
    "     \n",
    "    if type(s) != int or s < 0: return \"Not valid\"\n",
    "    s=str(s)\n",
    "    for i in range(len(s)):\n",
    "        for j in range(i+2,len(s)+2):\n",
    "            temp = s[i:j]\n",
    "            if temp == temp[::-1] and len(temp)>1 and temp!='0' and int(temp)>1 and len(str(int(temp))) == len(str(temp[::-1])):\n",
    "                print(int(temp))\n",
    "                counter.append(int(temp))\n",
    "    if len(list(set(counter)) )>0:return sorted(list(set(counter)) )\n",
    "    else : return  'No palindromes found'\n",
    "    \n",
    "    \n",
    "    \n",
    "    def palindrome(num):\n",
    "    if not isinstance(num, int) or num < 0:\n",
    "        return \"Not valid\"\n",
    "    n = str(num)\n",
    "    l = len(n)\n",
    "    result = {int(n[i:j]) for i in range(l-1) for j in range(i+2, l+1) if int(n[i]) and n[i:j] == n[i:j][::-1]}\n",
    "    return sorted(result) if result else \"No palindromes found\"\n",
    "\n",
    "\n",
    "\n",
    "import re\n",
    "def palindrome(num):\n",
    "    if not isinstance(num, int) or num < 0: return 'Not valid'\n",
    "    num_s = str(num)\n",
    "    len_, palindroms = len(num_s), []\n",
    "    for i in range(len_):\n",
    "        for j in range(len_, i, -1):\n",
    "            temp = num_s[i: j + 1]\n",
    "            if len(temp) > 1 and not re.match('0\\d+?0?', temp) and temp == temp[::-1]:\n",
    "                palindroms.append(temp)\n",
    "    return sorted(map(int, set(palindroms))) or 'No palindromes found'"
   ]
  }
 ],
 "metadata": {
  "kernelspec": {
   "display_name": "Python 3",
   "language": "python",
   "name": "python3"
  },
  "language_info": {
   "codemirror_mode": {
    "name": "ipython",
    "version": 3
   },
   "file_extension": ".py",
   "mimetype": "text/x-python",
   "name": "python",
   "nbconvert_exporter": "python",
   "pygments_lexer": "ipython3",
   "version": "3.7.6"
  }
 },
 "nbformat": 4,
 "nbformat_minor": 4
}
