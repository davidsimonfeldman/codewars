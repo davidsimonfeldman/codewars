{
 "cells": [
  {
   "cell_type": "code",
   "execution_count": null,
   "metadata": {},
   "outputs": [],
   "source": [
    "There are no explanations. You have to create the code that gives the following results in Python and Ruby:\n",
    "\n",
    "one_two_three(0) == [0, 0]\n",
    "one_two_three(1) == [1, 1]\n",
    "one_two_three(2) == [2, 11]\n",
    "one_two_three(3) == [3, 111]\n",
    "one_two_three(19) == [991, 1111111111111111111]\n",
    "And it should give the following results in Javascript:\n",
    "\n",
    "oneTwoThree(0) == ['0', '0']\n",
    "oneTwoThree(1) == ['1', '1']\n",
    "oneTwoThree(3) == ['3', '111']\n",
    "oneTwoThree(19) == ['991', '1111111111111111111']\n",
    "\n",
    "\n",
    "def one_two_three(n):\n",
    "    print((n))\n",
    "    # just do it!\n",
    "    if n==0:return [0, 0]\n",
    "    a=divmod(n,9)\n",
    "    if n%9==0:return [int(a[0]*'9' ) ,int(n*'1')]\n",
    "    print(a)\n",
    "    return [int(a[0]*'9'+str(a[1])) ,int(n*'1')]\n",
    "    \n",
    "def one_two_three(n):\n",
    "    first, second = \"9\" * (n / 9), \"1\" * n\n",
    "    if n % 9: first += str(n % 9)\n",
    "    return [int(first) if first else 0, int(second) if second else 0]    "
   ]
  }
 ],
 "metadata": {
  "kernelspec": {
   "display_name": "Python 3",
   "language": "python",
   "name": "python3"
  },
  "language_info": {
   "codemirror_mode": {
    "name": "ipython",
    "version": 3
   },
   "file_extension": ".py",
   "mimetype": "text/x-python",
   "name": "python",
   "nbconvert_exporter": "python",
   "pygments_lexer": "ipython3",
   "version": "3.7.6"
  }
 },
 "nbformat": 4,
 "nbformat_minor": 4
}
