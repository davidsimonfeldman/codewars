{
 "cells": [
  {
   "cell_type": "code",
   "execution_count": null,
   "metadata": {},
   "outputs": [],
   "source": [
    "\n",
    "There are 8 balls numbered from 0 to 7. Seven of them have the same weight. One is heavier. Your task is to find it's number.\n",
    "Your function findBall will receive single argument - scales object. The scales object contains an internally stored array of 8 elements (indexes 0-7),\n",
    "each having the same value except one, which is greater.\n",
    "It also has a public method named getWeight(left, right) which takes two arrays of indexes and returns -1, 0, or 1 based on the accumulation of the values found \n",
    "at the indexes passed are heavier, equal, or lighter.\n",
    "getWeight returns:\n",
    "-1 if left pan is heavier\n",
    "1 if right pan is heavier\n",
    "0 if both pans weight the same\n",
    "Examples of scales.getWeight() usage:\n",
    "scales.getWeight([3], [7]) returns -1 if ball 3 is heavier than ball 7, 1 if ball 7 is heavier, or 0 i these balls have the same weight.\n",
    "scales.getWeight([3, 4], [5, 2]) returns -1 if weight of balls 3 and 4 is heavier than weight of balls 5 and 2 etc.\n",
    "So where's the catch, you may ask. Well - the scales is very old. You can use it only 3 TIMES before the scale breaks.\n",
    "Too easy? Too hard? Try other levels:\n",
    "novice\n",
    "master\n",
    "\n",
    "\n",
    "\n",
    "\n",
    "\n",
    "def find_ball(scales):\n",
    "    # call scales.get_weight() at most 3 TIMES\n",
    "    a=range(8)\n",
    "    while len(a)>1:\n",
    "        b=len(a)//2\n",
    "        l,r=a[:b],a[b:]\n",
    "        a=l if scales.get_weight(l, r) < 0 else r\n",
    "    return a[0]\n",
    "    \n",
    "    \n",
    "    \n",
    "    \n",
    "    \n",
    "def find_ball(scales):\n",
    "  balls = range(8)\n",
    "  while len(balls) > 1:\n",
    "      left, right = balls[:len(balls)/2], balls[len(balls)/2:]\n",
    "      balls = right if scales.get_weight(left, right) > 0 else left\n",
    "  return balls[0]    "
   ]
  }
 ],
 "metadata": {
  "kernelspec": {
   "display_name": "Python 3",
   "language": "python",
   "name": "python3"
  },
  "language_info": {
   "codemirror_mode": {
    "name": "ipython",
    "version": 3
   },
   "file_extension": ".py",
   "mimetype": "text/x-python",
   "name": "python",
   "nbconvert_exporter": "python",
   "pygments_lexer": "ipython3",
   "version": "3.7.6"
  }
 },
 "nbformat": 4,
 "nbformat_minor": 4
}
