{
 "cells": [
  {
   "cell_type": "code",
   "execution_count": null,
   "metadata": {},
   "outputs": [],
   "source": [
    "You've just finished writing the last chapter for your novel when a virus suddenly infects your document.\n",
    "It has swapped the 'i's and 'e's in 'ei' words and capitalised random letters. Write a function which will:\n",
    "a) remove the spelling errors in 'ei' words. (Example of 'ei' words: their, caffeine, deceive, weight)\n",
    "b) only capitalise the first letter of each sentence. Make sure the rest of the sentence is in lower case.\n",
    "Example: He haD iEght ShOTs of CAffIEne. --> He had eight shots of caffeine.\n",
    "    \n",
    "    \n",
    "\n",
    "def proofread(string):\n",
    "    print(string)\n",
    "    #your code here\n",
    "    s=string.lower().replace('ie','ei').split('. ')\n",
    "    \n",
    "     \n",
    "    return '. '.join(x.capitalize() for x in s)\n",
    "     \n",
    "    \n",
    "    \n",
    "    \n",
    "def proofread(s):    \n",
    "    return '. '.join(i.lower().replace('ie', 'ei').capitalize() for i in s.split('. '))\n",
    "\n",
    "\n",
    "\n",
    "def proofread(s):\n",
    "    return \". \".join([x.capitalize() for x in s.lower().replace('ie', 'ei').split('. ')])  "
   ]
  }
 ],
 "metadata": {
  "kernelspec": {
   "display_name": "Python 3",
   "language": "python",
   "name": "python3"
  },
  "language_info": {
   "codemirror_mode": {
    "name": "ipython",
    "version": 3
   },
   "file_extension": ".py",
   "mimetype": "text/x-python",
   "name": "python",
   "nbconvert_exporter": "python",
   "pygments_lexer": "ipython3",
   "version": "3.7.6"
  }
 },
 "nbformat": 4,
 "nbformat_minor": 4
}
