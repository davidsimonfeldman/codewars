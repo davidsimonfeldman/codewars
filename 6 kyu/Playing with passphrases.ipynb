{
 "cells": [
  {
   "cell_type": "code",
   "execution_count": null,
   "metadata": {},
   "outputs": [],
   "source": [
    "\n",
    "Everyone knows passphrases. One can choose passphrases from poems, songs, movies names and so on but frequently they can be guessed due to common cultural references. \n",
    "You can get your passphrases stronger by different means. One is the following:\n",
    "choose a text in capital letters including or not digits and non alphabetic characters,\n",
    "shift each letter by a given number but the transformed letter must be a letter (circular shift),\n",
    "replace each digit by its complement to 9,\n",
    "keep such as non alphabetic and non digit characters,\n",
    "downcase each letter in odd position, upcase each letter in even position (the first character is in position 0),\n",
    "reverse the whole result.\n",
    "Example:\n",
    "your text: \"BORN IN 2015!\", shift 1\n",
    "1 + 2 + 3 -> \"CPSO JO 7984!\"\n",
    "4 \"CpSo jO 7984!\"\n",
    "5 \"!4897 Oj oSpC\"\n",
    "With longer passphrases it's better to have a small and easy program. Would you write it?\n",
    "https://en.wikipedia.org/wiki/Passphrase\n",
    "    \n",
    "    \n",
    "from string import ascii_uppercase as up\n",
    "def play_pass(s, n):\n",
    "    # your code\n",
    "    a=''\n",
    "    for x in s:\n",
    "        if x.isdigit():\n",
    "            a+=str(9-int(x))\n",
    "        elif x.isalpha():\n",
    "            print(up[(up.index(x) + n) % 26])\n",
    "            a+=up[(up.index(x) + n) % 26]\n",
    "        else:a+=x\n",
    "    b=[y.upper() if not x%2 else y.lower() for x,y in enumerate(a) ]\n",
    "    return ''.join(b[::-1]  )  \n",
    "\n",
    "\n",
    "\n",
    "\n",
    "from string import ascii_uppercase as up\n",
    "def play_pass(s, n):\n",
    "    # your code\n",
    "    a=''\n",
    "    for x in s:\n",
    "        if x.isdigit():\n",
    "            a+=str(9-int(x))\n",
    "        elif x.isalpha():\n",
    "            print(up[(up.index(x) + n) % 26])\n",
    "            a+=up[(up.index(x) + n) % 26]\n",
    "        else:a+=x\n",
    "    b=[y.upper() if not x%2 else y.lower() for x,y in enumerate(a) ]\n",
    "    return ''.join(b[::-1]  )  \n",
    "    "
   ]
  }
 ],
 "metadata": {
  "kernelspec": {
   "display_name": "Python 3",
   "language": "python",
   "name": "python3"
  },
  "language_info": {
   "codemirror_mode": {
    "name": "ipython",
    "version": 3
   },
   "file_extension": ".py",
   "mimetype": "text/x-python",
   "name": "python",
   "nbconvert_exporter": "python",
   "pygments_lexer": "ipython3",
   "version": "3.7.6"
  }
 },
 "nbformat": 4,
 "nbformat_minor": 4
}
