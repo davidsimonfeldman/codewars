{
 "cells": [
  {
   "cell_type": "code",
   "execution_count": null,
   "metadata": {
    "ExecuteTime": {
     "end_time": "2021-07-12T09:00:11.022405Z",
     "start_time": "2021-07-12T09:00:11.001012Z"
    }
   },
   "outputs": [],
   "source": [
    "Observe the process with the array given below and the tracking of the sums of each corresponding array.\n",
    "\n",
    "[5, 3, 6, 10, 5, 2, 2, 1] (34) ----> [5, 3, 6, 10, 2, 1] ----> (27) ------> [10, 6, 5, 3, 2, 1]  ----> [4, 1, 2, 1, 1] (9) -----> [4, 1, 2] (7)\n",
    "The tracked sums are : [34, 27, 9, 7]. We do not register one of the sums. It is not difficult to see why.\n",
    "\n",
    "We need the function track_sum ( or trackSum ) that receives an array ( or list ) and outputs a tuple ( or array ) with the following results in the order given below:\n",
    "\n",
    "array with the tracked sums obtained in the process\n",
    "final array\n",
    "So for our example given above, the result will be:\n",
    "\n",
    "track_sum([5, 3, 6, 10, 5, 2, 2, 1]) == [[34, 27, 9, 7], [4, 1, 2]]\n",
    "You will find more cases in the Example Tests.\n",
    "\n",
    "\n",
    "def track_sum(arr):\n",
    "    a = arr\n",
    "    b = sorted(set(a), reverse=True)\n",
    "    if len(b)<15:    print(b)\n",
    "    c = [(x-y) for (x,y) in zip(b,b[1:])]\n",
    "    if len(c)<20:    print(c)\n",
    "    d = sorted(set(c), key=c.index)\n",
    "    if len(d)<20:print(d)\n",
    "    if len(d)<15 and len(c)<15:   print(list(map(sum,[a,b,c,d]))) \n",
    "    return [list(map(sum,[a,b,c,d])), d]\n",
    "\n",
    "\n",
    "\n",
    "\n",
    "def track_sum(arr):\n",
    "    \n",
    "    step1 = sorted(list(set(arr)), reverse = True)\n",
    "    step2 = [i - j for i, j in zip(step1, step1[1:])]\n",
    "    step3 = sorted(set(step2), key = step2.index)\n",
    "\n",
    "    return [list(map(sum, [arr, step1, step2, step3])), step3]"
   ]
  }
 ],
 "metadata": {
  "kernelspec": {
   "display_name": "Python 3",
   "language": "python",
   "name": "python3"
  },
  "language_info": {
   "codemirror_mode": {
    "name": "ipython",
    "version": 3
   },
   "file_extension": ".py",
   "mimetype": "text/x-python",
   "name": "python",
   "nbconvert_exporter": "python",
   "pygments_lexer": "ipython3",
   "version": "3.7.6"
  }
 },
 "nbformat": 4,
 "nbformat_minor": 4
}
