{
 "cells": [
  {
   "cell_type": "code",
   "execution_count": null,
   "metadata": {},
   "outputs": [],
   "source": [
    "Complete the function which accepts a string and return an array of character(s) that have the most spaces to their right and left.\n",
    "\n",
    "Notes:\n",
    "\n",
    "the string can have leading/trailing spaces - you should not count them\n",
    "the strings contain only unique characters from a to z\n",
    "the order of characters in the returned array doesn\"t matter\n",
    "Examples\n",
    "\"a b  c\"                        -->  [\"b\"]\n",
    "\"a bcs           d k\"           -->  [\"d\"]\n",
    "\"    a b  sc     p     t   k\"   -->  [\"p\"]\n",
    "\"a  b  c  de\"                   -->  [\"b\", \"c\"]\n",
    "\"     a  b  c de        \"       -->  [\"b\"]\n",
    "\"abc\"                           -->  [\"a\", \"b\", \"c\"]\n",
    "\n",
    "\n",
    "\n",
    "from collections import Counter\n",
    "def loneliest(s):\n",
    "    dic =  Counter()\n",
    "    print('dic ',dic)\n",
    "    a = 0\n",
    "    for x in s.strip():        \n",
    "        if x.isspace():\n",
    "            dic[p] += 1\n",
    "#             print('dic1',dic[p])\n",
    "            a += 1\n",
    "#             print('dic2',dic)\n",
    "        elif x.isspace()==0:\n",
    "            dic[x] += a\n",
    "            p,a = x,0\n",
    "            print('dic3',dic)     \n",
    "    return [b for b in dic if dic[b] == max(dic.values())]\n",
    "\n",
    "\n",
    "\n",
    "def loneliest(s):\n",
    "    s=s.strip()\n",
    "    ind=[-1,len(s)]\n",
    "    for i in range(len(s)):\n",
    "        if s[i]!=' ':\n",
    "            ind.insert(-1,i)\n",
    "            \n",
    "    d={}\n",
    "    for i in range(1,len(ind)-1):\n",
    "        x=ind[i+1]-ind[i-1]-2\n",
    "        if not d.get(x):\n",
    "            d[x]=[]\n",
    "        d[x].append(s[ind[i]])\n",
    "    return (d[max(d)])"
   ]
  }
 ],
 "metadata": {
  "kernelspec": {
   "display_name": "Python 3",
   "language": "python",
   "name": "python3"
  },
  "language_info": {
   "codemirror_mode": {
    "name": "ipython",
    "version": 3
   },
   "file_extension": ".py",
   "mimetype": "text/x-python",
   "name": "python",
   "nbconvert_exporter": "python",
   "pygments_lexer": "ipython3",
   "version": "3.7.6"
  }
 },
 "nbformat": 4,
 "nbformat_minor": 4
}
