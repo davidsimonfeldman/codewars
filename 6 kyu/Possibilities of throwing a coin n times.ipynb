{
 "cells": [
  {
   "cell_type": "code",
   "execution_count": null,
   "metadata": {},
   "outputs": [],
   "source": [
    "In this kata you will be given an integer n, which is the number of times that is thown a coin. \n",
    "You will have to return an array of string for all the possibilities (heads[H] and tails[T]). Examples:\n",
    "coin(1) should return {\"H\", \"T\"}\n",
    "coin(2) should return {\"HH\", \"HT\", \"TH\", \"TT\"}\n",
    "coin(3) should return {\"HHH\", \"HHT\", \"HTH\", \"HTT\", \"THH\", \"THT\", \"TTH\", \"TTT\"}\n",
    "When finished sort them alphabetically.\n",
    "In C and C++ just return a char* with all elements separated by, (without space):\n",
    "coin(2) should return \"HH,HT,TH,TT\"\n",
    "INPUT:\n",
    "0 < n < 18\n",
    "Careful with performance!! You'll have to pass 3 basic test (n = 1, n = 2, n = 3), many medium tests (3 < n <= 10) and many large tests (10 < n < 18)\n",
    "\n",
    "\n",
    "\n",
    "from itertools import product\n",
    "from functools import lru_cache\n",
    "\n",
    "@lru_cache(maxsize=None)\n",
    "def coin(n):\n",
    "    a=set()\n",
    "    for x in product('HT',repeat=n):\n",
    "        a.add(''.join(x))\n",
    "    return sorted(a)\n",
    "\n",
    "\n",
    "\n",
    "from itertools import product\n",
    "def coin(n):\n",
    "    return list(map(''.join, product(*([\"HT\"]*n))))\n",
    "\n",
    "\n",
    "\n",
    "from itertools import product\n",
    "def coin(n):\n",
    "    return list(map(''.join, product('HT', repeat=n)))\n",
    "\n",
    "\n",
    "\n",
    "from itertools import product\n",
    "def coin(n):\n",
    "    return [''.join(xs) for xs in product('HT', repeat=n)]"
   ]
  }
 ],
 "metadata": {
  "kernelspec": {
   "display_name": "Python 3",
   "language": "python",
   "name": "python3"
  },
  "language_info": {
   "codemirror_mode": {
    "name": "ipython",
    "version": 3
   },
   "file_extension": ".py",
   "mimetype": "text/x-python",
   "name": "python",
   "nbconvert_exporter": "python",
   "pygments_lexer": "ipython3",
   "version": "3.7.6"
  }
 },
 "nbformat": 4,
 "nbformat_minor": 4
}
