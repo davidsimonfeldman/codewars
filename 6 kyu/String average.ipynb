{
 "cells": [
  {
   "cell_type": "code",
   "execution_count": null,
   "metadata": {},
   "outputs": [],
   "source": [
    "You are given a string of numbers between 0-9. Find the average of these numbers and return it as a floored whole number (ie: no decimal places) written out as a string. Eg:\n",
    "\n",
    "\"zero nine five two\" -> \"four\"\n",
    "\n",
    "If the string is empty or includes a number greater than 9, return \"n/a\n",
    "\n",
    "\n",
    "\n",
    "def average_string(s):\n",
    "    #your code here\n",
    "    dic={ 'zero':0,'one':1,'two':2,'three':3,'four':4,'five':5,'six':6,'seven':7,'eight':8,'nine':9}\n",
    "    a=s.split( )\n",
    "    if s==None  or len(s)==0  :return \"n/a\"\n",
    "    #     print(a)\n",
    "    b=0\n",
    "    for x in a:\n",
    "        if x not in dic.keys():return \"n/a\"\n",
    "        elif   x in dic.keys():b+=dic[x]\n",
    "    new_dict = {} \n",
    "    for key, value in dic.items(): \n",
    "        if value in new_dict: \n",
    "            new_dict[value].append(key) \n",
    "        else: \n",
    "            new_dict[value]=[key] \n",
    "#     print(new_dict)        \n",
    "    return(new_dict[b//len(a)])[0]\n",
    "\n",
    "\n",
    "\n",
    "from statistics import mean\n",
    "lst = ['zero', 'one', 'two', 'three', 'four', 'five', 'six', 'seven', 'eight', 'nine']\n",
    "d = {lst.index(i): i for i in lst}\n",
    "def average_string(s):\n",
    "    try:\n",
    "        return d.get(int(mean([lst.index(i) for i in s.split()])),'n/a')\n",
    "    except:\n",
    "        return 'n/a'\n",
    "    \n",
    "    \n",
    "    \n",
    "    \n",
    "    def average_string(s):\n",
    "    nums = ['zero','one','two','three','four','five','six','seven','eight','nine']\n",
    "    d = dict(zip(nums, [0, 1, 2, 3, 4, 5, 6, 7, 8, 9]))\n",
    "    try:\n",
    "        return nums[sum(d[w] for w in s.split()) // len(s.split())]\n",
    "    except:\n",
    "        return 'n/a'"
   ]
  }
 ],
 "metadata": {
  "kernelspec": {
   "display_name": "Python 3",
   "language": "python",
   "name": "python3"
  },
  "language_info": {
   "codemirror_mode": {
    "name": "ipython",
    "version": 3
   },
   "file_extension": ".py",
   "mimetype": "text/x-python",
   "name": "python",
   "nbconvert_exporter": "python",
   "pygments_lexer": "ipython3",
   "version": "3.7.6"
  }
 },
 "nbformat": 4,
 "nbformat_minor": 4
}
