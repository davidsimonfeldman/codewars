{
 "cells": [
  {
   "cell_type": "code",
   "execution_count": null,
   "metadata": {},
   "outputs": [],
   "source": [
    "Write a function that takes an array/list of numbers and returns a number.\n",
    "\n",
    "See the examples and try to guess the pattern:\n",
    "\n",
    "even_odd([1,2,6,1,6,3,1,9,6]) => 393\n",
    "even_odd([1,2,3]) => 5\n",
    "even_odd([0,2,3]) => 3\n",
    "even_odd([1,0,3]) => 3\n",
    "even_odd([3,2])   => 6\n",
    "\n",
    "\n",
    "def even_odd(arr):\n",
    "    print(arr)\n",
    "    t=arr[0]\n",
    "    for i in range(len(arr)-1):\n",
    "        t=t+arr[i+1] if i%2 else t*arr[i+1]\n",
    "    return t\n",
    "    #your code here\n",
    "from functools import reduce\n",
    "from operator import add, mul\n",
    "from itertools import cycle\n",
    "\n",
    "def even_odd(arr):\n",
    "    print(arr)\n",
    "    ops = cycle((mul, add))\n",
    "    return reduce(lambda x,y: next(ops)(x, y), arr)\n",
    "\n",
    "\n",
    "def even_odd(arr):\n",
    "    count = arr[0]\n",
    "    for i in range(1, len(arr)):\n",
    "        if i % 2 == 0:\n",
    "            count += arr[i]\n",
    "        else:\n",
    "            count *= arr[i]\n",
    "    return count"
   ]
  }
 ],
 "metadata": {
  "kernelspec": {
   "display_name": "Python 3",
   "language": "python",
   "name": "python3"
  },
  "language_info": {
   "codemirror_mode": {
    "name": "ipython",
    "version": 3
   },
   "file_extension": ".py",
   "mimetype": "text/x-python",
   "name": "python",
   "nbconvert_exporter": "python",
   "pygments_lexer": "ipython3",
   "version": "3.7.6"
  }
 },
 "nbformat": 4,
 "nbformat_minor": 4
}
