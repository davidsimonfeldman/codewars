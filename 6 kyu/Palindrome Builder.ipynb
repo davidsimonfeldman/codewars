{
 "cells": [
  {
   "cell_type": "code",
   "execution_count": null,
   "metadata": {},
   "outputs": [],
   "source": [
    "Task\n",
    "Given a string, add the fewest number of characters possible from the front or back to make it a palindrome.\n",
    "\n",
    "Example\n",
    "For the input cdcab, the output should be bacdcab\n",
    "\n",
    "Input/Output\n",
    "Input is a string consisting of lowercase latin letters with length 3 <= str.length <= 10\n",
    "\n",
    "The output is a palindrome string satisfying the task.\n",
    "\n",
    "For s = ab either solution (aba or bab) will be accepted.\n",
    "\n",
    "\n",
    "def build_palindrome(s):\n",
    "    for i in range(len(s), -1, -1):\n",
    "        print(i)\n",
    "        print(s[:i])\n",
    "        print('s[:-i][::-1]',s[:-i][::-1])\n",
    "        print('s[-i:]',s[-i:])\n",
    "        if s[:i] == s[:i][::-1]:\n",
    "            return s[i:][::-1] + s\n",
    "        if s[-i:] == s[-i:][::-1]:\n",
    "            \n",
    "            return s + s[:-i][::-1]\n",
    "        \n",
    "        \n",
    "        \n",
    "def build_palindrome(s):\n",
    "    a = s[1:][::-1] + s\n",
    "    b = s + s[::-1]\n",
    "    temp = s\n",
    "    for i in range(len(s)+1):\n",
    "        temp = s[::-1][:i] + s\n",
    "        if temp == temp[::-1] and len(temp)<len(a):\n",
    "            a = temp\n",
    "        temp = s + s[::-1][i:]\n",
    "        if temp == temp[::-1] and len(temp)<len(b):\n",
    "            b = temp\n",
    "\n",
    "\n",
    "    if len(a)>len(b):\n",
    "        return b\n",
    "    else:\n",
    "        return a\n",
    "\n",
    "    \n",
    "    \n",
    "    \n",
    "def build_palindrome(s):\n",
    "  rev=s[::-1]\n",
    "  for i in range(len(s)):    \n",
    "      if s[i:]==s[i:][::-1]: return s+s[:i][::-1]\n",
    "      if rev[i:]==rev[i:][::-1]: return rev[:i]+s        "
   ]
  }
 ],
 "metadata": {
  "kernelspec": {
   "display_name": "Python 3",
   "language": "python",
   "name": "python3"
  },
  "language_info": {
   "codemirror_mode": {
    "name": "ipython",
    "version": 3
   },
   "file_extension": ".py",
   "mimetype": "text/x-python",
   "name": "python",
   "nbconvert_exporter": "python",
   "pygments_lexer": "ipython3",
   "version": "3.7.6"
  }
 },
 "nbformat": 4,
 "nbformat_minor": 4
}
