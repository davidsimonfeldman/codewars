{
 "cells": [
  {
   "cell_type": "code",
   "execution_count": null,
   "metadata": {},
   "outputs": [],
   "source": [
    "\n",
    "You live in a communal house. Each night, one room's residents are required to clean the dayroom. Your task is to make a random rota for the entire week.\n",
    "Write a function that takes a list/array of the current occupied rooms in the house, and returns a list of 7 random rooms.\n",
    "If the number of occupied rooms is equal to or bigger than 7, duplicates are not allowed. If the number is less than 7, duplicates are allowed.\n",
    "Examples:\n",
    "rota([\"One\", \"Two\", \"Three\", \"Four\", \"Five\", \"Six\", \"Seven\"]) \n",
    "Would output\n",
    "[ 'Three', 'Six', 'Four', 'Five', 'Two', 'One', 'Seven' ]\n",
    "And rota([\"One\", \"Two\", \"Three\"]) would output\n",
    "[ 'One', 'Three', 'Two', 'One', 'Two', 'Three', 'One' ]\n",
    "\n",
    "\n",
    "\n",
    "from random import shuffle\n",
    "from itertools import cycle, islice\n",
    " \n",
    "def rota(rooms):\n",
    "    print(rooms)\n",
    "#     print(rooms)\n",
    "    if  (rooms)!=range(0, 100): \n",
    "        shuffle(rooms)\n",
    "        return (rooms+(rooms*7))[:7]\n",
    "    else:\n",
    "        x = list(islice(cycle(rooms), 7))\n",
    "        shuffle(x)\n",
    "        print(x)\n",
    "        return x\n",
    "     \n",
    "        \n",
    "        \n",
    "        \n",
    "import random\n",
    "\n",
    "def rota(rooms):\n",
    "    \n",
    "    res = []\n",
    "    if len(rooms) >= 7: res = random.sample(rooms, 7)\n",
    "    else: res = [random.choice(rooms) for i in range(1, 8)]\n",
    "    return res        \n",
    "        "
   ]
  }
 ],
 "metadata": {
  "kernelspec": {
   "display_name": "Python 3",
   "language": "python",
   "name": "python3"
  },
  "language_info": {
   "codemirror_mode": {
    "name": "ipython",
    "version": 3
   },
   "file_extension": ".py",
   "mimetype": "text/x-python",
   "name": "python",
   "nbconvert_exporter": "python",
   "pygments_lexer": "ipython3",
   "version": "3.7.6"
  }
 },
 "nbformat": 4,
 "nbformat_minor": 4
}
