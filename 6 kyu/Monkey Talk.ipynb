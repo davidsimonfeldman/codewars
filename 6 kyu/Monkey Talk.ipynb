{
 "cells": [
  {
   "cell_type": "code",
   "execution_count": null,
   "metadata": {},
   "outputs": [],
   "source": [
    "Lets talk like a monkey. Find out how! Look at the test cases an engineer code to pass them.\n",
    "\n",
    "\n",
    "\n",
    "\n",
    "\n",
    "def monkey_talk(p):\n",
    "    a=[(x[0])   for x  in  p.split() ]   \n",
    "    print(a)\n",
    "    b=''\n",
    "    for x in a:\n",
    "        if x in 'aeiouAEIOU':\n",
    "            b+='eek '\n",
    "        else: b+='ook '    \n",
    "    return b.capitalize().rstrip()+'.'\n",
    "\n",
    "\n",
    "\n",
    "\n",
    "\n",
    "\n",
    "\n",
    "\n",
    "\n",
    "\n",
    "def monkey_talk(phrase):\n",
    "    return ' '.join(['ook','eek'][w[0].lower() in 'aeiou'] for w in phrase.split()).capitalize()+'.'\n",
    "\n",
    "\n",
    "def monkey_talk(phrase):\n",
    "    monkey =\"\"\n",
    "    words = phrase.split()\n",
    "    for i in range(len(words)):\n",
    "        if len(monkey)==0:\n",
    "            if words[i][0] in [\"a\",\"e\",\"i\",\"o\",\"u\",\"A\",\"E\",\"I\",\"O\",\"U\"]:\n",
    "                monkey+=\"eek\"\n",
    "            else:\n",
    "                monkey +=\"ook\"\n",
    "        else:\n",
    "            if words[i][0] in [\"a\",\"e\",\"i\",\"o\",\"u\",\"A\",\"E\",\"I\",\"O\",\"U\"]:\n",
    "                monkey+=\" eek\"\n",
    "            else:\n",
    "                monkey +=\" ook\"\n",
    "    monkey+=\".\"\n",
    "    return monkey.capitalize()"
   ]
  }
 ],
 "metadata": {
  "kernelspec": {
   "display_name": "Python 3",
   "language": "python",
   "name": "python3"
  },
  "language_info": {
   "codemirror_mode": {
    "name": "ipython",
    "version": 3
   },
   "file_extension": ".py",
   "mimetype": "text/x-python",
   "name": "python",
   "nbconvert_exporter": "python",
   "pygments_lexer": "ipython3",
   "version": "3.7.6"
  }
 },
 "nbformat": 4,
 "nbformat_minor": 4
}
