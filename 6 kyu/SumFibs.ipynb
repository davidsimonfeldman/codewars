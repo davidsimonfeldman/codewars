{
 "cells": [
  {
   "cell_type": "code",
   "execution_count": null,
   "metadata": {},
   "outputs": [],
   "source": [
    "Create a function that takes an argument n and sums even Fibonacci numbers up to n's index in the Fibonacci sequence.\n",
    "\n",
    "Example:\n",
    "\n",
    "sum_fibs(5) == 2 # (0, 1, 1, 2, 3, 5); 2 is the only even number in the sequence and doesn't have another number in the sequence to get added to in the indexed Fibonacci sequence.\n",
    "Example:\n",
    "\n",
    "sum_fibs(9) == 44 # (0, 1, 1, 2, 3, 5, 8, 13, 21, 34)\n",
    "# 2 + 8 + 34 = 44\n",
    "\n",
    "\n",
    "def f(n):\n",
    "    a, b = 0, 1\n",
    "    for i in range(n-1):\n",
    "        a, b = b, a + b\n",
    "    return a\n",
    "def sum_fibs(n):\n",
    "    lst=[]\n",
    "    for x in range(1,n+2):\n",
    "#         print(x,f(x))\n",
    "#         print()\n",
    "        if f(x)%2==0:\n",
    "            lst.append(f(x))\n",
    "#     print(lst)    \n",
    "    return sum(lst)\n",
    "\n",
    "\n",
    "\n",
    "\n",
    "\n",
    "def sum_fibs(n):\n",
    "    res, x, y = 0, 2, 0\n",
    "    for _ in range(n//3):\n",
    "        res, x, y = res+x, 4*x+y, x\n",
    "    return res\n",
    "\n",
    "\n",
    "\n",
    "\n",
    "def sum_fibs(n):\n",
    "    sequence = [0, 1]\n",
    "    for i in range(n-1):\n",
    "        sequence.append(sequence[-1] + sequence[-2])\n",
    "    return sum([i for i in sequence if not i % 2])\n",
    "\n",
    "\n",
    "def sum_fibs(n):\n",
    "    if n==0 or n==1:\n",
    "        return 0\n",
    "    sum=a=0;b=1\n",
    "    for i in range(n-1):\n",
    "        a,b=b,a+b\n",
    "        if b%2==0:\n",
    "            sum+=b\n",
    "    return sum"
   ]
  }
 ],
 "metadata": {
  "kernelspec": {
   "display_name": "Python 3",
   "language": "python",
   "name": "python3"
  },
  "language_info": {
   "codemirror_mode": {
    "name": "ipython",
    "version": 3
   },
   "file_extension": ".py",
   "mimetype": "text/x-python",
   "name": "python",
   "nbconvert_exporter": "python",
   "pygments_lexer": "ipython3",
   "version": "3.7.6"
  }
 },
 "nbformat": 4,
 "nbformat_minor": 4
}
