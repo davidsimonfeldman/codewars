{
 "cells": [
  {
   "cell_type": "code",
   "execution_count": null,
   "metadata": {},
   "outputs": [],
   "source": [
    "You get an array of arrays.\n",
    "If you sort the arrays by their length, you will see, that their length-values are consecutive.\n",
    "But one array is missing!\n",
    "You have to write a method, that return the length of the missing array.\n",
    "Example:\n",
    "[[1, 2], [4, 5, 1, 1], [1], [5, 6, 7, 8, 9]] --> 3\n",
    "If the array of arrays is null/nil or empty, the method should return 0.\n",
    "When an array in the array is null or empty, the method should return 0 too!\n",
    "There will always be a missing element and its length will be always between the given arrays.\n",
    "Have fun coding it and please don't forget to vote and rank this kata! :-)\n",
    "I have created other katas. Have a look if you like coding and challenges.\n",
    "\n",
    "\n",
    "def get_length_of_missing_array(array_of_arrays):\n",
    "    print(array_of_arrays)\n",
    "    for x in (array_of_arrays):\n",
    "        if x==None or type(x)==None or len(x)==0  :return 0\n",
    "        print(len(x))\n",
    "#     print(array_of_arrays)\n",
    "    if not array_of_arrays : return 0\n",
    "    if len(array_of_arrays)==0 : return 0\n",
    "    if type(array_of_arrays)==None :return 0\n",
    "    a=[len(x)  for x in sorted(array_of_arrays,key=len)  ]\n",
    "    if a[0]==0:return 0\n",
    "    print(a)\n",
    "    for i in range(len(a)):\n",
    "#         print(a[i])\n",
    "        if a[i+1]-a[i ]!=1:\n",
    "            return (a[i+1]+a[i ])/2\n",
    "        \n",
    "        \n",
    "def get_length_of_missing_array(arrays):\n",
    "    arrays = [len(a) if a is not None else 0 for a in arrays ]\n",
    "    arrays.sort()\n",
    "    if 0 in arrays or len(arrays) == 0 : return 0\n",
    "    for i in range(len(arrays)):\n",
    "        if arrays[i+1] != arrays[i] + 1: return arrays[i]+1\n",
    "\n",
    "def get_length_of_missing_array(a):\n",
    "    lns = a and all(a) and list(map(len, a))\n",
    "    return bool(lns) and sum(range(min(lns), max(lns) + 1)) - sum(lns)\n",
    "\n",
    "\n",
    "\n",
    "def get_length_of_missing_array(array_of_arrays):\n",
    "    if not array_of_arrays or [] in array_of_arrays or None in array_of_arrays:\n",
    "        return 0\n",
    "    len_list = [len(l) for l in array_of_arrays]\n",
    "    for i in range(min(len_list),max(len_list)):\n",
    "        if i not in len_list:\n",
    "            return i        "
   ]
  }
 ],
 "metadata": {
  "kernelspec": {
   "display_name": "Python 3",
   "language": "python",
   "name": "python3"
  },
  "language_info": {
   "codemirror_mode": {
    "name": "ipython",
    "version": 3
   },
   "file_extension": ".py",
   "mimetype": "text/x-python",
   "name": "python",
   "nbconvert_exporter": "python",
   "pygments_lexer": "ipython3",
   "version": "3.7.6"
  }
 },
 "nbformat": 4,
 "nbformat_minor": 4
}
