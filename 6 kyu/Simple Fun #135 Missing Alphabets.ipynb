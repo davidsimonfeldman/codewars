{
 "cells": [
  {
   "cell_type": "code",
   "execution_count": null,
   "metadata": {},
   "outputs": [],
   "source": [
    "Task\n",
    "Given string s, which contains only letters from a to z in lowercase.\n",
    "A set of alphabet is given by abcdefghijklmnopqrstuvwxyz.\n",
    "2 sets of alphabets mean 2 or more alphabets.\n",
    "Your task is to find the missing letter(s). You may need to output them by the order a-z. It is possible that there is more than one missing letter from more than one set of alphabet.\n",
    "If the string contains all of the letters in the alphabet, return an empty string \"\"\n",
    "Example\n",
    "For s='abcdefghijklmnopqrstuvwxy'\n",
    "The result should be 'z'\n",
    "For s='aabbccddeeffgghhiijjkkllmmnnooppqqrrssttuuvvwwxxyy'\n",
    "The result should be 'zz'\n",
    "For s='abbccddeeffgghhiijjkkllmmnnooppqqrrssttuuvvwwxxy'\n",
    "The result should be 'ayzz'\n",
    "For s='codewars'\n",
    "The result should be 'bfghijklmnpqtuvxyz'\n",
    "Input/Output\n",
    "[input] string s\n",
    "Given string(s) contains one or more set of alphabets in lowercase.\n",
    "[output] a string\n",
    "Find the letters contained in each alphabet but not in the string(s). Output them by the order a-z. If missing alphabet is repeated, please repeat them like \"bbccdd\", not \"bcdbcd\"\n",
    "\n",
    "\n",
    "import collections\n",
    "def missing_alphabets(s):    \n",
    "    letters = collections.defaultdict(int)\n",
    "    \n",
    "    for letter in s:\n",
    "        letters[letter] += 1\n",
    "    greatest = max(letters.values())    \n",
    "    print(list(letters))\n",
    "    alphabet = list('abcdefghijklmnopqrstuvwxyz')\n",
    "    for letter in alphabet:\n",
    "        if not letter in letters:\n",
    "            letters[letter] = greatest\n",
    "        else:\n",
    "            letters[letter] = greatest - letters[letter]\n",
    "    missing = \"\".join(sorted(letter * count for letter, count in letters.items() if letters[letter] > 0))\n",
    "    return missing\n",
    "\n",
    "\n",
    "\n",
    "\n",
    "\n",
    "from collections import Counter\n",
    "from string import ascii_lowercase as alphabet\n",
    "\n",
    "def missing_alphabets(s):\n",
    "    counts = Counter(s)\n",
    "    max_count = max(counts.values())\n",
    "    return ''.join(c * (max_count - counts[c]) for c in alphabet)"
   ]
  }
 ],
 "metadata": {
  "kernelspec": {
   "display_name": "Python 3",
   "language": "python",
   "name": "python3"
  },
  "language_info": {
   "codemirror_mode": {
    "name": "ipython",
    "version": 3
   },
   "file_extension": ".py",
   "mimetype": "text/x-python",
   "name": "python",
   "nbconvert_exporter": "python",
   "pygments_lexer": "ipython3",
   "version": "3.7.6"
  }
 },
 "nbformat": 4,
 "nbformat_minor": 4
}
