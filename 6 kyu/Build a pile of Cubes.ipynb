{
 "cells": [
  {
   "cell_type": "code",
   "execution_count": 2,
   "metadata": {
    "ExecuteTime": {
     "end_time": "2021-07-28T09:08:32.087053Z",
     "start_time": "2021-07-28T09:08:32.079051Z"
    }
   },
   "outputs": [],
   "source": [
    "Your task is to construct a building which will be a pile of n cubes.\n",
    "The cube at the bottom will have a volume of n^3, the cube above will have volume of (n-1)^3 and so on until the top which will have a volume of 1^3.\n",
    "You are given the total volume m of the building. Being given m can you find the number n of cubes you will have to build?\n",
    "The parameter of the function findNb (find_nb, find-nb, findNb, ...) will be an integer m and \n",
    "you have to return the integer n such as n^3 + (n-1)^3 + ... + 1^3 = m if such a n exists or -1 if there is no such n.\n",
    "Examples:\n",
    "findNb(1071225) --> 45\n",
    "findNb(91716553919377) --> -1\n",
    "\n",
    "\n",
    "\n",
    "def find_nb(m):\n",
    "    i,sum = 1,1\n",
    "    while sum < m:\n",
    "        i+=1\n",
    "        sum+=i**3\n",
    "    return i if m==sum else -1\n",
    "\n",
    "\n",
    "\n",
    "\n",
    "def find_nb(m):\n",
    "    n = 1\n",
    "    volume = 0\n",
    "    while volume < m:\n",
    "        volume += n**3\n",
    "        if volume == m:\n",
    "            return n\n",
    "        n += 1\n",
    "    return -1"
   ]
  },
  {
   "cell_type": "code",
   "execution_count": null,
   "metadata": {},
   "outputs": [],
   "source": []
  }
 ],
 "metadata": {
  "kernelspec": {
   "display_name": "Python 3",
   "language": "python",
   "name": "python3"
  },
  "language_info": {
   "codemirror_mode": {
    "name": "ipython",
    "version": 3
   },
   "file_extension": ".py",
   "mimetype": "text/x-python",
   "name": "python",
   "nbconvert_exporter": "python",
   "pygments_lexer": "ipython3",
   "version": "3.7.6"
  }
 },
 "nbformat": 4,
 "nbformat_minor": 4
}
