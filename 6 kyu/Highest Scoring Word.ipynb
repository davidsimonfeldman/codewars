{
 "cells": [
  {
   "cell_type": "code",
   "execution_count": null,
   "metadata": {},
   "outputs": [],
   "source": [
    "Given a string of words, you need to find the highest scoring word.\n",
    "\n",
    "Each letter of a word scores points according to its position in the alphabet: a = 1, b = 2, c = 3 etc.\n",
    "\n",
    "You need to return the highest scoring word as a string.\n",
    "\n",
    "If two words score the same, return the word that appears earliest in the original string.\n",
    "\n",
    "All letters will be lowercase and all inputs will be valid.\n",
    "\n",
    "\n",
    "def f(word): \n",
    "    return sum(ord(c) - 96 for c in word) \n",
    "def high(s):\n",
    "    # Code here\n",
    "    a=s.split()\n",
    "    print(a)\n",
    "    b=[f(x)  for x in a]\n",
    "    \n",
    "    print(b) \n",
    "    c=dict(zip( a,b))\n",
    "    print(c)\n",
    "    for k,v in c.items():\n",
    "        if v==max(list(c.values())):\n",
    "            return k\n",
    "        \n",
    "        \n",
    "        \n",
    "        \n",
    "def high(x):\n",
    "    return max(x.split(), key=lambda k: sum(ord(c) - 96 for c in k))\n",
    "\n",
    "\n",
    "\n",
    "\n",
    "def high(x):\n",
    "    words=x.split(' ')\n",
    "    list = []\n",
    "    for i in words:\n",
    "        scores = [sum([ord(char) - 96 for char in i])]\n",
    "        list.append(scores)\n",
    "    return words[list.index(max(list))]        "
   ]
  }
 ],
 "metadata": {
  "kernelspec": {
   "display_name": "Python 3",
   "language": "python",
   "name": "python3"
  },
  "language_info": {
   "codemirror_mode": {
    "name": "ipython",
    "version": 3
   },
   "file_extension": ".py",
   "mimetype": "text/x-python",
   "name": "python",
   "nbconvert_exporter": "python",
   "pygments_lexer": "ipython3",
   "version": "3.7.6"
  }
 },
 "nbformat": 4,
 "nbformat_minor": 4
}
