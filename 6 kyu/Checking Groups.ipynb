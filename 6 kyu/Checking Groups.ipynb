{
 "cells": [
  {
   "cell_type": "code",
   "execution_count": null,
   "metadata": {},
   "outputs": [],
   "source": [
    "\n",
    "In English and programming, groups can be made using symbols such as () and {} that change meaning. However, these groups must be closed in the correct order to maintain correct syntax.\n",
    "\n",
    "Your job in this kata will be to make a program that checks a string for correct grouping. For instance, the following groups are done correctly:\n",
    "\n",
    "({})\n",
    "[[]()]\n",
    "[{()}]\n",
    "The next are done incorrectly:\n",
    "\n",
    "{(})\n",
    "([]\n",
    "[])\n",
    "A correct string cannot close groups in the wrong order, open a group but fail to close it, or close a group before it is opened.\n",
    "\n",
    "Your function will take an input string that may contain any of the symbols (), {} or [] to create groups.\n",
    "\n",
    "It should return True if the string is empty or otherwise grouped correctly, or False if it is grouped incorrectly.\n",
    "\n",
    "\n",
    " \n",
    " def group_check(s):\n",
    "    while \"{}\" in s or \"()\" in s or \"[]\" in s:\n",
    "        s=s.replace(\"()\",\"\")\n",
    "        s=s.replace(\"{}\",\"\")\n",
    "        s=s.replace(\"[]\",\"\")\n",
    "    return not s\n",
    " \n",
    " \n",
    " \n",
    " def group_check(s):\n",
    "    while \"{}\" in s or \"()\" in s or \"[]\" in s:\n",
    "       s = s.replace(\"{}\",\"\").replace(\"()\",\"\").replace(\"[]\",\"\")\n",
    "    return not s"
   ]
  }
 ],
 "metadata": {
  "kernelspec": {
   "display_name": "Python 3",
   "language": "python",
   "name": "python3"
  },
  "language_info": {
   "codemirror_mode": {
    "name": "ipython",
    "version": 3
   },
   "file_extension": ".py",
   "mimetype": "text/x-python",
   "name": "python",
   "nbconvert_exporter": "python",
   "pygments_lexer": "ipython3",
   "version": "3.7.6"
  }
 },
 "nbformat": 4,
 "nbformat_minor": 4
}
