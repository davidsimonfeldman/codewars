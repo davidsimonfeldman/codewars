{
 "cells": [
  {
   "cell_type": "code",
   "execution_count": null,
   "metadata": {},
   "outputs": [],
   "source": [
    "\n",
    "\n",
    "\n",
    "Write a function groupIn10s which takes any number of arguments, and groups them into sets of 10s and sorts each group in ascending order.\n",
    "\n",
    "The return value should be an array of arrays, so that numbers between 0-9 inclusive are in position 0 and numbers 10-19 are in position 1, etc.\n",
    "\n",
    "Here's an example of the required output:\n",
    "\n",
    "grouped = group_in_10s(8, 12, 38, 3, 17, 19, 25, 35, 50) \n",
    "\n",
    "grouped[0]     # [3, 8]\n",
    "grouped[1]     # [12, 17, 19]\n",
    "grouped[2]     # [25]\n",
    "grouped[3]     # [35, 38]\n",
    "grouped[4]     # None\n",
    "grouped[5]     # [50]\n",
    "\n",
    "\n",
    "\n",
    "\n",
    "def group_in_10s(*lst):\n",
    "    print(*lst)\n",
    "    if not lst:\n",
    "        return []\n",
    "    args = sorted(lst)\n",
    "    #your code here\n",
    "     \n",
    "    result = [None] * (args[-1] // 10 + 1) \n",
    "    print(result)\n",
    "    for x in args:\n",
    "        y=x//10\n",
    "#         print(y)\n",
    "        try:\n",
    "            result[y].append(x)\n",
    "        except AttributeError:\n",
    "            result[y] = [x]\n",
    "    return result    \n",
    "from itertools import groupby\n",
    "\n",
    "\n",
    "\n",
    "\n",
    "\n",
    "\n",
    "def group_in_10s(*args):\n",
    "    if not args:\n",
    "        return []\n",
    "    print(args)\n",
    "    groups = dict((k, list(xs)) for k, xs in groupby(sorted(args), lambda x: x // 10))\n",
    "    print(groups)\n",
    "    print([groups.get(i) for i in range(max(groups) + 1)])\n",
    "    return [groups.get(i) for i in range(max(groups) + 1)]\n",
    "\n",
    "\n",
    "\n"
   ]
  }
 ],
 "metadata": {
  "kernelspec": {
   "display_name": "Python 3",
   "language": "python",
   "name": "python3"
  },
  "language_info": {
   "codemirror_mode": {
    "name": "ipython",
    "version": 3
   },
   "file_extension": ".py",
   "mimetype": "text/x-python",
   "name": "python",
   "nbconvert_exporter": "python",
   "pygments_lexer": "ipython3",
   "version": "3.7.6"
  }
 },
 "nbformat": 4,
 "nbformat_minor": 4
}
