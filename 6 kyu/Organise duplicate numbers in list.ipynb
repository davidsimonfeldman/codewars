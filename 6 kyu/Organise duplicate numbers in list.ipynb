{
 "cells": [
  {
   "cell_type": "code",
   "execution_count": null,
   "metadata": {},
   "outputs": [],
   "source": [
    "Sam is an avid collector of numbers. Every time he finds a new number he throws it on the top of his number-pile.\n",
    "Help Sam organise his collection so he can take it to the International Number Collectors Conference in Cologne.\n",
    "Given an array of numbers, your function should return an array of arrays, where each subarray contains all the duplicates of a particular number. \n",
    "Subarrays should be in the same order as the first occurence of the number they contain:\n",
    "group([3, 2, 6, 2, 1, 3])\n",
    ">>> [[3, 3], [2, 2], [6], [1]]\n",
    "Assume the input is always going to be an array of numbers. If the input is an empty array, an empty array should be returned.\n",
    "\n",
    "\n",
    "\n",
    "\n",
    "from collections import OrderedDict\n",
    "def group(arr):\n",
    "    print('arr',arr)\n",
    "    a={x:arr.count(x) for x in set(arr)}\n",
    "    print('a',a)\n",
    "    b = list(OrderedDict.fromkeys(arr))\n",
    "    print('b',b)\n",
    "    c=[]\n",
    "    for x in b:\n",
    "        print(a[x],x)\n",
    "        c.append( [x]*a[x]) \n",
    "    return c    \n",
    "\n",
    "\n",
    "\n",
    "from collections import Counter, OrderedDict\n",
    "\n",
    "class OrderedCounter(Counter, OrderedDict): \n",
    "    pass\n",
    "\n",
    "def group(arr):\n",
    "    return [[k] * v for k, v in OrderedCounter(arr).items()]\n",
    "\n",
    "\n",
    "\n",
    "def group(lst):\n",
    "    return [[n] * lst.count(n) for n in sorted(set(lst), key=lst.index)]"
   ]
  }
 ],
 "metadata": {
  "kernelspec": {
   "display_name": "Python 3",
   "language": "python",
   "name": "python3"
  },
  "language_info": {
   "codemirror_mode": {
    "name": "ipython",
    "version": 3
   },
   "file_extension": ".py",
   "mimetype": "text/x-python",
   "name": "python",
   "nbconvert_exporter": "python",
   "pygments_lexer": "ipython3",
   "version": "3.7.6"
  }
 },
 "nbformat": 4,
 "nbformat_minor": 4
}
