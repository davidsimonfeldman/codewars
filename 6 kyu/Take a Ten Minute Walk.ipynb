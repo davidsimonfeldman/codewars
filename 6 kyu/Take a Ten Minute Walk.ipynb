{
 "cells": [
  {
   "cell_type": "code",
   "execution_count": null,
   "metadata": {},
   "outputs": [],
   "source": [
    "You live in the city of Cartesia where all roads are laid out in a perfect grid. \n",
    "You arrived ten minutes too early to an appointment, so you decided to take the opportunity to go for a short walk.\n",
    "The city provides its citizens with a Walk Generating App on their phones -- everytime you press the button it sends you an array of one-letter strings representing directions to walk\n",
    "(eg. ['n', 's', 'w', 'e']). You always walk only a single block for each letter (direction) and you know it takes you one minute to traverse one city block, so \n",
    "create a function that will return true if the walk the app gives you will take you exactly ten minutes \n",
    "(you don't want to be early or late!) and will, of course, return you to your starting point. Return false otherwise.\n",
    "Note: you will always receive a valid array containing a random assortment of direction letters ('n', 's', 'e', or 'w' only). It will never give you an empty array \n",
    " (that's not a walk, that's standing still!).\n",
    " \n",
    " \n",
    " \n",
    " def is_valid_walk(walk):\n",
    "    print(walk)\n",
    "    #determine if walk is valid\n",
    "    a=({i:walk.count(i) for i in set(walk)})\n",
    "    print(a)\n",
    "    if len(walk)!=10:return False\n",
    "    print(a) \n",
    "    if len (a.keys())==3 :return False\n",
    "    if len (a.keys())==2 and len(set(a.values()))==1:return True\n",
    "    if len (a.keys())==2 and len(set(a.values()))!=1:return False\n",
    "    if a['w']==a['e'] and a['n']==a['s']:return True\n",
    "    else:return False\n",
    " \n",
    " \n",
    " \n",
    " \n",
    " \n",
    " def isValidWalk(walk):\n",
    "    return len(walk) == 10 and walk.count('n') == walk.count('s') and walk.count('e') == walk.count('w')\n",
    "\n",
    " \n",
    " \n",
    " \n",
    " def isValidWalk(walk):\n",
    "    if (walk.count('n') == walk.count('s') and \n",
    "        walk.count('e') == walk.count('w') and\n",
    "        len(walk) == 10):\n",
    "            return True\n",
    "    return False"
   ]
  }
 ],
 "metadata": {
  "kernelspec": {
   "display_name": "Python 3",
   "language": "python",
   "name": "python3"
  },
  "language_info": {
   "codemirror_mode": {
    "name": "ipython",
    "version": 3
   },
   "file_extension": ".py",
   "mimetype": "text/x-python",
   "name": "python",
   "nbconvert_exporter": "python",
   "pygments_lexer": "ipython3",
   "version": "3.7.6"
  }
 },
 "nbformat": 4,
 "nbformat_minor": 4
}
