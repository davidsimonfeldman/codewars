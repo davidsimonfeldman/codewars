{
 "cells": [
  {
   "cell_type": "code",
   "execution_count": null,
   "metadata": {},
   "outputs": [],
   "source": [
    "You will be given an array which lists the current inventory of stock in your store and another array which lists the new inventory being delivered to your store today.\n",
    "\n",
    "Your task is to write a function that returns the updated list of your current inventory in alphabetical order.\n",
    "\n",
    "Example\n",
    "cur_stock = [(25, 'HTC'), (1000, 'Nokia'), (50, 'Samsung'), (33, 'Sony'), (10, 'Apple')]\n",
    "new_stock = [(5, 'LG'), (10, 'Sony'), (4, 'Samsung'), (5, 'Apple')]\n",
    "\n",
    "update_inventory(cur_stock, new_stock)  ==>\n",
    "[(15, 'Apple'), (25, 'HTC'), (5, 'LG'), (1000, 'Nokia'), (54, 'Samsung'), (43, 'Sony')]\n",
    "Kata inspired by the FreeCodeCamp's 'Inventory Update' algorithm.\n",
    "\n",
    "\n",
    "\n",
    "from collections import Counter\n",
    "def update_inventory(cur_stock, new_stock):\n",
    "    a = Counter({v:k for k,v in cur_stock})\n",
    "    b = Counter({v:k for k,v in new_stock})\n",
    "    \n",
    "    print(a)\n",
    "    print(b)\n",
    "    print('a+b',a+b)\n",
    "    return[(y,x ) for (x,y) in sorted((a+b).items())  ] \n",
    "\n",
    "\n",
    "\n",
    "from collections import defaultdict\n",
    "def update_inventory(cur_stock, new_stock):\n",
    "    answer = defaultdict(int)\n",
    "    for stock, item in cur_stock + new_stock:\n",
    "        answer[item] += stock\n",
    "    return [(answer[item], item) for item in sorted(answer)]\n",
    "\n",
    "\n",
    "\n",
    "\n",
    "from collections import defaultdict\n",
    "def update_inventory(cur_stock, new_stock):\n",
    "    stock = defaultdict(int, [(k, v) for v, k in cur_stock])\n",
    "    \n",
    "    for v, k in new_stock:\n",
    "        stock[k] += v\n",
    "    \n",
    "    return [ (v, k) for k, v in sorted(stock.items()) ]"
   ]
  }
 ],
 "metadata": {
  "kernelspec": {
   "display_name": "Python 3",
   "language": "python",
   "name": "python3"
  },
  "language_info": {
   "codemirror_mode": {
    "name": "ipython",
    "version": 3
   },
   "file_extension": ".py",
   "mimetype": "text/x-python",
   "name": "python",
   "nbconvert_exporter": "python",
   "pygments_lexer": "ipython3",
   "version": "3.7.6"
  }
 },
 "nbformat": 4,
 "nbformat_minor": 4
}
