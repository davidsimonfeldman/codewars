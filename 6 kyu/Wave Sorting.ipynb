{
 "cells": [
  {
   "cell_type": "code",
   "execution_count": null,
   "metadata": {},
   "outputs": [],
   "source": [
    "A list of integers is sorted in “Wave” order if alternate items are not less than their immediate neighbors (thus the other alternate items are not greater than their immediate neighbors).\n",
    "Thus, the array [4, 1, 7, 5, 6, 2, 3] is in Wave order because 4 >= 1, then 1 <= 7, then 7 >= 5, then 5 <= 6, then 6 >= 2, and finally 2 <= 3.\n",
    "The wave-sorted lists has to begin with an element not less than the next, so [1, 4, 5, 3] is not sorted in Wave because 1 < 4\n",
    "Your task is to implement a function that takes a list of integers and sorts it into wave order in place; your function shouldn't return anything.\n",
    "Note:\n",
    "The resulting array shouldn't necessarily match anyone in the tests, a function just checks if the array is now wave sorted.\n",
    "\n",
    "\n",
    "def wave_sort(a):\n",
    "    a.sort() \n",
    "    if len(a)<20: print(a) \n",
    "    # Swap adjacent elements \n",
    "    for i in range(0,len(a)-1,2): \n",
    "        a[i], a[i+1] = a[i+1], a[i] \n",
    "    if len(a)<20: print(a)  \n",
    "    return\n",
    "    \n",
    "    \n",
    "    \n",
    "    \n",
    "def wave_sort(a):\n",
    "    a.sort()\n",
    "    for i in range(1, len(a), 2):\n",
    "        a[i], a[i-1] = a[i-1], a[i]\n",
    "\n",
    "        \n",
    "def wave_sort(a):\n",
    "    a.sort()\n",
    "    for i in range(0, len(a)-1, 2): \n",
    "        a[i], a[i+1] = a[i+1], a[i]    "
   ]
  }
 ],
 "metadata": {
  "kernelspec": {
   "display_name": "Python 3",
   "language": "python",
   "name": "python3"
  },
  "language_info": {
   "codemirror_mode": {
    "name": "ipython",
    "version": 3
   },
   "file_extension": ".py",
   "mimetype": "text/x-python",
   "name": "python",
   "nbconvert_exporter": "python",
   "pygments_lexer": "ipython3",
   "version": "3.7.6"
  }
 },
 "nbformat": 4,
 "nbformat_minor": 4
}
