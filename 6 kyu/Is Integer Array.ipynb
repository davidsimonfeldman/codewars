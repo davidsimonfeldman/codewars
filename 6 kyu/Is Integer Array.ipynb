{
 "cells": [
  {
   "cell_type": "code",
   "execution_count": null,
   "metadata": {},
   "outputs": [],
   "source": [
    "Write a function with the signature shown below:\n",
    "\n",
    "def is_int_array(arr):\n",
    "    return True\n",
    "returns true / True if every element in an array is an integer or a float with no decimals.\n",
    "returns true / True if array is empty.\n",
    "returns false / False for every other input.\n",
    "\n",
    "\n",
    "def is_int_array(arr):\n",
    "    print(arr)\n",
    "    if type(arr)==list and all(isinstance(x, (int, float)) and x == int(x) for x in arr):\n",
    "        return True    \n",
    "    return False\n",
    "\n",
    "\n",
    "def is_int_array(arr):\n",
    "    try:\n",
    "        return list(map(int, arr)) == arr\n",
    "    except:\n",
    "        return False"
   ]
  }
 ],
 "metadata": {
  "kernelspec": {
   "display_name": "Python 3",
   "language": "python",
   "name": "python3"
  },
  "language_info": {
   "codemirror_mode": {
    "name": "ipython",
    "version": 3
   },
   "file_extension": ".py",
   "mimetype": "text/x-python",
   "name": "python",
   "nbconvert_exporter": "python",
   "pygments_lexer": "ipython3",
   "version": "3.7.6"
  }
 },
 "nbformat": 4,
 "nbformat_minor": 4
}
