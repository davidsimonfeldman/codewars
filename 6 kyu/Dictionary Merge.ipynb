{
 "cells": [
  {
   "cell_type": "code",
   "execution_count": null,
   "metadata": {},
   "outputs": [],
   "source": [
    "Your task is to implement a function that takes one or more dictionaries and combines them in one result dictionary.\n",
    "\n",
    "The keys in the given dictionaries can overlap. In that case you should combine all source values in an array. Duplicate values should be preserved.\n",
    "\n",
    "Here is an example:\n",
    "\n",
    "source1 = {\"A\": 1, \"B\": 2} \n",
    "source2 = {\"A\": 3}\n",
    "\n",
    "result = merge(source1, source2);\n",
    "// result should have this content: {\"A\": [1, 3]}, \"B\": [2]}\n",
    "You can assume that only valid dictionaries are passed to your function. The number of given dictionaries might be large. So take care about performance.\n",
    "\n",
    "\n",
    "\n",
    "from collections import defaultdict\n",
    "def merge(*dicts):\n",
    "    a= defaultdict(list)\n",
    "    print(a)\n",
    "    for x in dicts:\n",
    "        for k,v in x.items():\n",
    "            a[k].append(v)\n",
    "    return a\n",
    " \n",
    "    \n",
    "from itertools import groupby, chain    \n",
    "def merge(*dicts):\n",
    "    result = {}\n",
    "    for d in dicts:\n",
    "        for key, value in d.items():\n",
    "            result.setdefault(key, []).append(value)\n",
    "    return result\n",
    "\n",
    "\n",
    "\n",
    "\n",
    "def merge(*dicts):\n",
    "    r={}\n",
    "    for d in dicts:\n",
    "        for k in d:\n",
    "            r[k]=r.get(k,[])+[d[k]]\n",
    "    return r    "
   ]
  }
 ],
 "metadata": {
  "kernelspec": {
   "display_name": "Python 3",
   "language": "python",
   "name": "python3"
  },
  "language_info": {
   "codemirror_mode": {
    "name": "ipython",
    "version": 3
   },
   "file_extension": ".py",
   "mimetype": "text/x-python",
   "name": "python",
   "nbconvert_exporter": "python",
   "pygments_lexer": "ipython3",
   "version": "3.7.6"
  }
 },
 "nbformat": 4,
 "nbformat_minor": 4
}
