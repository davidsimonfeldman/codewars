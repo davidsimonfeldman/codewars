{
 "cells": [
  {
   "cell_type": "code",
   "execution_count": null,
   "metadata": {},
   "outputs": [],
   "source": [
    "You know how sometimes you write the the same word twice in a sentence, but then don't notice that it happened? For example, you've been distracted for a second. \n",
    "Did you notice that \"the\" is doubled in the first sentence of this description?\n",
    "\n",
    "As as aS you can see, it's not easy to spot those errors, especially if words differ in case, like \"as\" at the beginning of this sentence.\n",
    "\n",
    "Write a function that counts the number of sections repeating the same word (case insensitive). The occurence of two or more equal words next after each other counts as one.\n",
    "\n",
    "Examples\n",
    "\"dog cat\"                  -->  0\n",
    "\"dog DOG cat\"              -->  1\n",
    "\"apple dog cat\"            -->  0\n",
    "\"pineapple apple dog cat\"  -->  0\n",
    "\"apple     apple dog cat\"  -->  1\n",
    "\"apple dog apple dog cat\"  -->  0\n",
    "\"dog dog DOG dog dog dog\"  -->  1\n",
    "\"dog dog dog dog cat cat\"  -->  2\n",
    "\"cat cat dog dog cat cat\"  -->  3\n",
    "\n",
    "\n",
    "from itertools import groupby\n",
    "def count_adjacent_pairs(st): \n",
    "    return len([name for name,group in groupby(st.lower().split(' ')) if len(list(group))>=2])\n",
    "\n",
    "\n",
    "\n",
    "from itertools import groupby\n",
    "\n",
    "def count_adjacent_pairs(s):\n",
    "    return sum(next(y) == next(y, 0) for x, y in groupby(s.lower().split()))\n",
    "\n",
    "\n",
    "\n",
    "def count_adjacent_pairs(st): \n",
    "    st = st.lower().split()\n",
    "    check, ret, k = None, 0, 0\n",
    "    for e in st:\n",
    "        if e == check and k:\n",
    "            continue\n",
    "        if e == check and not k:\n",
    "            ret, k = ret + 1, 1\n",
    "        else:\n",
    "            check,k = e, 0\n",
    "    return ret"
   ]
  }
 ],
 "metadata": {
  "kernelspec": {
   "display_name": "Python 3",
   "language": "python",
   "name": "python3"
  },
  "language_info": {
   "codemirror_mode": {
    "name": "ipython",
    "version": 3
   },
   "file_extension": ".py",
   "mimetype": "text/x-python",
   "name": "python",
   "nbconvert_exporter": "python",
   "pygments_lexer": "ipython3",
   "version": "3.7.6"
  }
 },
 "nbformat": 4,
 "nbformat_minor": 4
}
