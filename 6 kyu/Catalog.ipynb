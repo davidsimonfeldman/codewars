{
 "cells": [
  {
   "cell_type": "code",
   "execution_count": null,
   "metadata": {},
   "outputs": [],
   "source": [
    "You are given a small extract of a catalog:\n",
    "\n",
    "s = \"<prod><name>drill</name><prx>99</prx><qty>5</qty></prod>\n",
    "\n",
    "<prod><name>hammer</name><prx>10</prx><qty>50</qty></prod>\n",
    "\n",
    "<prod><name>screwdriver</name><prx>5</prx><qty>51</qty></prod>\n",
    "\n",
    "<prod><name>table saw</name><prx>1099.99</prx><qty>5</qty></prod>\n",
    "\n",
    "<prod><name>saw</name><prx>9</prx><qty>10</qty></prod>\n",
    "\n",
    "...\n",
    "(prx stands for price, qty for quantity) and an article i.e \"saw\".\n",
    "\n",
    "The function catalog(s, \"saw\") returns the line(s) corresponding to the article with $ before the prices:\n",
    "\n",
    "\"table saw > prx: $1099.99 qty: 5\\nsaw > prx: $9 qty: 10\\n...\"\n",
    "If the article is not in the catalog return \"Nothing\".\n",
    "\n",
    "Notes\n",
    "There is a blank line between two lines of the catalog.\n",
    "The same article may appear more than once. If that happens return all the lines concerned by the article (in the same order as in the catalog).\n",
    "The line separator of results may depend on the language \\nor \\r\\n. In Pascal \\n is replaced by LineEnding.\n",
    "in Perl use \"£\" instead of \"$\" before the prices.\n",
    "You can see examples in the \"Sample tests\".\n",
    "\n",
    "\n",
    "\n",
    "def catalog(s, article):\n",
    "    a=[]\n",
    "    for x in s.splitlines():\n",
    "        if article in x:\n",
    "            print('x[12:-13]',x[12:-13],x)\n",
    "            a.append(x[12:-13].replace('</name><prx>', ' > prx: $').replace('</prx><qty>', ' qty: '))\n",
    "    print(a)        \n",
    "    return \"Nothing\" if not len(a)  else \"\\r\\n\".join(a)\n"
   ]
  }
 ],
 "metadata": {
  "kernelspec": {
   "display_name": "Python 3",
   "language": "python",
   "name": "python3"
  },
  "language_info": {
   "codemirror_mode": {
    "name": "ipython",
    "version": 3
   },
   "file_extension": ".py",
   "mimetype": "text/x-python",
   "name": "python",
   "nbconvert_exporter": "python",
   "pygments_lexer": "ipython3",
   "version": "3.7.6"
  }
 },
 "nbformat": 4,
 "nbformat_minor": 4
}
