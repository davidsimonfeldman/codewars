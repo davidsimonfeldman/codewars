{
 "cells": [
  {
   "cell_type": "code",
   "execution_count": null,
   "metadata": {},
   "outputs": [],
   "source": [
    "Two integers are coprimes if the their only greatest common divisor is 1.\n",
    "\n",
    "Task\n",
    "In this kata you'll be given a number n >= 2 and output a list with all positive integers less than gcd(n, k) == 1, with k being any of the output numbers.\n",
    "\n",
    "The list cannot include duplicated entries and has to be sorted.\n",
    "\n",
    "Examples\n",
    "2 -> [1]\n",
    "3 -> [1, 2]\n",
    "6 -> [1, 5]\n",
    "10 -> [1, 3, 7, 9]\n",
    "20 -> [1, 3, 7, 9, 11, 13, 17, 19]\n",
    "25 -> [1, 2, 3, 4, 6, 7, 8, 9, 11, 12, 13, 14, 16, 17, 18, 19, 21, 22, 23, 24]\n",
    "30 -> [1, 7, 11, 13, 17, 19, 23, 29]\n",
    "\n",
    "\n",
    "\n",
    "from fractions import gcd\n",
    " \n",
    "def coprimes(n):\n",
    "    a=[]\n",
    "    for x in range(n):\n",
    "        if gcd(n,x)==1:a.append(x)\n",
    "            \n",
    "    return a\n",
    "\n",
    "\n",
    "\n",
    "from fractions import gcd\n",
    "\n",
    "def coprimes(n):\n",
    "    return [i for i in range(1,n+1) if gcd(n,i)==1]"
   ]
  }
 ],
 "metadata": {
  "kernelspec": {
   "display_name": "Python 3",
   "language": "python",
   "name": "python3"
  },
  "language_info": {
   "codemirror_mode": {
    "name": "ipython",
    "version": 3
   },
   "file_extension": ".py",
   "mimetype": "text/x-python",
   "name": "python",
   "nbconvert_exporter": "python",
   "pygments_lexer": "ipython3",
   "version": "3.7.6"
  }
 },
 "nbformat": 4,
 "nbformat_minor": 4
}
