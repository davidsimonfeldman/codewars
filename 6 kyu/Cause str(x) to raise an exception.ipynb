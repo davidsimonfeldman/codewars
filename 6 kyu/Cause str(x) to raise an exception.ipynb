{
 "cells": [
  {
   "cell_type": "code",
   "execution_count": null,
   "metadata": {},
   "outputs": [],
   "source": [
    "My 7th kata, a Python puzzle, define x such that str(x) raises an exception.\n",
    "Note that str() calls rarely raise an exception, for example:\n",
    "print(str(1))\n",
    "#1\n",
    "print(str(sum))\n",
    "#<built-in function sum>\n",
    "print(str(i for i in range(2)))\n",
    "#<generator object <genexpr> at 0x7f5c0b54e798>\n",
    "import sys\n",
    "print(str(sys))\n",
    "#<module 'sys' (built-in)>\n",
    "You cannot simply define a custom class and overide __str__ (actually it is possible, but I've forbiden the easiest ways), or redefine str, but there are multiple other solutions.\n",
    "                                                             \n",
    "                                                             \n",
    "                                                             \n",
    "x = {}\n",
    "for i in range(10000):\n",
    "    x={1:x}                                                             "
   ]
  }
 ],
 "metadata": {
  "kernelspec": {
   "display_name": "Python 3",
   "language": "python",
   "name": "python3"
  },
  "language_info": {
   "codemirror_mode": {
    "name": "ipython",
    "version": 3
   },
   "file_extension": ".py",
   "mimetype": "text/x-python",
   "name": "python",
   "nbconvert_exporter": "python",
   "pygments_lexer": "ipython3",
   "version": "3.7.6"
  }
 },
 "nbformat": 4,
 "nbformat_minor": 4
}
