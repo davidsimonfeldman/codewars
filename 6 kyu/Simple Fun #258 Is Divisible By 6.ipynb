{
 "cells": [
  {
   "cell_type": "code",
   "execution_count": null,
   "metadata": {},
   "outputs": [],
   "source": [
    "Task\n",
    "A masked number is a string that consists of digits and one asterisk (*) that should be replaced by exactly one digit. \n",
    "Given a masked number s, find all the possible options to replace the asterisk with a digit to produce an integer divisible by 6.\n",
    "Input/Output\n",
    "[input] string s\n",
    "A masked number.\n",
    "1 ≤ inputString.length ≤ 10000.\n",
    "[output] a string array\n",
    "Sorted array of strings representing all non-negative integers that correspond to the given mask and are divisible by 6.\n",
    "Example\n",
    "For s = \"1*0\", the output should be [\"120\", \"150\", \"180\"].\n",
    "For s = \"*1\", the output should be [].\n",
    "For s = \"1234567890123456789012345678*0\",\n",
    "the output should be\n",
    "[\n",
    "\"123456789012345678901234567800\",\n",
    "\"123456789012345678901234567830\",\n",
    "\"123456789012345678901234567860\",\n",
    "\"123456789012345678901234567890\"]```\n",
    "As you can see, the masked number may be very large ;-)\n",
    "\n",
    "\n",
    "\n",
    "def is_divisible_by_6(s):\n",
    "    print(s)\n",
    "    a = [ int(s.replace('*', str(n))) for n in range(0,10) ]\n",
    "    print(a)\n",
    "     \n",
    "    b=[]\n",
    "    for x in a:\n",
    "        if not x%6:\n",
    "            b.append(str(x))\n",
    "    return  b\n",
    "\n",
    "\n",
    "\n",
    "\n",
    "\n",
    "def is_divisible_by_6(s):\n",
    "    all_numbers = [ int(s.replace('*', str(n))) for n in range(10) ]\n",
    "    return [ str(n) for n in all_numbers if n % 6 == 0 ]\n",
    "\n",
    "\n",
    "def is_divisible_by_6(stg):\n",
    "    result = []\n",
    "    for d in \"0123456789\":\n",
    "        r = int(d.join(stg.split(\"*\")))\n",
    "        if r % 6 == 0:\n",
    "            result.append(str(r))\n",
    "    return result\n"
   ]
  }
 ],
 "metadata": {
  "kernelspec": {
   "display_name": "Python 3",
   "language": "python",
   "name": "python3"
  },
  "language_info": {
   "codemirror_mode": {
    "name": "ipython",
    "version": 3
   },
   "file_extension": ".py",
   "mimetype": "text/x-python",
   "name": "python",
   "nbconvert_exporter": "python",
   "pygments_lexer": "ipython3",
   "version": "3.7.6"
  }
 },
 "nbformat": 4,
 "nbformat_minor": 4
}
