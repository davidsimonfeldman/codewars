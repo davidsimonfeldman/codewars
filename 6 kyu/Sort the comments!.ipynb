{
 "cells": [
  {
   "cell_type": "code",
   "execution_count": null,
   "metadata": {},
   "outputs": [],
   "source": [
    "Background\n",
    "One way to order a nested (reddit-style) commenting system is by giving each comment a rank.\n",
    "Generic comments on a thread start with rank 1 and increment, so the second comment on a thread would have \n",
    "rank 2. A reply to comment 1 will be ranked 1.1, and a reply to comment 1.1 will be ranked 1.1.1 . \n",
    "The second comment to reply to comment 1 would be ranked 1.2 .\n",
    "Note that since 1.1.1 is a valid rank, the ranks given are of type string.\n",
    "Task:\n",
    "Given a list of comment ranks (strings), order them as a comment thread would appear\n",
    "Assumptions:\n",
    "there will always be a rank 1 in the given input\n",
    "ranks are of type string\n",
    "rank numbers are incremented, and not skippped (1.1 could be followed by 1.2, not 1.3)\n",
    "Example order:\n",
    "[\n",
    "  '1',\n",
    "  '1.1',\n",
    "  '1.2',\n",
    "  '1.2.1',\n",
    "  '2',\n",
    "  '3',\n",
    "  '3.1',\n",
    "  '3.1.1',\n",
    "  '3.2'\n",
    "]\n",
    "\n",
    "\n",
    "\n",
    "\n",
    "def sort_ranks(ranks):\n",
    "    # order ranks \n",
    "    print(ranks)\n",
    "      \n",
    "    return sorted(ranks, key=lambda x: tuple(int(x) for x in  x.split('.')))\n",
    "#   return sorted(ranks, key=lambda s: tuple(int(x) for x in s.split('.'))) #\n",
    "\n",
    "\n",
    "\n",
    "\n",
    "\n",
    "\n",
    "def sort_ranks(ranks):\n",
    "    return sorted(ranks, key=lambda x: map(int, x.split('.')))\n",
    "\n",
    "\n",
    "def sort_ranks(ranks):\n",
    "    print()\n",
    "    return sorted(ranks, key=lambda x: (float(x[:2]), x))"
   ]
  },
  {
   "cell_type": "code",
   "execution_count": 7,
   "metadata": {
    "ExecuteTime": {
     "end_time": "2021-07-12T10:20:14.762006Z",
     "start_time": "2021-07-12T10:20:14.739766Z"
    }
   },
   "outputs": [],
   "source": [
    "def sort_ranks(ranks):\n",
    "    # order ranks \n",
    "    print(ranks)\n",
    "    print(list(tuple(int(x) for x in  x.split('.')) for x in  ranks))  \n",
    "    return sorted(ranks, key=lambda x: tuple(int(x) for x in  x.split('.')))"
   ]
  },
  {
   "cell_type": "code",
   "execution_count": 8,
   "metadata": {
    "ExecuteTime": {
     "end_time": "2021-07-12T10:20:14.920208Z",
     "start_time": "2021-07-12T10:20:14.893928Z"
    }
   },
   "outputs": [
    {
     "name": "stdout",
     "output_type": "stream",
     "text": [
      "['1', '1.4', '1.13.1', '1.5.1.1']\n",
      "[(1,), (1, 4), (1, 13, 1), (1, 5, 1, 1)]\n"
     ]
    },
    {
     "data": {
      "text/plain": [
       "['1', '1.4', '1.5.1.1', '1.13.1']"
      ]
     },
     "execution_count": 8,
     "metadata": {},
     "output_type": "execute_result"
    }
   ],
   "source": [
    "sort_ranks(['1', '1.4', '1.13.1', '1.5.1.1'])"
   ]
  },
  {
   "cell_type": "code",
   "execution_count": null,
   "metadata": {},
   "outputs": [],
   "source": []
  }
 ],
 "metadata": {
  "kernelspec": {
   "display_name": "Python 3",
   "language": "python",
   "name": "python3"
  },
  "language_info": {
   "codemirror_mode": {
    "name": "ipython",
    "version": 3
   },
   "file_extension": ".py",
   "mimetype": "text/x-python",
   "name": "python",
   "nbconvert_exporter": "python",
   "pygments_lexer": "ipython3",
   "version": "3.7.6"
  }
 },
 "nbformat": 4,
 "nbformat_minor": 4
}
