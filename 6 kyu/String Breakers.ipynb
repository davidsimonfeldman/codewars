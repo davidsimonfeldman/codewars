{
 "cells": [
  {
   "cell_type": "code",
   "execution_count": null,
   "metadata": {},
   "outputs": [],
   "source": [
    "I will give you an integer (N) and a string. Break the string up into as many substrings of N as you can without spaces. If there are leftover characters, include those as well.\n",
    "\n",
    "Example: \n",
    "\n",
    "n = 5;\n",
    "\n",
    "st = \"This is an example string\";\n",
    "\n",
    "Return value:\n",
    "Thisi\n",
    "sanex\n",
    "ample\n",
    "strin\n",
    "g\n",
    "\n",
    "Return value as a string: 'Thisi'+'\\n'+'sanex'+'\\n'+'ample'+'\\n'+'strin'+'\\n'+'g'\n",
    "    \n",
    "def string_breakers(n, st): \n",
    "    st=st.replace(' ','')\n",
    "    a=[]\n",
    "    for i in range(0,len(st),n):\n",
    "        a.append(st[i:i+n])\n",
    "    print(a)   \n",
    "    return '\\n'.join(a)    \n",
    "    \n",
    "    \n",
    "    \n",
    "    \n",
    "    \n",
    "    \n",
    "def string_breakers(n, st):\n",
    "    s = st.replace(' ', '')\n",
    "    return '\\n'.join(s[i:i+n] for i in range(0, len(s), n))\n",
    "\n",
    "\n",
    "\n",
    "\n",
    "from textwrap import wrap\n",
    "def string_breakers(n, st):\n",
    "    return '\\n'.join(wrap(st.replace(' ',''),n))    "
   ]
  }
 ],
 "metadata": {
  "kernelspec": {
   "display_name": "Python 3",
   "language": "python",
   "name": "python3"
  },
  "language_info": {
   "codemirror_mode": {
    "name": "ipython",
    "version": 3
   },
   "file_extension": ".py",
   "mimetype": "text/x-python",
   "name": "python",
   "nbconvert_exporter": "python",
   "pygments_lexer": "ipython3",
   "version": "3.7.6"
  }
 },
 "nbformat": 4,
 "nbformat_minor": 4
}
