{
 "cells": [
  {
   "cell_type": "code",
   "execution_count": null,
   "metadata": {},
   "outputs": [],
   "source": [
    "In this Kata, you will implement the Luhn Algorithm, which is used to help validate credit card numbers.\n",
    "Given a positive integer of up to 16 digits, return true if it is a valid credit card number, and false if it is not.\n",
    "Here is the algorithm:\n",
    "Double every other digit, scanning from right to left, starting from the second digit (from the right).\n",
    "Another way to think about it is: if there are an even number of digits, double every other digit starting with the first;\n",
    "    if there are an odd number of digits, double every other digit starting with the second:\n",
    "1714 ==> [1*, 7, 1*, 4] ==> [2, 7, 2, 4]\n",
    "12345 ==> [1, 2*, 3, 4*, 5] ==> [1, 4, 3, 8, 5]\n",
    "891 ==> [8, 9*, 1] ==> [8, 18, 1]\n",
    "If a resulting number is greater than 9, replace it with the sum of its own digits (which is the same as subtracting 9 from it):\n",
    "[8, 18*, 1] ==> [8, (1+8), 1] ==> [8, 9, 1]\n",
    "or:\n",
    "[8, 18*, 1] ==> [8, (18-9), 1] ==> [8, 9, 1]\n",
    "Sum all of the final digits:\n",
    "[8, 9, 1] ==> 8 + 9 + 1 = 18\n",
    "Finally, take that sum and divide it by 10. If the remainder equals zero, the original credit card number is valid.\n",
    "18 (modulus) 10 ==> 8 , which is not equal to 0, so this is not a valid credit card number\n",
    "\n",
    "\n",
    "\n",
    "def validate(n):\n",
    "    i = 0\n",
    "    result = 0\n",
    "    while n:\n",
    "        digit = n % 10\n",
    "        n //= 10\n",
    "        if divmod(i,2)[1] == 1:\n",
    "            digit *= 2\n",
    "            if len(str(digit)) > 1:\n",
    "                digit -= 9\n",
    "        result += digit\n",
    "        i += 1\n",
    "    return not(result % 10)\n",
    "\n",
    "\n",
    "\n",
    "\n",
    "\n",
    "def validate(n):\n",
    "    digits = [int(x) for x in str(n)]\n",
    "    for x in range(len(digits)-2, -1, -2):\n",
    "        digits[x] = sum(map(int, str(digits[x] * 2)))\n",
    "    return sum(digits) % 10 == 0\n",
    "\n",
    "\n",
    "\n",
    "\n",
    "\n",
    "def validate(n):\n",
    "    digits = [int(x) for x in str(n)]\n",
    "    even = [x*2 if x*2 <= 9 else x*2 - 9 for x in digits[-2::-2]]\n",
    "    odd  = [x for x in digits[-1::-2]]\n",
    "    return (sum(even + odd)%10) == 0\n",
    "    "
   ]
  },
  {
   "cell_type": "code",
   "execution_count": 3,
   "metadata": {
    "ExecuteTime": {
     "end_time": "2021-07-25T20:09:08.712437Z",
     "start_time": "2021-07-25T20:09:08.672739Z"
    }
   },
   "outputs": [],
   "source": [
    "def validate(n):\n",
    "    digits = [int(x) for x in str(n)]\n",
    "    print(digits)\n",
    "    for x in range(len(digits)-2, -1, -2):\n",
    "        print(list(map(int, str(digits[x] * 2))))\n",
    "        digits[x] = sum(map(int, str(digits[x] * 2)))\n",
    "        \n",
    "    return sum(digits) % 10 == 0"
   ]
  },
  {
   "cell_type": "code",
   "execution_count": 4,
   "metadata": {
    "ExecuteTime": {
     "end_time": "2021-07-25T20:09:09.143785Z",
     "start_time": "2021-07-25T20:09:09.094358Z"
    }
   },
   "outputs": [
    {
     "name": "stdout",
     "output_type": "stream",
     "text": [
      "[2, 1, 2, 1]\n",
      "[4]\n",
      "[4]\n"
     ]
    },
    {
     "data": {
      "text/plain": [
       "True"
      ]
     },
     "execution_count": 4,
     "metadata": {},
     "output_type": "execute_result"
    }
   ],
   "source": [
    "validate(2121)"
   ]
  },
  {
   "cell_type": "code",
   "execution_count": null,
   "metadata": {},
   "outputs": [],
   "source": [
    "def validate(n):\n",
    "    print(n)\n",
    "    digits = [int(x) for x in str(n)]\n",
    "    print(digits)\n",
    "    a=0\n",
    "    for x in range(len(digits)-2, -1, -2):\n",
    "        print(list(map(int, str(digits[x] * 2))))\n",
    "        digits[x] = sum(map(int, str(digits[x] * 2)))\n",
    "        a+=sum(map(int, str(digits[x] * 2)))\n",
    "    print(sum(digits) )    \n",
    "    return sum(digits) % 10 == 0"
   ]
  }
 ],
 "metadata": {
  "kernelspec": {
   "display_name": "Python 3",
   "language": "python",
   "name": "python3"
  },
  "language_info": {
   "codemirror_mode": {
    "name": "ipython",
    "version": 3
   },
   "file_extension": ".py",
   "mimetype": "text/x-python",
   "name": "python",
   "nbconvert_exporter": "python",
   "pygments_lexer": "ipython3",
   "version": "3.7.6"
  }
 },
 "nbformat": 4,
 "nbformat_minor": 4
}
