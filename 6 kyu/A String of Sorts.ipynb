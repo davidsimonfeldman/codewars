{
 "cells": [
  {
   "cell_type": "code",
   "execution_count": null,
   "metadata": {},
   "outputs": [],
   "source": [
    "Define a method that accepts 2 strings as parameters. The method returns the first string sorted by the second.\n",
    "\n",
    "sort_string(\"foos\", \"of\")       == \"oofs\"\n",
    "sort_string(\"string\", \"gnirts\") == \"gnirts\"\n",
    "sort_string(\"banana\", \"abn\")    == \"aaabnn\"\n",
    "To elaborate, the second string defines the ordering. It is possible that in the second string characters repeat, so you should remove repeating characters,\n",
    "leaving only the first occurrence.\n",
    "Any character in the first string that does not appear in the second string should be sorted to the end of the result in original order.\n",
    "\n",
    "\n",
    "\n",
    "def sort_string(s, ordering):\n",
    "    answer = ''\n",
    "    print((s, ordering))\n",
    "    for o in ordering:\n",
    "        answer += o * s.count(o)\n",
    "        print('answer',answer)\n",
    "        s = s.replace(o,'')\n",
    "        print('s',s)\n",
    "    return answer + s \n"
   ]
  }
 ],
 "metadata": {
  "kernelspec": {
   "display_name": "Python 3",
   "language": "python",
   "name": "python3"
  },
  "language_info": {
   "codemirror_mode": {
    "name": "ipython",
    "version": 3
   },
   "file_extension": ".py",
   "mimetype": "text/x-python",
   "name": "python",
   "nbconvert_exporter": "python",
   "pygments_lexer": "ipython3",
   "version": "3.7.6"
  }
 },
 "nbformat": 4,
 "nbformat_minor": 4
}
