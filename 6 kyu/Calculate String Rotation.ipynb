{
 "cells": [
  {
   "cell_type": "code",
   "execution_count": null,
   "metadata": {},
   "outputs": [],
   "source": [
    "\n",
    "\n",
    "Write a function that receives two strings and returns n, where n is equal to the number of characters we should shift the first string forward to match the second. \n",
    "The check should be case sensitive.\n",
    "\n",
    "For instance, take the strings \"fatigue\" and \"tiguefa\". In this case, the first string has been rotated 5 characters forward to produce the second string, so 5 would be returned.\n",
    "\n",
    "If the second string isn't a valid rotation of the first string, the method returns -1.\n",
    "Examples:\n",
    "\"coffee\", \"eecoff\" => 2\n",
    "\"eecoff\", \"coffee\" => 4\n",
    "\"moose\", \"Moose\" => -1\n",
    "\"isn't\", \"'tisn\" => 2\n",
    "\"Esham\", \"Esham\" => 0\n",
    "\"dog\", \"god\" => -1\n",
    "\n",
    "\n",
    "\n",
    "\n",
    "import numpy as np\n",
    "def shifted_diff(f,s):\n",
    "    # code here!\n",
    "    if len(s)!=len(f):return -1\n",
    "    a=0\n",
    "    for i in range(len(s)):\n",
    "        print(i)\n",
    "        print(''.join(list(np.roll(list(f),i))))\n",
    "        if ''.join(list(np.roll(list(f),i)))==s:\n",
    "            return i\n",
    "        else:i+=1\n",
    "    return -1\n",
    "    \n",
    "    \n",
    "    \n",
    "def shifted_diff(first, second):\n",
    "    return (second + second).find(first) if len(first) == len(second) else - 1;\n",
    "\n",
    "\n",
    "\n",
    "def shifted_diff(first, second):\n",
    "    for x in  range(len(first)):\n",
    "        if first==second:\n",
    "            return x\n",
    "        first=first[-1]+first[:-1]    \n",
    "    return -1"
   ]
  }
 ],
 "metadata": {
  "kernelspec": {
   "display_name": "Python 3",
   "language": "python",
   "name": "python3"
  },
  "language_info": {
   "codemirror_mode": {
    "name": "ipython",
    "version": 3
   },
   "file_extension": ".py",
   "mimetype": "text/x-python",
   "name": "python",
   "nbconvert_exporter": "python",
   "pygments_lexer": "ipython3",
   "version": "3.7.6"
  }
 },
 "nbformat": 4,
 "nbformat_minor": 4
}
