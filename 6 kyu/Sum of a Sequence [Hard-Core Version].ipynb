{
 "cells": [
  {
   "cell_type": "code",
   "execution_count": 2,
   "metadata": {
    "ExecuteTime": {
     "end_time": "2021-07-27T07:40:59.495459Z",
     "start_time": "2021-07-27T07:40:59.472961Z"
    }
   },
   "outputs": [],
   "source": [
    "As the title suggests, this is the hard-core version of another neat kata.\n",
    "\n",
    "The task is simple to explain: simply sum all the numbers from the first parameter being the beginning \n",
    "    to the second parameter being the upper limit (possibly included), going in steps expressed by the third parameter:\n",
    "\n",
    "sequence_sum(2, 2, 2) # 2\n",
    "sequence_sum(2, 6, 2) # 12 (= 2 + 4 + 6)\n",
    "sequence_sum(1, 5, 1) # (= 1 + 2 + 3 + 4 + 5)\n",
    "sequence_sum(1, 5, 3) # 5 (= 1 + 4)\n",
    "If it is an impossible sequence (with the beginning being larger the end and a positive step or the other way around), just return 0. See the provided test cases for further examples :)\n",
    "\n",
    "Note: differing from the other base kata, much larger ranges are going to be tested, so you should hope to get your algo optimized and to avoid brute-forcing your way through the solution.\n",
    "\n",
    "\n",
    "\n",
    "\n",
    "def sequence_sum(a, b, step):\n",
    "    print(a, b, step)\n",
    "    x = (b - a) // step\n",
    "    print(x)\n",
    "    if x < 0: return 0  \n",
    "    else :return ((x+1)*(x*step+2*a))//2\n",
    "    \n",
    "    \n",
    "    \n",
    "# from math import copysign\n",
    "def sequence_sum(a, b, step):\n",
    "    n = (b-a)//step\n",
    "    return 0 if n<0 else (n+1)*(n*step+a+a)//2\n",
    "\n",
    "\n",
    "\n",
    "def sequence_sum(b, e, s):\n",
    "    q, r = divmod(e - b, s)\n",
    "    return (b + e - r) * max(q + 1, 0) // 2    \n",
    "    "
   ]
  },
  {
   "cell_type": "code",
   "execution_count": null,
   "metadata": {},
   "outputs": [],
   "source": []
  }
 ],
 "metadata": {
  "kernelspec": {
   "display_name": "Python 3",
   "language": "python",
   "name": "python3"
  },
  "language_info": {
   "codemirror_mode": {
    "name": "ipython",
    "version": 3
   },
   "file_extension": ".py",
   "mimetype": "text/x-python",
   "name": "python",
   "nbconvert_exporter": "python",
   "pygments_lexer": "ipython3",
   "version": "3.7.6"
  }
 },
 "nbformat": 4,
 "nbformat_minor": 4
}
