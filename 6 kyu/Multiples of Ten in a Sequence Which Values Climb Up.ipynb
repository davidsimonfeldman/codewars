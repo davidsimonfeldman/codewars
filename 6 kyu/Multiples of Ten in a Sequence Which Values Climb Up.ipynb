{
 "cells": [
  {
   "cell_type": "code",
   "execution_count": null,
   "metadata": {},
   "outputs": [],
   "source": [
    "We are interested in collecting the terms of SF that are multiple of ten.\n",
    "The first term multiple of ten of this sequence is 60\n",
    "Make the function find_mult10_SF() that you introduce the ordinal number of a term multiple of 10 of SF and gives us the value of this term.\n",
    "Let's see some cases:\n",
    "find_mult10_SF(1) == 60\n",
    "find_mult10_SF(2) == 70080\n",
    "find_mult10_SF(3) ==  90700800\n",
    "Memoization is advisable to have a more agile code for tests.\n",
    "Your code will be tested up to the 300-th term, multiple of 10.\n",
    "\n",
    "\n",
    "def find_mult10_SF(n):\n",
    "    # your code here\n",
    "    return  2**(4 * n - 3) * (3 + 3**(4 * n - 1))"
   ]
  }
 ],
 "metadata": {
  "kernelspec": {
   "display_name": "Python 3",
   "language": "python",
   "name": "python3"
  },
  "language_info": {
   "codemirror_mode": {
    "name": "ipython",
    "version": 3
   },
   "file_extension": ".py",
   "mimetype": "text/x-python",
   "name": "python",
   "nbconvert_exporter": "python",
   "pygments_lexer": "ipython3",
   "version": "3.7.6"
  }
 },
 "nbformat": 4,
 "nbformat_minor": 4
}
