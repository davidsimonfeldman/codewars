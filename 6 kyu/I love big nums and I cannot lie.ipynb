{
 "cells": [
  {
   "cell_type": "code",
   "execution_count": null,
   "metadata": {},
   "outputs": [],
   "source": [
    "Write\n",
    "\n",
    "function biggest(nums)\n",
    "that given an array of numbers >= 0, will arrange them such that they form the biggest number.\n",
    "\n",
    "For example:\n",
    "\n",
    "biggest([1, 2, 3]) === '321'\n",
    "biggest([3, 30, 34, 5, 9]) === '9534330'\n",
    "The results will be large so make sure to return a string.\n",
    "\n",
    "\n",
    "\n",
    "def biggest(nums):\n",
    "    xs = map(str, nums)\n",
    "    x = ''.join(sorted(xs, cmp=lambda a, b: cmp(a+b, b+a), reverse=True))\n",
    "    return x.lstrip('0') or '0'\n",
    "\n",
    "\n",
    "\n",
    "\n",
    "\n",
    "def biggest(L):\n",
    "    L=list(map(str,L))\n",
    "    L.sort(reverse=True)\n",
    "    print(L)\n",
    "    while 1:\n",
    "        for i in range(len(L)-1):\n",
    "            a,b=L[i],L[i+1]\n",
    "            if b+a>a+b:\n",
    "                L[i],L[i+1]=L[i+1],L[i]\n",
    "                break\n",
    "        else: return str(int(''.join(L)))"
   ]
  },
  {
   "cell_type": "code",
   "execution_count": 7,
   "metadata": {
    "ExecuteTime": {
     "end_time": "2021-07-11T19:29:25.591891Z",
     "start_time": "2021-07-11T19:29:25.572352Z"
    }
   },
   "outputs": [],
   "source": [
    "def biggest(nums):\n",
    "    # your code\n",
    "    a=map(str,nums)\n",
    "    \n",
    "    return str(int(''.join(sorted(a,key=lambda n:3*n,reverse=True))))"
   ]
  },
  {
   "cell_type": "code",
   "execution_count": 8,
   "metadata": {
    "ExecuteTime": {
     "end_time": "2021-07-11T19:29:26.599086Z",
     "start_time": "2021-07-11T19:29:26.592068Z"
    }
   },
   "outputs": [
    {
     "data": {
      "text/plain": [
       "'9534330'"
      ]
     },
     "execution_count": 8,
     "metadata": {},
     "output_type": "execute_result"
    }
   ],
   "source": [
    "biggest([3, 30, 34, 5, 9])"
   ]
  },
  {
   "cell_type": "code",
   "execution_count": null,
   "metadata": {},
   "outputs": [],
   "source": []
  }
 ],
 "metadata": {
  "kernelspec": {
   "display_name": "Python 3",
   "language": "python",
   "name": "python3"
  },
  "language_info": {
   "codemirror_mode": {
    "name": "ipython",
    "version": 3
   },
   "file_extension": ".py",
   "mimetype": "text/x-python",
   "name": "python",
   "nbconvert_exporter": "python",
   "pygments_lexer": "ipython3",
   "version": "3.7.6"
  }
 },
 "nbformat": 4,
 "nbformat_minor": 4
}
