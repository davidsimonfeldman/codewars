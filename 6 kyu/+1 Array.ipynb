{
 "cells": [
  {
   "cell_type": "code",
   "execution_count": null,
   "metadata": {},
   "outputs": [],
   "source": [
    "Given an array of integers of any length, return an array that has 1 added to the value represented by the array.\n",
    "\n",
    "the array can't be empty\n",
    "only non-negative, single digit integers are allowed\n",
    "Return nil (or your language's equivalent) for invalid inputs.\n",
    "\n",
    "Examples\n",
    "For example the array [2, 3, 9] equals 239, adding one would return the array [2, 4, 0].\n",
    "\n",
    "[4, 3, 2, 5] would return [4, 3, 2, 6]\n",
    "            \n",
    "            \n",
    "            \n",
    "def up_array(arr):\n",
    "    if len(arr)==0:return None\n",
    "    print(arr)\n",
    "    a=[]\n",
    "    for x in arr:\n",
    "        if x<0 or x>9  :\n",
    "            return None\n",
    "        else:\n",
    "            a.append(str(x))\n",
    "    b=int(''.join(a))\n",
    "    print(b)\n",
    "    return [int(x) for x in list(str(b+1))]\n",
    "            \n",
    "            \n",
    "            \n",
    "def up_array(arr):\n",
    "    if not arr or min(arr) < 0 or max(arr) > 9:\n",
    "        return None\n",
    "    else:\n",
    "        return [int(y) for y in str(int(\"\".join([str(x) for x in arr])) + 1)]\n",
    "        \n",
    " \n",
    "            \n",
    "            \n",
    "            \n",
    "def up_array(arr):\n",
    "    return None if arr==[] or any([x not in range(10) for x in arr]) else [int(c) for c in str(int(\"\".join([str(x) for x in arr]))+1)]\n",
    "\n",
    "            \n",
    "            \n",
    "def up_array(arr):\n",
    "    if arr and all(0<=v<=9 for v in arr):\n",
    "        return map(int, str(int(''.join(map(str,arr)))+1))            "
   ]
  }
 ],
 "metadata": {
  "kernelspec": {
   "display_name": "Python 3",
   "language": "python",
   "name": "python3"
  },
  "language_info": {
   "codemirror_mode": {
    "name": "ipython",
    "version": 3
   },
   "file_extension": ".py",
   "mimetype": "text/x-python",
   "name": "python",
   "nbconvert_exporter": "python",
   "pygments_lexer": "ipython3",
   "version": "3.7.6"
  }
 },
 "nbformat": 4,
 "nbformat_minor": 4
}
