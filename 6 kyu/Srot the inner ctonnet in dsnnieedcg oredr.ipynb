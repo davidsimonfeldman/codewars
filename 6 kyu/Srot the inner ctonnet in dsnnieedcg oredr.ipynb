{
 "cells": [
  {
   "cell_type": "code",
   "execution_count": null,
   "metadata": {},
   "outputs": [],
   "source": [
    "#Srot the inner ctnnoet in dsnnieedcg oredr\n",
    "You have to sort the inner content of every word of a string in descending order.\n",
    "The inner content is the content of a word without first and the last char.\n",
    "Some examples:\n",
    "\"sort the inner content in descending order\" -> \"srot the inner ctonnet in dsnnieedcg oredr\"\n",
    "\"wait for me\" -> \"wiat for me\"\n",
    "\"this kata is easy\" -> \"tihs ktaa is esay\"\n",
    "The string will never be null and will never be empty.\n",
    "It will contain only lowercase-letters and whitespaces.\n",
    "In C++ the string is always 0-terminated.\n",
    "Have fun coding it and please don't forget to vote and rank this kata! :-)\n",
    "I have also created other katas. Take a look if you enjoyed this kata!\n",
    "\n",
    "\n",
    "\n",
    "\n",
    "def sort_the_inner_content(w):\n",
    "    a=w.split()\n",
    "    print(a)\n",
    "    b=[]\n",
    "    for x in a:\n",
    "        if len(x)>3:\n",
    "            b.append( x[0]+''.join(sorted(list(x[1:-1])))[::-1] +x[-1] )\n",
    "                 \n",
    "        else:b.append(x)\n",
    "    return ' '.join(b) \n",
    "\n",
    "\n",
    "\n",
    "def sort_the_inner_content(str):\n",
    "    words = str.split()\n",
    "    output = []\n",
    "    \n",
    "    for word in words:\n",
    "        if len(word) > 2:\n",
    "            output.append(word[0] + ''.join(sorted(word[1:-1], reverse=True)) + word[-1])            \n",
    "        else: output.append(word)\n",
    "        \n",
    "    return ' '.join(output)\n",
    "\n",
    "\n",
    "\n",
    "def sort_the_inner_content(words):\n",
    "  srot = lambda s: s if len(s) == 1 else \"\".join([s[0]] + sorted(s[1:-1])[::-1] + [s[-1]])\n",
    "  return \" \".join(map(srot, words.split(\" \")))"
   ]
  }
 ],
 "metadata": {
  "kernelspec": {
   "display_name": "Python 3",
   "language": "python",
   "name": "python3"
  },
  "language_info": {
   "codemirror_mode": {
    "name": "ipython",
    "version": 3
   },
   "file_extension": ".py",
   "mimetype": "text/x-python",
   "name": "python",
   "nbconvert_exporter": "python",
   "pygments_lexer": "ipython3",
   "version": "3.7.6"
  }
 },
 "nbformat": 4,
 "nbformat_minor": 4
}
