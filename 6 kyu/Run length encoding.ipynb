{
 "cells": [
  {
   "cell_type": "code",
   "execution_count": null,
   "metadata": {},
   "outputs": [],
   "source": [
    "Run-length encoding (RLE) is a very simple form of data compression in which runs of data (that is, sequences in which the same data value occurs in many consecutive data elements) \n",
    "are stored as a single data value and count, rather than as the original run. Wikipedia\n",
    "Task\n",
    "Your task is to write such a run-length encoding. For a given string, return a list (or array) of pairs (or arrays) [ (i1, s1), (i2, s2), …, (in, sn) ],\n",
    "such that one can reconstruct the original string by replicating the character sx ix times and concatening all those strings.\n",
    "Your run-length encoding should be minimal, ie. for all i the values si and si+1 should differ.\n",
    "Examples\n",
    "As the article states, RLE is a very simple form of data compression. It's only suitable for runs of data, as one can see in the following example:\n",
    "run_length_encoding(\"hello world!\")\n",
    " //=>      [[1,'h'], [1,'e'], [2,'l'], [1,'o'], [1,' '], [1,'w'], [1,'o'], [1,'r'], [1,'l'], [1,'d'], [1,'!']]\n",
    "It's very effective if the same data value occurs in many consecutive data elements:\n",
    "run_length_encoding(\"aaaaaaaaaaaaaaaaaaaaaaaaaaaaaaaaaabbb\")\n",
    "# => [[34,'a'], [3,'b']]\n",
    "\n",
    "\n",
    "\n",
    "from collections import OrderedDict \n",
    "def run_length_encoding(input):   \n",
    "    a=OrderedDict.fromkeys(input, 0) \n",
    "    print(a)\n",
    "    for ch in input: \n",
    "        a[ch] += 1\n",
    "    output = []\n",
    "    for key,value in a.items(): \n",
    "         output.append([ (value),key  ]) \n",
    "    return output \n",
    "\n",
    "\n",
    "from itertools import groupby\n",
    "def run_length_encoding(s):\n",
    "    a=[]\n",
    "    for c, g in groupby(s):\n",
    "        a.append([len(list(g)),c])\n",
    "    print(a)\n",
    "    return a\n",
    "\n",
    "from itertools import groupby\n",
    "def run_length_encoding(s):\n",
    "    return [[sum(1 for _ in g), c] for c, g in groupby(s)]\n",
    "\n",
    "\n",
    "\n",
    "from itertools import groupby\n",
    "def run_length_encoding(s):\n",
    "    return [[len(list(b)), a] for a,b in groupby(s)]\n",
    "\n",
    "\n",
    "\n",
    "from itertools import groupby\n",
    "def run_length_encoding(s):\n",
    "    return [[len(list(g)), k] for k, g in groupby(s)]"
   ]
  }
 ],
 "metadata": {
  "kernelspec": {
   "display_name": "Python 3",
   "language": "python",
   "name": "python3"
  },
  "language_info": {
   "codemirror_mode": {
    "name": "ipython",
    "version": 3
   },
   "file_extension": ".py",
   "mimetype": "text/x-python",
   "name": "python",
   "nbconvert_exporter": "python",
   "pygments_lexer": "ipython3",
   "version": "3.7.6"
  }
 },
 "nbformat": 4,
 "nbformat_minor": 4
}
