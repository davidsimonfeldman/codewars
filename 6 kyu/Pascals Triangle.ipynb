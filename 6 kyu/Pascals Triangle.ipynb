{
 "cells": [
  {
   "cell_type": "code",
   "execution_count": null,
   "metadata": {},
   "outputs": [],
   "source": [
    "In mathematics, Pascal's triangle is a triangular array of the binomial coefficients expressed with formula\n",
    "(nk)=n!k!(n−k)!\\lparen {n \\atop k} \\rparen = \\frac {n!} {k!(n-k)!}( \n",
    "k\n",
    "n\n",
    "​\n",
    " )= \n",
    "k!(n−k)!\n",
    "n!\n",
    "​\n",
    "where n denotes a row of the triangle, and k is a position of a term in the row.\n",
    "Pascal's Triangle\n",
    "You can read Wikipedia article on Pascal's Triangle for more information.\n",
    "Task\n",
    "Write a function that, given a depth n, returns n top rows of Pascal's Triangle flattened into a one-dimensional list/array.\n",
    "Example:\n",
    "n = 1: [1]\n",
    "n = 2: [1,  1, 1]\n",
    "n = 4: [1,  1, 1,  1, 2, 1,  1, 3, 3, 1]\n",
    "    \n",
    "    \n",
    "    \n",
    "    \n",
    "def pascals_triangle(n):\n",
    "    trow = [1]\n",
    "    y = [0]\n",
    "    a=[]\n",
    "    for x in range(n):\n",
    "        a.append(trow)\n",
    "        trow=[left+right for left,right in zip(trow+y, y+trow)]\n",
    "    b=[]\n",
    "    for x in a:\n",
    "        for y in x:\n",
    "            b.append(y)\n",
    "    return b    \n",
    "\n",
    "\n",
    "\n",
    "def pascals_triangle(n):\n",
    "  if n == 1:\n",
    "      return [1]\n",
    "  prev = pascals_triangle(n - 1)\n",
    "  return prev + [1 if i == 0 or i == n -1 else prev[-i] + prev[-(i + 1)] \n",
    "              for i in range(n)]\n",
    "  "
   ]
  }
 ],
 "metadata": {
  "kernelspec": {
   "display_name": "Python 3",
   "language": "python",
   "name": "python3"
  },
  "language_info": {
   "codemirror_mode": {
    "name": "ipython",
    "version": 3
   },
   "file_extension": ".py",
   "mimetype": "text/x-python",
   "name": "python",
   "nbconvert_exporter": "python",
   "pygments_lexer": "ipython3",
   "version": "3.7.6"
  }
 },
 "nbformat": 4,
 "nbformat_minor": 4
}
