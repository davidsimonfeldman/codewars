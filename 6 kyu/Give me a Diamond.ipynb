{
 "cells": [
  {
   "cell_type": "code",
   "execution_count": null,
   "metadata": {},
   "outputs": [],
   "source": [
    "Jamie is a programmer, and James' girlfriend. She likes diamonds, and wants a diamond string from James. Since James doesn't know how to make this happen, he needs your help.\n",
    "Task\n",
    "You need to return a string that looks like a diamond shape when printed on the screen, using asterisk (*) characters. Trailing spaces should be removed, and every line must be \n",
    "terminated with a newline character (\\n).\n",
    "Return null/nil/None/... if the input is an even number or negative, as it is not possible to print a diamond of even or negative size.\n",
    "Examples\n",
    "A size 3 diamond:\n",
    " *\n",
    "***\n",
    " *\n",
    "...which would appear as a string of \" *\\n***\\n *\\n\"\n",
    "A size 5 diamond:\n",
    "  *\n",
    " ***\n",
    "*****\n",
    " ***\n",
    "  *\n",
    "...that is:\n",
    "\"  *\\n ***\\n*****\\n ***\\n  *\\n\"\n",
    "\n",
    "\n",
    "def diamond(n):\n",
    "    if n <= 0 or n % 2 == 0:\n",
    "        return None\n",
    "    res = '{}{}\\n'.format\n",
    "    rows,stars = [],1\n",
    "      \n",
    "    for spaces in range(n // 2, -1, -1):\n",
    "        print('rows',rows)\n",
    "        print('stars',stars)\n",
    "        rows.append(res(spaces * ' ', stars * '*'))\n",
    "        stars += 2\n",
    "    print('rows[:-1][::-1]',rows[:-1][::-1])    \n",
    "    return ''.join((rows + rows[:-1][::-1]))\n",
    "\n",
    "\n",
    "\n",
    "def diamond(n):\n",
    "    if n > 0 and n % 2 == 1:\n",
    "        diamond = \"\"\n",
    "        for i in range(n):\n",
    "            diamond += \" \" * abs((n/2) - i)\n",
    "            diamond += \"*\" * (n - abs((n-1) - 2 * i))\n",
    "            diamond += \"\\n\"\n",
    "        return diamond\n",
    "    else:\n",
    "        return None"
   ]
  }
 ],
 "metadata": {
  "kernelspec": {
   "display_name": "Python 3",
   "language": "python",
   "name": "python3"
  },
  "language_info": {
   "codemirror_mode": {
    "name": "ipython",
    "version": 3
   },
   "file_extension": ".py",
   "mimetype": "text/x-python",
   "name": "python",
   "nbconvert_exporter": "python",
   "pygments_lexer": "ipython3",
   "version": "3.7.6"
  }
 },
 "nbformat": 4,
 "nbformat_minor": 4
}
