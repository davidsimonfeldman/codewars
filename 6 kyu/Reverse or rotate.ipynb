{
 "cells": [
  {
   "cell_type": "code",
   "execution_count": null,
   "metadata": {},
   "outputs": [],
   "source": [
    "The input is a string str of digits. Cut the string into chunks (a chunk here is a substring of the initial string) of size sz (ignore the last chunk if its size is less than sz).\n",
    "If a chunk represents an integer such as the sum of the cubes of its digits is divisible by 2, reverse that chunk; otherwise rotate it to the left by one position.\n",
    "Put together these modified chunks and return the result as a string.\n",
    "If\n",
    "sz is <= 0 or if str is empty return \"\"\n",
    "sz is greater (>) than the length of str it is impossible to take a chunk of size sz hence return \"\".\n",
    "Examples:\n",
    "revrot(\"123456987654\", 6) --> \"234561876549\"\n",
    "revrot(\"123456987653\", 6) --> \"234561356789\"\n",
    "revrot(\"66443875\", 4) --> \"44668753\"\n",
    "revrot(\"66443875\", 8) --> \"64438756\"\n",
    "revrot(\"664438769\", 8) --> \"67834466\"\n",
    "revrot(\"123456779\", 8) --> \"23456771\"\n",
    "revrot(\"\", 8) --> \"\"\n",
    "revrot(\"123456779\", 0) --> \"\" \n",
    "revrot(\"563000655734469485\", 4) --> \"0365065073456944\"\n",
    "Example of a string rotated to the left by one position:\n",
    "s = \"123456\" gives \"234561\".\n",
    "\n",
    "\n",
    "\n",
    "def f(s):\n",
    "    print('x',sum( map(lambda x:  x**3, [int(x) for x in  list(s)])))\n",
    "    return sum( map(lambda x:  x**3, [int(x) for x in  list(s)]))\n",
    "def revrot(s, sz):\n",
    "    if len(s)<1 or sz==0:return ''\n",
    "    print(s, sz)\n",
    "    # your codedef testing(actual, expected):\n",
    "    a=[ ]\n",
    "    b=[ s[x:x+sz] for x in range(0,len(s),sz)]\n",
    "    if len(b[-1])<sz:b=b[:-1]\n",
    "    print(a) \n",
    "    print(b)\n",
    "    for x in b:\n",
    "        print(x,len(x))\n",
    "         \n",
    "        if len(x)==sz:\n",
    "            if not f(x)%2:\n",
    "                a.append(x[::-1])\n",
    "            else: a.append(x[1:] + x[0]) \n",
    "                                    \n",
    "    return ''.join(a)"
   ]
  },
  {
   "cell_type": "code",
   "execution_count": null,
   "metadata": {},
   "outputs": [],
   "source": [
    "def revrot(s, n, res=\"\"):\n",
    "    if not s or n < 1 or n > len(s):\n",
    "        return \"\"\n",
    "    \n",
    "    while len(s) >= n:\n",
    "        group = s[:n]\n",
    "        if sum([int(d)**3 for d in group]) % 2 == 0:\n",
    "            res += group[::-1]\n",
    "        else:\n",
    "            res += group[1:] + group[0]\n",
    "        s = s[n:]\n",
    "    \n",
    "    return res"
   ]
  },
  {
   "cell_type": "code",
   "execution_count": null,
   "metadata": {},
   "outputs": [],
   "source": [
    "def revrot(strng, sz):\n",
    "    if sz <= 0 or len(strng)==0 or sz>len(strng)==0: return \"\"\n",
    "    i = 0\n",
    "    chunks = []\n",
    "    output = []\n",
    "    for i in range(0,len(strng)//sz*sz,sz): chunks.append(strng[i:i+sz])\n",
    "    for chunk in chunks:\n",
    "        l = [int(digit) for digit in chunk]\n",
    "        s = sum([num**3 for num in l])\n",
    "        if s % 2 == 0 : l.reverse()\n",
    "        else:\n",
    "            l.append(l[0])\n",
    "            l.pop(0)\n",
    "        output.extend([str(num) for num in l])\n",
    "    return ''.join(output)"
   ]
  }
 ],
 "metadata": {
  "kernelspec": {
   "display_name": "Python 3",
   "language": "python",
   "name": "python3"
  },
  "language_info": {
   "codemirror_mode": {
    "name": "ipython",
    "version": 3
   },
   "file_extension": ".py",
   "mimetype": "text/x-python",
   "name": "python",
   "nbconvert_exporter": "python",
   "pygments_lexer": "ipython3",
   "version": "3.7.6"
  }
 },
 "nbformat": 4,
 "nbformat_minor": 4
}
