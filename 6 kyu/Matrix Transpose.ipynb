{
 "cells": [
  {
   "cell_type": "code",
   "execution_count": null,
   "metadata": {},
   "outputs": [],
   "source": [
    "Write a function that outputs the transpose of a matrix - a new matrix where the columns and rows of the original are swapped.\n",
    "\n",
    "For example, the transpose of:\n",
    "\n",
    "| 1 2 3 |\n",
    "| 4 5 6 |\n",
    "is\n",
    "\n",
    "| 1 4 |\n",
    "| 2 5 |\n",
    "| 3 6 |\n",
    "The input to your function will be an array of matrix rows. You can assume that each row has the same length, and that the height and width of the matrix are both positive.\n",
    "\n",
    "\n",
    "\n",
    "import numpy as np\n",
    "def transpose(m):\n",
    "    print((m))\n",
    "    if m:\n",
    "        return [[m[j][i] for j in range(len(m))] for i in range(len(m[0]))] \n",
    "    \n",
    "    \n",
    "def transpose(matrix):\n",
    "    return list(map(list, zip(*matrix)))\n",
    "\n",
    "\n",
    "\n",
    "import numpy as np\n",
    "def transpose(matrix):\n",
    "    return np.transpose(np.matrix(matrix)).tolist()    "
   ]
  }
 ],
 "metadata": {
  "kernelspec": {
   "display_name": "Python 3",
   "language": "python",
   "name": "python3"
  },
  "language_info": {
   "codemirror_mode": {
    "name": "ipython",
    "version": 3
   },
   "file_extension": ".py",
   "mimetype": "text/x-python",
   "name": "python",
   "nbconvert_exporter": "python",
   "pygments_lexer": "ipython3",
   "version": "3.7.6"
  }
 },
 "nbformat": 4,
 "nbformat_minor": 4
}
