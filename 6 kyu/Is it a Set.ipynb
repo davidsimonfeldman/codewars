{
 "cells": [
  {
   "cell_type": "code",
   "execution_count": null,
   "metadata": {},
   "outputs": [],
   "source": [
    "set! is a card game where you compete with other players, to find out who can find a set of cards first.\n",
    "Your task is to write a function that checks if a collection of three input cards qualifies as a set.\n",
    "The cards\n",
    "Every card has one, two or three symbols in it. A symbol has three distinct features:\n",
    "Shape (either diamond, snake or capsule)\n",
    "Colour (either green, blue or red)\n",
    "Pattern (either blank, striped or solid)\n",
    "The Set Cards(Image is taken as fair use from Wikipedia.)\n",
    "What's a set?\n",
    "A set always consists of three cards. The set is considered valid if, and only if, every property of the card is either the same as the other two cards, or distinct from the other two.\n",
    "Properties include the three features mentioned above plus the quantity of symbols.\n",
    "Input & Output\n",
    "You will receive an four arrays, containing the properties of the cards. One array, containing the quantity of symbols, will be numeric, the others will contain strings.\n",
    "It's safe to assume that any card provided will always satisfy the properties outlined above. For example, there will be no card passed with 5 symbols, or with a circle shape.\n",
    "Your task is to return a boolean, indicating if the given input properties qualify as a valid set - true if they do false if not.\n",
    "\n",
    "\n",
    "def is_valid_set(quantities, shapes, colours, patterns):\n",
    "    print(quantities, shapes, colours, patterns)\n",
    "    if len(set(quantities)) in [1,3] and len(set(shapes)) in [1,3] and len(set(colours)) in [1,3] and len(set(patterns)) in [1,3]:return True\n",
    "    else:return False\n",
    "    \n",
    "    \n",
    "def is_valid_set(*props):\n",
    "    return all(len(set(x))!=2 for x in props)\n",
    "\n",
    "\n",
    "def is_valid_set(*args):\n",
    "    return all(len(set(x)) != 2 for x in args)\n",
    "\n",
    "\n",
    "def is_valid_set(quantities, shapes, colours, patterns):\n",
    "    return all(len(set(s)) != 2 for s in (quantities, shapes, colours, patterns))    \n"
   ]
  }
 ],
 "metadata": {
  "kernelspec": {
   "display_name": "Python 3",
   "language": "python",
   "name": "python3"
  },
  "language_info": {
   "codemirror_mode": {
    "name": "ipython",
    "version": 3
   },
   "file_extension": ".py",
   "mimetype": "text/x-python",
   "name": "python",
   "nbconvert_exporter": "python",
   "pygments_lexer": "ipython3",
   "version": "3.7.6"
  }
 },
 "nbformat": 4,
 "nbformat_minor": 4
}
