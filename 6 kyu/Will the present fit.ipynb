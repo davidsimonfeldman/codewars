{
 "cells": [
  {
   "cell_type": "code",
   "execution_count": null,
   "metadata": {},
   "outputs": [],
   "source": [
    "Santa's elves are boxing presents, and they need your help! Write a function that takes two sequences of dimensions of the present and the box, respectively, and returns a Boolean \n",
    "based on whether or not the present will fit in the box provided. The box's walls are one unit thick, so be sure to take that in to account.\n",
    "\n",
    "Examples: Present and box respectively\n",
    "\n",
    "[10, 7, 16], [13, 32, 10] --> true, box is bigger than present\n",
    "[5, 7, 9], [9, 5, 7]      --> false, present and box are same size\n",
    "[17, 22, 10], [5, 5, 10]) --> false, box is too small\n",
    "\n",
    "\n",
    "\n",
    "def will_fit(p, b): \n",
    "    # your code here\n",
    "    a=list(zip(*map(sorted,[p,b])))\n",
    "    \n",
    "    print(a)\n",
    "    return all(x+1<y for x,y in a)\n",
    "\n",
    "\n",
    "\n",
    "def will_fit(present: tuple, box: tuple)->bool:\n",
    "    return all([a-1 > b for a, b in zip(sorted(box), sorted(present))])\n",
    "\n",
    "\n",
    "\n",
    "def will_fit(*a):\n",
    "    return all(x<y-1 for x,y in zip(*map(sorted,a)))\n",
    "\n",
    "\n",
    "def will_fit(present, box): \n",
    "    return all(i<(j-1) for i,j in zip(sorted(present),sorted(box)))"
   ]
  }
 ],
 "metadata": {
  "kernelspec": {
   "display_name": "Python 3",
   "language": "python",
   "name": "python3"
  },
  "language_info": {
   "codemirror_mode": {
    "name": "ipython",
    "version": 3
   },
   "file_extension": ".py",
   "mimetype": "text/x-python",
   "name": "python",
   "nbconvert_exporter": "python",
   "pygments_lexer": "ipython3",
   "version": "3.7.6"
  }
 },
 "nbformat": 4,
 "nbformat_minor": 4
}
