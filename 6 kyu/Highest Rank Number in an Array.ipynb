{
 "cells": [
  {
   "cell_type": "code",
   "execution_count": null,
   "metadata": {},
   "outputs": [],
   "source": [
    "Complete the method which returns the number which is most frequent in the given input array. If there is a tie for most frequent number, return the largest number among them.\n",
    "\n",
    "Note: no empty arrays will be given.\n",
    "\n",
    "Examples\n",
    "[12, 10, 8, 12, 7, 6, 4, 10, 12]              -->  12\n",
    "[12, 10, 8, 12, 7, 6, 4, 10, 12, 10]          -->  12\n",
    "[12, 10, 8, 8, 3, 3, 3, 3, 2, 4, 10, 12, 10]  -->   3\n",
    "\n",
    "import operator\n",
    "def highest_rank(arr):\n",
    "    # your code here\n",
    "    print(arr)\n",
    "    a={i: arr.count(i) for i in set(arr)}\n",
    "    b=sorted(a.items(), key=lambda kv: (kv[1],kv[0]))\n",
    "    print(b)\n",
    "    return b[-1][0]\n",
    "\n",
    "\n",
    "\n",
    "def highest_rank(arr):\n",
    "    print(arr)\n",
    "    return max(sorted(arr,reverse=True), key=arr.count)\n",
    "\n",
    "\n",
    "\n",
    "from collections import Counter\n",
    "\n",
    "def highest_rank(arr):\n",
    "    if arr:\n",
    "        c = Counter(arr)\n",
    "        m = max(c.values())\n",
    "        return max(k for k,v in c.items() if v==m)\n",
    "\n",
    "    \n",
    "    \n",
    "def highest_rank(arr):\n",
    "    return sorted(arr,key=lambda x: (arr.count(x),x))[-1]\n",
    "\n",
    "\n",
    "def highest_rank(arr):\n",
    "    return max(sorted(arr,reverse=True), key=arr.count)\n"
   ]
  }
 ],
 "metadata": {
  "kernelspec": {
   "display_name": "Python 3",
   "language": "python",
   "name": "python3"
  },
  "language_info": {
   "codemirror_mode": {
    "name": "ipython",
    "version": 3
   },
   "file_extension": ".py",
   "mimetype": "text/x-python",
   "name": "python",
   "nbconvert_exporter": "python",
   "pygments_lexer": "ipython3",
   "version": "3.7.6"
  }
 },
 "nbformat": 4,
 "nbformat_minor": 4
}
