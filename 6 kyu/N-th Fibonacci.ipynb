{
 "cells": [
  {
   "cell_type": "code",
   "execution_count": null,
   "metadata": {},
   "outputs": [],
   "source": [
    "I love Fibonacci numbers in general, but I must admit I love some more than others.\n",
    "\n",
    "I would like for you to write me a function that when given a number (n) returns the n-th number in the Fibonacci Sequence.\n",
    "\n",
    "For example:\n",
    "\n",
    "   nth_fib(4) == 2\n",
    "Because 2 is the 4th number in the Fibonacci Sequence.\n",
    "\n",
    "For reference, the first two numbers in the Fibonacci sequence are 0 and 1, and each subsequent number is the sum of the previous two.\n",
    "\n",
    "\n",
    "def nth_fib(n):\n",
    "    if n<0: \n",
    "        return None \n",
    "    elif n==0 or n==1: \n",
    "        return 0\n",
    "    elif n==2: \n",
    "        return 1    \n",
    "    else: \n",
    "        return nth_fib(n-1)+nth_fib(n-2) \n",
    "\n",
    "\n",
    "\n",
    "\n",
    "\n",
    "def nth_fib(n):\n",
    "  a, b = 0, 1\n",
    "  for i in range(n-1):\n",
    "    a, b = b, a + b\n",
    "  return a\n",
    "\n",
    "\n",
    "\n",
    "def nth_fib(n):\n",
    "    if n <= 2:\n",
    "        return n-1\n",
    "    return nth_fib(n-1) + nth_fib(n-2)"
   ]
  }
 ],
 "metadata": {
  "kernelspec": {
   "display_name": "Python 3",
   "language": "python",
   "name": "python3"
  },
  "language_info": {
   "codemirror_mode": {
    "name": "ipython",
    "version": 3
   },
   "file_extension": ".py",
   "mimetype": "text/x-python",
   "name": "python",
   "nbconvert_exporter": "python",
   "pygments_lexer": "ipython3",
   "version": "3.7.6"
  }
 },
 "nbformat": 4,
 "nbformat_minor": 4
}
