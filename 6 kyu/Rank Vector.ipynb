{
 "cells": [
  {
   "cell_type": "code",
   "execution_count": null,
   "metadata": {},
   "outputs": [],
   "source": [
    "Given an array (or list) of scores, return the array of ranks for each value in the array. \n",
    "The largest value has rank 1, the second largest value has rank 2, and so on. Ties should be handled by assigning the same rank to all tied values. For example:\n",
    "ranks([9,3,6,10]) = [2,4,3,1]\n",
    "and\n",
    "ranks([3,3,3,3,3,5,1]) = [2,2,2,2,2,1,7]\n",
    "because there is one 1st place value, a five-way tie for 2nd place, and one in 7th place.\n",
    "\n",
    "\n",
    "\n",
    "\n",
    "def ranks(a):\n",
    "     \n",
    "    print('a',a)\n",
    "    seq = sorted(a, reverse=True)\n",
    "    print('seq',seq)\n",
    "    index = [ ]\n",
    "    for x in a:\n",
    "        print(seq.index(x)+1)\n",
    "        index.append(seq.index(x)+1 )\n",
    "    print(index )    \n",
    "    return(index )\n",
    "\n",
    "\n",
    "def ranks(a):\n",
    "    sortA = sorted(a, reverse=True)\n",
    "    return [sortA.index(x) + 1 for x in a]\n",
    "\n",
    "\n",
    "def ranks(results):\n",
    "    ranks = {}\n",
    "    for k, v in enumerate(sorted(results, reverse=True), start=1):\n",
    "        if not v in ranks:\n",
    "            ranks[v] = k\n",
    "    return [ranks[i] for i in results]\n",
    "\n",
    "\n",
    "def ranks(a):\n",
    "    return [sorted(a, reverse = True).index(m) + 1 for m in a]"
   ]
  }
 ],
 "metadata": {
  "kernelspec": {
   "display_name": "Python 3",
   "language": "python",
   "name": "python3"
  },
  "language_info": {
   "codemirror_mode": {
    "name": "ipython",
    "version": 3
   },
   "file_extension": ".py",
   "mimetype": "text/x-python",
   "name": "python",
   "nbconvert_exporter": "python",
   "pygments_lexer": "ipython3",
   "version": "3.7.6"
  }
 },
 "nbformat": 4,
 "nbformat_minor": 4
}
