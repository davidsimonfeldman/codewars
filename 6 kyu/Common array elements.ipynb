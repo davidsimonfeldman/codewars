{
 "cells": [
  {
   "cell_type": "code",
   "execution_count": null,
   "metadata": {},
   "outputs": [],
   "source": [
    "Given three arrays of integers, return the sum of elements that are common in all three arrays.\n",
    "\n",
    "For example:\n",
    "\n",
    "common([1,2,3],[5,3,2],[7,3,2]) = 5 because 2 & 3 are common in all 3 arrays\n",
    "common([1,2,2,3],[5,3,2,2],[7,3,2,2]) = 7 because 2,2 & 3 are common in the 3 arrays\n",
    "More examples in the test cases.\n",
    "\n",
    "\n",
    "\n",
    "from functools import reduce\n",
    "from operator import and_\n",
    "from collections import Counter\n",
    "\n",
    "def common(a,b,c):\n",
    "    return sum(reduce(and_,map(Counter, (a,b,c) )).elements())\n",
    "\n",
    "\n",
    "from collections import Counter\n",
    "\n",
    "def common(a, b, c):\n",
    "    abc = Counter(a) & Counter(b) & Counter(c)\n",
    "    return sum(n * q for n, q in abc.items())"
   ]
  },
  {
   "cell_type": "code",
   "execution_count": 8,
   "metadata": {
    "ExecuteTime": {
     "end_time": "2021-07-12T12:59:42.104919Z",
     "start_time": "2021-07-12T12:59:42.093917Z"
    }
   },
   "outputs": [],
   "source": [
    "from collections import Counter\n",
    "def common(a,b,c):\n",
    "    a=( list((Counter(a) & Counter(b) & Counter(c)).elements()))\n",
    "    print(a)\n",
    "    return sum(a)"
   ]
  },
  {
   "cell_type": "code",
   "execution_count": 9,
   "metadata": {
    "ExecuteTime": {
     "end_time": "2021-07-12T12:59:42.514135Z",
     "start_time": "2021-07-12T12:59:42.486427Z"
    }
   },
   "outputs": [
    {
     "name": "stdout",
     "output_type": "stream",
     "text": [
      "[2, 2, 3]\n"
     ]
    },
    {
     "data": {
      "text/plain": [
       "7"
      ]
     },
     "execution_count": 9,
     "metadata": {},
     "output_type": "execute_result"
    }
   ],
   "source": [
    "common([1, 2, 2, 3] ,[5, 3, 2, 2], [7, 3, 2, 2])"
   ]
  },
  {
   "cell_type": "code",
   "execution_count": 13,
   "metadata": {
    "ExecuteTime": {
     "end_time": "2021-07-12T13:04:01.052726Z",
     "start_time": "2021-07-12T13:04:01.027099Z"
    }
   },
   "outputs": [
    {
     "name": "stdout",
     "output_type": "stream",
     "text": [
      "Counter({'e': 4, 'g': 2, 'k': 2, 's': 2, 'f': 1, 'o': 1, 'r': 1})\n",
      "g g e e e e k k s s f o r g e k s f o r "
     ]
    }
   ],
   "source": [
    "a = Counter(\"geeksforgeeks\")\n",
    "print(a) \n",
    "# Elements of counter object\n",
    "for i in a.elements():\n",
    "    print ( i, end = \" \")\n",
    "# print()\n",
    "for i in a.keys():\n",
    "    print ( i, end = \" \")\n",
    "# print()"
   ]
  },
  {
   "cell_type": "code",
   "execution_count": null,
   "metadata": {},
   "outputs": [],
   "source": []
  }
 ],
 "metadata": {
  "kernelspec": {
   "display_name": "Python 3",
   "language": "python",
   "name": "python3"
  },
  "language_info": {
   "codemirror_mode": {
    "name": "ipython",
    "version": 3
   },
   "file_extension": ".py",
   "mimetype": "text/x-python",
   "name": "python",
   "nbconvert_exporter": "python",
   "pygments_lexer": "ipython3",
   "version": "3.7.6"
  }
 },
 "nbformat": 4,
 "nbformat_minor": 4
}
