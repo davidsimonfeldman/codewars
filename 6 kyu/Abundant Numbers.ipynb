{
 "cells": [
  {
   "cell_type": "code",
   "execution_count": null,
   "metadata": {},
   "outputs": [],
   "source": [
    "In number theory, an abundant number or an excessive number is one for which the sum of it's proper divisors is greater than the number itself. The integer 12 is the first abundant number.\n",
    "Its proper divisors are 1, 2, 3, 4 and 6 for a total of 16. The amount by which the sum exceeds the number is the abundance. The number 12 has an abundance of 4, for example.\n",
    "Other initial abundant numbers are : 12, 18, 20, 24, 30, 36, 40, 42, 48, 54 etc . Infinitely many odd and even abundant numbers exist.\n",
    "As you should have guessed by now, in this kata your function will take a positive integer h as range input and return a nested array/list that will contain the following informations-\n",
    "\n",
    "Highest available odd or even abundant number in that range\n",
    "It's abundance\n",
    "Examples\n",
    "A few examples never hurt nobody, right???\n",
    "\n",
    "abundant(15)  = [[12], [4]]\n",
    "abundant(19)  = [[18], [3]]\n",
    "abundant(100) = [[100], [17]]\n",
    "abundant(999) = [[996], [360]]\n",
    "Tips\n",
    "The problem involves some pretty big random numbers. So try to optimize your code for performance as far as you can. \n",
    "And yes, the input argument will always be positive integers. So no need to check there.\n",
    "\n",
    "Good luck!\n",
    "\n",
    "\n",
    "\n",
    "def f(num):\n",
    "    # Your code here\n",
    "    a=0\n",
    "    print(num)\n",
    "    for x in range(1,int(num *(.5)+1)):\n",
    "        if not num%x:\n",
    "            a+=x\n",
    "    print([a>num  , a-num])        \n",
    "    return [a>num  , a-num]\n",
    "def abundant(h):\n",
    "    if f(h)[0]==True:return [[ h],[f(h)[1]]]\n",
    "    if f(h-1)[0]==True:return [[ h-1],[f(h-1)[1]]]\n",
    "    if f(h-2)[0]==True:return [[ h-2],[f(h-2)[1]]]\n",
    "    if f(h-3)[0]==True:return [[ h-3],[f(h-3)[1]]]\n",
    "    if f(h-4)[0]==True:return [[ h-4],[f(h-4)[1]]]\n",
    "    if f(h-5)[0]==True:return [[ h-5],[f(h-5)[1]]]\n",
    "    \n",
    "    \n",
    "    \n",
    "    \n",
    "def abundant(h):\n",
    "    for n in range(h,0,-1):\n",
    "        s = sum(i for i in range(1,n) if n % i == 0)\n",
    "        if s > h:\n",
    "            return [[n],[s-n]]    \n"
   ]
  }
 ],
 "metadata": {
  "kernelspec": {
   "display_name": "Python 3",
   "language": "python",
   "name": "python3"
  },
  "language_info": {
   "codemirror_mode": {
    "name": "ipython",
    "version": 3
   },
   "file_extension": ".py",
   "mimetype": "text/x-python",
   "name": "python",
   "nbconvert_exporter": "python",
   "pygments_lexer": "ipython3",
   "version": "3.7.6"
  }
 },
 "nbformat": 4,
 "nbformat_minor": 4
}
