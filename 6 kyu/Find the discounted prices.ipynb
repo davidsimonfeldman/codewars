{
 "cells": [
  {
   "cell_type": "code",
   "execution_count": null,
   "metadata": {},
   "outputs": [],
   "source": [
    "Your friend Cody has to sell a lot of jam, so he applied a good 25% discount to all his merchandise.\n",
    "\n",
    "Trouble is that he mixed all the prices (initial and discounted), so now he needs your cool coding skills to filter out only the discounted prices.\n",
    "\n",
    "For example, consider this inputs:\n",
    "\n",
    "\"15 20 60 75 80 100\"\n",
    "\"9 9 12 12 12 15 16 20\"\n",
    "They should output:\n",
    "\n",
    "\"15 60 75\"\n",
    "\"9 9 12 15\"\n",
    "Every input will always have all the prices in pairs (initial and discounted) sorted from smaller to bigger.\n",
    "\n",
    "You might have noticed that the second sample input can be tricky already; also, try to have an eye for performances, as huge inputs could be tested too.\n",
    "\n",
    "Final Note: kata blatantly taken from this problem (and still not getting why they created a separated Code Jam for ladies, as I find it rather discriminating...).\n",
    "    \n",
    "    \n",
    "    \n",
    "def find_discounted(prices):\n",
    "    numberslist=[int(x) for x in prices.split()]\n",
    "    discounts=[]\n",
    "    while numberslist:\n",
    "        d=numberslist[0]\n",
    "        try:\n",
    "            check=round(d/0.75)\n",
    "            numberslist.remove(check)\n",
    "            numberslist.remove(d)\n",
    "            discounts.append(str(d))\n",
    "        except:\n",
    "            numberslist.remove(d) \n",
    "    return ' '.join(discounts)\n",
    " \n",
    "    \n",
    "    \n",
    "    \n",
    "def find_discounted(prices):\n",
    "    prices = [int(n) for n in prices.split()]\n",
    "    return \" \".join(prices.remove(round(p*4/3)) or str(p) for p in prices)\n",
    "\n",
    "\n",
    "\n",
    "\n",
    "def find_discounted(prices):\n",
    "    disc = []\n",
    "    arr = map(int, prices.split())\n",
    "    while arr:\n",
    "        d = arr.pop() * 3 // 4\n",
    "        arr.remove(d)\n",
    "        disc.append(str(d))\n",
    "    return ' '.join(disc[::-1])    \n",
    "    "
   ]
  }
 ],
 "metadata": {
  "kernelspec": {
   "display_name": "Python 3",
   "language": "python",
   "name": "python3"
  },
  "language_info": {
   "codemirror_mode": {
    "name": "ipython",
    "version": 3
   },
   "file_extension": ".py",
   "mimetype": "text/x-python",
   "name": "python",
   "nbconvert_exporter": "python",
   "pygments_lexer": "ipython3",
   "version": "3.7.6"
  }
 },
 "nbformat": 4,
 "nbformat_minor": 4
}
