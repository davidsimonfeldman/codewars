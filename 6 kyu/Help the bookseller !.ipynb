{
 "cells": [
  {
   "cell_type": "code",
   "execution_count": null,
   "metadata": {},
   "outputs": [],
   "source": [
    "A bookseller has lots of books classified in 26 categories labeled A, B, ... Z. Each book has a code c of 3, 4, 5 or more characters.\n",
    "The 1st character of a code is a capital letter which defines the book category.\n",
    "In the bookseller's stocklist each code c is followed by a space and by a positive integer n (int n >= 0) which indicates the quantity of books of this code in stock.\n",
    "For example an extract of a stocklist could be:\n",
    "L = {\"ABART 20\", \"CDXEF 50\", \"BKWRK 25\", \"BTSQZ 89\", \"DRTYM 60\"}.\n",
    "or\n",
    "L = [\"ABART 20\", \"CDXEF 50\", \"BKWRK 25\", \"BTSQZ 89\", \"DRTYM 60\"] or ....\n",
    "You will be given a stocklist (e.g. : L) and a list of categories in capital letters e.g :\n",
    "M = {\"A\", \"B\", \"C\", \"W\"} \n",
    "or\n",
    "M = [\"A\", \"B\", \"C\", \"W\"] or ...\n",
    "and your task is to find all the books of L with codes belonging to each category of M and to sum their quantity according to each category.\n",
    "For the lists L and M of example you have to return the string (in Haskell/Clojure/Racket a list of pairs):\n",
    "(A : 20) - (B : 114) - (C : 50) - (W : 0)\n",
    "where A, B, C, W are the categories, 20 is the sum of the unique book of category A, 114 the sum corresponding to \"BKWRK\" and \"BTSQZ\", 50 corresponding to \"CDXEF\" and 0 to \n",
    "category 'W' since there are no code beginning with W.\n",
    "If L or M are empty return string is \"\" (Clojure and Racket should return an empty array/list instead).\n",
    "Note:\n",
    "In the result codes and their values are in the same order as in M.\n",
    "\n",
    "\n",
    "def stock_list(a, b):\n",
    "# this is an amazing solutoin to an amazing kata\n",
    "    if len(a) == 0 or len(b) == 0:\n",
    "        return '' \n",
    "    lst=[]\n",
    "    for y in b:\n",
    "        total = 0\n",
    "        for x in a:\n",
    "            if x[0]==y:\n",
    "                total += int(x.split()[1])\n",
    "        lst.append((y, total))\n",
    "    print(lst)    \n",
    "    d=dict(lst)\n",
    "    print(d)\n",
    "    return ' - '.join(['({} : {})'.format(x , y) for x,y in d.items()])\n",
    "\n",
    "\n",
    "\n",
    "\n",
    "from collections import Counter\n",
    "def stock_list(listOfArt, listOfCat):\n",
    "    if not listOfArt:\n",
    "        return ''\n",
    "    codePos = listOfArt[0].index(' ') + 1\n",
    "    cnt = Counter()\n",
    "    for s in listOfArt:\n",
    "        cnt[s[0]] += int(s[codePos:])\n",
    "    return ' - '.join('({} : {})'.format(cat, cnt[cat]) for cat in listOfCat)"
   ]
  }
 ],
 "metadata": {
  "kernelspec": {
   "display_name": "Python 3",
   "language": "python",
   "name": "python3"
  },
  "language_info": {
   "codemirror_mode": {
    "name": "ipython",
    "version": 3
   },
   "file_extension": ".py",
   "mimetype": "text/x-python",
   "name": "python",
   "nbconvert_exporter": "python",
   "pygments_lexer": "ipython3",
   "version": "3.7.6"
  }
 },
 "nbformat": 4,
 "nbformat_minor": 4
}
