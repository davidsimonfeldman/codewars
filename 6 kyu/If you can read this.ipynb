{
 "cells": [
  {
   "cell_type": "code",
   "execution_count": null,
   "metadata": {},
   "outputs": [],
   "source": [
    "Task\n",
    "You'll have to translate a string to Pilot's alphabet (NATO phonetic alphabet).\n",
    "Input:\n",
    "If, you can read?\n",
    "Output:\n",
    "India Foxtrot , Yankee Oscar Uniform Charlie Alfa November Romeo Echo Alfa Delta ?\n",
    "Note:\n",
    "There are preloaded dictionary you can use, named NATO\n",
    "The set of used punctuation is ,.!?.\n",
    "Punctuation should be kept in your return string, but spaces should not.\n",
    "Xray should not have a dash within.\n",
    "Every word and punctuation mark should be seperated by a space ' '.\n",
    "There should be no trailing whitespace\n",
    "\n",
    "\n",
    "\n",
    "def to_nato(w):\n",
    "    w=w.replace(' ','')\n",
    "    print(w)\n",
    "    #your code here\n",
    "    a={'a':'Alfa','b':'Bravo','c':'Charlie','d':'Delta','e':'Echo','f':'Foxtrot','g':'Golf','h':'Hotel','i':'India','j':'Juliett','k':'Kilo','l':'Lima','m':'Mike','n':'November','o':'Oscar','p':'Papa','q':'Quebec','r':'Romeo','s':'Sierra','t':'Tango','u':'Uniform','v':'Victor','w':'Whiskey','x':'Xray','y':'Yankee','z':'Zulu'}\n",
    "    b=''\n",
    "    for x in w:\n",
    "#         if x==' ':continue\n",
    "        if x.lower() in list(a.keys()):\n",
    "            b+=a[x.lower()]+' '\n",
    "        else:b+=x +' '\n",
    "              \n",
    "    return b.strip()  \n",
    "\n",
    "\n",
    "\n",
    "\n",
    "def to_nato(words):\n",
    "    return \" \".join(NATO.get(char, char) for char in words.upper() if not char.isspace())\n",
    "\n",
    "\n",
    "\n",
    "import string\n",
    "db = { 'A':'Alfa','B':'Bravo','C':'Charlie','D':'Delta','E':'Echo',\n",
    "       'F':'Foxtrot','G':'Golf','H':'Hotel','I':'India','J':'Juliett',\n",
    "       'K':'Kilo','L':'Lima','M':'Mike','N':'November','O':'Oscar',\n",
    "       'P':'Papa','Q':'Quebec','R':'Romeo','S':'Sierra','T':'Tango',\n",
    "       'U':'Uniform','V':'Victor','W':'Whiskey','X':'Xray','Y':'Yankee',\n",
    "       'Z':'Zulu'\n",
    "      }\n",
    "def to_nato(words):\n",
    "    words = words.replace(' ','').upper()\n",
    "    return ' '.join([db[i] if i in db else i for i in list(words)])"
   ]
  }
 ],
 "metadata": {
  "kernelspec": {
   "display_name": "Python 3",
   "language": "python",
   "name": "python3"
  },
  "language_info": {
   "codemirror_mode": {
    "name": "ipython",
    "version": 3
   },
   "file_extension": ".py",
   "mimetype": "text/x-python",
   "name": "python",
   "nbconvert_exporter": "python",
   "pygments_lexer": "ipython3",
   "version": "3.7.6"
  }
 },
 "nbformat": 4,
 "nbformat_minor": 4
}
