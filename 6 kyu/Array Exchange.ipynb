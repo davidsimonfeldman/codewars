{
 "cells": [
  {
   "cell_type": "code",
   "execution_count": null,
   "metadata": {},
   "outputs": [],
   "source": [
    "Array Exchange and Reversing\n",
    "\n",
    "It's time for some array exchange! The objective is simple: exchange the elements of two arrays in-place in a way that their new content is also reversed.\n",
    "\n",
    "# before\n",
    "my_list = ['a', 'b', 'c']\n",
    "other_list = [1, 2, 3]\n",
    "\n",
    "exchange_with(my_list, other_list)\n",
    "\n",
    "# after\n",
    "my_list == [3, 2, 1]\n",
    "other_list == ['c', 'b', 'a']\n",
    "\n",
    "\n",
    "\n",
    "def exchange_with(a, b):\n",
    "    a[:],b[:]=reversed(list(b)),reversed(list(a))   \n",
    "    \n",
    "    \n",
    "    \n",
    "def exchange_with(a, b):\n",
    "    a[:], b[:] = b[::-1], a[::-1]    "
   ]
  }
 ],
 "metadata": {
  "kernelspec": {
   "display_name": "Python 3",
   "language": "python",
   "name": "python3"
  },
  "language_info": {
   "codemirror_mode": {
    "name": "ipython",
    "version": 3
   },
   "file_extension": ".py",
   "mimetype": "text/x-python",
   "name": "python",
   "nbconvert_exporter": "python",
   "pygments_lexer": "ipython3",
   "version": "3.7.6"
  }
 },
 "nbformat": 4,
 "nbformat_minor": 4
}
