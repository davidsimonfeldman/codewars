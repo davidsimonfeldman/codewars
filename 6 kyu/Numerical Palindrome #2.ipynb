{
 "cells": [
  {
   "cell_type": "code",
   "execution_count": null,
   "metadata": {},
   "outputs": [],
   "source": [
    "A palindrome is a word, phrase, number, or other sequence of characters which reads the same backward as forward. Examples of numerical palindromes are:\n",
    "2332\n",
    "110011\n",
    "54322345\n",
    "For this kata, single digit numbers will not be considered numerical palindromes.\n",
    "For a given number num, write a function to test if the number contains a numerical palindrome or not and return a boolean (true if it does and false if does not).\n",
    "Return \"Not valid\" if the input is not an integer or is less than 0.\n",
    "Note: Palindromes should be found without permutating num.\n",
    "palindrome(5) => false\n",
    "palindrome(1221) => true\n",
    "palindrome(141221001) => true\n",
    "palindrome(1215) => true \n",
    "palindrome(1294) => false \n",
    "palindrome(\"109982\") => \"Not valid\"\n",
    "In Haskell, this returns a Maybe Bool, with Nothing for an input less than zero.\n",
    "\n",
    "\n",
    "\n",
    "def palindrome(num):\n",
    "    # Code here\n",
    "    if type(num)!=int or num<0:return 'Not valid'\n",
    "    for i in range(len(str(num))):\n",
    "         for j in range(i+2,len(str(num))+1):\n",
    "            temp = str(num)[i:j]\n",
    "            \n",
    "            if temp == temp[::-1]:return True\n",
    "    return False\n",
    "\n",
    "\n",
    "\n",
    "\n",
    "def palindrome(num):\n",
    "    if type(num) != int or num < 0: return \"Not valid\"\n",
    "    s = str(num)\n",
    "    for i in range(len(s)-2):\n",
    "        if s[i] == s[i+1] or s[i] == s[i+2]: return True\n",
    "    return len(s) != 1 and s[-1] == s[-2]"
   ]
  }
 ],
 "metadata": {
  "kernelspec": {
   "display_name": "Python 3",
   "language": "python",
   "name": "python3"
  },
  "language_info": {
   "codemirror_mode": {
    "name": "ipython",
    "version": 3
   },
   "file_extension": ".py",
   "mimetype": "text/x-python",
   "name": "python",
   "nbconvert_exporter": "python",
   "pygments_lexer": "ipython3",
   "version": "3.7.6"
  }
 },
 "nbformat": 4,
 "nbformat_minor": 4
}
