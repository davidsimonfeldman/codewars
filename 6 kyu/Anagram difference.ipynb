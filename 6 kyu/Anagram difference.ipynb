{
 "cells": [
  {
   "cell_type": "code",
   "execution_count": null,
   "metadata": {},
   "outputs": [],
   "source": [
    "Given two words, how many letters do you have to remove from them to make them anagrams?\n",
    "Example\n",
    "First word : c od e w ar s (4 letters removed)\n",
    "Second word : ha c k er r a nk (6 letters removed)\n",
    "Result : 10\n",
    "Hints\n",
    "A word is an anagram of another word if they have the same letters (usually in a different order).\n",
    "Do not worry about case. All inputs will be lowercase.\n",
    "When you're done with this kata, check out its big brother/sister : https://www.codewars.com/kata/hardcore-anagram-difference\n",
    "\n",
    "\n",
    "\n",
    "\n",
    "from collections import Counter, OrderedDict\n",
    "import string\n",
    "def anagram_difference(  s , t ) :\n",
    "        counterS, counterT = Counter(s.lower()),  Counter(t.lower())\n",
    "        res = 0\n",
    "        print('counterT', counterT)\n",
    "        print('counterS', counterS)\n",
    "        print('string.ascii_lowercase',string.ascii_lowercase)\n",
    "        for c in string.ascii_lowercase:\n",
    "            res += abs(counterS[c] - counterT[c])\n",
    "        print(s)\n",
    "        return res \n",
    "    \n",
    "    \n",
    "    \n",
    "    \n",
    "    \n",
    "    \n",
    "from collections import Counter\n",
    "\n",
    "def anagram_difference(*words):\n",
    "    c1,c2 = map(Counter,words)\n",
    "    c1.subtract(c2)\n",
    "    return sum(map(abs, c1.values()))\n",
    "\n",
    "\n",
    "\n",
    "from collections import Counter\n",
    "\n",
    "def anagram_difference(w1, w2):\n",
    "    c1, c2 = Counter(w1), Counter(w2)\n",
    "    return sum(((c1 - c2) + (c2 - c1)).values())\n",
    "\n",
    "\n",
    "\n",
    "\n",
    "\n",
    "\n",
    "from collections import Counter\n",
    "\n",
    "def anagram_difference(*words):\n",
    "    c1,c2 = map(Counter,words)\n",
    "    c1.subtract(c2)\n",
    "    return sum(map(abs, c1.values()))\n",
    "\n",
    "\n",
    "\n",
    "from collections import Counter\n",
    "\n",
    "def anagram_difference(w1, w2):\n",
    "    anagram_counter = Counter(w1) & Counter(w2)\n",
    "    return len(w1) + len(w2) - 2 * sum(anagram_counter.values())\n",
    "\n",
    "\n",
    "\n",
    "\n",
    " \n"
   ]
  },
  {
   "cell_type": "code",
   "execution_count": 34,
   "metadata": {
    "ExecuteTime": {
     "end_time": "2021-07-28T08:27:49.129354Z",
     "start_time": "2021-07-28T08:27:49.113620Z"
    }
   },
   "outputs": [
    {
     "name": "stdout",
     "output_type": "stream",
     "text": [
      "['a', 'f', 'k', 'y', 't']\n",
      "[2, 1, 2, 2, 1]\n",
      "[('a', 2), ('f', 1), ('k', 2), ('y', 2), ('t', 1)]\n",
      "['a', 'a', 'f', 'k', 'k', 'y', 'y', 't']\n",
      "['a', 'f', 'k', 'y', 't', 'b']\n",
      "[2, 1, 2, 2, 1, 1]\n",
      "[('a', 2), ('f', 1), ('k', 2), ('y', 2), ('t', 1), ('b', 1)]\n",
      "['a', 'a', 'f', 'k', 'k', 'y', 'y', 't', 'b']\n",
      "['b']\n",
      "None\n"
     ]
    }
   ],
   "source": [
    "from collections import Counter\n",
    "\n",
    "a=['a','f','k','y','y','k','a','t']\n",
    "b=['a','f','k','y','y','k','a','t','b']\n",
    "c=Counter(a)\n",
    "print(list(c.keys()))\n",
    "print(list(c.values()))\n",
    "print(list(c.items()))\n",
    "print(list(c.elements()))\n",
    "d=Counter(b)\n",
    "# print( ((d.subtract(c)) ))\n",
    "\n",
    "print(list(d.keys()))\n",
    "print(list(d.values()))\n",
    "print(list(d.items()))\n",
    "print(list(d.elements()))\n",
    "print(list((d-(c)).elements()))\n",
    "print( ((d.subtract(c)) ))\n"
   ]
  },
  {
   "cell_type": "code",
   "execution_count": 35,
   "metadata": {
    "ExecuteTime": {
     "end_time": "2021-07-28T08:27:59.603768Z",
     "start_time": "2021-07-28T08:27:59.570268Z"
    }
   },
   "outputs": [
    {
     "name": "stdout",
     "output_type": "stream",
     "text": [
      "['a', 'f', 'k', 'y', 't']\n",
      "[2, 1, 2, 2, 1]\n",
      "[('a', 2), ('f', 1), ('k', 2), ('y', 2), ('t', 1)]\n",
      "['a', 'a', 'f', 'k', 'k', 'y', 'y', 't']\n",
      "None\n",
      "['a', 'f', 'k', 'y', 't', 'b']\n",
      "[0, 0, 0, 0, 0, 1]\n",
      "[('a', 0), ('f', 0), ('k', 0), ('y', 0), ('t', 0), ('b', 1)]\n",
      "['b']\n",
      "['b']\n",
      "None\n"
     ]
    }
   ],
   "source": [
    "from collections import Counter\n",
    "\n",
    "a=['a','f','k','y','y','k','a','t']\n",
    "b=['a','f','k','y','y','k','a','t','b']\n",
    "c=Counter(a)\n",
    "print(list(c.keys()))\n",
    "print(list(c.values()))\n",
    "print(list(c.items()))\n",
    "print(list(c.elements()))\n",
    "d=Counter(b)\n",
    "print( ((d.subtract(c)) ))\n",
    "\n",
    "print(list(d.keys()))\n",
    "print(list(d.values()))\n",
    "print(list(d.items()))\n",
    "print(list(d.elements()))\n",
    "print(list((d-(c)).elements()))\n",
    "print( ((d.subtract(c)) ))\n"
   ]
  },
  {
   "cell_type": "code",
   "execution_count": null,
   "metadata": {},
   "outputs": [],
   "source": []
  }
 ],
 "metadata": {
  "kernelspec": {
   "display_name": "Python 3",
   "language": "python",
   "name": "python3"
  },
  "language_info": {
   "codemirror_mode": {
    "name": "ipython",
    "version": 3
   },
   "file_extension": ".py",
   "mimetype": "text/x-python",
   "name": "python",
   "nbconvert_exporter": "python",
   "pygments_lexer": "ipython3",
   "version": "3.7.6"
  }
 },
 "nbformat": 4,
 "nbformat_minor": 4
}
