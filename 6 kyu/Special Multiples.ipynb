{
 "cells": [
  {
   "cell_type": "code",
   "execution_count": null,
   "metadata": {},
   "outputs": [],
   "source": [
    "Some numbers have the property to be divisible by 2 and 3. Other smaller subset of numbers have the property to be divisible by 2, 3 and 5.\n",
    "Another subset with less abundant numbers may be divisible by 2, 3, 5 and 7. These numbers have something in common: their prime factors are contiguous primes.\n",
    "Implement a function that finds the amount of numbers that have the first N primes as factors below a given limit.\n",
    "Let's see some cases:\n",
    "count_specMult(3, 200)  =>  6 \n",
    "The first 3 primes are: 2, 3 and 5.\n",
    "And the found numbers below 200 are: 30, 60, 90, 120, 150, 180.\n",
    "    \n",
    "    \n",
    "    \n",
    "import numpy as np \n",
    "def count_specMult(n, max_val):\n",
    "    print(n, max_val) \n",
    "    \n",
    "    p=[2,3,5,7,11,13,17,19,23]\n",
    "    a=p[:n] \n",
    "    b=np.prod(a)\n",
    "    print(a)   \n",
    "    print(b) \n",
    "    return max_val//b\n",
    "\n",
    "\n",
    "from functools import reduce\n",
    "from operator import mul\n",
    "\n",
    "PRIMES = [2, 3, 5, 7, 11, 13, 17, 19, 23, 29, 31, 37, 41, 43, 47, 53, 59, 61, 67, 71, 73, 79, 83, 89, 97]\n",
    "\n",
    "def count_specMult(n, limit):\n",
    "    return (limit - 1) // reduce(mul, PRIMES[:n])"
   ]
  }
 ],
 "metadata": {
  "kernelspec": {
   "display_name": "Python 3",
   "language": "python",
   "name": "python3"
  },
  "language_info": {
   "codemirror_mode": {
    "name": "ipython",
    "version": 3
   },
   "file_extension": ".py",
   "mimetype": "text/x-python",
   "name": "python",
   "nbconvert_exporter": "python",
   "pygments_lexer": "ipython3",
   "version": "3.7.6"
  }
 },
 "nbformat": 4,
 "nbformat_minor": 4
}
