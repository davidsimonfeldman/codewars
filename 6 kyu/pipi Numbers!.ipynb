{
 "cells": [
  {
   "cell_type": "code",
   "execution_count": null,
   "metadata": {},
   "outputs": [],
   "source": [
    "Hello. Today our job is to find the Nth Pipi number.\n",
    "Let us define Pn such that the following expression:\n",
    "P0+P1+P2+...Pn−1+Pn\\sqrt{P_{0}+\\sqrt{P_{1}+\\sqrt{P{_2}+\\sqrt{...\\sqrt{P_{n-1}+\\sqrt{P_n}}}}}} \n",
    "P 0​ +P1​ +P2​ + ...P n−1​ +Pn​​​​​​​\n",
    "is equal to n, if P0 = 0.\n",
    "Examples:\n",
    "pipi(0) == 0\n",
    "because\n",
    "0=00 = 00=0\n",
    "pipi(1) == 1\n",
    "because\n",
    "0+1=10+\\sqrt{1} = 10+ \n",
    "1​ =1\n",
    "pipi(2) == 9 \n",
    "because\n",
    "0+1+9=20+\\sqrt{1+\\sqrt{9}} = 20+ \n",
    "1+9​​=2\n",
    "pipi(3) == 3025\n",
    "because\n",
    "0+1+9+3025=30+\\sqrt{1+\\sqrt{9+\\sqrt{3025}}} = 30+ \n",
    "1+ 9+\n",
    "3025​​​ =3\n",
    "\n",
    "\n",
    "from functools import lru_cache\n",
    "\n",
    "@lru_cache()\n",
    "def pipi(n):\n",
    "    a=n ** 2\n",
    "#     print(x)\n",
    "    for x in range(1, n):\n",
    "#         print('a',a)\n",
    "#         print('pipi(x)',pipi(x))\n",
    "        a=(a-pipi(x)) ** 2\n",
    "        \n",
    "    return a\n",
    "\n",
    "\n",
    "from functools import reduce\n",
    "\n",
    "ps = []\n",
    "for i in range(22):\n",
    "    ps.append(reduce(lambda a, p: (a - p) ** 2, ps, i))\n",
    "\n",
    "def pipi(n):\n",
    "    return ps[n]"
   ]
  }
 ],
 "metadata": {
  "kernelspec": {
   "display_name": "Python 3",
   "language": "python",
   "name": "python3"
  },
  "language_info": {
   "codemirror_mode": {
    "name": "ipython",
    "version": 3
   },
   "file_extension": ".py",
   "mimetype": "text/x-python",
   "name": "python",
   "nbconvert_exporter": "python",
   "pygments_lexer": "ipython3",
   "version": "3.7.6"
  }
 },
 "nbformat": 4,
 "nbformat_minor": 4
}
