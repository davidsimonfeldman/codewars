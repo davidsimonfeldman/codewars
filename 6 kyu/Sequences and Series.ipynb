{
 "cells": [
  {
   "cell_type": "code",
   "execution_count": null,
   "metadata": {},
   "outputs": [],
   "source": [
    "Have a look at the following numbers.\n",
    "\n",
    " n | score\n",
    "---+-------\n",
    " 1 |  50\n",
    " 2 |  150\n",
    " 3 |  300\n",
    " 4 |  500\n",
    " 5 |  750\n",
    "Can you find a pattern in it? If so, then write a function getScore(n)/get_score(n)/GetScore(n) which returns the score for any positive number n:\n",
    "\n",
    "int getScore(1) = return 50;\n",
    "int getScore(2) = return 150;\n",
    "int getScore(3) = return 300;\n",
    "int getScore(4) = return 500;\n",
    "int getScore(5) = return 750;\n",
    "\n",
    "\n",
    "\n",
    "\n",
    "def get_score(n):\n",
    "    # do your magic here\n",
    "    return 25*n +25*(n**2)\n",
    "\n",
    "\n",
    "def get_score(n):\n",
    "    return 50*(n*(n+1))/2\n",
    "    "
   ]
  }
 ],
 "metadata": {
  "kernelspec": {
   "display_name": "Python 3",
   "language": "python",
   "name": "python3"
  },
  "language_info": {
   "codemirror_mode": {
    "name": "ipython",
    "version": 3
   },
   "file_extension": ".py",
   "mimetype": "text/x-python",
   "name": "python",
   "nbconvert_exporter": "python",
   "pygments_lexer": "ipython3",
   "version": "3.7.6"
  }
 },
 "nbformat": 4,
 "nbformat_minor": 4
}
