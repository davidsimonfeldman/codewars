{
 "cells": [
  {
   "cell_type": "code",
   "execution_count": null,
   "metadata": {},
   "outputs": [],
   "source": [
    "In this kata, you have an integer array which was ordered by ascending except one number.\n",
    "For Example: [1,2,3,4,17,5,6,7,8]\n",
    "For Example: [19,27,33,34,112,578,116,170,800]\n",
    "You need to figure out the first breaker. Breaker is the item, when removed from sequence, sequence becomes ordered by ascending.\n",
    "For Example: [1,2,3,4,17,5,6,7,8] => 17 is the only breaker.\n",
    "For Example: [19,27,33,34,112,578,116,170,800] => 578 is the only breaker.\n",
    "For Example: [105, 110, 111, 112, 114, 113, 115] => 114 and 113 are breakers. 114 is the first breaker.\n",
    "    When removed 114, sequence becomes ordered by ascending => [105, 110, 111, 112, 113, 115]\n",
    "    When removed 113, sequence becomes ordered by ascending => [105, 110, 111, 112, 114, 115]\n",
    "For Example: [1, 0, 2] => 1 and 0 are the breakers. 1 is the first breaker.\n",
    "    When removed 1, sequence becomes ordered by ascending => [0, 2]\n",
    "    When removed 0, sequence becomes ordered by ascending => [1, 2]\n",
    "For Example: [1, 2, 0, 3, 4] => 0 is the only breaker.\n",
    "    When removed 0, sequence becomes ordered by ascending. => [1, 2, 3, 4]\n",
    "TASK:\n",
    "Write a function that returns the first breaker.\n",
    "Notes:\n",
    "Input array does not contain any duplicate element.\n",
    "\n",
    "\n",
    "\n",
    "def order_breaker(arr):\n",
    "    print((arr))\n",
    "    #find the first order breaker\n",
    "    a=[]\n",
    "    for i in range(len(arr) ):\n",
    "#         print(arr[:i ]+arr[i+1:])\n",
    "        if arr[:i ]+arr[i+1:]==sorted(arr[:i ]+arr[i+1:]):\n",
    "             return arr[i]\n",
    "        \n",
    "        \n",
    "        \n",
    "def order_breaker(a):\n",
    "    for i, x in enumerate(a):\n",
    "        if x > a[i+1]:\n",
    "            return a[i+(i and a[i-1] > a[i+1])]\n",
    "\n",
    "        \n",
    "        \n",
    "def order_breaker(inp):\n",
    "    for i, num in enumerate(inp):\n",
    "        x = inp[0:i] + inp[i+1:]\n",
    "        if x == sorted(x):\n",
    "            return num        "
   ]
  }
 ],
 "metadata": {
  "kernelspec": {
   "display_name": "Python 3",
   "language": "python",
   "name": "python3"
  },
  "language_info": {
   "codemirror_mode": {
    "name": "ipython",
    "version": 3
   },
   "file_extension": ".py",
   "mimetype": "text/x-python",
   "name": "python",
   "nbconvert_exporter": "python",
   "pygments_lexer": "ipython3",
   "version": "3.7.6"
  }
 },
 "nbformat": 4,
 "nbformat_minor": 4
}
