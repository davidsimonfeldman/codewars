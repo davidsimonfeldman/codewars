{
 "cells": [
  {
   "cell_type": "code",
   "execution_count": null,
   "metadata": {},
   "outputs": [],
   "source": [
    "The distance formula can be used to find the distance between two points. \n",
    "What if we were trying to walk from point A to point B, but there were buildings in the way? We would need some other formula..but which?\n",
    "Manhattan Distance\n",
    "Manhattan distance is the distance between two points in a grid \n",
    "(like the grid-like street geography of the New York borough of Manhattan) calculated by only taking a vertical and/or horizontal path.\n",
    "Complete the function that accepts two points and returns the Manhattan Distance between the two points.\n",
    "The points are arrays or tuples containing the x and y coordinate in the grid. You can think of x as the row in the grid, and y as the column.\n",
    "Examples\n",
    "manhattan_distance( [1, 1], [1, 1] ) # => returns 0\n",
    "manhattan_distance( [5, 4], [3, 2] ) # => returns 4\n",
    "manhattan_distance( [1, 1], [0, 3] ) # => returns 3\n",
    "\n",
    "\n",
    "\n",
    "\n",
    "def manhattan_distance(a,b):\n",
    "    if a==b: return 0\n",
    "     \n",
    "    return abs(a[0]-b[0]) + abs(a[1]-b[1])\n",
    "\n",
    "\n",
    "def manhattan_distance(a, b):\n",
    "    return sum(abs(c - d) for c, d in zip(a, b))"
   ]
  }
 ],
 "metadata": {
  "kernelspec": {
   "display_name": "Python 3",
   "language": "python",
   "name": "python3"
  },
  "language_info": {
   "codemirror_mode": {
    "name": "ipython",
    "version": 3
   },
   "file_extension": ".py",
   "mimetype": "text/x-python",
   "name": "python",
   "nbconvert_exporter": "python",
   "pygments_lexer": "ipython3",
   "version": "3.7.6"
  }
 },
 "nbformat": 4,
 "nbformat_minor": 4
}
