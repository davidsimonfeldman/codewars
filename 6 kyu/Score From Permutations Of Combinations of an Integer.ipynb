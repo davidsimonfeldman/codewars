{
 "cells": [
  {
   "cell_type": "code",
   "execution_count": null,
   "metadata": {},
   "outputs": [],
   "source": [
    "We define the score of permutations of combinations, of an integer number (the function to obtain this value:sc_perm_comb) as the total \n",
    "sum of all the numbers obtained from the permutations of all the possible combinations of its digits. For example we have the number 348.\n",
    "sc_perm_comb(348) = 3 + 4 + 8 + 34 + 38 + 48 + 43 + 83 + 84 + 348 + 384 + 834 + 843 + 438 + 483  = 3675\n",
    "If the number has a digit 0, the numbers formed by a leading 0 should be discarded:\n",
    "sc_perm_comb(340) = 3 + 4 + 34 + 30 + 40 + 43 + 340 + 304 + 430 + 403 = 1631\n",
    "If the number has digits that occur more than once, the score the adden will not be taken than twice or more:\n",
    "sc_perm_comb(333) = 3 + 33 + 333 = 369\n",
    "If the number has only one digit its score is the same number:\n",
    "sc_perm_comb(6) = 6\n",
    "sc_perm_comb(0) = 0\n",
    "Enjoy it!!\n",
    "\n",
    "\n",
    "\n",
    "from itertools import permutations\n",
    "def sc_perm_comb(num):\n",
    "    a= (str(num))\n",
    "    print(a)\n",
    "    c=0\n",
    "    for x in range(1,len(a)+1):\n",
    "        for y in set( permutations(a,x) ):\n",
    "            if ''.join( (y))[0:1]!='0':\n",
    "                c+=int(''.join( (y)))\n",
    " \n",
    "    return   ( (c))  \n",
    "\n",
    "\n",
    "\n",
    "\n",
    "from itertools import permutations\n",
    "\n",
    "def sc_perm_comb(num):\n",
    "    sNum = str(num)\n",
    "    return sum({ int(''.join(p)) for d in range(1, len(sNum)+1) for p in permutations(sNum, d) })\n",
    "\n",
    "\n",
    "\n",
    "\n",
    "\n"
   ]
  }
 ],
 "metadata": {
  "kernelspec": {
   "display_name": "Python 3",
   "language": "python",
   "name": "python3"
  },
  "language_info": {
   "codemirror_mode": {
    "name": "ipython",
    "version": 3
   },
   "file_extension": ".py",
   "mimetype": "text/x-python",
   "name": "python",
   "nbconvert_exporter": "python",
   "pygments_lexer": "ipython3",
   "version": "3.7.6"
  }
 },
 "nbformat": 4,
 "nbformat_minor": 4
}
