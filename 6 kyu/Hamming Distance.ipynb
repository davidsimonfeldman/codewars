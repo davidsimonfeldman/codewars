{
 "cells": [
  {
   "cell_type": "code",
   "execution_count": null,
   "metadata": {},
   "outputs": [],
   "source": [
    "The Hamming Distance is a measure of similarity between two strings of equal length. \n",
    "Complete the function so that it returns the number of positions where the input strings do not match.\n",
    "Examples (in JavaScript):\n",
    "hamming(\"I like turtles\",\"I like turkeys\")  //returns 3\n",
    "hamming(\"Hello World\",\"Hello World\")  //returns 0\n",
    "You can assume that the two input strings are of equal length.\n",
    "\n",
    "\n",
    "def hamming(a,b):\n",
    "    print(a,b)\n",
    "  # Implement me!\n",
    "    cnt=0\n",
    "    for x in  list(zip(a,b)):\n",
    "        if x[0]!=x[1]:\n",
    "            print(x[0],x[1])\n",
    "            cnt+=1\n",
    "    print(cnt)\n",
    "    return(cnt)\n",
    "\n",
    "\n",
    "\n",
    "def hamming(a,b):\n",
    "    return sum(ch1 != ch2 for ch1, ch2 in zip(a, b))\n",
    "\n",
    "\n",
    "\n",
    "def hamming(a,b):\n",
    "    differences = 0\n",
    "    for i in range(len(a)):\n",
    "        if a[i] != b[i]:\n",
    "            differences += 1\n",
    "    \n",
    "    return differences\n",
    "Best Practices15Clever0\n",
    "1ForkCompare with your solutionLink\n",
    "opportunity356, Cito, jaltez, philr, qed2000, nickie, jerub, Dog, ruoyu0088, ahmedahamid, joshleeb (plus 23 more warriors)\n",
    "def hamming(a,b):\n",
    "    return sum(x != y for x, y in zip(a,b))\n",
    "\n",
    "\n",
    "\n",
    "def hamming(a,b):\n",
    "    return [ca == cb for ca, cb in zip(a, b)].count(False)"
   ]
  }
 ],
 "metadata": {
  "kernelspec": {
   "display_name": "Python 3",
   "language": "python",
   "name": "python3"
  },
  "language_info": {
   "codemirror_mode": {
    "name": "ipython",
    "version": 3
   },
   "file_extension": ".py",
   "mimetype": "text/x-python",
   "name": "python",
   "nbconvert_exporter": "python",
   "pygments_lexer": "ipython3",
   "version": "3.7.6"
  }
 },
 "nbformat": 4,
 "nbformat_minor": 4
}
