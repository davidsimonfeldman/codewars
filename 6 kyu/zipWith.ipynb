{
 "cells": [
  {
   "cell_type": "code",
   "execution_count": null,
   "metadata": {},
   "outputs": [],
   "source": [
    "Implement zip_with\n",
    "zip_with takes a function and two arrays and zips the arrays together, applying the function to every pair of values.\n",
    "The function value is one new array.\n",
    "\n",
    "If the arrays are of unequal length, the output will only be as long as the shorter one.\n",
    "(Values of the longer array are simply not used.)\n",
    "\n",
    "Inputs should not be modified.\n",
    "\n",
    "Examples\n",
    "zipWith( Math.pow, [10,10,10,10], [0,1,2,3] )      =>  [1,10,100,1000]\n",
    "zipWith( Math.max, [1,4,7,1,4,7], [4,7,1,4,7,1] )  =>  [4,7,7,4,7,7]\n",
    "\n",
    "zipWith( function(a,b) { return a+b; }, [0,1,2,3], [0,1,2,3] )  =>  [0,2,4,6]  Both forms are valid.\n",
    "zipWith( (a,b) => a+b,                  [0,1,2,3], [0,1,2,3] )  =>  [0,2,4,6]  Both are functions.\n",
    "Input validation\n",
    "Assume all input is valid.\n",
    "\n",
    "\n",
    "\n",
    "def zip_with(fn, a1, a2):\n",
    "    return list(map(fn, a1, a2))\n",
    "\n",
    "\n",
    "\n",
    "def zip_with(fn,a1,a2):\n",
    "    return [fn(i,j) for i,j in zip(a1,a2)]"
   ]
  }
 ],
 "metadata": {
  "kernelspec": {
   "display_name": "Python 3",
   "language": "python",
   "name": "python3"
  },
  "language_info": {
   "codemirror_mode": {
    "name": "ipython",
    "version": 3
   },
   "file_extension": ".py",
   "mimetype": "text/x-python",
   "name": "python",
   "nbconvert_exporter": "python",
   "pygments_lexer": "ipython3",
   "version": "3.7.6"
  }
 },
 "nbformat": 4,
 "nbformat_minor": 4
}
