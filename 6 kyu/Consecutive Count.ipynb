{
 "cells": [
  {
   "cell_type": "code",
   "execution_count": null,
   "metadata": {},
   "outputs": [],
   "source": [
    "I want to know the size of the longest consecutive elements of X in Y.\n",
    "You will receive two arguments: items and key. Return the length of the longest segment of consecutive keys in the given items.\n",
    "Notes:\n",
    "The items and the key will be either an integer or a string (consisting of letters only)\n",
    "If the key does not appear in the items, return 0\n",
    "Examples\n",
    "90000, 0           -->  4\n",
    "\"abcdaaadse\", \"a\"  -->  3\n",
    "\"abcdaaadse\", \"z\"  -->  0\n",
    "\n",
    "\n",
    "\n",
    "from itertools import groupby\n",
    "def get_consective_items(items, key):\n",
    "    print((items, key))\n",
    "    # your code here\n",
    "    if str(key) not in str(items):return 0\n",
    "    l=[]\n",
    "    items=str(items)\n",
    "    key=str(key)\n",
    "    for x, y in groupby(items):\n",
    "        print(x)\n",
    "#         print(list(y))\n",
    "        if x==key:\n",
    "            l.append(list(y))\n",
    "    print(l)\n",
    "    return len(max(l))\n",
    "\n",
    "\n",
    "\n",
    "\n",
    "from itertools import groupby\n",
    "\n",
    "def get_consective_items(items, key):\n",
    "    items, key = str(items), str(key)\n",
    "    return max((len(list(l)) for k,l in groupby(items) if k == key), default=0)\n",
    "\n",
    "\n",
    "\n",
    "\n",
    "def get_consective_items(items, key): \n",
    "    items, key = str(items), str(key)\n",
    "    count = 0\n",
    "    temp = key[:]\n",
    "    while temp in items:\n",
    "        temp += key\n",
    "        count += 1\n",
    "    return count"
   ]
  }
 ],
 "metadata": {
  "kernelspec": {
   "display_name": "Python 3",
   "language": "python",
   "name": "python3"
  },
  "language_info": {
   "codemirror_mode": {
    "name": "ipython",
    "version": 3
   },
   "file_extension": ".py",
   "mimetype": "text/x-python",
   "name": "python",
   "nbconvert_exporter": "python",
   "pygments_lexer": "ipython3",
   "version": "3.7.6"
  }
 },
 "nbformat": 4,
 "nbformat_minor": 4
}
