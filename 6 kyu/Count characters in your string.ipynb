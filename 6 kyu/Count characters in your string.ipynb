{
 "cells": [
  {
   "cell_type": "code",
   "execution_count": null,
   "metadata": {},
   "outputs": [],
   "source": [
    "The main idea is to count all the occurring characters in a string. If you have a string like aba, then the result should be {'a': 2, 'b': 1}.\n",
    "\n",
    "What if the string is empty? Then the result should be empty object literal, {}.\n",
    "\n",
    "\n",
    "from collections import defaultdict\n",
    "def count(s):\n",
    "    # The function code should be here\n",
    "#     return {x:list(s).count(x) for x inaג }\n",
    "    print(s)\n",
    "    fq= defaultdict( int )\n",
    "    for w in list(s):\n",
    "        fq[w] += 1\n",
    "        if len((fq))<10:   print(list(fq))\n",
    "        if len((fq))>10:   print('list(fq)')\n",
    "    if len((fq))<10:   print(list(fq))\n",
    "    print(list(fq))\n",
    "                \n",
    "    return fq    \n",
    "\n",
    "\n",
    "\n",
    "from collections import Counter\n",
    "\n",
    "def count(string):\n",
    "    return Counter(string)\n",
    "\n",
    "\n",
    "\n",
    "\n",
    "def count(string):\n",
    "      \n",
    "    return {i: string.count(i) for i in string}\n"
   ]
  }
 ],
 "metadata": {
  "kernelspec": {
   "display_name": "Python 3",
   "language": "python",
   "name": "python3"
  },
  "language_info": {
   "codemirror_mode": {
    "name": "ipython",
    "version": 3
   },
   "file_extension": ".py",
   "mimetype": "text/x-python",
   "name": "python",
   "nbconvert_exporter": "python",
   "pygments_lexer": "ipython3",
   "version": "3.7.6"
  }
 },
 "nbformat": 4,
 "nbformat_minor": 4
}
