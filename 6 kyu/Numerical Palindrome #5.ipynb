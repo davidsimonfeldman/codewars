{
 "cells": [
  {
   "cell_type": "code",
   "execution_count": null,
   "metadata": {},
   "outputs": [],
   "source": [
    "A palindrome is a word, phrase, number, or other sequence of characters which reads the same backward as forward. Examples of numerical palindromes are:\n",
    "232\n",
    "110011\n",
    "54322345\n",
    "Complete the function to test if the given number (num) can be rearranged to form a numerical palindrome or not. \n",
    "Return a boolean (true if it can be rearranged to a palindrome, and false if it cannot). Return \"Not valid\" if the input is not an integer or is less than 0.\n",
    "For this kata, single digit numbers are NOT considered numerical palindromes.\n",
    "Examples\n",
    "5        =>  false\n",
    "2121     =>  true\n",
    "1331     =>  true \n",
    "3357665  =>  true \n",
    "1294     =>  false \n",
    "\"109982\" =>  \"Not valid\"\n",
    "-42      =>  \"Not valid\"\n",
    "\n",
    "def palindrome(num):\n",
    "    # your code here\n",
    "    if type(num) != int or num < 0: return \"Not valid\"\n",
    "    if   num < 11: return False\n",
    "    s=str(num)\n",
    "    print(s)\n",
    "    if s==s[::-1]:return True\n",
    "    a={i:s.count(i) for i in set(s)}\n",
    "    print(a)\n",
    "    if all(x%2==0 for x  in a.values()):return True\n",
    "    if sorted(list(a.values()))[0]==1 and all(x%2==0 for x  in sorted(list(a.values()))[1:]): return True \n",
    "    return False\n",
    "\n",
    "\n",
    "\n",
    "from collections import Counter\n",
    "def palindrome(num):\n",
    "    if not isinstance(num, int) or num < 0:\n",
    "        return 'Not valid'\n",
    "    return num > 10 and sum(1 for v in Counter(map(int, str(num))).values() if v % 2) <= 1\n",
    "\n",
    "\n",
    "\n",
    "\n",
    "\n",
    "from collections import Counter\n",
    "def palindrome(num):\n",
    "    if not isinstance(num, int) or num < 0:\n",
    "        return 'Not valid'\n",
    "    return num > 10 and sum(1 for v in Counter(map(int, str(num))).values() if v % 2) <= 1"
   ]
  }
 ],
 "metadata": {
  "kernelspec": {
   "display_name": "Python 3",
   "language": "python",
   "name": "python3"
  },
  "language_info": {
   "codemirror_mode": {
    "name": "ipython",
    "version": 3
   },
   "file_extension": ".py",
   "mimetype": "text/x-python",
   "name": "python",
   "nbconvert_exporter": "python",
   "pygments_lexer": "ipython3",
   "version": "3.7.6"
  }
 },
 "nbformat": 4,
 "nbformat_minor": 4
}
