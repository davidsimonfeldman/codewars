{
 "cells": [
  {
   "cell_type": "code",
   "execution_count": null,
   "metadata": {},
   "outputs": [],
   "source": [
    "Implement a function, so it will produce a sentence out of the given parts.\n",
    "\n",
    "Array of parts could contain:\n",
    "\n",
    "words;\n",
    "commas in the middle;\n",
    "multiple periods at the end.\n",
    "Sentence making rules:\n",
    "\n",
    "there must always be a space between words;\n",
    "there must not be a space between a comma and word on the left;\n",
    "there must always be one and only one period at the end of a sentence.\n",
    "Example:\n",
    "\n",
    "makeSentence(['hello', ',', 'my', 'dear']) // returns 'hello, my dear.'\n",
    "\n",
    "\n",
    "\n",
    "def make_sentences(p):\n",
    "    # TODO\n",
    "    print(p)\n",
    "     \n",
    "    res = ''\n",
    "    for i in range(len(p) - 1):\n",
    "        res += p[i]\n",
    "        if p[i+1] not in ',.':\n",
    "            res+=' '\n",
    "    res+=p[-1]    \n",
    "    while res[-2:]=='..':\n",
    "        res=res[:-1]\n",
    "    print(res)    \n",
    "    if res[-1]=='.':  return  res \n",
    "    else:return res+'.'\n",
    "    \n",
    "    \n",
    "    \n",
    "def make_sentences(parts):\n",
    "    return ' '.join(parts).replace(' ,', ',').strip(' .') + '.'\n",
    "\n",
    "\n",
    "\n",
    "def make_sentences(parts):\n",
    "    print(parts)\n",
    "    a=' '.join(parts)\n",
    "    print(a)\n",
    "    a=a.replace(' ,', ',')\n",
    "    print(a)\n",
    "    return a.strip(' .') + '.'\n",
    "\n",
    "\n",
    "\n",
    "\n"
   ]
  }
 ],
 "metadata": {
  "kernelspec": {
   "display_name": "Python 3",
   "language": "python",
   "name": "python3"
  },
  "language_info": {
   "codemirror_mode": {
    "name": "ipython",
    "version": 3
   },
   "file_extension": ".py",
   "mimetype": "text/x-python",
   "name": "python",
   "nbconvert_exporter": "python",
   "pygments_lexer": "ipython3",
   "version": "3.7.6"
  }
 },
 "nbformat": 4,
 "nbformat_minor": 4
}
