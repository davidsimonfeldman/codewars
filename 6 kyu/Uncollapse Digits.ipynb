{
 "cells": [
  {
   "cell_type": "code",
   "execution_count": null,
   "metadata": {},
   "outputs": [],
   "source": [
    "You will be given a string of English digits \"stuck\" together, like this:\n",
    "\n",
    "\"zeronineoneoneeighttwoseventhreesixfourtwofive\"\n",
    "\n",
    "Your task is to split the string into separate digits:\n",
    "\n",
    "\"zero nine one one eight two seven three six four two five\"\n",
    "\n",
    "Examples\n",
    "\"three\"              -->  \"three\"\n",
    "\"eightsix\"           -->  \"eight six\"\n",
    "\"fivefourseven\"      -->  \"five four seven\"\n",
    "\"ninethreesixthree\"  -->  \"nine three six three\"\n",
    "\"fivethreefivesixthreenineonesevenoneeight\"  -->  \"five three five six three nine one seven one eight\"\n",
    "FUNDAMENTALSREGULAR EXPRESSIONSDECLARATIVE PROGRAMMINGADVANCED LANGUAGE FEATURES\n",
    "\n",
    "\n",
    "def uncollapse(dig ):\n",
    "    # Happy coding!\n",
    "    a=dig \n",
    "    for x in['zero','one' ,'two', 'three','four', 'five', 'six','seven', 'eight', 'nine'   ]:\n",
    "        a=a.replace(x, x+' ')\n",
    "    print('a',dig)\n",
    "    return a.strip()\n"
   ]
  }
 ],
 "metadata": {
  "kernelspec": {
   "display_name": "Python 3",
   "language": "python",
   "name": "python3"
  },
  "language_info": {
   "codemirror_mode": {
    "name": "ipython",
    "version": 3
   },
   "file_extension": ".py",
   "mimetype": "text/x-python",
   "name": "python",
   "nbconvert_exporter": "python",
   "pygments_lexer": "ipython3",
   "version": "3.7.6"
  }
 },
 "nbformat": 4,
 "nbformat_minor": 4
}
