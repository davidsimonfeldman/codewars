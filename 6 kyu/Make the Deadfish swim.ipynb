{
 "cells": [
  {
   "cell_type": "code",
   "execution_count": null,
   "metadata": {},
   "outputs": [],
   "source": [
    "Write a simple parser that will parse and run Deadfish.\n",
    "\n",
    "Deadfish has 4 commands, each 1 character long:\n",
    "\n",
    "i increments the value (initially 0)\n",
    "d decrements the value\n",
    "s squares the value\n",
    "o outputs the value into the return array\n",
    "Invalid characters should be ignored.\n",
    "\n",
    "parse(\"iiisdoso\")  ==>  [8, 64]\n",
    "\n",
    "\n",
    "def parse(s):\n",
    "    a,b=0,[]\n",
    "    \n",
    "    for x in s:\n",
    "        print(a)\n",
    "        if x =='i':\n",
    "            a+=1\n",
    "        if x =='d':\n",
    "            a-=1\n",
    "        if x =='s':\n",
    "            a=a**2\n",
    "        if x =='o':\n",
    "            b.append(a)\n",
    "    return b   \n",
    "\n",
    "\n",
    "\n",
    "def parse(data):\n",
    "    value = 0\n",
    "    res=[]\n",
    "    for c in data:\n",
    "        if c==\"i\": value+=1\n",
    "        elif c==\"d\": value-=1\n",
    "        elif c==\"s\": value*=value\n",
    "        elif c==\"o\": res.append(value)\n",
    "    return res"
   ]
  }
 ],
 "metadata": {
  "kernelspec": {
   "display_name": "Python 3",
   "language": "python",
   "name": "python3"
  },
  "language_info": {
   "codemirror_mode": {
    "name": "ipython",
    "version": 3
   },
   "file_extension": ".py",
   "mimetype": "text/x-python",
   "name": "python",
   "nbconvert_exporter": "python",
   "pygments_lexer": "ipython3",
   "version": "3.7.6"
  }
 },
 "nbformat": 4,
 "nbformat_minor": 4
}
